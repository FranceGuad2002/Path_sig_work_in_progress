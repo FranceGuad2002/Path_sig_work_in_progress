{
 "cells": [
  {
   "cell_type": "code",
   "execution_count": 1,
   "id": "58b6bf37",
   "metadata": {},
   "outputs": [
    {
     "name": "stderr",
     "output_type": "stream",
     "text": [
      "<frozen importlib._bootstrap>:219: RuntimeWarning: scipy._lib.messagestream.MessageStream size changed, may indicate binary incompatibility. Expected 56 from C header, got 64 from PyObject\n"
     ]
    }
   ],
   "source": [
    "import sys\n",
    "import random\n",
    "import os\n",
    "import numpy as np\n",
    "import iisignature as iis\n",
    "import matplotlib.pyplot as plt\n",
    "from sklearn.ensemble import RandomForestClassifier\n",
    "from sklearn.model_selection import train_test_split\n",
    "from sklearn.metrics import accuracy_score"
   ]
  },
  {
   "cell_type": "code",
   "execution_count": null,
   "id": "c148d0d4",
   "metadata": {},
   "outputs": [],
   "source": [
    "\n",
    "\n",
    "# Generating data\n",
    "\n",
    "Feat_v=list()\n",
    "labels=[]\n",
    "for i in range(100):\n",
    "    data=generate_couple_map(20000,100,0.4, 1, 1.71, order=2)\n",
    "    np.save(f\"PS_{i}\",data)\n",
    "    \n",
    "for i in range(100):\n",
    "    data=generate_couple_map(20000,100,0.1, 1, 1.85, order=2)\n",
    "    np.save(f\"CBMD_{i}\",data)\n",
    "    \n",
    "for i in range(100):\n",
    "    data=generate_couple_map(20000,100,0.6, 1, 1.75, order=2)\n",
    "    np.save(f\"STI_{i}\",data)\n",
    "    \n",
    "for i in range(100):\n",
    "    data=generate_couple_map(20000,100,0.3, 1, 2.00, order=2)\n",
    "    np.save(f\"FDC_{i}\",data)\n",
    "    \n",
    "for i in range(100):\n",
    "    data=generate_couple_map(20000,100,0.1, 1, 1.895, order=2)\n",
    "    np.save(f\"DT_{i}\",data)"
   ]
  }
 ],
 "metadata": {
  "kernelspec": {
   "display_name": "Python 3",
   "language": "python",
   "name": "python3"
  },
  "language_info": {
   "codemirror_mode": {
    "name": "ipython",
    "version": 3
   },
   "file_extension": ".py",
   "mimetype": "text/x-python",
   "name": "python",
   "nbconvert_exporter": "python",
   "pygments_lexer": "ipython3",
   "version": "3.8.8"
  }
 },
 "nbformat": 4,
 "nbformat_minor": 5
}
