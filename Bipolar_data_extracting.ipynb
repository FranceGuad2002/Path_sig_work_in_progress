{
 "cells": [
  {
   "cell_type": "code",
   "execution_count": 1,
   "id": "c1c7658a",
   "metadata": {},
   "outputs": [
    {
     "name": "stderr",
     "output_type": "stream",
     "text": [
      "<frozen importlib._bootstrap>:219: RuntimeWarning: scipy._lib.messagestream.MessageStream size changed, may indicate binary incompatibility. Expected 56 from C header, got 64 from PyObject\n"
     ]
    }
   ],
   "source": [
    "import numpy as np\n",
    "import sys\n",
    "import scipy.io as sio  # For reading the matlab .mat format\n",
    "from scipy.stats import zscore, entropy\n",
    "from scipy.special import binom as binomial\n",
    "import collections\n",
    "import pickle as pk\n",
    "import itertools\n",
    "import persim\n",
    "import numpy as np\n",
    "import pandas as pd\n",
    "import iisignature as iis\n",
    "import gudhi\n",
    "from gtda.homology import VietorisRipsPersistence\n",
    "from gtda.homology import FlagserPersistence\n",
    "import time\n",
    "import matplotlib.pyplot as plt\n",
    "import random\n",
    "from gtda.diagrams import PersistenceEntropy\n",
    "from gtda.diagrams import Amplitude\n",
    "from gudhi.representations.vector_methods import Entropy"
   ]
  },
  {
   "cell_type": "code",
   "execution_count": 2,
   "id": "ba20a0f5",
   "metadata": {},
   "outputs": [],
   "source": [
    "# Load data in .mat format (rows are time instants, columns are ROI, 116 ARE ROIs)\n",
    "# (THIS IS A SANTORO FUNCTION)\n",
    "def load_data_mat(path_single_file):\n",
    "    file_to_open = path_single_file\n",
    "    data = sio.loadmat(file_to_open)\n",
    "    key_data = list(data.keys())[-2]\n",
    "    data = data[key_data]\n",
    "    return(data)\n"
   ]
  },
  {
   "cell_type": "code",
   "execution_count": 3,
   "id": "fab70ef5",
   "metadata": {},
   "outputs": [],
   "source": [
    "def lead_matrix_1(mv_time_series):\n",
    "    N=mv_time_series.shape[1]\n",
    "    sig=iis.sig(mv_time_series,2)\n",
    "    S=sig[N:].reshape(N,N)\n",
    "    L=(S-S.T)/2\n",
    "    return L\n",
    "    "
   ]
  },
  {
   "cell_type": "code",
   "execution_count": 4,
   "id": "4573d4e4",
   "metadata": {},
   "outputs": [],
   "source": [
    "def lead_tensor_1(mv_time_series):\n",
    "    N=mv_time_series.shape[1]\n",
    "    sig=iis.sig(mv_time_series,3)\n",
    "    l=N+N*N\n",
    "    S=sig[l:].reshape(N,N,N)\n",
    "    T=(S-S.transpose((0,2,1))+S.transpose((2,0,1))-S.transpose((2,1,0))+S.transpose((1,2,0))-S.transpose((1,0,2)))/6\n",
    "    return T"
   ]
  },
  {
   "cell_type": "code",
   "execution_count": 5,
   "id": "e3953be2",
   "metadata": {},
   "outputs": [],
   "source": [
    "def rev_directed(L):\n",
    "    l=L.shape[0]\n",
    "    a=np.max(np.abs(L))\n",
    "    for i in range(l):\n",
    "        for j in range(l):\n",
    "            if L[j,i]<0:\n",
    "                L[j,i]=0\n",
    "                \n",
    "    ADM=a*np.ones((l,l))-a*np.identity(l)-L            \n",
    "    dgm=FlagserPersistence().fit_transform([ADM])\n",
    "    return dgm"
   ]
  },
  {
   "cell_type": "code",
   "execution_count": 6,
   "id": "21b0c44f",
   "metadata": {},
   "outputs": [],
   "source": [
    "def rev_undirected(L):\n",
    "    l=L.shape[0]\n",
    "    a=np.max(np.abs(L))\n",
    "    ADM=a*np.ones((l,l))-a*np.identity(l)-np.abs(L)\n",
    "    VR= VietorisRipsPersistence(metric=\"precomputed\")\n",
    "    dgm= VR.fit_transform([ADM])\n",
    "    return dgm"
   ]
  },
  {
   "cell_type": "code",
   "execution_count": 7,
   "id": "aa5c6f73",
   "metadata": {},
   "outputs": [],
   "source": [
    "def fix_violations(list_simplices):\n",
    "     # Sorting the simplices in a descending order according to weights\n",
    "    sorted_simplices = sorted(list_simplices, key=lambda x: x[1], reverse=True)\n",
    "\n",
    "        # Remove the violations\n",
    "    list_violating_triangles = []\n",
    "    list_simplices_for_filtration = []\n",
    "    set_simplices = set()\n",
    "    counter = 0\n",
    "    triangles_count = 0\n",
    "    violation_triangles = 0\n",
    "    violation_triangles_negativeterms = 0\n",
    "\n",
    "        # Loop over the sorted simplices, and flippling the sign of all the weights (so that the points in the persistence diagram are above the diagonal)\n",
    "    for index, i in enumerate(sorted_simplices):\n",
    "        simplices, weight = i\n",
    "\n",
    "            # If the current simplex is an edge or a node, then I will immediately include it\n",
    "        if len(simplices) <= 2:\n",
    "            list_simplices_for_filtration.append((simplices, -weight))\n",
    "            set_simplices.add(tuple(simplices))\n",
    "            counter += 1\n",
    "        else:\n",
    "        # If the current simplex is a triplet, I check whether all the sub-simplices have been included.\n",
    "            flag = 0\n",
    "            n0=simplices[0]\n",
    "            n1=simplices[1]        \n",
    "            n2=simplices[2]\n",
    "            if (n0,n1) in set_simplices:\n",
    "                flag=flag+1\n",
    "            if (n1,n2) in set_simplices:\n",
    "                flag=flag+1\n",
    "            if (n0,n2) in set_simplices:\n",
    "                flag=flag+1\n",
    "\n",
    "                # If all the sub-simplices already belong to the set, then I add it in the filtration\n",
    "            if flag == 3:\n",
    "                set_simplices.add(tuple(simplices))\n",
    "                list_simplices_for_filtration.append((simplices, -weight))\n",
    "                counter += 1\n",
    "                triangles_count += 1\n",
    "            else:\n",
    "                violation_triangles += 1\n",
    "                list_violating_triangles.append((simplices, np.abs(weight), 3 - flag))\n",
    "\n",
    "# Fraction of positive triangle discarderd (a.k.a. the hyper coherence)\n",
    "    hyper_coherence = (1.0 * violation_triangles) /(triangles_count + violation_triangles)\n",
    "    return(list_simplices_for_filtration, list_violating_triangles, hyper_coherence)\n",
    "\n"
   ]
  },
  {
   "cell_type": "code",
   "execution_count": 8,
   "id": "41f7960f",
   "metadata": {},
   "outputs": [],
   "source": [
    "def create_filtration(Lead_matrix, Lead_tensor,indifferent_value):\n",
    "    \n",
    "\n",
    "    # Creating the list of simplicial complex with all the edges and triangles\n",
    "    sc=gudhi.SimplexTree()\n",
    "    list_simplices = []\n",
    "    N=Lead_matrix.shape[0]\n",
    "    for i in range(N):\n",
    "        for j in range(N):\n",
    "            if np.abs(Lead_matrix[i,j])<indifferent_value:\n",
    "                Lead_matrix[i,j]=0\n",
    "            for k in range(N):\n",
    "                if np.abs(Lead_tensor[i,j,k])<indifferent_value:\n",
    "                    Lead_tensor[i,j,k]=0\n",
    "\n",
    "        \n",
    "\n",
    "        # Selecting the extremal weight between edges and triplets. It will be assigned to all the nodes (i.e. nodes enter at the same instant)\n",
    "    m_weight = np.max([np.ceil(np.max(np.abs(Lead_matrix))), np.ceil(np.max(np.abs(Lead_tensor)))])\n",
    "    # Adding all the nodes from the beginning with the same weights\n",
    "    for i in range(N):\n",
    "        list_simplices.append(([i], m_weight))\n",
    "\n",
    "        # Adding the edges:\n",
    "        # Also, modify the signs of the weights to correct the z-score so that: if the edge signal is fully coherent, then assign a positive sign, otherwise negative\n",
    "    for i in range(N):\n",
    "        for j in range(i,N):\n",
    "            if (not i==j):\n",
    "                weight=np.abs(Lead_matrix[i,j])\n",
    "                list_simplices.append(([i,j], weight))\n",
    "\n",
    "        # Adding the triplets\n",
    "        # Here I modify the signs of the weights, if it is fully coherent I assign a positive sign, otherwise negative\n",
    "    for i in range(N):\n",
    "        for j in range(i,N):\n",
    "            for k in range(j,N):\n",
    "                if ((not (i==j)) and (not(j==k)) and (not(i==k))):\n",
    "                    weight=np.abs(Lead_tensor[i,j,k])\n",
    "                    list_simplices.append(([i,j,k], weight))\n",
    "\n",
    "    list_simplices_for_filtration, list_violations, percentage_of_triangles_discarded = fix_violations(list_simplices)\n",
    "        \n",
    "    return(list_simplices_for_filtration, list_violations, percentage_of_triangles_discarded)"
   ]
  },
  {
   "cell_type": "code",
   "execution_count": 9,
   "id": "08d2b6eb",
   "metadata": {},
   "outputs": [],
   "source": [
    "def create_diagram_matrices(L,T,indifferent_value):\n",
    "    f=create_filtration(L,T,indifferent_value)\n",
    "    simpl_list=f[0]\n",
    "    sc=gudhi.SimplexTree()\n",
    "    for i in enumerate(simpl_list):\n",
    "        index,simplices=i\n",
    "        sc.insert(simplices[0], filtration=simplices[1])\n",
    "        \n",
    "    dgm=sc.persistence()\n",
    "    return dgm"
   ]
  },
  {
   "cell_type": "code",
   "execution_count": 10,
   "id": "008d77f7",
   "metadata": {},
   "outputs": [],
   "source": [
    "def create_diagram_directly(mv_time_series, indifferent_value):\n",
    "    L=lead_matrix_1(time_series)\n",
    "    T=lead_tensor_1(time_series)\n",
    "    f=create_filtration(L,T,indifferent_value)\n",
    "    simpl_list=f[0]\n",
    "    sc=gudhi.SimplexTree()\n",
    "    for i in enumerate(simpl_list):\n",
    "        index,simplices=i\n",
    "        sc.insert(simplices[0], filtration=simplices[1])\n",
    "        \n",
    "    dgm=sc.persistence()\n",
    "    return dgm"
   ]
  },
  {
   "cell_type": "code",
   "execution_count": 47,
   "id": "bbf927dc",
   "metadata": {},
   "outputs": [],
   "source": [
    "# PATH SIGNATURE\n",
    "Sig=list()\n",
    "labels=[]\n",
    "for i in range(1,56):\n",
    "    if not(i==17):\n",
    "        time_series=load_data_mat(f\"BP_Timeseries/sub{i}_EPI_BPaal_timeseries.mat\")\n",
    "        s=iis.prepare(116,2)\n",
    "        feat=iis.logsig(time_series,s)\n",
    "        Sig.append(feat)\n",
    "        labels.append(\"BP\")\n",
    "        \n",
    "for i in range(1,66):\n",
    "    if not(i==33):\n",
    "        time_series=load_data_mat(f\"HC_Timeseries/sub{i}_EPI_HCaal_timeseries.mat\")                                                                                \n",
    "        s=iis.prepare(116,2)\n",
    "        feat=iis.logsig(time_series,s)\n",
    "        Sig.append(feat)\n",
    "        labels.append(\"HC\")\n",
    "\n",
    "Feat=np.array(Sig)\n"
   ]
  },
  {
   "cell_type": "code",
   "execution_count": 48,
   "id": "c8eb2467",
   "metadata": {},
   "outputs": [],
   "source": [
    "from sklearn.ensemble import RandomForestClassifier\n",
    "from sklearn.model_selection import train_test_split\n",
    "from sklearn.metrics import accuracy_score\n",
    "from sklearn.model_selection import cross_val_score, KFold\n",
    "from sklearn.preprocessing import StandardScaler\n",
    "from sklearn.linear_model import LogisticRegression\n",
    "from sklearn.model_selection import cross_val_score\n",
    "from sklearn.pipeline import Pipeline\n",
    "from sklearn.naive_bayes import GaussianNB\n",
    "from sklearn import linear_model"
   ]
  },
  {
   "cell_type": "code",
   "execution_count": 51,
   "id": "a5d751c4",
   "metadata": {},
   "outputs": [
    {
     "name": "stdout",
     "output_type": "stream",
     "text": [
      "0.7083333333333334\n"
     ]
    }
   ],
   "source": [
    "X_train, X_test, y_train, y_test=train_test_split(Feat,labels,test_size=0.2)\n",
    "clf_rf=RandomForestClassifier().fit(X_train,y_train)\n",
    "y_predicted=clf_rf.predict(X_test)\n",
    "acc=accuracy_score(y_test,y_predicted)\n",
    "print(acc)"
   ]
  },
  {
   "cell_type": "code",
   "execution_count": 14,
   "id": "552a5006",
   "metadata": {},
   "outputs": [
    {
     "data": {
      "image/png": "[encoded data removed]",
      "text/plain": [
       "<Figure size 720x504 with 1 Axes>"
      ]
     },
     "metadata": {
      "needs_background": "light"
     },
     "output_type": "display_data"
    }
   ],
   "source": [
    "#PLOT OF RANDOM FOREST ACCURACY\n",
    "acc_values_rf=[]\n",
    "for i in range(100):\n",
    "    X_train, X_test, y_train, y_test=train_test_split(Feat,labels,test_size=0.2)\n",
    "    clf_rf=RandomForestClassifier().fit(X_train,y_train)\n",
    "    y_predicted=clf_rf.predict(X_test)\n",
    "    acc=accuracy_score(y_test,y_predicted)\n",
    "    acc_values_rf.append(acc)\n",
    "\n",
    "    \n",
    "    \n",
    "    \n",
    "fig = plt.figure(figsize =(10, 7))\n",
    " \n",
    "plt.boxplot(acc_values_rf)\n",
    " \n",
    "plt.show()"
   ]
  },
  {
   "cell_type": "code",
   "execution_count": 15,
   "id": "5c22f9f0",
   "metadata": {},
   "outputs": [
    {
     "name": "stdout",
     "output_type": "stream",
     "text": [
      "[0.         0.16666667 0.08333333 0.16666667 0.5        0.5\n",
      " 0.41666667 0.41666667 0.27272727 0.36363636]\n"
     ]
    }
   ],
   "source": [
    "# 10 cross validation\n",
    "\n",
    "sca=StandardScaler()\n",
    "lr=LogisticRegression()\n",
    "ppl=Pipeline([('scaler',sca),('clf',lr)])\n",
    "\n",
    "n_fold=10\n",
    "cv=KFold(n_fold,shuffle=False)\n",
    "score_1=cross_val_score(ppl,Feat,labels,cv=cv,n_jobs=-1)\n",
    "print(score_1)"
   ]
  },
  {
   "cell_type": "code",
   "execution_count": 72,
   "id": "f1c05d6d",
   "metadata": {},
   "outputs": [],
   "source": [
    "#  LEAD MATRIX\n",
    "Lead_list=list()\n",
    "labels=[]\n",
    "for i in range(1,56):\n",
    "    if not(i==17):\n",
    "        time_series=load_data_mat(f\"BP_Timeseries/sub{i}_EPI_BPaal_timeseries.mat\")[5:175,:]\n",
    "        L=lead_matrix_1(time_series)\n",
    "        N=L.shape[0]\n",
    "        feat=[]\n",
    "        for j in range(N):\n",
    "            for k in range(j,N):\n",
    "                if (not j==k):\n",
    "                    feat.append(L[j,k])\n",
    "        Lead_list.append(feat)\n",
    "        labels.append(\"BP\")\n",
    "        \n",
    "for i in range(1,66):\n",
    "    if not(i==33):\n",
    "        time_series=load_data_mat(f\"HC_Timeseries/sub{i}_EPI_HCaal_timeseries.mat\")[5:175,:]\n",
    "        L=lead_matrix_1(time_series)\n",
    "        N=L.shape[0]\n",
    "        feat=[]\n",
    "        for j in range(N):\n",
    "            for k in range(j,N):\n",
    "                if (not j==k):\n",
    "                    feat.append(L[j,k])\n",
    "        Lead_list.append(feat)\n",
    "        labels.append(\"HC\")\n",
    "\n",
    "LEAD=np.array(Lead_list)\n"
   ]
  },
  {
   "cell_type": "code",
   "execution_count": 73,
   "id": "6af97efe",
   "metadata": {},
   "outputs": [
    {
     "name": "stdout",
     "output_type": "stream",
     "text": [
      "0.625\n"
     ]
    }
   ],
   "source": [
    "X_train, X_test, y_train, y_test=train_test_split(LEAD,labels,test_size=0.2)\n",
    "clf_rf=RandomForestClassifier().fit(X_train,y_train)\n",
    "y_predicted=clf_rf.predict(X_test)\n",
    "acc=accuracy_score(y_test,y_predicted)\n",
    "print(acc)"
   ]
  },
  {
   "cell_type": "code",
   "execution_count": 74,
   "id": "1558d4db",
   "metadata": {},
   "outputs": [
    {
     "data": {
      "image/png": "[encoded data removed]",
      "text/plain": [
       "<Figure size 720x504 with 1 Axes>"
      ]
     },
     "metadata": {
      "needs_background": "light"
     },
     "output_type": "display_data"
    }
   ],
   "source": [
    "#PLOT OF RANDOM FOREST ACCURACY\n",
    "acc_values=[]\n",
    "for i in range(100):\n",
    "    X_train, X_test, y_train, y_test=train_test_split(LEAD,labels,test_size=0.2)\n",
    "    clf_rf=RandomForestClassifier().fit(X_train,y_train)\n",
    "    y_predicted=clf_rf.predict(X_test)\n",
    "    acc=accuracy_score(y_test,y_predicted)\n",
    "    acc_values.append(acc)\n",
    "\n",
    "    \n",
    "    \n",
    "    \n",
    "fig = plt.figure(figsize =(10, 7))\n",
    " \n",
    "plt.boxplot(acc_values)\n",
    " \n",
    "plt.show()"
   ]
  },
  {
   "cell_type": "code",
   "execution_count": 75,
   "id": "f94873c8",
   "metadata": {},
   "outputs": [
    {
     "name": "stdout",
     "output_type": "stream",
     "text": [
      "[0.         0.         0.         0.         0.5        0.\n",
      " 0.         0.08333333 0.09090909 0.        ]\n"
     ]
    }
   ],
   "source": [
    "# cross validation\n",
    "sca=StandardScaler()\n",
    "lr=LogisticRegression()\n",
    "ppl=Pipeline([('scaler',sca),('clf',lr)])\n",
    "\n",
    "n_fold=10\n",
    "cv=KFold(n_fold,shuffle=False)\n",
    "score_1=cross_val_score(ppl,LEAD,labels,cv=cv,n_jobs=-1)\n",
    "print(score_1)"
   ]
  },
  {
   "cell_type": "code",
   "execution_count": 20,
   "id": "d1d98de7",
   "metadata": {},
   "outputs": [],
   "source": [
    "#  CLIQUE COMPLEX DIRECTED\n",
    "topological_clique_list=list()\n",
    "labels=[]\n",
    "for i in range(1,56):\n",
    "    if not(i==17):\n",
    "        time_series=load_data_mat(f\"BP_Timeseries/sub{i}_EPI_BPaal_timeseries.mat\")[10:170,:]\n",
    "        L=lead_matrix_1(time_series)\n",
    "        dgm_clique=rev_directed(L)\n",
    "        PE = PersistenceEntropy()\n",
    "        pe_feat = PE.fit_transform(dgm_clique)\n",
    "        A=Amplitude()\n",
    "        ampl_feat=A.fit_transform(dgm_clique)\n",
    "        feat1=pe_feat.flatten()\n",
    "        feat2=ampl_feat.flatten()\n",
    "        feat=np.concatenate((feat1,feat2), axis=0)\n",
    "        topological_clique_list.append(feat)\n",
    "        labels.append(\"BP\")\n",
    "        \n",
    "for i in range(1,66):\n",
    "    if not(i==33):\n",
    "        time_series=load_data_mat(f\"HC_Timeseries/sub{i}_EPI_HCaal_timeseries.mat\")[10:170,:]\n",
    "        L=lead_matrix_1(time_series)\n",
    "        dgm_clique=rev_directed(L)\n",
    "        PE = PersistenceEntropy()\n",
    "        pe_feat = PE.fit_transform(dgm_clique)\n",
    "        A=Amplitude()\n",
    "        ampl_feat=A.fit_transform(dgm_clique)\n",
    "        feat1=pe_feat.flatten()\n",
    "        feat2=ampl_feat.flatten()\n",
    "        feat=np.concatenate((feat1,feat2), axis=0)\n",
    "        topological_clique_list.append(feat)\n",
    "        labels.append(\"HC\")\n",
    "\n",
    "topological_clique_array=np.array(topological_clique_list)"
   ]
  },
  {
   "cell_type": "code",
   "execution_count": 21,
   "id": "76b80c61",
   "metadata": {},
   "outputs": [
    {
     "name": "stdout",
     "output_type": "stream",
     "text": [
      "0.5897435897435898\n"
     ]
    }
   ],
   "source": [
    "X_train, X_test, y_train, y_test=train_test_split(topological_clique_array,labels,test_size=0.2)\n",
    "clf_rf=RandomForestClassifier().fit(X_train,y_train)\n",
    "y_predicted=clf_rf.predict(X_test)\n",
    "acc=accuracy_score(y_test,y_predicted)\n",
    "print(acc)"
   ]
  },
  {
   "cell_type": "code",
   "execution_count": 22,
   "id": "8845e79e",
   "metadata": {},
   "outputs": [
    {
     "data": {
      "image/png": "[encoded data removed]",
      "text/plain": [
       "<Figure size 720x504 with 1 Axes>"
      ]
     },
     "metadata": {
      "needs_background": "light"
     },
     "output_type": "display_data"
    }
   ],
   "source": [
    "# PLOT RANDOM FOREST\n",
    "acc_values=[]\n",
    "for i in range(100):\n",
    "    X_train, X_test, y_train, y_test=train_test_split(topological_clique_array,labels,test_size=0.2)\n",
    "    clf_rf=RandomForestClassifier().fit(X_train,y_train)\n",
    "    y_predicted=clf_rf.predict(X_test)\n",
    "    acc=accuracy_score(y_test,y_predicted)\n",
    "    acc_values.append(acc)\n",
    "\n",
    "    \n",
    "    \n",
    "    \n",
    "fig = plt.figure(figsize =(10, 7))\n",
    " \n",
    "plt.boxplot(acc_values)\n",
    " \n",
    "plt.show()"
   ]
  },
  {
   "cell_type": "code",
   "execution_count": 23,
   "id": "e4143675",
   "metadata": {},
   "outputs": [
    {
     "name": "stdout",
     "output_type": "stream",
     "text": [
      "[0.         0.         0.         0.         0.41666667 0.33333333\n",
      " 0.41666667 0.33333333 0.27272727 0.27272727]\n"
     ]
    }
   ],
   "source": [
    "# cross validation\n",
    "sca=StandardScaler()\n",
    "lr=LogisticRegression()\n",
    "ppl=Pipeline([('scaler',sca),('clf',lr)])\n",
    "\n",
    "n_fold=10\n",
    "cv=KFold(n_fold,shuffle=False)\n",
    "score_1=cross_val_score(ppl,topological_clique_array,labels,cv=cv,n_jobs=-1)\n",
    "print(score_1)"
   ]
  },
  {
   "cell_type": "code",
   "execution_count": 24,
   "id": "391aa912",
   "metadata": {},
   "outputs": [],
   "source": [
    "#  CLIQUE COMPLEX UNDIRECTED\n",
    "topological_clique_undirected_list=list()\n",
    "labels=[]\n",
    "for i in range(1,56):\n",
    "    if not(i==17):\n",
    "        time_series=load_data_mat(f\"BP_Timeseries/sub{i}_EPI_BPaal_timeseries.mat\")[10:170,:]\n",
    "        L=lead_matrix_1(time_series)\n",
    "        dgm_clique=rev_undirected(L)\n",
    "        PE = PersistenceEntropy()\n",
    "        pe_feat = PE.fit_transform(dgm_clique)\n",
    "        A=Amplitude()\n",
    "        ampl_feat=A.fit_transform(dgm_clique)\n",
    "        feat1=pe_feat.flatten()\n",
    "        feat2=ampl_feat.flatten()\n",
    "        feat=np.concatenate((feat1,feat2), axis=0)\n",
    "        topological_clique_undirected_list.append(feat)\n",
    "        labels.append(\"BP\")\n",
    "        \n",
    "for i in range(1,66):\n",
    "    if not(i==33):\n",
    "        time_series=load_data_mat(f\"HC_Timeseries/sub{i}_EPI_HCaal_timeseries.mat\")[10:170,:]\n",
    "        L=lead_matrix_1(time_series)\n",
    "        dgm_clique=rev_undirected(L)\n",
    "        PE = PersistenceEntropy()\n",
    "        pe_feat = PE.fit_transform(dgm_clique)\n",
    "        A=Amplitude()\n",
    "        ampl_feat=A.fit_transform(dgm_clique)\n",
    "        feat1=pe_feat.flatten()\n",
    "        feat2=ampl_feat.flatten()\n",
    "        feat=np.concatenate((feat1,feat2), axis=0)\n",
    "        topological_clique_undirected_list.append(feat)\n",
    "        labels.append(\"HC\")\n",
    "\n",
    "topological_clique_undirected_array=np.array(topological_clique_undirected_list)"
   ]
  },
  {
   "cell_type": "code",
   "execution_count": 25,
   "id": "9939c1c9",
   "metadata": {},
   "outputs": [
    {
     "name": "stdout",
     "output_type": "stream",
     "text": [
      "0.6666666666666666\n"
     ]
    }
   ],
   "source": [
    "X_train, X_test, y_train, y_test=train_test_split(topological_clique_undirected_array,labels,test_size=0.2)\n",
    "clf_rf=RandomForestClassifier().fit(X_train,y_train)\n",
    "y_predicted=clf_rf.predict(X_test)\n",
    "acc=accuracy_score(y_test,y_predicted)\n",
    "print(acc)"
   ]
  },
  {
   "cell_type": "code",
   "execution_count": 26,
   "id": "eae3eb7d",
   "metadata": {},
   "outputs": [
    {
     "data": {
      "image/png": "[encoded data removed]",
      "text/plain": [
       "<Figure size 720x504 with 1 Axes>"
      ]
     },
     "metadata": {
      "needs_background": "light"
     },
     "output_type": "display_data"
    }
   ],
   "source": [
    "#PLOT OF RANDOM FOREST ACCURACY\n",
    "acc_values=[]\n",
    "for i in range(100):\n",
    "    X_train, X_test, y_train, y_test=train_test_split(topological_clique_undirected_array,labels,test_size=0.2)\n",
    "    clf_rf=RandomForestClassifier().fit(X_train,y_train)\n",
    "    y_predicted=clf_rf.predict(X_test)\n",
    "    acc=accuracy_score(y_test,y_predicted)\n",
    "    acc_values.append(acc)\n",
    "\n",
    "    \n",
    "    \n",
    "    \n",
    "fig = plt.figure(figsize =(10, 7))\n",
    " \n",
    "plt.boxplot(acc_values)\n",
    " \n",
    "plt.show()"
   ]
  },
  {
   "cell_type": "code",
   "execution_count": 27,
   "id": "83e4b984",
   "metadata": {},
   "outputs": [
    {
     "name": "stdout",
     "output_type": "stream",
     "text": [
      "[0.         0.33333333 0.08333333 0.16666667 0.58333333 0.5\n",
      " 0.58333333 0.41666667 0.72727273 0.54545455]\n"
     ]
    }
   ],
   "source": [
    "# cross validation\n",
    "\n",
    "sca=StandardScaler()\n",
    "lr=LogisticRegression()\n",
    "ppl=Pipeline([('scaler',sca),('clf',lr)])\n",
    "\n",
    "n_fold=10\n",
    "cv=KFold(n_fold,shuffle=False)\n",
    "score_1=cross_val_score(ppl,topological_clique_undirected_array,labels,cv=cv,n_jobs=-1)\n",
    "print(score_1)"
   ]
  },
  {
   "cell_type": "code",
   "execution_count": 28,
   "id": "77b842be",
   "metadata": {},
   "outputs": [
    {
     "data": {
      "text/plain": [
       "(118, 4)"
      ]
     },
     "execution_count": 28,
     "metadata": {},
     "output_type": "execute_result"
    }
   ],
   "source": [
    "topological_clique_undirected_array.shape"
   ]
  },
  {
   "cell_type": "code",
   "execution_count": 29,
   "id": "f49c5a43",
   "metadata": {},
   "outputs": [],
   "source": [
    "# HYPERCOHERENCE\n",
    "Hyp_coh_list=list()\n",
    "labels=[]\n",
    "for i in range(1,56):\n",
    "    if not(i==17):\n",
    "        time_series=load_data_mat(f\"BP_Timeseries/sub{i}_EPI_BPaal_timeseries.mat\")\n",
    "        L=lead_matrix_1(time_series)\n",
    "        T=lead_tensor_1(time_series)\n",
    "        f=create_filtration(L,T,0)\n",
    "        hyp=f[2]\n",
    "        Hyp_coh_list.append(hyp)\n",
    "        labels.append(\"BP\")\n",
    "        \n",
    "for i in range(1,66):\n",
    "    if not(i==33):\n",
    "        time_series=load_data_mat(f\"HC_Timeseries/sub{i}_EPI_HCaal_timeseries.mat\")\n",
    "        L=lead_matrix_1(time_series)\n",
    "        T=lead_tensor_1(time_series)\n",
    "        f=create_filtration(L,T,0)\n",
    "        hyp=f[2]\n",
    "        Hyp_coh_list.append(hyp)\n",
    "        labels.append(\"HC\")\n"
   ]
  },
  {
   "cell_type": "code",
   "execution_count": 30,
   "id": "004b9e01",
   "metadata": {},
   "outputs": [],
   "source": [
    "Hyp_coh_array=np.array(Hyp_coh_list)"
   ]
  },
  {
   "cell_type": "code",
   "execution_count": 31,
   "id": "8f3e039f",
   "metadata": {},
   "outputs": [],
   "source": [
    "HYP=Hyp_coh_array.reshape(-1,1)"
   ]
  },
  {
   "cell_type": "code",
   "execution_count": 32,
   "id": "fedc65f4",
   "metadata": {},
   "outputs": [
    {
     "name": "stdout",
     "output_type": "stream",
     "text": [
      "0.625\n"
     ]
    }
   ],
   "source": [
    "X_train, X_test, y_train, y_test=train_test_split(HYP,labels,test_size=0.2)\n",
    "clf=RandomForestClassifier().fit(X_train,y_train)\n",
    "y_predicted=clf.predict(X_test)\n",
    "acc=accuracy_score(y_test,y_predicted)\n",
    "print(acc)"
   ]
  },
  {
   "cell_type": "code",
   "execution_count": 33,
   "id": "7d85cf1f",
   "metadata": {},
   "outputs": [
    {
     "data": {
      "image/png": "[encoded data removed]",
      "text/plain": [
       "<Figure size 720x504 with 1 Axes>"
      ]
     },
     "metadata": {
      "needs_background": "light"
     },
     "output_type": "display_data"
    }
   ],
   "source": [
    "#PLOT OF RANDOM FOREST ACCURACY\n",
    "acc_values=[]\n",
    "for i in range(100):\n",
    "    X_train, X_test, y_train, y_test=train_test_split(HYP,labels,test_size=0.2)\n",
    "    clf=RandomForestClassifier().fit(X_train,y_train)\n",
    "    y_predicted=clf.predict(X_test)\n",
    "    acc=accuracy_score(y_test,y_predicted)\n",
    "    acc_values.append(acc)\n",
    "\n",
    "    \n",
    "    \n",
    "    \n",
    "fig = plt.figure(figsize =(10, 7))\n",
    " \n",
    "plt.boxplot(acc_values)\n",
    " \n",
    "plt.show()"
   ]
  },
  {
   "cell_type": "code",
   "execution_count": 34,
   "id": "d2df24e4",
   "metadata": {},
   "outputs": [
    {
     "name": "stdout",
     "output_type": "stream",
     "text": [
      "[0.08333333 0.16666667 0.25       0.16666667 0.5        0.66666667\n",
      " 0.66666667 0.75       0.63636364 0.63636364]\n"
     ]
    }
   ],
   "source": [
    "# cross validation\n",
    "sca=StandardScaler()\n",
    "lr=LogisticRegression()\n",
    "ppl=Pipeline([('scaler',sca),('clf',lr)])\n",
    "\n",
    "n_fold=10\n",
    "cv=KFold(n_fold,shuffle=False)\n",
    "score_1=cross_val_score(ppl,HYP,labels,cv=cv,n_jobs=-1)\n",
    "print(score_1)"
   ]
  },
  {
   "cell_type": "code",
   "execution_count": 37,
   "id": "ab44c299",
   "metadata": {},
   "outputs": [],
   "source": [
    "# SIMPLICIAL COMPLEX HIGH ( still figuring out how to get entropy with gudhi)\n",
    "\n",
    "\n",
    "\n",
    "#High_lead=list()\n",
    "#labels=[]\n",
    "#for i in range(1,56):\n",
    "    #if not(i==17):\n",
    "        #time_series=load_data_mat(f\"BP_Timeseries/sub{i}_EPI_BPaal_timeseries.mat\")\n",
    "        #dgm=create_diagram_directly(time_series,0)\n",
    "        \n",
    "        #labels.append(\"BP\")\n",
    "        \n",
    "#for i in range(1,66):\n",
    "    #if not(i==33):\n",
    "        #time_series=load_data_mat(f\"HC_Timeseries/sub{i}_EPI_HCaal_timeseries.mat\")\n",
    "        \n",
    "        #labels.append(\"HC\")\n"
   ]
  },
  {
   "cell_type": "code",
   "execution_count": 38,
   "id": "73ece3a6",
   "metadata": {},
   "outputs": [],
   "source": [
    "# trying to compute stuff\n",
    "\n",
    "\n",
    "#time_series=load_data_mat(\"BP_Timeseries/sub10_EPI_BPaal_timeseries.mat\")\n",
    "#dgm=create_diagram_directly(time_series,0)"
   ]
  },
  {
   "cell_type": "code",
   "execution_count": 39,
   "id": "099e898e",
   "metadata": {},
   "outputs": [],
   "source": [
    "# still figuring out how to do\n",
    "\n",
    "\n",
    "#en=Entropy()\n",
    "#fen=en.__call__(dgm)\n",
    "#entr=en.transform(fen)"
   ]
  },
  {
   "cell_type": "code",
   "execution_count": 41,
   "id": "34370581",
   "metadata": {},
   "outputs": [],
   "source": [
    "#entropy=Entropy.transform([dgm],y=None)"
   ]
  },
  {
   "cell_type": "code",
   "execution_count": null,
   "id": "32fdb1c5",
   "metadata": {},
   "outputs": [],
   "source": []
  }
 ],
 "metadata": {
  "kernelspec": {
   "display_name": "Python 3",
   "language": "python",
   "name": "python3"
  },
  "language_info": {
   "codemirror_mode": {
    "name": "ipython",
    "version": 3
   },
   "file_extension": ".py",
   "mimetype": "text/x-python",
   "name": "python",
   "nbconvert_exporter": "python",
   "pygments_lexer": "ipython3",
   "version": "3.8.8"
  }
 },
 "nbformat": 4,
 "nbformat_minor": 5
}
