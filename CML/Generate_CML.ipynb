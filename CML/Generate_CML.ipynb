{
 "cells": [
  {
   "cell_type": "code",
   "execution_count": 1,
   "id": "b8c047f6",
   "metadata": {},
   "outputs": [
    {
     "name": "stderr",
     "output_type": "stream",
     "text": [
      "<frozen importlib._bootstrap>:219: RuntimeWarning: scipy._lib.messagestream.MessageStream size changed, may indicate binary incompatibility. Expected 56 from C header, got 64 from PyObject\n"
     ]
    }
   ],
   "source": [
    "import sys\n",
    "import random\n",
    "import os\n",
    "import numpy as np\n",
    "import iisignature as iis\n",
    "import matplotlib.pyplot as plt\n",
    "from sklearn.ensemble import RandomForestClassifier\n",
    "from sklearn.model_selection import train_test_split\n",
    "from sklearn.metrics import accuracy_score"
   ]
  },
  {
   "cell_type": "code",
   "execution_count": 1,
   "id": "d96f9356",
   "metadata": {},
   "outputs": [],
   "source": [
    "def logistic(r, x):\n",
    "    return (1 - r * (x**2))\n",
    "    # alternative  chaotic map\n",
    "    # return(4*x*(1-x))\n",
    "\n",
    "\n",
    "# See book of Kaneko for parameters of eps and/or r to have different regimes\n",
    "# or https://en.wikipedia.org/wiki/Coupled_map_lattice for notable regimes\n",
    "\n",
    "\n",
    "# Generate couple map lattice according to this equation: x_i^t= (1-\\eps)f[x_i^{t-1}] + \\eps/order \\sum_{j in \\neighbours} f[x_j]^{t-1}\n",
    "def generate_couple_map(T, N, epsilon, transient_time, r, order=2):\n",
    "    series = {}\n",
    "\n",
    "    # Filing the dictionary with N initial random values\n",
    "    for index_series in range(0, N):\n",
    "        s = random.random()\n",
    "        series[index_series] = [s]\n",
    "\n",
    "    # Generate the coupled maps for a length of size T (yet, we discard the first transient_time elements to remove the transient)\n",
    "    for i in range(1, T + transient_time + 1):\n",
    "        for index_series in range(0, N):\n",
    "            order_k_term = compute_neighbours(N, series, epsilon, index_series, i - 1, r, order)\n",
    "            new_point = (1 - epsilon) * logistic(r,series[index_series][i - 1]) + order_k_term\n",
    "            series[index_series].append(new_point)\n",
    "    return(series)\n",
    "\n",
    "\n",
    "\n",
    "def compute_neighbours(N, series, epsilon, index_series, i, r, order=2):\n",
    "    eps_overN = epsilon * (1 / order)\n",
    "    term_left_right = int(order / 2)\n",
    "\n",
    "    term = 0\n",
    "    # Sum over the left neighbors with periodic boundary conditions\n",
    "    for s in range(1, term_left_right + 1):\n",
    "        term += logistic(r, series[(index_series - s) % N][i])\n",
    "\n",
    "    # Sum over the right neighbors with periodic boundary conditions\n",
    "    for s in range(1, term_left_right + 1):\n",
    "        term += logistic(r, series[(index_series + s) % N][i])\n",
    "\n",
    "    # if order is odd, then take the neighbors in an asymmetric way, int(order/2) on the left, int(order/2)+1 on the right\n",
    "    if order % 2 == 1:\n",
    "        s = term_left_right + 1\n",
    "        term += logistic(r, series[(index_series + s) % N][i])\n",
    "\n",
    "    return(term * eps_overN)"
   ]
  },
  {
   "cell_type": "code",
   "execution_count": null,
   "id": "c069ff2f",
   "metadata": {},
   "outputs": [],
   "source": [
    "# Generating data\n",
    "\n",
    "Feat_v=list()\n",
    "labels=[]\n",
    "for i in range(100):\n",
    "    data=generate_couple_map(20000,100,0.4, 1, 1.71, order=2)\n",
    "    np.save(f\"PS_{i}\",data)\n",
    "    \n",
    "for i in range(100):\n",
    "    data=generate_couple_map(20000,100,0.1, 1, 1.85, order=2)\n",
    "    np.save(f\"CBMD_{i}\",data)\n",
    "    \n",
    "for i in range(100):\n",
    "    data=generate_couple_map(20000,100,0.6, 1, 1.75, order=2)\n",
    "    np.save(f\"STI_{i}\",data)\n",
    "    \n",
    "for i in range(100):\n",
    "    data=generate_couple_map(20000,100,0.3, 1, 2.00, order=2)\n",
    "    np.save(f\"FDC_{i}\",data)\n",
    "    \n",
    "for i in range(100):\n",
    "    data=generate_couple_map(20000,100,0.1, 1, 1.895, order=2)\n",
    "    np.save(f\"DT_{i}\",data)"
   ]
  },
  {
   "cell_type": "code",
   "execution_count": null,
   "id": "20f230a4",
   "metadata": {},
   "outputs": [],
   "source": []
  }
 ],
 "metadata": {
  "kernelspec": {
   "display_name": "Python 3",
   "language": "python",
   "name": "python3"
  },
  "language_info": {
   "codemirror_mode": {
    "name": "ipython",
    "version": 3
   },
   "file_extension": ".py",
   "mimetype": "text/x-python",
   "name": "python",
   "nbconvert_exporter": "python",
   "pygments_lexer": "ipython3",
   "version": "3.8.8"
  }
 },
 "nbformat": 4,
 "nbformat_minor": 5
}
