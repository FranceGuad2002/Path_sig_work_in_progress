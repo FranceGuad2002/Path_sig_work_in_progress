{
 "cells": [
  {
   "cell_type": "code",
   "execution_count": 1,
   "id": "4453f941",
   "metadata": {},
   "outputs": [
    {
     "name": "stderr",
     "output_type": "stream",
     "text": [
      "<frozen importlib._bootstrap>:219: RuntimeWarning: scipy._lib.messagestream.MessageStream size changed, may indicate binary incompatibility. Expected 56 from C header, got 64 from PyObject\n"
     ]
    }
   ],
   "source": [
    "import numpy as np\n",
    "import sys\n",
    "import scipy.io as sio  # For reading the matlab .mat format\n",
    "from scipy.stats import zscore, entropy\n",
    "from scipy.special import binom as binomial\n",
    "import collections\n",
    "import pickle as pk\n",
    "import itertools\n",
    "import persim\n",
    "import numpy as np\n",
    "import pandas as pd\n",
    "import iisignature as iis\n",
    "import gudhi\n",
    "from gtda.homology import VietorisRipsPersistence\n",
    "from gtda.homology import FlagserPersistence\n",
    "import time\n",
    "import matplotlib.pyplot as plt\n",
    "import random\n",
    "from gtda.diagrams import PersistenceEntropy\n",
    "from gtda.diagrams import Amplitude\n",
    "from sklearn.ensemble import RandomForestClassifier\n",
    "from sklearn.model_selection import train_test_split\n",
    "from sklearn.metrics import accuracy_score\n",
    "from sklearn.model_selection import cross_val_score, KFold\n",
    "from sklearn.preprocessing import StandardScaler\n",
    "from sklearn.linear_model import LogisticRegression\n",
    "from sklearn.model_selection import cross_val_score\n",
    "from sklearn.pipeline import Pipeline\n",
    "from sklearn.naive_bayes import GaussianNB\n",
    "from sklearn import linear_model\n",
    "from scipy.stats import ttest_ind"
   ]
  },
  {
   "cell_type": "code",
   "execution_count": 2,
   "id": "901c4bd6",
   "metadata": {},
   "outputs": [],
   "source": [
    "# 160 ARE ROI\n",
    "\n",
    "def load_data_mat(path_single_file):\n",
    "    file_to_open = path_single_file\n",
    "    data = sio.loadmat(file_to_open)\n",
    "    key_data = list(data.keys())[-1]\n",
    "    data = data[key_data]\n",
    "    return(data)"
   ]
  },
  {
   "cell_type": "code",
   "execution_count": 3,
   "id": "a9c04c3a",
   "metadata": {},
   "outputs": [],
   "source": [
    "def lead_matrix_1(mv_time_series):\n",
    "    N=mv_time_series.shape[1]\n",
    "    sig=iis.sig(mv_time_series,2)\n",
    "    S=sig[N:].reshape(N,N)\n",
    "    L=(S-S.T)/2\n",
    "    return L\n",
    "\n",
    "def lead_tensor_1(mv_time_series):\n",
    "    N=mv_time_series.shape[1]\n",
    "    sig=iis.sig(mv_time_series,3)\n",
    "    l=N+N*N\n",
    "    S=sig[l:].reshape(N,N,N)\n",
    "    T=(S-S.transpose((0,2,1))+S.transpose((2,0,1))-S.transpose((2,1,0))+S.transpose((1,2,0))-S.transpose((1,0,2)))/6\n",
    "    return T\n"
   ]
  },
  {
   "cell_type": "code",
   "execution_count": 4,
   "id": "cd388247",
   "metadata": {},
   "outputs": [],
   "source": [
    "def rev_directed(L):\n",
    "    l=L.shape[0]\n",
    "    a=np.max(np.abs(L))\n",
    "    for i in range(l):\n",
    "        for j in range(l):\n",
    "            if L[j,i]<0:\n",
    "                L[j,i]=0\n",
    "                \n",
    "    ADM=a*np.ones((l,l))-a*np.identity(l)-L            \n",
    "    dgm=FlagserPersistence().fit_transform([ADM])\n",
    "    return dgm\n",
    "\n",
    "def rev_undirected(L):\n",
    "    l=L.shape[0]\n",
    "    a=np.max(np.abs(L))\n",
    "    ADM=a*np.ones((l,l))-a*np.identity(l)-np.abs(L)\n",
    "    VR= VietorisRipsPersistence(metric=\"precomputed\")\n",
    "    dgm= VR.fit_transform([ADM])\n",
    "    return dgm"
   ]
  },
  {
   "cell_type": "code",
   "execution_count": 8,
   "id": "d5a2c9e4",
   "metadata": {},
   "outputs": [],
   "source": [
    "def create_filtration_2(Lead_matrix, Lead_tensor,indifferent_value):\n",
    "    \n",
    "\n",
    "    # Creating the list of simplicial complex with all the edges and triangles\n",
    "    sc=gudhi.SimplexTree()\n",
    "    list_simplices = []\n",
    "    N=Lead_matrix.shape[0]\n",
    "    for i in range(N):\n",
    "        for j in range(N):\n",
    "            if np.abs(Lead_matrix[i,j])<indifferent_value:\n",
    "                Lead_matrix[i,j]=0\n",
    "            for k in range(N):\n",
    "                if np.abs(Lead_tensor[i,j,k])<indifferent_value:\n",
    "                    Lead_tensor[i,j,k]=0\n",
    "\n",
    "        \n",
    "\n",
    "        # Selecting the extremal weight between edges and triplets. It will be assigned to all the nodes (i.e. nodes enter at the same instant)\n",
    "    m_weight = np.max([np.ceil(np.max(np.abs(Lead_matrix))), np.ceil(np.max(np.abs(Lead_tensor)))])\n",
    "    # Adding all the nodes from the beginning with the same weights\n",
    "    for i in range(N):\n",
    "        list_simplices.append(([i], m_weight))\n",
    "\n",
    "        # Adding the edges:\n",
    "        # Also, modify the signs of the weights to correct the z-score so that: if the edge signal is fully coherent, then assign a positive sign, otherwise negative\n",
    "    for i in range(N):\n",
    "        for j in range(i,N):\n",
    "            if (not i==j):\n",
    "                weight=np.abs(Lead_matrix[i,j])\n",
    "                list_simplices.append(([i,j], weight))\n",
    "\n",
    "        # Adding the triplets\n",
    "        # Here I modify the signs of the weights, if it is fully coherent I assign a positive sign, otherwise negative\n",
    "    for i in range(N):\n",
    "        for j in range(i,N):\n",
    "            for k in range(j,N):\n",
    "                if ((not (i==j)) and (not(j==k)) and (not(i==k))):\n",
    "                    weight=np.abs(Lead_tensor[i,j,k])\n",
    "                    list_simplices.append(([i,j,k], weight))\n",
    "\n",
    "    sorted_simplices = sorted(list_simplices, key=lambda x: x[1], reverse=True)\n",
    "\n",
    "        # Remove the violations\n",
    "    list_violating_triangles = []\n",
    "    set_simplices = set()\n",
    "    counter = 0\n",
    "    triangles_count = 0\n",
    "    violation_triangles = 0\n",
    "    violation_triangles_negativeterms = 0\n",
    "\n",
    "        # Loop over the sorted simplices, and flippling the sign of all the weights (so that the points in the persistence diagram are above the diagonal)\n",
    "    for index, i in enumerate(sorted_simplices):\n",
    "        simplices, weight = i\n",
    "\n",
    "            # If the current simplex is an edge or a node, then I will immediately include it\n",
    "        if len(simplices) <= 2:\n",
    "            sc.insert(simplices, -weight)\n",
    "            set_simplices.add(tuple(simplices))\n",
    "            counter += 1\n",
    "        else:\n",
    "        # If the current simplex is a triplet, I check whether all the sub-simplices have been included.\n",
    "            flag = 0\n",
    "            n0=simplices[0]\n",
    "            n1=simplices[1]        \n",
    "            n2=simplices[2]\n",
    "            if (n0,n1) in set_simplices:\n",
    "                flag=flag+1\n",
    "            if (n1,n2) in set_simplices:\n",
    "                flag=flag+1\n",
    "            if (n0,n2) in set_simplices:\n",
    "                flag=flag+1\n",
    "\n",
    "                # If all the sub-simplices already belong to the set, then I add it in the filtration\n",
    "            if flag == 3:\n",
    "                set_simplices.add(tuple(simplices))\n",
    "                sc.insert(simplices, -weight)\n",
    "                counter += 1\n",
    "                triangles_count += 1\n",
    "            else:\n",
    "                violation_triangles += 1\n",
    "                list_violating_triangles.append((simplices, np.abs(weight), 3 - flag))\n",
    "\n",
    "# Fraction of positive triangle discarderd (a.k.a. the hyper coherence)\n",
    "    hyper_coherence = (1.0 * violation_triangles) /(triangles_count + violation_triangles)\n",
    "        \n",
    "    return(sc, list_violating_triangles,hyper_coherence)\n",
    "\n",
    "\n",
    "\n",
    "\n",
    "def create_diagram_directly_3(mv_time_series, indifferent_value):\n",
    "    L=lead_matrix_1(mv_time_series)\n",
    "    T=lead_tensor_1(mv_time_series)\n",
    "    f=create_filtration_2(L,T,indifferent_value)\n",
    "    sc=f[0]\n",
    "    hyp=f[2]\n",
    "    dgm=sc.persistence()\n",
    "    return dgm,hyp\n",
    "\n",
    "\n",
    "def entropy_gu_ad(dgm):\n",
    "    total_0=0\n",
    "    total_1=0\n",
    "    l_0=[]\n",
    "    l_1=[]\n",
    "    l=len(dgm)\n",
    "    for i in range(l):\n",
    "        if dgm[i][0]==1:\n",
    "            if (not (dgm[i][1][1]==np.inf)):\n",
    "                length=dgm[i][1][1]-dgm[i][1][0]\n",
    "                total_1=total_1+length\n",
    "                l_1.append(length)\n",
    "        if dgm[i][0]==0:\n",
    "            if (not (dgm[i][1][1]==np.inf)):\n",
    "                length=dgm[i][1][1]-dgm[i][1][0]\n",
    "                total_0=total_0+length\n",
    "                l_0.append(length)\n",
    "\n",
    "    log_l_1=np.log(np.array(l_1)/total_1)\n",
    "    log_l_0=np.log(np.array(l_0)/total_0)\n",
    "    prod_1=log_l_1*(np.array(l_1)/total_1)\n",
    "    prod_0=log_l_0*(np.array(l_0)/total_0)\n",
    "    S_1=-np.sum(prod_1)\n",
    "    S_0=-np.sum(prod_0)\n",
    "    return S_0,S_1\n",
    "\n",
    "def hyper_coherence(mv_time_series,indifferent_value):\n",
    "    L=lead_matrix_1(mv_time_series)\n",
    "    T=lead_tensor_1(mv_time_series)\n",
    "    f=create_filtration_2(L,T,indifferent_value)\n",
    "    hyp=f[2]\n",
    "    return hyp\n",
    "\n",
    "\n",
    "\n",
    "def hyper_vector(time_series,indifference_value,length):\n",
    "    l=time_series.shape[0]\n",
    "    N=time_series.shape[1]\n",
    "    h=np.modf(l/length)[1]\n",
    "    hyp_ts=[]\n",
    "    for i in range(1,length+1):\n",
    "        sub_ts=time_series[:np.int64(h)*i,:]\n",
    "        hyp=hyper_coherence(sub_ts,indifference_value)\n",
    "        hyp_ts.append(hyp)\n",
    "    return hyp_ts"
   ]
  },
  {
   "cell_type": "code",
   "execution_count": 9,
   "id": "b7480b4e",
   "metadata": {},
   "outputs": [],
   "source": [
    "# parameters\n",
    "indifference_value=0.05\n",
    "length=100"
   ]
  },
  {
   "cell_type": "code",
   "execution_count": null,
   "id": "986a2fab",
   "metadata": {},
   "outputs": [],
   "source": [
    "# No Zscore"
   ]
  },
  {
   "cell_type": "code",
   "execution_count": 10,
   "id": "1f3f62b6",
   "metadata": {},
   "outputs": [
    {
     "data": {
      "image/png": "[encoded data removed]",
      "text/plain": [
       "<Figure size 432x288 with 1 Axes>"
      ]
     },
     "metadata": {
      "needs_background": "light"
     },
     "output_type": "display_data"
    }
   ],
   "source": [
    "data=load_data_mat(\"Data/destrieux_timecourse/rTLE/sub-epi20100305/timeseries_regr_wgm_globmean_filt0009008.mat\")\n",
    "time_series=data.transpose()[:150,:]\n",
    "hyp_ts=hyper_vector(time_series,indifference_value,length)   \n",
    "plt.plot(range(1,length+1),hyp_ts)\n",
    "plt.show()"
   ]
  },
  {
   "cell_type": "code",
   "execution_count": 11,
   "id": "e67a0ffd",
   "metadata": {},
   "outputs": [
    {
     "data": {
      "image/png": "[encoded data removed]",
      "text/plain": [
       "<Figure size 432x288 with 1 Axes>"
      ]
     },
     "metadata": {
      "needs_background": "light"
     },
     "output_type": "display_data"
    }
   ],
   "source": [
    "data=load_data_mat(f\"Data/destrieux_timecourse/controls/sub-ctr20190720-EEGfMRI/timeseries_regr_wgm_globmean_filt0009008.mat\")\n",
    "time_series=data.transpose()[:150,:]\n",
    "hyp_ts=hyper_vector(time_series,indifference_value,length)   \n",
    "plt.plot(range(1,length+1),hyp_ts)\n",
    "plt.show()"
   ]
  },
  {
   "cell_type": "code",
   "execution_count": null,
   "id": "1dd2e717",
   "metadata": {},
   "outputs": [],
   "source": []
  },
  {
   "cell_type": "code",
   "execution_count": 12,
   "id": "78e19009",
   "metadata": {},
   "outputs": [],
   "source": [
    "# Zscore"
   ]
  },
  {
   "cell_type": "code",
   "execution_count": 13,
   "id": "59112b45",
   "metadata": {},
   "outputs": [
    {
     "data": {
      "image/png": "[encoded data removed]",
      "text/plain": [
       "<Figure size 432x288 with 1 Axes>"
      ]
     },
     "metadata": {
      "needs_background": "light"
     },
     "output_type": "display_data"
    }
   ],
   "source": [
    "data=load_data_mat(\"Data/destrieux_timecourse/rTLE/sub-epi20100305/timeseries_regr_wgm_globmean_filt0009008.mat\")\n",
    "tsr=data.transpose()[:150,:]\n",
    "time_series=zscore(tsr,axis=0)\n",
    "hyp_ts=hyper_vector(time_series,indifference_value,length)   \n",
    "plt.plot(range(1,length+1),hyp_ts)\n",
    "plt.show()"
   ]
  },
  {
   "cell_type": "code",
   "execution_count": 14,
   "id": "d817b936",
   "metadata": {},
   "outputs": [
    {
     "data": {
      "image/png": "[encoded data removed]",
      "text/plain": [
       "<Figure size 432x288 with 1 Axes>"
      ]
     },
     "metadata": {
      "needs_background": "light"
     },
     "output_type": "display_data"
    }
   ],
   "source": [
    "data=load_data_mat(f\"Data/destrieux_timecourse/controls/sub-ctr20190720-EEGfMRI/timeseries_regr_wgm_globmean_filt0009008.mat\")\n",
    "tsr=data.transpose()[:150,:]\n",
    "time_series=zscore(tsr,axis=0)\n",
    "hyp_ts=hyper_vector(time_series,indifference_value,length)   \n",
    "plt.plot(range(1,length+1),hyp_ts)\n",
    "plt.show()"
   ]
  },
  {
   "cell_type": "code",
   "execution_count": null,
   "id": "0423e141",
   "metadata": {},
   "outputs": [],
   "source": []
  }
 ],
 "metadata": {
  "kernelspec": {
   "display_name": "Python 3",
   "language": "python",
   "name": "python3"
  },
  "language_info": {
   "codemirror_mode": {
    "name": "ipython",
    "version": 3
   },
   "file_extension": ".py",
   "mimetype": "text/x-python",
   "name": "python",
   "nbconvert_exporter": "python",
   "pygments_lexer": "ipython3",
   "version": "3.8.8"
  }
 },
 "nbformat": 4,
 "nbformat_minor": 5
}
