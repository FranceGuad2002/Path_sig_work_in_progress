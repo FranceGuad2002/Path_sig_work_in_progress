{
 "cells": [
  {
   "cell_type": "code",
   "execution_count": 53,
   "id": "a8e460ed",
   "metadata": {},
   "outputs": [],
   "source": [
    "import sys\n",
    "import random\n",
    "import os\n",
    "import numpy as np\n",
    "import iisignature as iis\n",
    "import matplotlib.pyplot as plt\n",
    "import gudhi\n",
    "from gudhi import plot_persistence_diagram\n",
    "from gudhi import plot_persistence_density\n",
    "from gtda.homology import VietorisRipsPersistence\n",
    "from gtda.homology import FlagserPersistence\n",
    "from gtda.diagrams import PersistenceEntropy\n",
    "from gtda.diagrams import Amplitude\n",
    "from gudhi.representations.vector_methods import Entropy\n",
    "from gtda.diagrams import PairwiseDistance\n",
    "from gtda.plotting import plot_diagram"
   ]
  },
  {
   "cell_type": "code",
   "execution_count": 54,
   "id": "89ca42d5",
   "metadata": {},
   "outputs": [],
   "source": [
    "def logistic(r, x):\n",
    "    return (1 - r * (x**2))\n",
    "    # alternative  chaotic map\n",
    "    # return(4*x*(1-x))\n",
    "\n",
    "\n",
    "# See book of Kaneko for parameters of eps and/or r to have different regimes\n",
    "# or https://en.wikipedia.org/wiki/Coupled_map_lattice for notable regimes\n",
    "\n",
    "\n",
    "# Generate couple map lattice according to this equation: x_i^t= (1-\\eps)f[x_i^{t-1}] + \\eps/order \\sum_{j in \\neighbours} f[x_j]^{t-1}\n",
    "def generate_couple_map(T, N, epsilon, transient_time, r, order=2):\n",
    "    series = {}\n",
    "\n",
    "    # Filing the dictionary with N initial random values\n",
    "    for index_series in range(0, N):\n",
    "        s = random.random()\n",
    "        series[index_series] = [s]\n",
    "\n",
    "    # Generate the coupled maps for a length of size T (yet, we discard the first transient_time elements to remove the transient)\n",
    "    for i in range(1, T + transient_time + 1):\n",
    "        for index_series in range(0, N):\n",
    "            order_k_term = compute_neighbours(N, series, epsilon, index_series, i - 1, r, order)\n",
    "            new_point = (1 - epsilon) * logistic(r,series[index_series][i - 1]) + order_k_term\n",
    "            series[index_series].append(new_point)\n",
    "    return(series)\n",
    "\n",
    "\n",
    "\n",
    "def compute_neighbours(N, series, epsilon, index_series, i, r, order=2):\n",
    "    eps_overN = epsilon * (1 / order)\n",
    "    term_left_right = int(order / 2)\n",
    "\n",
    "    term = 0\n",
    "    # Sum over the left neighbors with periodic boundary conditions\n",
    "    for s in range(1, term_left_right + 1):\n",
    "        term += logistic(r, series[(index_series - s) % N][i])\n",
    "\n",
    "    # Sum over the right neighbors with periodic boundary conditions\n",
    "    for s in range(1, term_left_right + 1):\n",
    "        term += logistic(r, series[(index_series + s) % N][i])\n",
    "\n",
    "    # if order is odd, then take the neighbors in an asymmetric way, int(order/2) on the left, int(order/2)+1 on the right\n",
    "    if order % 2 == 1:\n",
    "        s = term_left_right + 1\n",
    "        term += logistic(r, series[(index_series + s) % N][i])\n",
    "\n",
    "    return(term * eps_overN)"
   ]
  },
  {
   "cell_type": "code",
   "execution_count": 55,
   "id": "772d33ab",
   "metadata": {},
   "outputs": [],
   "source": [
    "def lead_matrix_1(mv_time_series):\n",
    "    N=mv_time_series.shape[1]\n",
    "    sig=iis.sig(mv_time_series,2)\n",
    "    S=sig[N:].reshape(N,N)\n",
    "    L=(S-S.T)/2\n",
    "    return L\n",
    "def lead_tensor_1(mv_time_series):\n",
    "    N=mv_time_series.shape[1]\n",
    "    sig=iis.sig(mv_time_series,3)\n",
    "    l=N+N*N\n",
    "    S=sig[l:].reshape(N,N,N)\n",
    "    T=(S-S.transpose((0,2,1))+S.transpose((2,0,1))-S.transpose((2,1,0))+S.transpose((1,2,0))-S.transpose((1,0,2)))/6\n",
    "    return T"
   ]
  },
  {
   "cell_type": "code",
   "execution_count": 56,
   "id": "5ff3d2da",
   "metadata": {},
   "outputs": [],
   "source": [
    "def rev_directed(L):\n",
    "    l=L.shape[0]\n",
    "    a=np.max(np.abs(L))\n",
    "    for i in range(l):\n",
    "        for j in range(l):\n",
    "            if L[j,i]<0:\n",
    "                L[j,i]=0\n",
    "                \n",
    "    ADM=a*np.ones((l,l))-a*np.identity(l)-L            \n",
    "    dgm=FlagserPersistence().fit_transform([ADM])\n",
    "    return dgm\n",
    "\n",
    "def rev_undirected(L):\n",
    "    l=L.shape[0]\n",
    "    a=np.max(np.abs(L))\n",
    "    ADM=a*np.ones((l,l))-a*np.identity(l)-np.abs(L)\n",
    "    VR= VietorisRipsPersistence(metric=\"precomputed\")\n",
    "    dgm= VR.fit_transform([ADM])\n",
    "    return dgm"
   ]
  },
  {
   "cell_type": "code",
   "execution_count": 57,
   "id": "70e424ac",
   "metadata": {},
   "outputs": [],
   "source": [
    "def create_filtration_2(Lead_matrix, Lead_tensor,indifferent_value):\n",
    "    \n",
    "\n",
    "    # Creating the list of simplicial complex with all the edges and triangles\n",
    "    sc=gudhi.SimplexTree()\n",
    "    list_simplices = []\n",
    "    N=Lead_matrix.shape[0]\n",
    "    for i in range(N):\n",
    "        for j in range(N):\n",
    "            if np.abs(Lead_matrix[i,j])<indifferent_value:\n",
    "                Lead_matrix[i,j]=0\n",
    "            for k in range(N):\n",
    "                if np.abs(Lead_tensor[i,j,k])<indifferent_value:\n",
    "                    Lead_tensor[i,j,k]=0\n",
    "\n",
    "        \n",
    "\n",
    "        # Selecting the extremal weight between edges and triplets. It will be assigned to all the nodes (i.e. nodes enter at the same instant)\n",
    "    m_weight = np.max([np.ceil(np.max(np.abs(Lead_matrix))), np.ceil(np.max(np.abs(Lead_tensor)))])\n",
    "    # Adding all the nodes from the beginning with the same weights\n",
    "    for i in range(N):\n",
    "        list_simplices.append(([i], m_weight))\n",
    "\n",
    "        # Adding the edges:\n",
    "        # Also, modify the signs of the weights to correct the z-score so that: if the edge signal is fully coherent, then assign a positive sign, otherwise negative\n",
    "    for i in range(N):\n",
    "        for j in range(i,N):\n",
    "            if (not i==j):\n",
    "                weight=np.abs(Lead_matrix[i,j])\n",
    "                list_simplices.append(([i,j], weight))\n",
    "\n",
    "        # Adding the triplets\n",
    "        # Here I modify the signs of the weights, if it is fully coherent I assign a positive sign, otherwise negative\n",
    "    for i in range(N):\n",
    "        for j in range(i,N):\n",
    "            for k in range(j,N):\n",
    "                if ((not (i==j)) and (not(j==k)) and (not(i==k))):\n",
    "                    weight=np.abs(Lead_tensor[i,j,k])\n",
    "                    list_simplices.append(([i,j,k], weight))\n",
    "\n",
    "    sorted_simplices = sorted(list_simplices, key=lambda x: x[1], reverse=True)\n",
    "\n",
    "        # Remove the violations\n",
    "    list_violating_triangles = []\n",
    "    set_simplices = set()\n",
    "    counter = 0\n",
    "    triangles_count = 0\n",
    "    violation_triangles = 0\n",
    "    violation_triangles_negativeterms = 0\n",
    "\n",
    "        # Loop over the sorted simplices, and flippling the sign of all the weights (so that the points in the persistence diagram are above the diagonal)\n",
    "    for index, i in enumerate(sorted_simplices):\n",
    "        simplices, weight = i\n",
    "\n",
    "            # If the current simplex is an edge or a node, then I will immediately include it\n",
    "        if len(simplices) <= 2:\n",
    "            sc.insert(simplices, -weight)\n",
    "            set_simplices.add(tuple(simplices))\n",
    "            counter += 1\n",
    "        else:\n",
    "        # If the current simplex is a triplet, I check whether all the sub-simplices have been included.\n",
    "            flag = 0\n",
    "            n0=simplices[0]\n",
    "            n1=simplices[1]        \n",
    "            n2=simplices[2]\n",
    "            if (n0,n1) in set_simplices:\n",
    "                flag=flag+1\n",
    "            if (n1,n2) in set_simplices:\n",
    "                flag=flag+1\n",
    "            if (n0,n2) in set_simplices:\n",
    "                flag=flag+1\n",
    "\n",
    "                # If all the sub-simplices already belong to the set, then I add it in the filtration\n",
    "            if flag == 3:\n",
    "                set_simplices.add(tuple(simplices))\n",
    "                sc.insert(simplices, -weight)\n",
    "                counter += 1\n",
    "                triangles_count += 1\n",
    "            else:\n",
    "                violation_triangles += 1\n",
    "                list_violating_triangles.append((simplices, np.abs(weight), 3 - flag))\n",
    "\n",
    "# Fraction of positive triangle discarderd (a.k.a. the hyper coherence)\n",
    "    hyper_coherence = (1.0 * violation_triangles) /(triangles_count + violation_triangles)\n",
    "        \n",
    "    return(sc, list_violating_triangles,hyper_coherence)"
   ]
  },
  {
   "cell_type": "code",
   "execution_count": 58,
   "id": "54354297",
   "metadata": {},
   "outputs": [],
   "source": [
    "def hyper_coherence(mv_time_series,indifferent_value):\n",
    "    L=lead_matrix_1(mv_time_series)\n",
    "    T=lead_tensor_1(mv_time_series)\n",
    "    f=create_filtration_2(L,T,indifferent_value)\n",
    "    hyp=f[2]\n",
    "    return hyp\n",
    "\n",
    "def create_diagram_directly_2(mv_time_series, indifferent_value):\n",
    "    L=lead_matrix_1(mv_time_series)\n",
    "    T=lead_tensor_1(mv_time_series)\n",
    "    f=create_filtration_2(L,T,indifferent_value)\n",
    "    sc=f[0]    \n",
    "    dgm=sc.persistence()\n",
    "    return dgm"
   ]
  },
  {
   "cell_type": "code",
   "execution_count": 59,
   "id": "63a0684f",
   "metadata": {},
   "outputs": [],
   "source": [
    "data_PS=generate_couple_map(20000,100,0.4, 1, 1.71, order=2)\n",
    "ts_PS=np.zeros((201,100))\n",
    "for j in range(100):\n",
    "    ts_PS[:,j]=data_PS[j][10000::50]\n",
    "    \n",
    "    \n",
    "data_CBMD=generate_couple_map(20000,100,0.1, 1, 1.85, order=2)\n",
    "ts_CBMD=np.zeros((201,100))\n",
    "for j in range(100):\n",
    "    ts_CBMD[:,j]=data_CBMD[j][10000::50]\n",
    "    \n",
    "data_FDC=generate_couple_map(20000,100,0.3, 1, 2.00, order=2)\n",
    "ts_FDC=np.zeros((201,100))\n",
    "for j in range(100):\n",
    "    ts_FDC[:,j]=data_FDC[j][10000::50]\n",
    "    \n",
    "data_STI=generate_couple_map(20000,100,0.6, 1, 1.75, order=2)\n",
    "ts_STI=np.zeros((201,100))\n",
    "for j in range(100):\n",
    "    ts_STI[:,j]=data_STI[j][10000::50]\n",
    "    \n",
    "    \n",
    "data_DT=generate_couple_map(20000,100,0.1, 1, 1.895, order=2)\n",
    "ts_DT=np.zeros((201,100))\n",
    "for j in range(100):\n",
    "    ts_DT[:,j]=data_DT[j][10000::50]"
   ]
  },
  {
   "cell_type": "code",
   "execution_count": 60,
   "id": "65cc2a0a",
   "metadata": {},
   "outputs": [
    {
     "data": {
      "text/plain": [
       "<matplotlib.colorbar.Colorbar at 0x28b17575310>"
      ]
     },
     "execution_count": 60,
     "metadata": {},
     "output_type": "execute_result"
    },
    {
     "data": {
      "image/png": "[encoded data removed]",
      "text/plain": [
       "<Figure size 720x504 with 2 Axes>"
      ]
     },
     "metadata": {
      "needs_background": "light"
     },
     "output_type": "display_data"
    }
   ],
   "source": [
    "# PS\n",
    "L_PS=lead_matrix_1(ts_PS)\n",
    "plt.figure(figsize=(10,7))\n",
    "plt.imshow(L_PS, alpha=0.9, cmap=\"Blues\")\n",
    "plt.colorbar()"
   ]
  },
  {
   "cell_type": "code",
   "execution_count": 61,
   "id": "0fd524c1",
   "metadata": {},
   "outputs": [
    {
     "data": {
      "application/vnd.plotly.v1+json": {
       "config": {
        "plotlyServerURL": "https://plot.ly"
       },
       "data": [
        {
         "hoverinfo": "none",
         "line": {
          "color": "black",
          "dash": "dash",
          "width": 1
         },
         "mode": "lines",
         "showlegend": false,
         "type": "scatter",
         "x": [
          -0.012829850912094116,
          0.6543223965167999
         ],
         "y": [
          -0.012829850912094116,
          0.6543223965167999
         ]
        },
        {
         "hoverinfo": "text",
         "hovertext": [
          "(0.0, 0.038302965462207794)",
          "(0.0, 0.06628429144620895)",
          "(0.0, 0.27637985348701477)",
          "(0.0, 0.284553200006485)",
          "(0.0, 0.2945980131626129)",
          "(0.0, 0.32039135694503784)",
          "(0.0, 0.3235115110874176)",
          "(0.0, 0.3474113941192627)",
          "(0.0, 0.3514939248561859)",
          "(0.0, 0.3591235876083374)",
          "(0.0, 0.3768290579319)",
          "(0.0, 0.3833385705947876)",
          "(0.0, 0.42137858271598816)",
          "(0.0, 0.42453673481941223)",
          "(0.0, 0.43212273716926575)",
          "(0.0, 0.4326341450214386)",
          "(0.0, 0.43328428268432617)",
          "(0.0, 0.44387519359588623)",
          "(0.0, 0.45571988821029663)",
          "(0.0, 0.45601701736450195)",
          "(0.0, 0.4610818028450012)",
          "(0.0, 0.4633594751358032)",
          "(0.0, 0.47760361433029175)",
          "(0.0, 0.47839224338531494)",
          "(0.0, 0.4841601848602295)",
          "(0.0, 0.48540765047073364)",
          "(0.0, 0.4984290301799774)",
          "(0.0, 0.502431333065033)",
          "(0.0, 0.5033897757530212)",
          "(0.0, 0.5118251442909241)",
          "(0.0, 0.5151327848434448)",
          "(0.0, 0.5215293765068054)",
          "(0.0, 0.521615743637085)",
          "(0.0, 0.5243049263954163)",
          "(0.0, 0.5248590707778931)",
          "(0.0, 0.5322452187538147)",
          "(0.0, 0.5386002659797668)",
          "(0.0, 0.5412416458129883)",
          "(0.0, 0.5414244532585144)",
          "(0.0, 0.5429624915122986)",
          "(0.0, 0.5439316034317017)",
          "(0.0, 0.5463413000106812)",
          "(0.0, 0.5470069646835327)",
          "(0.0, 0.5492613911628723)",
          "(0.0, 0.551579475402832)",
          "(0.0, 0.5530051589012146)",
          "(0.0, 0.5540026426315308)",
          "(0.0, 0.5557227730751038)",
          "(0.0, 0.5566239953041077)",
          "(0.0, 0.5572868585586548)",
          "(0.0, 0.55946284532547)",
          "(0.0, 0.5613120794296265)",
          "(0.0, 0.5624138116836548)",
          "(0.0, 0.5650534629821777)",
          "(0.0, 0.5678005814552307)",
          "(0.0, 0.5699054002761841)",
          "(0.0, 0.5701664090156555)",
          "(0.0, 0.5755302309989929)",
          "(0.0, 0.5771118402481079)",
          "(0.0, 0.5780754089355469)",
          "(0.0, 0.5809337496757507)",
          "(0.0, 0.5820952653884888)",
          "(0.0, 0.583052933216095)",
          "(0.0, 0.5838422775268555)",
          "(0.0, 0.585134744644165)",
          "(0.0, 0.5873724818229675)",
          "(0.0, 0.590776264667511)",
          "(0.0, 0.5924860239028931)",
          "(0.0, 0.5929054021835327)",
          "(0.0, 0.5983196496963501)",
          "(0.0, 0.5986383557319641)",
          "(0.0, 0.5990740656852722)",
          "(0.0, 0.6015267968177795)",
          "(0.0, 0.6026259660720825)",
          "(0.0, 0.6075742244720459)",
          "(0.0, 0.6079078316688538)",
          "(0.0, 0.6089229583740234)",
          "(0.0, 0.6099359393119812)",
          "(0.0, 0.6099406480789185)",
          "(0.0, 0.6111239194869995)",
          "(0.0, 0.6118680834770203)",
          "(0.0, 0.6125032305717468)",
          "(0.0, 0.6145032048225403)",
          "(0.0, 0.6146772503852844)",
          "(0.0, 0.6157017350196838)",
          "(0.0, 0.6186485290527344)",
          "(0.0, 0.619921863079071)",
          "(0.0, 0.62298983335495)",
          "(0.0, 0.6230963468551636)",
          "(0.0, 0.625914454460144)",
          "(0.0, 0.6262064576148987)",
          "(0.0, 0.6300272941589355)",
          "(0.0, 0.6310506463050842)",
          "(0.0, 0.6323739290237427)",
          "(0.0, 0.6345239877700806)",
          "(0.0, 0.6378179788589478)",
          "(0.0, 0.6406625509262085)",
          "(0.0, 0.6414925456047058)"
         ],
         "mode": "markers",
         "name": "H0",
         "type": "scatter",
         "x": [
          0,
          0,
          0,
          0,
          0,
          0,
          0,
          0,
          0,
          0,
          0,
          0,
          0,
          0,
          0,
          0,
          0,
          0,
          0,
          0,
          0,
          0,
          0,
          0,
          0,
          0,
          0,
          0,
          0,
          0,
          0,
          0,
          0,
          0,
          0,
          0,
          0,
          0,
          0,
          0,
          0,
          0,
          0,
          0,
          0,
          0,
          0,
          0,
          0,
          0,
          0,
          0,
          0,
          0,
          0,
          0,
          0,
          0,
          0,
          0,
          0,
          0,
          0,
          0,
          0,
          0,
          0,
          0,
          0,
          0,
          0,
          0,
          0,
          0,
          0,
          0,
          0,
          0,
          0,
          0,
          0,
          0,
          0,
          0,
          0,
          0,
          0,
          0,
          0,
          0,
          0,
          0,
          0,
          0,
          0,
          0,
          0,
          0
         ],
         "y": [
          0.038302965462207794,
          0.06628429144620895,
          0.27637985348701477,
          0.284553200006485,
          0.2945980131626129,
          0.32039135694503784,
          0.3235115110874176,
          0.3474113941192627,
          0.3514939248561859,
          0.3591235876083374,
          0.3768290579319,
          0.3833385705947876,
          0.42137858271598816,
          0.42453673481941223,
          0.43212273716926575,
          0.4326341450214386,
          0.43328428268432617,
          0.44387519359588623,
          0.45571988821029663,
          0.45601701736450195,
          0.4610818028450012,
          0.4633594751358032,
          0.47760361433029175,
          0.47839224338531494,
          0.4841601848602295,
          0.48540765047073364,
          0.4984290301799774,
          0.502431333065033,
          0.5033897757530212,
          0.5118251442909241,
          0.5151327848434448,
          0.5215293765068054,
          0.521615743637085,
          0.5243049263954163,
          0.5248590707778931,
          0.5322452187538147,
          0.5386002659797668,
          0.5412416458129883,
          0.5414244532585144,
          0.5429624915122986,
          0.5439316034317017,
          0.5463413000106812,
          0.5470069646835327,
          0.5492613911628723,
          0.551579475402832,
          0.5530051589012146,
          0.5540026426315308,
          0.5557227730751038,
          0.5566239953041077,
          0.5572868585586548,
          0.55946284532547,
          0.5613120794296265,
          0.5624138116836548,
          0.5650534629821777,
          0.5678005814552307,
          0.5699054002761841,
          0.5701664090156555,
          0.5755302309989929,
          0.5771118402481079,
          0.5780754089355469,
          0.5809337496757507,
          0.5820952653884888,
          0.583052933216095,
          0.5838422775268555,
          0.585134744644165,
          0.5873724818229675,
          0.590776264667511,
          0.5924860239028931,
          0.5929054021835327,
          0.5983196496963501,
          0.5986383557319641,
          0.5990740656852722,
          0.6015267968177795,
          0.6026259660720825,
          0.6075742244720459,
          0.6079078316688538,
          0.6089229583740234,
          0.6099359393119812,
          0.6099406480789185,
          0.6111239194869995,
          0.6118680834770203,
          0.6125032305717468,
          0.6145032048225403,
          0.6146772503852844,
          0.6157017350196838,
          0.6186485290527344,
          0.619921863079071,
          0.62298983335495,
          0.6230963468551636,
          0.625914454460144,
          0.6262064576148987,
          0.6300272941589355,
          0.6310506463050842,
          0.6323739290237427,
          0.6345239877700806,
          0.6378179788589478,
          0.6406625509262085,
          0.6414925456047058
         ]
        },
        {
         "hoverinfo": "text",
         "hovertext": [
          "(0.6389815807342529, 0.6390298008918762)",
          "(0.6389495730400085, 0.6390464305877686)",
          "(0.6386427879333496, 0.6390464305877686)",
          "(0.638278067111969, 0.6390464305877686)",
          "(0.6378170251846313, 0.6390140652656555)",
          "(0.6375096440315247, 0.6407182216644287)",
          "(0.6358718872070312, 0.6378217935562134)",
          "(0.635581910610199, 0.6378217935562134)",
          "(0.6349906921386719, 0.6378217935562134)",
          "(0.6343371272087097, 0.6379185914993286)",
          "(0.6340176463127136, 0.6379185914993286)",
          "(0.6335917711257935, 0.6379185914993286)",
          "(0.6329078078269958, 0.6370729804039001)",
          "(0.6324031352996826, 0.6333381533622742)",
          "(0.6322370767593384, 0.6347513794898987)",
          "(0.6320742964744568, 0.6334111094474792)",
          "(0.6314378380775452, 0.6333381533622742)",
          "(0.6309385895729065, 0.6347513794898987)",
          "(0.6307934522628784, 0.6390573978424072)",
          "(0.6305648684501648, 0.6353678107261658)",
          "(0.6303619146347046, 0.6334111094474792)",
          "(0.630254328250885, 0.6394107341766357)",
          "(0.6298069357872009, 0.6320660710334778)",
          "(0.629501461982727, 0.6390140652656555)",
          "(0.6289365887641907, 0.6390140652656555)",
          "(0.628825306892395, 0.6309441328048706)",
          "(0.6287034153938293, 0.6342583298683167)",
          "(0.6285828948020935, 0.6320660710334778)",
          "(0.6284032464027405, 0.6309441328048706)",
          "(0.6282774209976196, 0.6290253400802612)",
          "(0.6282504796981812, 0.6283351182937622)",
          "(0.6280744075775146, 0.6335822939872742)",
          "(0.6279727816581726, 0.6320660710334778)",
          "(0.6278070211410522, 0.6290253400802612)",
          "(0.6276928782463074, 0.6347513794898987)",
          "(0.6276262998580933, 0.6335822939872742)",
          "(0.6274583339691162, 0.6288725733757019)",
          "(0.6273612380027771, 0.6335822939872742)",
          "(0.6265199780464172, 0.6299641132354736)",
          "(0.6264558434486389, 0.6320660710334778)",
          "(0.6262327432632446, 0.6288011074066162)",
          "(0.6251327395439148, 0.6310398578643799)",
          "(0.6238821148872375, 0.6310398578643799)",
          "(0.6231454014778137, 0.6242594122886658)",
          "(0.6229912638664246, 0.6302458643913269)",
          "(0.6224098205566406, 0.6302458643913269)",
          "(0.6222856640815735, 0.6241057515144348)",
          "(0.6221969127655029, 0.6273967027664185)",
          "(0.6221560835838318, 0.6271695494651794)",
          "(0.6217730641365051, 0.6310398578643799)",
          "(0.621767520904541, 0.6217718720436096)",
          "(0.621525764465332, 0.6271695494651794)",
          "(0.6213768720626831, 0.6289575099945068)",
          "(0.6207489371299744, 0.6285606622695923)",
          "(0.6206498742103577, 0.6285606622695923)",
          "(0.6203290224075317, 0.6310398578643799)",
          "(0.6202552914619446, 0.6241057515144348)",
          "(0.6201431751251221, 0.6206645369529724)",
          "(0.6199110746383667, 0.6271695494651794)",
          "(0.6198272109031677, 0.6289575099945068)",
          "(0.6183546185493469, 0.6271695494651794)",
          "(0.617891252040863, 0.6283351182937622)",
          "(0.6177759766578674, 0.6206645369529724)",
          "(0.6177569627761841, 0.6289575099945068)",
          "(0.6177546381950378, 0.6338626742362976)",
          "(0.6172650456428528, 0.6221580505371094)",
          "(0.6172458529472351, 0.6338626742362976)",
          "(0.6169525384902954, 0.6184836030006409)",
          "(0.616850733757019, 0.6242421865463257)",
          "(0.6167346835136414, 0.6168931722640991)",
          "(0.61566162109375, 0.6338626742362976)",
          "(0.6156030893325806, 0.6289575099945068)",
          "(0.6152487993240356, 0.6173903942108154)",
          "(0.615201473236084, 0.6204684376716614)",
          "(0.6140947341918945, 0.6257643699645996)",
          "(0.6138361692428589, 0.6257643699645996)",
          "(0.6138200759887695, 0.6242421865463257)",
          "(0.6137275099754333, 0.6149395108222961)",
          "(0.6124083399772644, 0.6333381533622742)",
          "(0.6120609641075134, 0.6310167908668518)",
          "(0.6117901802062988, 0.6258189082145691)",
          "(0.6105192303657532, 0.6155462265014648)",
          "(0.6101043224334717, 0.6258189082145691)",
          "(0.6096790432929993, 0.6178971529006958)",
          "(0.6092924475669861, 0.6238684058189392)",
          "(0.6092686057090759, 0.6093713641166687)",
          "(0.6092174053192139, 0.6178971529006958)",
          "(0.6089712977409363, 0.6189092993736267)",
          "(0.6085276007652283, 0.6238684058189392)",
          "(0.6079249382019043, 0.6238684058189392)",
          "(0.606364369392395, 0.6093713641166687)",
          "(0.606345534324646, 0.6258189082145691)",
          "(0.6060723066329956, 0.6184836030006409)",
          "(0.6058747172355652, 0.6238684058189392)",
          "(0.6054679155349731, 0.6160140633583069)",
          "(0.6043426394462585, 0.6238684058189392)",
          "(0.604314386844635, 0.6258189082145691)",
          "(0.6042799353599548, 0.6283351182937622)",
          "(0.6042015552520752, 0.6217066645622253)",
          "(0.6037207841873169, 0.6074036359786987)",
          "(0.603630006313324, 0.6294388771057129)",
          "(0.603434145450592, 0.6058711409568787)",
          "(0.6028770804405212, 0.6294388771057129)",
          "(0.6027984619140625, 0.6217066645622253)",
          "(0.6027936339378357, 0.6160140633583069)",
          "(0.6023197174072266, 0.6307251453399658)",
          "(0.602249801158905, 0.6217066645622253)",
          "(0.6022061705589294, 0.6160140633583069)",
          "(0.6010891199111938, 0.6284798979759216)",
          "(0.6002714037895203, 0.6284798979759216)",
          "(0.6002138257026672, 0.6283351182937622)",
          "(0.5995720624923706, 0.6347513794898987)",
          "(0.599271297454834, 0.6160140633583069)",
          "(0.5986477136611938, 0.6095045208930969)",
          "(0.5984456539154053, 0.6268866062164307)",
          "(0.5980748534202576, 0.6268866062164307)",
          "(0.5980275273323059, 0.6284798979759216)",
          "(0.5979031324386597, 0.6018524169921875)",
          "(0.5978246331214905, 0.6217066645622253)",
          "(0.5972166657447815, 0.6268866062164307)",
          "(0.5962193012237549, 0.6307251453399658)",
          "(0.5959329009056091, 0.6095045208930969)",
          "(0.5952432751655579, 0.6007810235023499)",
          "(0.5942735075950623, 0.6320660710334778)",
          "(0.5940232872962952, 0.5969358682632446)",
          "(0.5938996076583862, 0.6284798979759216)",
          "(0.5937069654464722, 0.6091490983963013)",
          "(0.5935704112052917, 0.6004708409309387)",
          "(0.5933312773704529, 0.5997050404548645)",
          "(0.5933276414871216, 0.5986815094947815)",
          "(0.5922324061393738, 0.5969358682632446)",
          "(0.5909824967384338, 0.6092162132263184)",
          "(0.5908902883529663, 0.6004708409309387)",
          "(0.5901584625244141, 0.5937246084213257)",
          "(0.5900636911392212, 0.6092162132263184)",
          "(0.5897912383079529, 0.6041339039802551)",
          "(0.5893998742103577, 0.6008315682411194)",
          "(0.5891090631484985, 0.6219143867492676)",
          "(0.5890395641326904, 0.6219143867492676)",
          "(0.588479220867157, 0.5911844968795776)",
          "(0.5883384346961975, 0.616448163986206)",
          "(0.5880330801010132, 0.6219143867492676)",
          "(0.5878610610961914, 0.5969699025154114)",
          "(0.5864621996879578, 0.6307251453399658)",
          "(0.5858869552612305, 0.6211835741996765)",
          "(0.5858796238899231, 0.59651780128479)",
          "(0.5850629806518555, 0.6211835741996765)",
          "(0.5849030613899231, 0.5911844968795776)",
          "(0.5848246812820435, 0.6211835741996765)",
          "(0.584673285484314, 0.6310398578643799)",
          "(0.5845721364021301, 0.5887047052383423)",
          "(0.5841667652130127, 0.5969358682632446)",
          "(0.5840722322463989, 0.5955970883369446)",
          "(0.584061324596405, 0.5972157120704651)",
          "(0.5838979482650757, 0.5876550078392029)",
          "(0.5833010077476501, 0.6206645369529724)",
          "(0.5832830667495728, 0.5906198620796204)",
          "(0.5827131271362305, 0.6123927235603333)",
          "(0.5823546648025513, 0.5955970883369446)",
          "(0.5823484659194946, 0.5955970883369446)",
          "(0.5821908116340637, 0.6211835741996765)",
          "(0.5817277431488037, 0.6123927235603333)",
          "(0.5811594724655151, 0.5977237224578857)",
          "(0.5811392068862915, 0.6206645369529724)",
          "(0.5809555053710938, 0.6127733588218689)",
          "(0.5807040333747864, 0.6123927235603333)",
          "(0.5806019306182861, 0.6127733588218689)",
          "(0.5805507302284241, 0.6289575099945068)",
          "(0.5798393487930298, 0.5822597742080688)",
          "(0.5798391103744507, 0.5906198620796204)",
          "(0.5797486305236816, 0.5830216407775879)",
          "(0.5795000791549683, 0.6127733588218689)",
          "(0.5791362524032593, 0.5972157120704651)",
          "(0.5785835981369019, 0.6289575099945068)",
          "(0.5776877999305725, 0.6067342758178711)",
          "(0.5773605108261108, 0.6211835741996765)",
          "(0.5773098468780518, 0.5822597742080688)",
          "(0.5760809183120728, 0.6098273992538452)",
          "(0.574878454208374, 0.6098273992538452)",
          "(0.5746989846229553, 0.6074036359786987)",
          "(0.5739451050758362, 0.5906198620796204)",
          "(0.5737449526786804, 0.580625593662262)",
          "(0.5734753608703613, 0.6098273992538452)",
          "(0.5723050236701965, 0.583124577999115)",
          "(0.572073757648468, 0.6106864213943481)",
          "(0.5711056590080261, 0.583124577999115)",
          "(0.571015477180481, 0.5754944682121277)",
          "(0.5706808567047119, 0.5718692541122437)",
          "(0.5703876614570618, 0.5718692541122437)",
          "(0.5700519680976868, 0.5875340700149536)",
          "(0.5696085095405579, 0.583124577999115)",
          "(0.5688896179199219, 0.5875340700149536)",
          "(0.5687998533248901, 0.5745366215705872)",
          "(0.5685205459594727, 0.583124577999115)",
          "(0.5676817893981934, 0.5745366215705872)",
          "(0.5673742294311523, 0.5875340700149536)",
          "(0.5661627054214478, 0.5875340700149536)",
          "(0.5660918951034546, 0.5830920934677124)",
          "(0.5653302669525146, 0.5852727890014648)",
          "(0.5646761059761047, 0.5810174345970154)",
          "(0.5645913481712341, 0.570292055606842)",
          "(0.563873291015625, 0.5788734555244446)",
          "(0.5637568831443787, 0.5830920934677124)",
          "(0.5636991262435913, 0.5871542096138)",
          "(0.5625252723693848, 0.6074036359786987)",
          "(0.5622501373291016, 0.598408579826355)",
          "(0.5622380375862122, 0.5874398946762085)",
          "(0.56173175573349, 0.5699364542961121)",
          "(0.5614451169967651, 0.5661943554878235)",
          "(0.561351478099823, 0.6049279570579529)",
          "(0.5600548386573792, 0.5601762533187866)",
          "(0.5599261522293091, 0.570292055606842)",
          "(0.5592871904373169, 0.6098273992538452)",
          "(0.5591060519218445, 0.5976280570030212)",
          "(0.5587097406387329, 0.570292055606842)",
          "(0.558499813079834, 0.5896775722503662)",
          "(0.5584480166435242, 0.5699364542961121)",
          "(0.55765300989151, 0.5869538187980652)",
          "(0.5567914247512817, 0.5781665444374084)",
          "(0.5563915967941284, 0.5584422945976257)",
          "(0.5561885833740234, 0.5653902888298035)",
          "(0.5560513138771057, 0.5952799320220947)",
          "(0.5549008846282959, 0.5560561418533325)",
          "(0.5546301603317261, 0.570292055606842)",
          "(0.5543729066848755, 0.5545918345451355)",
          "(0.5535845756530762, 0.5560561418533325)",
          "(0.5524291396141052, 0.5976280570030212)",
          "(0.5524253845214844, 0.570292055606842)",
          "(0.5524197816848755, 0.5545918345451355)",
          "(0.5523181557655334, 0.562524139881134)",
          "(0.5514117479324341, 0.598584771156311)",
          "(0.5513086915016174, 0.5560561418533325)",
          "(0.5511029362678528, 0.5976280570030212)",
          "(0.551073431968689, 0.5653902888298035)",
          "(0.5510207414627075, 0.5524219870567322)",
          "(0.5498006343841553, 0.5977495908737183)",
          "(0.5497066378593445, 0.5653902888298035)",
          "(0.5487572550773621, 0.5509915947914124)",
          "(0.548701822757721, 0.5560561418533325)",
          "(0.5474421977996826, 0.5484265089035034)",
          "(0.5467491149902344, 0.5653902888298035)",
          "(0.5464600324630737, 0.59693843126297)",
          "(0.5462521910667419, 0.5976280570030212)",
          "(0.5459134578704834, 0.5584422945976257)",
          "(0.545357346534729, 0.598584771156311)",
          "(0.5444927215576172, 0.5484265089035034)",
          "(0.544191300868988, 0.5653902888298035)",
          "(0.5441216826438904, 0.5517565608024597)",
          "(0.5438938140869141, 0.598584771156311)",
          "(0.543659508228302, 0.5438876748085022)",
          "(0.5432313680648804, 0.5509915947914124)",
          "(0.5431255102157593, 0.5472410917282104)",
          "(0.5417212247848511, 0.59693843126297)",
          "(0.54169100522995, 0.5472410917282104)",
          "(0.5416624546051025, 0.5509915947914124)",
          "(0.5414827466011047, 0.5484265089035034)",
          "(0.5396215915679932, 0.562524139881134)",
          "(0.5389775037765503, 0.598584771156311)",
          "(0.5382922291755676, 0.5496492981910706)",
          "(0.537028431892395, 0.5599876642227173)",
          "(0.5357747673988342, 0.5893768668174744)",
          "(0.5342903137207031, 0.5516096949577332)",
          "(0.5308075547218323, 0.5584056377410889)",
          "(0.5297341346740723, 0.5861539840698242)",
          "(0.5245912075042725, 0.5787854790687561)",
          "(0.5228785276412964, 0.5926609039306641)",
          "(0.5218750238418579, 0.5771795511245728)",
          "(0.5202656984329224, 0.5787854790687561)",
          "(0.5192787051200867, 0.5345260500907898)",
          "(0.5183771848678589, 0.5787854790687561)",
          "(0.5130941271781921, 0.5345260500907898)",
          "(0.5117522478103638, 0.5906198620796204)",
          "(0.5104849338531494, 0.5701723694801331)",
          "(0.5095219016075134, 0.5906198620796204)",
          "(0.5020957589149475, 0.5148780345916748)",
          "(0.4976937770843506, 0.4998161792755127)",
          "(0.4965333044528961, 0.5923548340797424)",
          "(0.4908131957054138, 0.5869616866111755)",
          "(0.49053460359573364, 0.5808281302452087)",
          "(0.46736791729927063, 0.6009337306022644)",
          "(0.4628283679485321, 0.46326789259910583)",
          "(0.4607709050178528, 0.4840792417526245)",
          "(0.45630496740341187, 0.5454092621803284)",
          "(0.4555481970310211, 0.4629669785499573)",
          "(0.4543953239917755, 0.47233977913856506)",
          "(0.4425047039985657, 0.5022290945053101)",
          "(0.4361790120601654, 0.5507552623748779)",
          "(0.4094528257846832, 0.5584422945976257)",
          "(0.39180395007133484, 0.4650106728076935)",
          "(0.369165301322937, 0.4534284174442291)",
          "(0.3633347749710083, 0.4288780689239502)",
          "(0.3477703034877777, 0.5130709409713745)",
          "(0.3376390039920807, 0.5307298302650452)",
          "(0.33287686109542847, 0.5532803535461426)",
          "(0.29362961649894714, 0.514177143573761)",
          "(0.10029006004333496, 0.4534284174442291)"
         ],
         "mode": "markers",
         "name": "H1",
         "type": "scatter",
         "x": [
          0.6389815807342529,
          0.6389495730400085,
          0.6386427879333496,
          0.638278067111969,
          0.6378170251846313,
          0.6375096440315247,
          0.6358718872070312,
          0.635581910610199,
          0.6349906921386719,
          0.6343371272087097,
          0.6340176463127136,
          0.6335917711257935,
          0.6329078078269958,
          0.6324031352996826,
          0.6322370767593384,
          0.6320742964744568,
          0.6314378380775452,
          0.6309385895729065,
          0.6307934522628784,
          0.6305648684501648,
          0.6303619146347046,
          0.630254328250885,
          0.6298069357872009,
          0.629501461982727,
          0.6289365887641907,
          0.628825306892395,
          0.6287034153938293,
          0.6285828948020935,
          0.6284032464027405,
          0.6282774209976196,
          0.6282504796981812,
          0.6280744075775146,
          0.6279727816581726,
          0.6278070211410522,
          0.6276928782463074,
          0.6276262998580933,
          0.6274583339691162,
          0.6273612380027771,
          0.6265199780464172,
          0.6264558434486389,
          0.6262327432632446,
          0.6251327395439148,
          0.6238821148872375,
          0.6231454014778137,
          0.6229912638664246,
          0.6224098205566406,
          0.6222856640815735,
          0.6221969127655029,
          0.6221560835838318,
          0.6217730641365051,
          0.621767520904541,
          0.621525764465332,
          0.6213768720626831,
          0.6207489371299744,
          0.6206498742103577,
          0.6203290224075317,
          0.6202552914619446,
          0.6201431751251221,
          0.6199110746383667,
          0.6198272109031677,
          0.6183546185493469,
          0.617891252040863,
          0.6177759766578674,
          0.6177569627761841,
          0.6177546381950378,
          0.6172650456428528,
          0.6172458529472351,
          0.6169525384902954,
          0.616850733757019,
          0.6167346835136414,
          0.61566162109375,
          0.6156030893325806,
          0.6152487993240356,
          0.615201473236084,
          0.6140947341918945,
          0.6138361692428589,
          0.6138200759887695,
          0.6137275099754333,
          0.6124083399772644,
          0.6120609641075134,
          0.6117901802062988,
          0.6105192303657532,
          0.6101043224334717,
          0.6096790432929993,
          0.6092924475669861,
          0.6092686057090759,
          0.6092174053192139,
          0.6089712977409363,
          0.6085276007652283,
          0.6079249382019043,
          0.606364369392395,
          0.606345534324646,
          0.6060723066329956,
          0.6058747172355652,
          0.6054679155349731,
          0.6043426394462585,
          0.604314386844635,
          0.6042799353599548,
          0.6042015552520752,
          0.6037207841873169,
          0.603630006313324,
          0.603434145450592,
          0.6028770804405212,
          0.6027984619140625,
          0.6027936339378357,
          0.6023197174072266,
          0.602249801158905,
          0.6022061705589294,
          0.6010891199111938,
          0.6002714037895203,
          0.6002138257026672,
          0.5995720624923706,
          0.599271297454834,
          0.5986477136611938,
          0.5984456539154053,
          0.5980748534202576,
          0.5980275273323059,
          0.5979031324386597,
          0.5978246331214905,
          0.5972166657447815,
          0.5962193012237549,
          0.5959329009056091,
          0.5952432751655579,
          0.5942735075950623,
          0.5940232872962952,
          0.5938996076583862,
          0.5937069654464722,
          0.5935704112052917,
          0.5933312773704529,
          0.5933276414871216,
          0.5922324061393738,
          0.5909824967384338,
          0.5908902883529663,
          0.5901584625244141,
          0.5900636911392212,
          0.5897912383079529,
          0.5893998742103577,
          0.5891090631484985,
          0.5890395641326904,
          0.588479220867157,
          0.5883384346961975,
          0.5880330801010132,
          0.5878610610961914,
          0.5864621996879578,
          0.5858869552612305,
          0.5858796238899231,
          0.5850629806518555,
          0.5849030613899231,
          0.5848246812820435,
          0.584673285484314,
          0.5845721364021301,
          0.5841667652130127,
          0.5840722322463989,
          0.584061324596405,
          0.5838979482650757,
          0.5833010077476501,
          0.5832830667495728,
          0.5827131271362305,
          0.5823546648025513,
          0.5823484659194946,
          0.5821908116340637,
          0.5817277431488037,
          0.5811594724655151,
          0.5811392068862915,
          0.5809555053710938,
          0.5807040333747864,
          0.5806019306182861,
          0.5805507302284241,
          0.5798393487930298,
          0.5798391103744507,
          0.5797486305236816,
          0.5795000791549683,
          0.5791362524032593,
          0.5785835981369019,
          0.5776877999305725,
          0.5773605108261108,
          0.5773098468780518,
          0.5760809183120728,
          0.574878454208374,
          0.5746989846229553,
          0.5739451050758362,
          0.5737449526786804,
          0.5734753608703613,
          0.5723050236701965,
          0.572073757648468,
          0.5711056590080261,
          0.571015477180481,
          0.5706808567047119,
          0.5703876614570618,
          0.5700519680976868,
          0.5696085095405579,
          0.5688896179199219,
          0.5687998533248901,
          0.5685205459594727,
          0.5676817893981934,
          0.5673742294311523,
          0.5661627054214478,
          0.5660918951034546,
          0.5653302669525146,
          0.5646761059761047,
          0.5645913481712341,
          0.563873291015625,
          0.5637568831443787,
          0.5636991262435913,
          0.5625252723693848,
          0.5622501373291016,
          0.5622380375862122,
          0.56173175573349,
          0.5614451169967651,
          0.561351478099823,
          0.5600548386573792,
          0.5599261522293091,
          0.5592871904373169,
          0.5591060519218445,
          0.5587097406387329,
          0.558499813079834,
          0.5584480166435242,
          0.55765300989151,
          0.5567914247512817,
          0.5563915967941284,
          0.5561885833740234,
          0.5560513138771057,
          0.5549008846282959,
          0.5546301603317261,
          0.5543729066848755,
          0.5535845756530762,
          0.5524291396141052,
          0.5524253845214844,
          0.5524197816848755,
          0.5523181557655334,
          0.5514117479324341,
          0.5513086915016174,
          0.5511029362678528,
          0.551073431968689,
          0.5510207414627075,
          0.5498006343841553,
          0.5497066378593445,
          0.5487572550773621,
          0.548701822757721,
          0.5474421977996826,
          0.5467491149902344,
          0.5464600324630737,
          0.5462521910667419,
          0.5459134578704834,
          0.545357346534729,
          0.5444927215576172,
          0.544191300868988,
          0.5441216826438904,
          0.5438938140869141,
          0.543659508228302,
          0.5432313680648804,
          0.5431255102157593,
          0.5417212247848511,
          0.54169100522995,
          0.5416624546051025,
          0.5414827466011047,
          0.5396215915679932,
          0.5389775037765503,
          0.5382922291755676,
          0.537028431892395,
          0.5357747673988342,
          0.5342903137207031,
          0.5308075547218323,
          0.5297341346740723,
          0.5245912075042725,
          0.5228785276412964,
          0.5218750238418579,
          0.5202656984329224,
          0.5192787051200867,
          0.5183771848678589,
          0.5130941271781921,
          0.5117522478103638,
          0.5104849338531494,
          0.5095219016075134,
          0.5020957589149475,
          0.4976937770843506,
          0.4965333044528961,
          0.4908131957054138,
          0.49053460359573364,
          0.46736791729927063,
          0.4628283679485321,
          0.4607709050178528,
          0.45630496740341187,
          0.4555481970310211,
          0.4543953239917755,
          0.4425047039985657,
          0.4361790120601654,
          0.4094528257846832,
          0.39180395007133484,
          0.369165301322937,
          0.3633347749710083,
          0.3477703034877777,
          0.3376390039920807,
          0.33287686109542847,
          0.29362961649894714,
          0.10029006004333496
         ],
         "y": [
          0.6390298008918762,
          0.6390464305877686,
          0.6390464305877686,
          0.6390464305877686,
          0.6390140652656555,
          0.6407182216644287,
          0.6378217935562134,
          0.6378217935562134,
          0.6378217935562134,
          0.6379185914993286,
          0.6379185914993286,
          0.6379185914993286,
          0.6370729804039001,
          0.6333381533622742,
          0.6347513794898987,
          0.6334111094474792,
          0.6333381533622742,
          0.6347513794898987,
          0.6390573978424072,
          0.6353678107261658,
          0.6334111094474792,
          0.6394107341766357,
          0.6320660710334778,
          0.6390140652656555,
          0.6390140652656555,
          0.6309441328048706,
          0.6342583298683167,
          0.6320660710334778,
          0.6309441328048706,
          0.6290253400802612,
          0.6283351182937622,
          0.6335822939872742,
          0.6320660710334778,
          0.6290253400802612,
          0.6347513794898987,
          0.6335822939872742,
          0.6288725733757019,
          0.6335822939872742,
          0.6299641132354736,
          0.6320660710334778,
          0.6288011074066162,
          0.6310398578643799,
          0.6310398578643799,
          0.6242594122886658,
          0.6302458643913269,
          0.6302458643913269,
          0.6241057515144348,
          0.6273967027664185,
          0.6271695494651794,
          0.6310398578643799,
          0.6217718720436096,
          0.6271695494651794,
          0.6289575099945068,
          0.6285606622695923,
          0.6285606622695923,
          0.6310398578643799,
          0.6241057515144348,
          0.6206645369529724,
          0.6271695494651794,
          0.6289575099945068,
          0.6271695494651794,
          0.6283351182937622,
          0.6206645369529724,
          0.6289575099945068,
          0.6338626742362976,
          0.6221580505371094,
          0.6338626742362976,
          0.6184836030006409,
          0.6242421865463257,
          0.6168931722640991,
          0.6338626742362976,
          0.6289575099945068,
          0.6173903942108154,
          0.6204684376716614,
          0.6257643699645996,
          0.6257643699645996,
          0.6242421865463257,
          0.6149395108222961,
          0.6333381533622742,
          0.6310167908668518,
          0.6258189082145691,
          0.6155462265014648,
          0.6258189082145691,
          0.6178971529006958,
          0.6238684058189392,
          0.6093713641166687,
          0.6178971529006958,
          0.6189092993736267,
          0.6238684058189392,
          0.6238684058189392,
          0.6093713641166687,
          0.6258189082145691,
          0.6184836030006409,
          0.6238684058189392,
          0.6160140633583069,
          0.6238684058189392,
          0.6258189082145691,
          0.6283351182937622,
          0.6217066645622253,
          0.6074036359786987,
          0.6294388771057129,
          0.6058711409568787,
          0.6294388771057129,
          0.6217066645622253,
          0.6160140633583069,
          0.6307251453399658,
          0.6217066645622253,
          0.6160140633583069,
          0.6284798979759216,
          0.6284798979759216,
          0.6283351182937622,
          0.6347513794898987,
          0.6160140633583069,
          0.6095045208930969,
          0.6268866062164307,
          0.6268866062164307,
          0.6284798979759216,
          0.6018524169921875,
          0.6217066645622253,
          0.6268866062164307,
          0.6307251453399658,
          0.6095045208930969,
          0.6007810235023499,
          0.6320660710334778,
          0.5969358682632446,
          0.6284798979759216,
          0.6091490983963013,
          0.6004708409309387,
          0.5997050404548645,
          0.5986815094947815,
          0.5969358682632446,
          0.6092162132263184,
          0.6004708409309387,
          0.5937246084213257,
          0.6092162132263184,
          0.6041339039802551,
          0.6008315682411194,
          0.6219143867492676,
          0.6219143867492676,
          0.5911844968795776,
          0.616448163986206,
          0.6219143867492676,
          0.5969699025154114,
          0.6307251453399658,
          0.6211835741996765,
          0.59651780128479,
          0.6211835741996765,
          0.5911844968795776,
          0.6211835741996765,
          0.6310398578643799,
          0.5887047052383423,
          0.5969358682632446,
          0.5955970883369446,
          0.5972157120704651,
          0.5876550078392029,
          0.6206645369529724,
          0.5906198620796204,
          0.6123927235603333,
          0.5955970883369446,
          0.5955970883369446,
          0.6211835741996765,
          0.6123927235603333,
          0.5977237224578857,
          0.6206645369529724,
          0.6127733588218689,
          0.6123927235603333,
          0.6127733588218689,
          0.6289575099945068,
          0.5822597742080688,
          0.5906198620796204,
          0.5830216407775879,
          0.6127733588218689,
          0.5972157120704651,
          0.6289575099945068,
          0.6067342758178711,
          0.6211835741996765,
          0.5822597742080688,
          0.6098273992538452,
          0.6098273992538452,
          0.6074036359786987,
          0.5906198620796204,
          0.580625593662262,
          0.6098273992538452,
          0.583124577999115,
          0.6106864213943481,
          0.583124577999115,
          0.5754944682121277,
          0.5718692541122437,
          0.5718692541122437,
          0.5875340700149536,
          0.583124577999115,
          0.5875340700149536,
          0.5745366215705872,
          0.583124577999115,
          0.5745366215705872,
          0.5875340700149536,
          0.5875340700149536,
          0.5830920934677124,
          0.5852727890014648,
          0.5810174345970154,
          0.570292055606842,
          0.5788734555244446,
          0.5830920934677124,
          0.5871542096138,
          0.6074036359786987,
          0.598408579826355,
          0.5874398946762085,
          0.5699364542961121,
          0.5661943554878235,
          0.6049279570579529,
          0.5601762533187866,
          0.570292055606842,
          0.6098273992538452,
          0.5976280570030212,
          0.570292055606842,
          0.5896775722503662,
          0.5699364542961121,
          0.5869538187980652,
          0.5781665444374084,
          0.5584422945976257,
          0.5653902888298035,
          0.5952799320220947,
          0.5560561418533325,
          0.570292055606842,
          0.5545918345451355,
          0.5560561418533325,
          0.5976280570030212,
          0.570292055606842,
          0.5545918345451355,
          0.562524139881134,
          0.598584771156311,
          0.5560561418533325,
          0.5976280570030212,
          0.5653902888298035,
          0.5524219870567322,
          0.5977495908737183,
          0.5653902888298035,
          0.5509915947914124,
          0.5560561418533325,
          0.5484265089035034,
          0.5653902888298035,
          0.59693843126297,
          0.5976280570030212,
          0.5584422945976257,
          0.598584771156311,
          0.5484265089035034,
          0.5653902888298035,
          0.5517565608024597,
          0.598584771156311,
          0.5438876748085022,
          0.5509915947914124,
          0.5472410917282104,
          0.59693843126297,
          0.5472410917282104,
          0.5509915947914124,
          0.5484265089035034,
          0.562524139881134,
          0.598584771156311,
          0.5496492981910706,
          0.5599876642227173,
          0.5893768668174744,
          0.5516096949577332,
          0.5584056377410889,
          0.5861539840698242,
          0.5787854790687561,
          0.5926609039306641,
          0.5771795511245728,
          0.5787854790687561,
          0.5345260500907898,
          0.5787854790687561,
          0.5345260500907898,
          0.5906198620796204,
          0.5701723694801331,
          0.5906198620796204,
          0.5148780345916748,
          0.4998161792755127,
          0.5923548340797424,
          0.5869616866111755,
          0.5808281302452087,
          0.6009337306022644,
          0.46326789259910583,
          0.4840792417526245,
          0.5454092621803284,
          0.4629669785499573,
          0.47233977913856506,
          0.5022290945053101,
          0.5507552623748779,
          0.5584422945976257,
          0.4650106728076935,
          0.4534284174442291,
          0.4288780689239502,
          0.5130709409713745,
          0.5307298302650452,
          0.5532803535461426,
          0.514177143573761,
          0.4534284174442291
         ]
        }
       ],
       "layout": {
        "height": 500,
        "plot_bgcolor": "white",
        "template": {
         "data": {
          "bar": [
           {
            "error_x": {
             "color": "#2a3f5f"
            },
            "error_y": {
             "color": "#2a3f5f"
            },
            "marker": {
             "line": {
              "color": "#E5ECF6",
              "width": 0.5
             },
             "pattern": {
              "fillmode": "overlay",
              "size": 10,
              "solidity": 0.2
             }
            },
            "type": "bar"
           }
          ],
          "barpolar": [
           {
            "marker": {
             "line": {
              "color": "#E5ECF6",
              "width": 0.5
             },
             "pattern": {
              "fillmode": "overlay",
              "size": 10,
              "solidity": 0.2
             }
            },
            "type": "barpolar"
           }
          ],
          "carpet": [
           {
            "aaxis": {
             "endlinecolor": "#2a3f5f",
             "gridcolor": "white",
             "linecolor": "white",
             "minorgridcolor": "white",
             "startlinecolor": "#2a3f5f"
            },
            "baxis": {
             "endlinecolor": "#2a3f5f",
             "gridcolor": "white",
             "linecolor": "white",
             "minorgridcolor": "white",
             "startlinecolor": "#2a3f5f"
            },
            "type": "carpet"
           }
          ],
          "choropleth": [
           {
            "colorbar": {
             "outlinewidth": 0,
             "ticks": ""
            },
            "type": "choropleth"
           }
          ],
          "contour": [
           {
            "colorbar": {
             "outlinewidth": 0,
             "ticks": ""
            },
            "colorscale": [
             [
              0,
              "#0d0887"
             ],
             [
              0.1111111111111111,
              "#46039f"
             ],
             [
              0.2222222222222222,
              "#7201a8"
             ],
             [
              0.3333333333333333,
              "#9c179e"
             ],
             [
              0.4444444444444444,
              "#bd3786"
             ],
             [
              0.5555555555555556,
              "#d8576b"
             ],
             [
              0.6666666666666666,
              "#ed7953"
             ],
             [
              0.7777777777777778,
              "#fb9f3a"
             ],
             [
              0.8888888888888888,
              "#fdca26"
             ],
             [
              1,
              "#f0f921"
             ]
            ],
            "type": "contour"
           }
          ],
          "contourcarpet": [
           {
            "colorbar": {
             "outlinewidth": 0,
             "ticks": ""
            },
            "type": "contourcarpet"
           }
          ],
          "heatmap": [
           {
            "colorbar": {
             "outlinewidth": 0,
             "ticks": ""
            },
            "colorscale": [
             [
              0,
              "#0d0887"
             ],
             [
              0.1111111111111111,
              "#46039f"
             ],
             [
              0.2222222222222222,
              "#7201a8"
             ],
             [
              0.3333333333333333,
              "#9c179e"
             ],
             [
              0.4444444444444444,
              "#bd3786"
             ],
             [
              0.5555555555555556,
              "#d8576b"
             ],
             [
              0.6666666666666666,
              "#ed7953"
             ],
             [
              0.7777777777777778,
              "#fb9f3a"
             ],
             [
              0.8888888888888888,
              "#fdca26"
             ],
             [
              1,
              "#f0f921"
             ]
            ],
            "type": "heatmap"
           }
          ],
          "heatmapgl": [
           {
            "colorbar": {
             "outlinewidth": 0,
             "ticks": ""
            },
            "colorscale": [
             [
              0,
              "#0d0887"
             ],
             [
              0.1111111111111111,
              "#46039f"
             ],
             [
              0.2222222222222222,
              "#7201a8"
             ],
             [
              0.3333333333333333,
              "#9c179e"
             ],
             [
              0.4444444444444444,
              "#bd3786"
             ],
             [
              0.5555555555555556,
              "#d8576b"
             ],
             [
              0.6666666666666666,
              "#ed7953"
             ],
             [
              0.7777777777777778,
              "#fb9f3a"
             ],
             [
              0.8888888888888888,
              "#fdca26"
             ],
             [
              1,
              "#f0f921"
             ]
            ],
            "type": "heatmapgl"
           }
          ],
          "histogram": [
           {
            "marker": {
             "pattern": {
              "fillmode": "overlay",
              "size": 10,
              "solidity": 0.2
             }
            },
            "type": "histogram"
           }
          ],
          "histogram2d": [
           {
            "colorbar": {
             "outlinewidth": 0,
             "ticks": ""
            },
            "colorscale": [
             [
              0,
              "#0d0887"
             ],
             [
              0.1111111111111111,
              "#46039f"
             ],
             [
              0.2222222222222222,
              "#7201a8"
             ],
             [
              0.3333333333333333,
              "#9c179e"
             ],
             [
              0.4444444444444444,
              "#bd3786"
             ],
             [
              0.5555555555555556,
              "#d8576b"
             ],
             [
              0.6666666666666666,
              "#ed7953"
             ],
             [
              0.7777777777777778,
              "#fb9f3a"
             ],
             [
              0.8888888888888888,
              "#fdca26"
             ],
             [
              1,
              "#f0f921"
             ]
            ],
            "type": "histogram2d"
           }
          ],
          "histogram2dcontour": [
           {
            "colorbar": {
             "outlinewidth": 0,
             "ticks": ""
            },
            "colorscale": [
             [
              0,
              "#0d0887"
             ],
             [
              0.1111111111111111,
              "#46039f"
             ],
             [
              0.2222222222222222,
              "#7201a8"
             ],
             [
              0.3333333333333333,
              "#9c179e"
             ],
             [
              0.4444444444444444,
              "#bd3786"
             ],
             [
              0.5555555555555556,
              "#d8576b"
             ],
             [
              0.6666666666666666,
              "#ed7953"
             ],
             [
              0.7777777777777778,
              "#fb9f3a"
             ],
             [
              0.8888888888888888,
              "#fdca26"
             ],
             [
              1,
              "#f0f921"
             ]
            ],
            "type": "histogram2dcontour"
           }
          ],
          "mesh3d": [
           {
            "colorbar": {
             "outlinewidth": 0,
             "ticks": ""
            },
            "type": "mesh3d"
           }
          ],
          "parcoords": [
           {
            "line": {
             "colorbar": {
              "outlinewidth": 0,
              "ticks": ""
             }
            },
            "type": "parcoords"
           }
          ],
          "pie": [
           {
            "automargin": true,
            "type": "pie"
           }
          ],
          "scatter": [
           {
            "fillpattern": {
             "fillmode": "overlay",
             "size": 10,
             "solidity": 0.2
            },
            "type": "scatter"
           }
          ],
          "scatter3d": [
           {
            "line": {
             "colorbar": {
              "outlinewidth": 0,
              "ticks": ""
             }
            },
            "marker": {
             "colorbar": {
              "outlinewidth": 0,
              "ticks": ""
             }
            },
            "type": "scatter3d"
           }
          ],
          "scattercarpet": [
           {
            "marker": {
             "colorbar": {
              "outlinewidth": 0,
              "ticks": ""
             }
            },
            "type": "scattercarpet"
           }
          ],
          "scattergeo": [
           {
            "marker": {
             "colorbar": {
              "outlinewidth": 0,
              "ticks": ""
             }
            },
            "type": "scattergeo"
           }
          ],
          "scattergl": [
           {
            "marker": {
             "colorbar": {
              "outlinewidth": 0,
              "ticks": ""
             }
            },
            "type": "scattergl"
           }
          ],
          "scattermapbox": [
           {
            "marker": {
             "colorbar": {
              "outlinewidth": 0,
              "ticks": ""
             }
            },
            "type": "scattermapbox"
           }
          ],
          "scatterpolar": [
           {
            "marker": {
             "colorbar": {
              "outlinewidth": 0,
              "ticks": ""
             }
            },
            "type": "scatterpolar"
           }
          ],
          "scatterpolargl": [
           {
            "marker": {
             "colorbar": {
              "outlinewidth": 0,
              "ticks": ""
             }
            },
            "type": "scatterpolargl"
           }
          ],
          "scatterternary": [
           {
            "marker": {
             "colorbar": {
              "outlinewidth": 0,
              "ticks": ""
             }
            },
            "type": "scatterternary"
           }
          ],
          "surface": [
           {
            "colorbar": {
             "outlinewidth": 0,
             "ticks": ""
            },
            "colorscale": [
             [
              0,
              "#0d0887"
             ],
             [
              0.1111111111111111,
              "#46039f"
             ],
             [
              0.2222222222222222,
              "#7201a8"
             ],
             [
              0.3333333333333333,
              "#9c179e"
             ],
             [
              0.4444444444444444,
              "#bd3786"
             ],
             [
              0.5555555555555556,
              "#d8576b"
             ],
             [
              0.6666666666666666,
              "#ed7953"
             ],
             [
              0.7777777777777778,
              "#fb9f3a"
             ],
             [
              0.8888888888888888,
              "#fdca26"
             ],
             [
              1,
              "#f0f921"
             ]
            ],
            "type": "surface"
           }
          ],
          "table": [
           {
            "cells": {
             "fill": {
              "color": "#EBF0F8"
             },
             "line": {
              "color": "white"
             }
            },
            "header": {
             "fill": {
              "color": "#C8D4E3"
             },
             "line": {
              "color": "white"
             }
            },
            "type": "table"
           }
          ]
         },
         "layout": {
          "annotationdefaults": {
           "arrowcolor": "#2a3f5f",
           "arrowhead": 0,
           "arrowwidth": 1
          },
          "autotypenumbers": "strict",
          "coloraxis": {
           "colorbar": {
            "outlinewidth": 0,
            "ticks": ""
           }
          },
          "colorscale": {
           "diverging": [
            [
             0,
             "#8e0152"
            ],
            [
             0.1,
             "#c51b7d"
            ],
            [
             0.2,
             "#de77ae"
            ],
            [
             0.3,
             "#f1b6da"
            ],
            [
             0.4,
             "#fde0ef"
            ],
            [
             0.5,
             "#f7f7f7"
            ],
            [
             0.6,
             "#e6f5d0"
            ],
            [
             0.7,
             "#b8e186"
            ],
            [
             0.8,
             "#7fbc41"
            ],
            [
             0.9,
             "#4d9221"
            ],
            [
             1,
             "#276419"
            ]
           ],
           "sequential": [
            [
             0,
             "#0d0887"
            ],
            [
             0.1111111111111111,
             "#46039f"
            ],
            [
             0.2222222222222222,
             "#7201a8"
            ],
            [
             0.3333333333333333,
             "#9c179e"
            ],
            [
             0.4444444444444444,
             "#bd3786"
            ],
            [
             0.5555555555555556,
             "#d8576b"
            ],
            [
             0.6666666666666666,
             "#ed7953"
            ],
            [
             0.7777777777777778,
             "#fb9f3a"
            ],
            [
             0.8888888888888888,
             "#fdca26"
            ],
            [
             1,
             "#f0f921"
            ]
           ],
           "sequentialminus": [
            [
             0,
             "#0d0887"
            ],
            [
             0.1111111111111111,
             "#46039f"
            ],
            [
             0.2222222222222222,
             "#7201a8"
            ],
            [
             0.3333333333333333,
             "#9c179e"
            ],
            [
             0.4444444444444444,
             "#bd3786"
            ],
            [
             0.5555555555555556,
             "#d8576b"
            ],
            [
             0.6666666666666666,
             "#ed7953"
            ],
            [
             0.7777777777777778,
             "#fb9f3a"
            ],
            [
             0.8888888888888888,
             "#fdca26"
            ],
            [
             1,
             "#f0f921"
            ]
           ]
          },
          "colorway": [
           "#636efa",
           "#EF553B",
           "#00cc96",
           "#ab63fa",
           "#FFA15A",
           "#19d3f3",
           "#FF6692",
           "#B6E880",
           "#FF97FF",
           "#FECB52"
          ],
          "font": {
           "color": "#2a3f5f"
          },
          "geo": {
           "bgcolor": "white",
           "lakecolor": "white",
           "landcolor": "#E5ECF6",
           "showlakes": true,
           "showland": true,
           "subunitcolor": "white"
          },
          "hoverlabel": {
           "align": "left"
          },
          "hovermode": "closest",
          "mapbox": {
           "style": "light"
          },
          "paper_bgcolor": "white",
          "plot_bgcolor": "#E5ECF6",
          "polar": {
           "angularaxis": {
            "gridcolor": "white",
            "linecolor": "white",
            "ticks": ""
           },
           "bgcolor": "#E5ECF6",
           "radialaxis": {
            "gridcolor": "white",
            "linecolor": "white",
            "ticks": ""
           }
          },
          "scene": {
           "xaxis": {
            "backgroundcolor": "#E5ECF6",
            "gridcolor": "white",
            "gridwidth": 2,
            "linecolor": "white",
            "showbackground": true,
            "ticks": "",
            "zerolinecolor": "white"
           },
           "yaxis": {
            "backgroundcolor": "#E5ECF6",
            "gridcolor": "white",
            "gridwidth": 2,
            "linecolor": "white",
            "showbackground": true,
            "ticks": "",
            "zerolinecolor": "white"
           },
           "zaxis": {
            "backgroundcolor": "#E5ECF6",
            "gridcolor": "white",
            "gridwidth": 2,
            "linecolor": "white",
            "showbackground": true,
            "ticks": "",
            "zerolinecolor": "white"
           }
          },
          "shapedefaults": {
           "line": {
            "color": "#2a3f5f"
           }
          },
          "ternary": {
           "aaxis": {
            "gridcolor": "white",
            "linecolor": "white",
            "ticks": ""
           },
           "baxis": {
            "gridcolor": "white",
            "linecolor": "white",
            "ticks": ""
           },
           "bgcolor": "#E5ECF6",
           "caxis": {
            "gridcolor": "white",
            "linecolor": "white",
            "ticks": ""
           }
          },
          "title": {
           "x": 0.05
          },
          "xaxis": {
           "automargin": true,
           "gridcolor": "white",
           "linecolor": "white",
           "ticks": "",
           "title": {
            "standoff": 15
           },
           "zerolinecolor": "white",
           "zerolinewidth": 2
          },
          "yaxis": {
           "automargin": true,
           "gridcolor": "white",
           "linecolor": "white",
           "ticks": "",
           "title": {
            "standoff": 15
           },
           "zerolinecolor": "white",
           "zerolinewidth": 2
          }
         }
        },
        "width": 500,
        "xaxis": {
         "autorange": false,
         "exponentformat": "e",
         "linecolor": "black",
         "linewidth": 1,
         "mirror": false,
         "range": [
          -0.012829850912094116,
          0.6543223965167999
         ],
         "showexponent": "all",
         "showline": true,
         "side": "bottom",
         "ticks": "outside",
         "title": {
          "text": "Birth"
         },
         "type": "linear",
         "zeroline": true
        },
        "yaxis": {
         "autorange": false,
         "exponentformat": "e",
         "linecolor": "black",
         "linewidth": 1,
         "mirror": false,
         "range": [
          -0.012829850912094116,
          0.6543223965167999
         ],
         "scaleanchor": "x",
         "scaleratio": 1,
         "showexponent": "all",
         "showline": true,
         "side": "left",
         "ticks": "outside",
         "title": {
          "text": "Death"
         },
         "type": "linear",
         "zeroline": true
        }
       }
      },
      "text/html": [
       "<div>                            <div id=\"27380736-596c-4373-a385-b0e59973980f\" class=\"plotly-graph-div\" style=\"height:500px; width:500px;\"></div>            <script type=\"text/javascript\">                require([\"plotly\"], function(Plotly) {                    window.PLOTLYENV=window.PLOTLYENV || {};                                    if (document.getElementById(\"27380736-596c-4373-a385-b0e59973980f\")) {                    Plotly.newPlot(                        \"27380736-596c-4373-a385-b0e59973980f\",                        [{\"hoverinfo\":\"none\",\"line\":{\"color\":\"black\",\"dash\":\"dash\",\"width\":1},\"mode\":\"lines\",\"showlegend\":false,\"x\":[-0.012829850912094116,0.6543223965167999],\"y\":[-0.012829850912094116,0.6543223965167999],\"type\":\"scatter\"},{\"hoverinfo\":\"text\",\"hovertext\":[\"(0.0, 0.038302965462207794)\",\"(0.0, 0.06628429144620895)\",\"(0.0, 0.27637985348701477)\",\"(0.0, 0.284553200006485)\",\"(0.0, 0.2945980131626129)\",\"(0.0, 0.32039135694503784)\",\"(0.0, 0.3235115110874176)\",\"(0.0, 0.3474113941192627)\",\"(0.0, 0.3514939248561859)\",\"(0.0, 0.3591235876083374)\",\"(0.0, 0.3768290579319)\",\"(0.0, 0.3833385705947876)\",\"(0.0, 0.42137858271598816)\",\"(0.0, 0.42453673481941223)\",\"(0.0, 0.43212273716926575)\",\"(0.0, 0.4326341450214386)\",\"(0.0, 0.43328428268432617)\",\"(0.0, 0.44387519359588623)\",\"(0.0, 0.45571988821029663)\",\"(0.0, 0.45601701736450195)\",\"(0.0, 0.4610818028450012)\",\"(0.0, 0.4633594751358032)\",\"(0.0, 0.47760361433029175)\",\"(0.0, 0.47839224338531494)\",\"(0.0, 0.4841601848602295)\",\"(0.0, 0.48540765047073364)\",\"(0.0, 0.4984290301799774)\",\"(0.0, 0.502431333065033)\",\"(0.0, 0.5033897757530212)\",\"(0.0, 0.5118251442909241)\",\"(0.0, 0.5151327848434448)\",\"(0.0, 0.5215293765068054)\",\"(0.0, 0.521615743637085)\",\"(0.0, 0.5243049263954163)\",\"(0.0, 0.5248590707778931)\",\"(0.0, 0.5322452187538147)\",\"(0.0, 0.5386002659797668)\",\"(0.0, 0.5412416458129883)\",\"(0.0, 0.5414244532585144)\",\"(0.0, 0.5429624915122986)\",\"(0.0, 0.5439316034317017)\",\"(0.0, 0.5463413000106812)\",\"(0.0, 0.5470069646835327)\",\"(0.0, 0.5492613911628723)\",\"(0.0, 0.551579475402832)\",\"(0.0, 0.5530051589012146)\",\"(0.0, 0.5540026426315308)\",\"(0.0, 0.5557227730751038)\",\"(0.0, 0.5566239953041077)\",\"(0.0, 0.5572868585586548)\",\"(0.0, 0.55946284532547)\",\"(0.0, 0.5613120794296265)\",\"(0.0, 0.5624138116836548)\",\"(0.0, 0.5650534629821777)\",\"(0.0, 0.5678005814552307)\",\"(0.0, 0.5699054002761841)\",\"(0.0, 0.5701664090156555)\",\"(0.0, 0.5755302309989929)\",\"(0.0, 0.5771118402481079)\",\"(0.0, 0.5780754089355469)\",\"(0.0, 0.5809337496757507)\",\"(0.0, 0.5820952653884888)\",\"(0.0, 0.583052933216095)\",\"(0.0, 0.5838422775268555)\",\"(0.0, 0.585134744644165)\",\"(0.0, 0.5873724818229675)\",\"(0.0, 0.590776264667511)\",\"(0.0, 0.5924860239028931)\",\"(0.0, 0.5929054021835327)\",\"(0.0, 0.5983196496963501)\",\"(0.0, 0.5986383557319641)\",\"(0.0, 0.5990740656852722)\",\"(0.0, 0.6015267968177795)\",\"(0.0, 0.6026259660720825)\",\"(0.0, 0.6075742244720459)\",\"(0.0, 0.6079078316688538)\",\"(0.0, 0.6089229583740234)\",\"(0.0, 0.6099359393119812)\",\"(0.0, 0.6099406480789185)\",\"(0.0, 0.6111239194869995)\",\"(0.0, 0.6118680834770203)\",\"(0.0, 0.6125032305717468)\",\"(0.0, 0.6145032048225403)\",\"(0.0, 0.6146772503852844)\",\"(0.0, 0.6157017350196838)\",\"(0.0, 0.6186485290527344)\",\"(0.0, 0.619921863079071)\",\"(0.0, 0.62298983335495)\",\"(0.0, 0.6230963468551636)\",\"(0.0, 0.625914454460144)\",\"(0.0, 0.6262064576148987)\",\"(0.0, 0.6300272941589355)\",\"(0.0, 0.6310506463050842)\",\"(0.0, 0.6323739290237427)\",\"(0.0, 0.6345239877700806)\",\"(0.0, 0.6378179788589478)\",\"(0.0, 0.6406625509262085)\",\"(0.0, 0.6414925456047058)\"],\"mode\":\"markers\",\"name\":\"H0\",\"x\":[0.0,0.0,0.0,0.0,0.0,0.0,0.0,0.0,0.0,0.0,0.0,0.0,0.0,0.0,0.0,0.0,0.0,0.0,0.0,0.0,0.0,0.0,0.0,0.0,0.0,0.0,0.0,0.0,0.0,0.0,0.0,0.0,0.0,0.0,0.0,0.0,0.0,0.0,0.0,0.0,0.0,0.0,0.0,0.0,0.0,0.0,0.0,0.0,0.0,0.0,0.0,0.0,0.0,0.0,0.0,0.0,0.0,0.0,0.0,0.0,0.0,0.0,0.0,0.0,0.0,0.0,0.0,0.0,0.0,0.0,0.0,0.0,0.0,0.0,0.0,0.0,0.0,0.0,0.0,0.0,0.0,0.0,0.0,0.0,0.0,0.0,0.0,0.0,0.0,0.0,0.0,0.0,0.0,0.0,0.0,0.0,0.0,0.0],\"y\":[0.038302965462207794,0.06628429144620895,0.27637985348701477,0.284553200006485,0.2945980131626129,0.32039135694503784,0.3235115110874176,0.3474113941192627,0.3514939248561859,0.3591235876083374,0.3768290579319,0.3833385705947876,0.42137858271598816,0.42453673481941223,0.43212273716926575,0.4326341450214386,0.43328428268432617,0.44387519359588623,0.45571988821029663,0.45601701736450195,0.4610818028450012,0.4633594751358032,0.47760361433029175,0.47839224338531494,0.4841601848602295,0.48540765047073364,0.4984290301799774,0.502431333065033,0.5033897757530212,0.5118251442909241,0.5151327848434448,0.5215293765068054,0.521615743637085,0.5243049263954163,0.5248590707778931,0.5322452187538147,0.5386002659797668,0.5412416458129883,0.5414244532585144,0.5429624915122986,0.5439316034317017,0.5463413000106812,0.5470069646835327,0.5492613911628723,0.551579475402832,0.5530051589012146,0.5540026426315308,0.5557227730751038,0.5566239953041077,0.5572868585586548,0.55946284532547,0.5613120794296265,0.5624138116836548,0.5650534629821777,0.5678005814552307,0.5699054002761841,0.5701664090156555,0.5755302309989929,0.5771118402481079,0.5780754089355469,0.5809337496757507,0.5820952653884888,0.583052933216095,0.5838422775268555,0.585134744644165,0.5873724818229675,0.590776264667511,0.5924860239028931,0.5929054021835327,0.5983196496963501,0.5986383557319641,0.5990740656852722,0.6015267968177795,0.6026259660720825,0.6075742244720459,0.6079078316688538,0.6089229583740234,0.6099359393119812,0.6099406480789185,0.6111239194869995,0.6118680834770203,0.6125032305717468,0.6145032048225403,0.6146772503852844,0.6157017350196838,0.6186485290527344,0.619921863079071,0.62298983335495,0.6230963468551636,0.625914454460144,0.6262064576148987,0.6300272941589355,0.6310506463050842,0.6323739290237427,0.6345239877700806,0.6378179788589478,0.6406625509262085,0.6414925456047058],\"type\":\"scatter\"},{\"hoverinfo\":\"text\",\"hovertext\":[\"(0.6389815807342529, 0.6390298008918762)\",\"(0.6389495730400085, 0.6390464305877686)\",\"(0.6386427879333496, 0.6390464305877686)\",\"(0.638278067111969, 0.6390464305877686)\",\"(0.6378170251846313, 0.6390140652656555)\",\"(0.6375096440315247, 0.6407182216644287)\",\"(0.6358718872070312, 0.6378217935562134)\",\"(0.635581910610199, 0.6378217935562134)\",\"(0.6349906921386719, 0.6378217935562134)\",\"(0.6343371272087097, 0.6379185914993286)\",\"(0.6340176463127136, 0.6379185914993286)\",\"(0.6335917711257935, 0.6379185914993286)\",\"(0.6329078078269958, 0.6370729804039001)\",\"(0.6324031352996826, 0.6333381533622742)\",\"(0.6322370767593384, 0.6347513794898987)\",\"(0.6320742964744568, 0.6334111094474792)\",\"(0.6314378380775452, 0.6333381533622742)\",\"(0.6309385895729065, 0.6347513794898987)\",\"(0.6307934522628784, 0.6390573978424072)\",\"(0.6305648684501648, 0.6353678107261658)\",\"(0.6303619146347046, 0.6334111094474792)\",\"(0.630254328250885, 0.6394107341766357)\",\"(0.6298069357872009, 0.6320660710334778)\",\"(0.629501461982727, 0.6390140652656555)\",\"(0.6289365887641907, 0.6390140652656555)\",\"(0.628825306892395, 0.6309441328048706)\",\"(0.6287034153938293, 0.6342583298683167)\",\"(0.6285828948020935, 0.6320660710334778)\",\"(0.6284032464027405, 0.6309441328048706)\",\"(0.6282774209976196, 0.6290253400802612)\",\"(0.6282504796981812, 0.6283351182937622)\",\"(0.6280744075775146, 0.6335822939872742)\",\"(0.6279727816581726, 0.6320660710334778)\",\"(0.6278070211410522, 0.6290253400802612)\",\"(0.6276928782463074, 0.6347513794898987)\",\"(0.6276262998580933, 0.6335822939872742)\",\"(0.6274583339691162, 0.6288725733757019)\",\"(0.6273612380027771, 0.6335822939872742)\",\"(0.6265199780464172, 0.6299641132354736)\",\"(0.6264558434486389, 0.6320660710334778)\",\"(0.6262327432632446, 0.6288011074066162)\",\"(0.6251327395439148, 0.6310398578643799)\",\"(0.6238821148872375, 0.6310398578643799)\",\"(0.6231454014778137, 0.6242594122886658)\",\"(0.6229912638664246, 0.6302458643913269)\",\"(0.6224098205566406, 0.6302458643913269)\",\"(0.6222856640815735, 0.6241057515144348)\",\"(0.6221969127655029, 0.6273967027664185)\",\"(0.6221560835838318, 0.6271695494651794)\",\"(0.6217730641365051, 0.6310398578643799)\",\"(0.621767520904541, 0.6217718720436096)\",\"(0.621525764465332, 0.6271695494651794)\",\"(0.6213768720626831, 0.6289575099945068)\",\"(0.6207489371299744, 0.6285606622695923)\",\"(0.6206498742103577, 0.6285606622695923)\",\"(0.6203290224075317, 0.6310398578643799)\",\"(0.6202552914619446, 0.6241057515144348)\",\"(0.6201431751251221, 0.6206645369529724)\",\"(0.6199110746383667, 0.6271695494651794)\",\"(0.6198272109031677, 0.6289575099945068)\",\"(0.6183546185493469, 0.6271695494651794)\",\"(0.617891252040863, 0.6283351182937622)\",\"(0.6177759766578674, 0.6206645369529724)\",\"(0.6177569627761841, 0.6289575099945068)\",\"(0.6177546381950378, 0.6338626742362976)\",\"(0.6172650456428528, 0.6221580505371094)\",\"(0.6172458529472351, 0.6338626742362976)\",\"(0.6169525384902954, 0.6184836030006409)\",\"(0.616850733757019, 0.6242421865463257)\",\"(0.6167346835136414, 0.6168931722640991)\",\"(0.61566162109375, 0.6338626742362976)\",\"(0.6156030893325806, 0.6289575099945068)\",\"(0.6152487993240356, 0.6173903942108154)\",\"(0.615201473236084, 0.6204684376716614)\",\"(0.6140947341918945, 0.6257643699645996)\",\"(0.6138361692428589, 0.6257643699645996)\",\"(0.6138200759887695, 0.6242421865463257)\",\"(0.6137275099754333, 0.6149395108222961)\",\"(0.6124083399772644, 0.6333381533622742)\",\"(0.6120609641075134, 0.6310167908668518)\",\"(0.6117901802062988, 0.6258189082145691)\",\"(0.6105192303657532, 0.6155462265014648)\",\"(0.6101043224334717, 0.6258189082145691)\",\"(0.6096790432929993, 0.6178971529006958)\",\"(0.6092924475669861, 0.6238684058189392)\",\"(0.6092686057090759, 0.6093713641166687)\",\"(0.6092174053192139, 0.6178971529006958)\",\"(0.6089712977409363, 0.6189092993736267)\",\"(0.6085276007652283, 0.6238684058189392)\",\"(0.6079249382019043, 0.6238684058189392)\",\"(0.606364369392395, 0.6093713641166687)\",\"(0.606345534324646, 0.6258189082145691)\",\"(0.6060723066329956, 0.6184836030006409)\",\"(0.6058747172355652, 0.6238684058189392)\",\"(0.6054679155349731, 0.6160140633583069)\",\"(0.6043426394462585, 0.6238684058189392)\",\"(0.604314386844635, 0.6258189082145691)\",\"(0.6042799353599548, 0.6283351182937622)\",\"(0.6042015552520752, 0.6217066645622253)\",\"(0.6037207841873169, 0.6074036359786987)\",\"(0.603630006313324, 0.6294388771057129)\",\"(0.603434145450592, 0.6058711409568787)\",\"(0.6028770804405212, 0.6294388771057129)\",\"(0.6027984619140625, 0.6217066645622253)\",\"(0.6027936339378357, 0.6160140633583069)\",\"(0.6023197174072266, 0.6307251453399658)\",\"(0.602249801158905, 0.6217066645622253)\",\"(0.6022061705589294, 0.6160140633583069)\",\"(0.6010891199111938, 0.6284798979759216)\",\"(0.6002714037895203, 0.6284798979759216)\",\"(0.6002138257026672, 0.6283351182937622)\",\"(0.5995720624923706, 0.6347513794898987)\",\"(0.599271297454834, 0.6160140633583069)\",\"(0.5986477136611938, 0.6095045208930969)\",\"(0.5984456539154053, 0.6268866062164307)\",\"(0.5980748534202576, 0.6268866062164307)\",\"(0.5980275273323059, 0.6284798979759216)\",\"(0.5979031324386597, 0.6018524169921875)\",\"(0.5978246331214905, 0.6217066645622253)\",\"(0.5972166657447815, 0.6268866062164307)\",\"(0.5962193012237549, 0.6307251453399658)\",\"(0.5959329009056091, 0.6095045208930969)\",\"(0.5952432751655579, 0.6007810235023499)\",\"(0.5942735075950623, 0.6320660710334778)\",\"(0.5940232872962952, 0.5969358682632446)\",\"(0.5938996076583862, 0.6284798979759216)\",\"(0.5937069654464722, 0.6091490983963013)\",\"(0.5935704112052917, 0.6004708409309387)\",\"(0.5933312773704529, 0.5997050404548645)\",\"(0.5933276414871216, 0.5986815094947815)\",\"(0.5922324061393738, 0.5969358682632446)\",\"(0.5909824967384338, 0.6092162132263184)\",\"(0.5908902883529663, 0.6004708409309387)\",\"(0.5901584625244141, 0.5937246084213257)\",\"(0.5900636911392212, 0.6092162132263184)\",\"(0.5897912383079529, 0.6041339039802551)\",\"(0.5893998742103577, 0.6008315682411194)\",\"(0.5891090631484985, 0.6219143867492676)\",\"(0.5890395641326904, 0.6219143867492676)\",\"(0.588479220867157, 0.5911844968795776)\",\"(0.5883384346961975, 0.616448163986206)\",\"(0.5880330801010132, 0.6219143867492676)\",\"(0.5878610610961914, 0.5969699025154114)\",\"(0.5864621996879578, 0.6307251453399658)\",\"(0.5858869552612305, 0.6211835741996765)\",\"(0.5858796238899231, 0.59651780128479)\",\"(0.5850629806518555, 0.6211835741996765)\",\"(0.5849030613899231, 0.5911844968795776)\",\"(0.5848246812820435, 0.6211835741996765)\",\"(0.584673285484314, 0.6310398578643799)\",\"(0.5845721364021301, 0.5887047052383423)\",\"(0.5841667652130127, 0.5969358682632446)\",\"(0.5840722322463989, 0.5955970883369446)\",\"(0.584061324596405, 0.5972157120704651)\",\"(0.5838979482650757, 0.5876550078392029)\",\"(0.5833010077476501, 0.6206645369529724)\",\"(0.5832830667495728, 0.5906198620796204)\",\"(0.5827131271362305, 0.6123927235603333)\",\"(0.5823546648025513, 0.5955970883369446)\",\"(0.5823484659194946, 0.5955970883369446)\",\"(0.5821908116340637, 0.6211835741996765)\",\"(0.5817277431488037, 0.6123927235603333)\",\"(0.5811594724655151, 0.5977237224578857)\",\"(0.5811392068862915, 0.6206645369529724)\",\"(0.5809555053710938, 0.6127733588218689)\",\"(0.5807040333747864, 0.6123927235603333)\",\"(0.5806019306182861, 0.6127733588218689)\",\"(0.5805507302284241, 0.6289575099945068)\",\"(0.5798393487930298, 0.5822597742080688)\",\"(0.5798391103744507, 0.5906198620796204)\",\"(0.5797486305236816, 0.5830216407775879)\",\"(0.5795000791549683, 0.6127733588218689)\",\"(0.5791362524032593, 0.5972157120704651)\",\"(0.5785835981369019, 0.6289575099945068)\",\"(0.5776877999305725, 0.6067342758178711)\",\"(0.5773605108261108, 0.6211835741996765)\",\"(0.5773098468780518, 0.5822597742080688)\",\"(0.5760809183120728, 0.6098273992538452)\",\"(0.574878454208374, 0.6098273992538452)\",\"(0.5746989846229553, 0.6074036359786987)\",\"(0.5739451050758362, 0.5906198620796204)\",\"(0.5737449526786804, 0.580625593662262)\",\"(0.5734753608703613, 0.6098273992538452)\",\"(0.5723050236701965, 0.583124577999115)\",\"(0.572073757648468, 0.6106864213943481)\",\"(0.5711056590080261, 0.583124577999115)\",\"(0.571015477180481, 0.5754944682121277)\",\"(0.5706808567047119, 0.5718692541122437)\",\"(0.5703876614570618, 0.5718692541122437)\",\"(0.5700519680976868, 0.5875340700149536)\",\"(0.5696085095405579, 0.583124577999115)\",\"(0.5688896179199219, 0.5875340700149536)\",\"(0.5687998533248901, 0.5745366215705872)\",\"(0.5685205459594727, 0.583124577999115)\",\"(0.5676817893981934, 0.5745366215705872)\",\"(0.5673742294311523, 0.5875340700149536)\",\"(0.5661627054214478, 0.5875340700149536)\",\"(0.5660918951034546, 0.5830920934677124)\",\"(0.5653302669525146, 0.5852727890014648)\",\"(0.5646761059761047, 0.5810174345970154)\",\"(0.5645913481712341, 0.570292055606842)\",\"(0.563873291015625, 0.5788734555244446)\",\"(0.5637568831443787, 0.5830920934677124)\",\"(0.5636991262435913, 0.5871542096138)\",\"(0.5625252723693848, 0.6074036359786987)\",\"(0.5622501373291016, 0.598408579826355)\",\"(0.5622380375862122, 0.5874398946762085)\",\"(0.56173175573349, 0.5699364542961121)\",\"(0.5614451169967651, 0.5661943554878235)\",\"(0.561351478099823, 0.6049279570579529)\",\"(0.5600548386573792, 0.5601762533187866)\",\"(0.5599261522293091, 0.570292055606842)\",\"(0.5592871904373169, 0.6098273992538452)\",\"(0.5591060519218445, 0.5976280570030212)\",\"(0.5587097406387329, 0.570292055606842)\",\"(0.558499813079834, 0.5896775722503662)\",\"(0.5584480166435242, 0.5699364542961121)\",\"(0.55765300989151, 0.5869538187980652)\",\"(0.5567914247512817, 0.5781665444374084)\",\"(0.5563915967941284, 0.5584422945976257)\",\"(0.5561885833740234, 0.5653902888298035)\",\"(0.5560513138771057, 0.5952799320220947)\",\"(0.5549008846282959, 0.5560561418533325)\",\"(0.5546301603317261, 0.570292055606842)\",\"(0.5543729066848755, 0.5545918345451355)\",\"(0.5535845756530762, 0.5560561418533325)\",\"(0.5524291396141052, 0.5976280570030212)\",\"(0.5524253845214844, 0.570292055606842)\",\"(0.5524197816848755, 0.5545918345451355)\",\"(0.5523181557655334, 0.562524139881134)\",\"(0.5514117479324341, 0.598584771156311)\",\"(0.5513086915016174, 0.5560561418533325)\",\"(0.5511029362678528, 0.5976280570030212)\",\"(0.551073431968689, 0.5653902888298035)\",\"(0.5510207414627075, 0.5524219870567322)\",\"(0.5498006343841553, 0.5977495908737183)\",\"(0.5497066378593445, 0.5653902888298035)\",\"(0.5487572550773621, 0.5509915947914124)\",\"(0.548701822757721, 0.5560561418533325)\",\"(0.5474421977996826, 0.5484265089035034)\",\"(0.5467491149902344, 0.5653902888298035)\",\"(0.5464600324630737, 0.59693843126297)\",\"(0.5462521910667419, 0.5976280570030212)\",\"(0.5459134578704834, 0.5584422945976257)\",\"(0.545357346534729, 0.598584771156311)\",\"(0.5444927215576172, 0.5484265089035034)\",\"(0.544191300868988, 0.5653902888298035)\",\"(0.5441216826438904, 0.5517565608024597)\",\"(0.5438938140869141, 0.598584771156311)\",\"(0.543659508228302, 0.5438876748085022)\",\"(0.5432313680648804, 0.5509915947914124)\",\"(0.5431255102157593, 0.5472410917282104)\",\"(0.5417212247848511, 0.59693843126297)\",\"(0.54169100522995, 0.5472410917282104)\",\"(0.5416624546051025, 0.5509915947914124)\",\"(0.5414827466011047, 0.5484265089035034)\",\"(0.5396215915679932, 0.562524139881134)\",\"(0.5389775037765503, 0.598584771156311)\",\"(0.5382922291755676, 0.5496492981910706)\",\"(0.537028431892395, 0.5599876642227173)\",\"(0.5357747673988342, 0.5893768668174744)\",\"(0.5342903137207031, 0.5516096949577332)\",\"(0.5308075547218323, 0.5584056377410889)\",\"(0.5297341346740723, 0.5861539840698242)\",\"(0.5245912075042725, 0.5787854790687561)\",\"(0.5228785276412964, 0.5926609039306641)\",\"(0.5218750238418579, 0.5771795511245728)\",\"(0.5202656984329224, 0.5787854790687561)\",\"(0.5192787051200867, 0.5345260500907898)\",\"(0.5183771848678589, 0.5787854790687561)\",\"(0.5130941271781921, 0.5345260500907898)\",\"(0.5117522478103638, 0.5906198620796204)\",\"(0.5104849338531494, 0.5701723694801331)\",\"(0.5095219016075134, 0.5906198620796204)\",\"(0.5020957589149475, 0.5148780345916748)\",\"(0.4976937770843506, 0.4998161792755127)\",\"(0.4965333044528961, 0.5923548340797424)\",\"(0.4908131957054138, 0.5869616866111755)\",\"(0.49053460359573364, 0.5808281302452087)\",\"(0.46736791729927063, 0.6009337306022644)\",\"(0.4628283679485321, 0.46326789259910583)\",\"(0.4607709050178528, 0.4840792417526245)\",\"(0.45630496740341187, 0.5454092621803284)\",\"(0.4555481970310211, 0.4629669785499573)\",\"(0.4543953239917755, 0.47233977913856506)\",\"(0.4425047039985657, 0.5022290945053101)\",\"(0.4361790120601654, 0.5507552623748779)\",\"(0.4094528257846832, 0.5584422945976257)\",\"(0.39180395007133484, 0.4650106728076935)\",\"(0.369165301322937, 0.4534284174442291)\",\"(0.3633347749710083, 0.4288780689239502)\",\"(0.3477703034877777, 0.5130709409713745)\",\"(0.3376390039920807, 0.5307298302650452)\",\"(0.33287686109542847, 0.5532803535461426)\",\"(0.29362961649894714, 0.514177143573761)\",\"(0.10029006004333496, 0.4534284174442291)\"],\"mode\":\"markers\",\"name\":\"H1\",\"x\":[0.6389815807342529,0.6389495730400085,0.6386427879333496,0.638278067111969,0.6378170251846313,0.6375096440315247,0.6358718872070312,0.635581910610199,0.6349906921386719,0.6343371272087097,0.6340176463127136,0.6335917711257935,0.6329078078269958,0.6324031352996826,0.6322370767593384,0.6320742964744568,0.6314378380775452,0.6309385895729065,0.6307934522628784,0.6305648684501648,0.6303619146347046,0.630254328250885,0.6298069357872009,0.629501461982727,0.6289365887641907,0.628825306892395,0.6287034153938293,0.6285828948020935,0.6284032464027405,0.6282774209976196,0.6282504796981812,0.6280744075775146,0.6279727816581726,0.6278070211410522,0.6276928782463074,0.6276262998580933,0.6274583339691162,0.6273612380027771,0.6265199780464172,0.6264558434486389,0.6262327432632446,0.6251327395439148,0.6238821148872375,0.6231454014778137,0.6229912638664246,0.6224098205566406,0.6222856640815735,0.6221969127655029,0.6221560835838318,0.6217730641365051,0.621767520904541,0.621525764465332,0.6213768720626831,0.6207489371299744,0.6206498742103577,0.6203290224075317,0.6202552914619446,0.6201431751251221,0.6199110746383667,0.6198272109031677,0.6183546185493469,0.617891252040863,0.6177759766578674,0.6177569627761841,0.6177546381950378,0.6172650456428528,0.6172458529472351,0.6169525384902954,0.616850733757019,0.6167346835136414,0.61566162109375,0.6156030893325806,0.6152487993240356,0.615201473236084,0.6140947341918945,0.6138361692428589,0.6138200759887695,0.6137275099754333,0.6124083399772644,0.6120609641075134,0.6117901802062988,0.6105192303657532,0.6101043224334717,0.6096790432929993,0.6092924475669861,0.6092686057090759,0.6092174053192139,0.6089712977409363,0.6085276007652283,0.6079249382019043,0.606364369392395,0.606345534324646,0.6060723066329956,0.6058747172355652,0.6054679155349731,0.6043426394462585,0.604314386844635,0.6042799353599548,0.6042015552520752,0.6037207841873169,0.603630006313324,0.603434145450592,0.6028770804405212,0.6027984619140625,0.6027936339378357,0.6023197174072266,0.602249801158905,0.6022061705589294,0.6010891199111938,0.6002714037895203,0.6002138257026672,0.5995720624923706,0.599271297454834,0.5986477136611938,0.5984456539154053,0.5980748534202576,0.5980275273323059,0.5979031324386597,0.5978246331214905,0.5972166657447815,0.5962193012237549,0.5959329009056091,0.5952432751655579,0.5942735075950623,0.5940232872962952,0.5938996076583862,0.5937069654464722,0.5935704112052917,0.5933312773704529,0.5933276414871216,0.5922324061393738,0.5909824967384338,0.5908902883529663,0.5901584625244141,0.5900636911392212,0.5897912383079529,0.5893998742103577,0.5891090631484985,0.5890395641326904,0.588479220867157,0.5883384346961975,0.5880330801010132,0.5878610610961914,0.5864621996879578,0.5858869552612305,0.5858796238899231,0.5850629806518555,0.5849030613899231,0.5848246812820435,0.584673285484314,0.5845721364021301,0.5841667652130127,0.5840722322463989,0.584061324596405,0.5838979482650757,0.5833010077476501,0.5832830667495728,0.5827131271362305,0.5823546648025513,0.5823484659194946,0.5821908116340637,0.5817277431488037,0.5811594724655151,0.5811392068862915,0.5809555053710938,0.5807040333747864,0.5806019306182861,0.5805507302284241,0.5798393487930298,0.5798391103744507,0.5797486305236816,0.5795000791549683,0.5791362524032593,0.5785835981369019,0.5776877999305725,0.5773605108261108,0.5773098468780518,0.5760809183120728,0.574878454208374,0.5746989846229553,0.5739451050758362,0.5737449526786804,0.5734753608703613,0.5723050236701965,0.572073757648468,0.5711056590080261,0.571015477180481,0.5706808567047119,0.5703876614570618,0.5700519680976868,0.5696085095405579,0.5688896179199219,0.5687998533248901,0.5685205459594727,0.5676817893981934,0.5673742294311523,0.5661627054214478,0.5660918951034546,0.5653302669525146,0.5646761059761047,0.5645913481712341,0.563873291015625,0.5637568831443787,0.5636991262435913,0.5625252723693848,0.5622501373291016,0.5622380375862122,0.56173175573349,0.5614451169967651,0.561351478099823,0.5600548386573792,0.5599261522293091,0.5592871904373169,0.5591060519218445,0.5587097406387329,0.558499813079834,0.5584480166435242,0.55765300989151,0.5567914247512817,0.5563915967941284,0.5561885833740234,0.5560513138771057,0.5549008846282959,0.5546301603317261,0.5543729066848755,0.5535845756530762,0.5524291396141052,0.5524253845214844,0.5524197816848755,0.5523181557655334,0.5514117479324341,0.5513086915016174,0.5511029362678528,0.551073431968689,0.5510207414627075,0.5498006343841553,0.5497066378593445,0.5487572550773621,0.548701822757721,0.5474421977996826,0.5467491149902344,0.5464600324630737,0.5462521910667419,0.5459134578704834,0.545357346534729,0.5444927215576172,0.544191300868988,0.5441216826438904,0.5438938140869141,0.543659508228302,0.5432313680648804,0.5431255102157593,0.5417212247848511,0.54169100522995,0.5416624546051025,0.5414827466011047,0.5396215915679932,0.5389775037765503,0.5382922291755676,0.537028431892395,0.5357747673988342,0.5342903137207031,0.5308075547218323,0.5297341346740723,0.5245912075042725,0.5228785276412964,0.5218750238418579,0.5202656984329224,0.5192787051200867,0.5183771848678589,0.5130941271781921,0.5117522478103638,0.5104849338531494,0.5095219016075134,0.5020957589149475,0.4976937770843506,0.4965333044528961,0.4908131957054138,0.49053460359573364,0.46736791729927063,0.4628283679485321,0.4607709050178528,0.45630496740341187,0.4555481970310211,0.4543953239917755,0.4425047039985657,0.4361790120601654,0.4094528257846832,0.39180395007133484,0.369165301322937,0.3633347749710083,0.3477703034877777,0.3376390039920807,0.33287686109542847,0.29362961649894714,0.10029006004333496],\"y\":[0.6390298008918762,0.6390464305877686,0.6390464305877686,0.6390464305877686,0.6390140652656555,0.6407182216644287,0.6378217935562134,0.6378217935562134,0.6378217935562134,0.6379185914993286,0.6379185914993286,0.6379185914993286,0.6370729804039001,0.6333381533622742,0.6347513794898987,0.6334111094474792,0.6333381533622742,0.6347513794898987,0.6390573978424072,0.6353678107261658,0.6334111094474792,0.6394107341766357,0.6320660710334778,0.6390140652656555,0.6390140652656555,0.6309441328048706,0.6342583298683167,0.6320660710334778,0.6309441328048706,0.6290253400802612,0.6283351182937622,0.6335822939872742,0.6320660710334778,0.6290253400802612,0.6347513794898987,0.6335822939872742,0.6288725733757019,0.6335822939872742,0.6299641132354736,0.6320660710334778,0.6288011074066162,0.6310398578643799,0.6310398578643799,0.6242594122886658,0.6302458643913269,0.6302458643913269,0.6241057515144348,0.6273967027664185,0.6271695494651794,0.6310398578643799,0.6217718720436096,0.6271695494651794,0.6289575099945068,0.6285606622695923,0.6285606622695923,0.6310398578643799,0.6241057515144348,0.6206645369529724,0.6271695494651794,0.6289575099945068,0.6271695494651794,0.6283351182937622,0.6206645369529724,0.6289575099945068,0.6338626742362976,0.6221580505371094,0.6338626742362976,0.6184836030006409,0.6242421865463257,0.6168931722640991,0.6338626742362976,0.6289575099945068,0.6173903942108154,0.6204684376716614,0.6257643699645996,0.6257643699645996,0.6242421865463257,0.6149395108222961,0.6333381533622742,0.6310167908668518,0.6258189082145691,0.6155462265014648,0.6258189082145691,0.6178971529006958,0.6238684058189392,0.6093713641166687,0.6178971529006958,0.6189092993736267,0.6238684058189392,0.6238684058189392,0.6093713641166687,0.6258189082145691,0.6184836030006409,0.6238684058189392,0.6160140633583069,0.6238684058189392,0.6258189082145691,0.6283351182937622,0.6217066645622253,0.6074036359786987,0.6294388771057129,0.6058711409568787,0.6294388771057129,0.6217066645622253,0.6160140633583069,0.6307251453399658,0.6217066645622253,0.6160140633583069,0.6284798979759216,0.6284798979759216,0.6283351182937622,0.6347513794898987,0.6160140633583069,0.6095045208930969,0.6268866062164307,0.6268866062164307,0.6284798979759216,0.6018524169921875,0.6217066645622253,0.6268866062164307,0.6307251453399658,0.6095045208930969,0.6007810235023499,0.6320660710334778,0.5969358682632446,0.6284798979759216,0.6091490983963013,0.6004708409309387,0.5997050404548645,0.5986815094947815,0.5969358682632446,0.6092162132263184,0.6004708409309387,0.5937246084213257,0.6092162132263184,0.6041339039802551,0.6008315682411194,0.6219143867492676,0.6219143867492676,0.5911844968795776,0.616448163986206,0.6219143867492676,0.5969699025154114,0.6307251453399658,0.6211835741996765,0.59651780128479,0.6211835741996765,0.5911844968795776,0.6211835741996765,0.6310398578643799,0.5887047052383423,0.5969358682632446,0.5955970883369446,0.5972157120704651,0.5876550078392029,0.6206645369529724,0.5906198620796204,0.6123927235603333,0.5955970883369446,0.5955970883369446,0.6211835741996765,0.6123927235603333,0.5977237224578857,0.6206645369529724,0.6127733588218689,0.6123927235603333,0.6127733588218689,0.6289575099945068,0.5822597742080688,0.5906198620796204,0.5830216407775879,0.6127733588218689,0.5972157120704651,0.6289575099945068,0.6067342758178711,0.6211835741996765,0.5822597742080688,0.6098273992538452,0.6098273992538452,0.6074036359786987,0.5906198620796204,0.580625593662262,0.6098273992538452,0.583124577999115,0.6106864213943481,0.583124577999115,0.5754944682121277,0.5718692541122437,0.5718692541122437,0.5875340700149536,0.583124577999115,0.5875340700149536,0.5745366215705872,0.583124577999115,0.5745366215705872,0.5875340700149536,0.5875340700149536,0.5830920934677124,0.5852727890014648,0.5810174345970154,0.570292055606842,0.5788734555244446,0.5830920934677124,0.5871542096138,0.6074036359786987,0.598408579826355,0.5874398946762085,0.5699364542961121,0.5661943554878235,0.6049279570579529,0.5601762533187866,0.570292055606842,0.6098273992538452,0.5976280570030212,0.570292055606842,0.5896775722503662,0.5699364542961121,0.5869538187980652,0.5781665444374084,0.5584422945976257,0.5653902888298035,0.5952799320220947,0.5560561418533325,0.570292055606842,0.5545918345451355,0.5560561418533325,0.5976280570030212,0.570292055606842,0.5545918345451355,0.562524139881134,0.598584771156311,0.5560561418533325,0.5976280570030212,0.5653902888298035,0.5524219870567322,0.5977495908737183,0.5653902888298035,0.5509915947914124,0.5560561418533325,0.5484265089035034,0.5653902888298035,0.59693843126297,0.5976280570030212,0.5584422945976257,0.598584771156311,0.5484265089035034,0.5653902888298035,0.5517565608024597,0.598584771156311,0.5438876748085022,0.5509915947914124,0.5472410917282104,0.59693843126297,0.5472410917282104,0.5509915947914124,0.5484265089035034,0.562524139881134,0.598584771156311,0.5496492981910706,0.5599876642227173,0.5893768668174744,0.5516096949577332,0.5584056377410889,0.5861539840698242,0.5787854790687561,0.5926609039306641,0.5771795511245728,0.5787854790687561,0.5345260500907898,0.5787854790687561,0.5345260500907898,0.5906198620796204,0.5701723694801331,0.5906198620796204,0.5148780345916748,0.4998161792755127,0.5923548340797424,0.5869616866111755,0.5808281302452087,0.6009337306022644,0.46326789259910583,0.4840792417526245,0.5454092621803284,0.4629669785499573,0.47233977913856506,0.5022290945053101,0.5507552623748779,0.5584422945976257,0.4650106728076935,0.4534284174442291,0.4288780689239502,0.5130709409713745,0.5307298302650452,0.5532803535461426,0.514177143573761,0.4534284174442291],\"type\":\"scatter\"}],                        {\"template\":{\"data\":{\"histogram2dcontour\":[{\"type\":\"histogram2dcontour\",\"colorbar\":{\"outlinewidth\":0,\"ticks\":\"\"},\"colorscale\":[[0.0,\"#0d0887\"],[0.1111111111111111,\"#46039f\"],[0.2222222222222222,\"#7201a8\"],[0.3333333333333333,\"#9c179e\"],[0.4444444444444444,\"#bd3786\"],[0.5555555555555556,\"#d8576b\"],[0.6666666666666666,\"#ed7953\"],[0.7777777777777778,\"#fb9f3a\"],[0.8888888888888888,\"#fdca26\"],[1.0,\"#f0f921\"]]}],\"choropleth\":[{\"type\":\"choropleth\",\"colorbar\":{\"outlinewidth\":0,\"ticks\":\"\"}}],\"histogram2d\":[{\"type\":\"histogram2d\",\"colorbar\":{\"outlinewidth\":0,\"ticks\":\"\"},\"colorscale\":[[0.0,\"#0d0887\"],[0.1111111111111111,\"#46039f\"],[0.2222222222222222,\"#7201a8\"],[0.3333333333333333,\"#9c179e\"],[0.4444444444444444,\"#bd3786\"],[0.5555555555555556,\"#d8576b\"],[0.6666666666666666,\"#ed7953\"],[0.7777777777777778,\"#fb9f3a\"],[0.8888888888888888,\"#fdca26\"],[1.0,\"#f0f921\"]]}],\"heatmap\":[{\"type\":\"heatmap\",\"colorbar\":{\"outlinewidth\":0,\"ticks\":\"\"},\"colorscale\":[[0.0,\"#0d0887\"],[0.1111111111111111,\"#46039f\"],[0.2222222222222222,\"#7201a8\"],[0.3333333333333333,\"#9c179e\"],[0.4444444444444444,\"#bd3786\"],[0.5555555555555556,\"#d8576b\"],[0.6666666666666666,\"#ed7953\"],[0.7777777777777778,\"#fb9f3a\"],[0.8888888888888888,\"#fdca26\"],[1.0,\"#f0f921\"]]}],\"heatmapgl\":[{\"type\":\"heatmapgl\",\"colorbar\":{\"outlinewidth\":0,\"ticks\":\"\"},\"colorscale\":[[0.0,\"#0d0887\"],[0.1111111111111111,\"#46039f\"],[0.2222222222222222,\"#7201a8\"],[0.3333333333333333,\"#9c179e\"],[0.4444444444444444,\"#bd3786\"],[0.5555555555555556,\"#d8576b\"],[0.6666666666666666,\"#ed7953\"],[0.7777777777777778,\"#fb9f3a\"],[0.8888888888888888,\"#fdca26\"],[1.0,\"#f0f921\"]]}],\"contourcarpet\":[{\"type\":\"contourcarpet\",\"colorbar\":{\"outlinewidth\":0,\"ticks\":\"\"}}],\"contour\":[{\"type\":\"contour\",\"colorbar\":{\"outlinewidth\":0,\"ticks\":\"\"},\"colorscale\":[[0.0,\"#0d0887\"],[0.1111111111111111,\"#46039f\"],[0.2222222222222222,\"#7201a8\"],[0.3333333333333333,\"#9c179e\"],[0.4444444444444444,\"#bd3786\"],[0.5555555555555556,\"#d8576b\"],[0.6666666666666666,\"#ed7953\"],[0.7777777777777778,\"#fb9f3a\"],[0.8888888888888888,\"#fdca26\"],[1.0,\"#f0f921\"]]}],\"surface\":[{\"type\":\"surface\",\"colorbar\":{\"outlinewidth\":0,\"ticks\":\"\"},\"colorscale\":[[0.0,\"#0d0887\"],[0.1111111111111111,\"#46039f\"],[0.2222222222222222,\"#7201a8\"],[0.3333333333333333,\"#9c179e\"],[0.4444444444444444,\"#bd3786\"],[0.5555555555555556,\"#d8576b\"],[0.6666666666666666,\"#ed7953\"],[0.7777777777777778,\"#fb9f3a\"],[0.8888888888888888,\"#fdca26\"],[1.0,\"#f0f921\"]]}],\"mesh3d\":[{\"type\":\"mesh3d\",\"colorbar\":{\"outlinewidth\":0,\"ticks\":\"\"}}],\"scatter\":[{\"fillpattern\":{\"fillmode\":\"overlay\",\"size\":10,\"solidity\":0.2},\"type\":\"scatter\"}],\"parcoords\":[{\"type\":\"parcoords\",\"line\":{\"colorbar\":{\"outlinewidth\":0,\"ticks\":\"\"}}}],\"scatterpolargl\":[{\"type\":\"scatterpolargl\",\"marker\":{\"colorbar\":{\"outlinewidth\":0,\"ticks\":\"\"}}}],\"bar\":[{\"error_x\":{\"color\":\"#2a3f5f\"},\"error_y\":{\"color\":\"#2a3f5f\"},\"marker\":{\"line\":{\"color\":\"#E5ECF6\",\"width\":0.5},\"pattern\":{\"fillmode\":\"overlay\",\"size\":10,\"solidity\":0.2}},\"type\":\"bar\"}],\"scattergeo\":[{\"type\":\"scattergeo\",\"marker\":{\"colorbar\":{\"outlinewidth\":0,\"ticks\":\"\"}}}],\"scatterpolar\":[{\"type\":\"scatterpolar\",\"marker\":{\"colorbar\":{\"outlinewidth\":0,\"ticks\":\"\"}}}],\"histogram\":[{\"marker\":{\"pattern\":{\"fillmode\":\"overlay\",\"size\":10,\"solidity\":0.2}},\"type\":\"histogram\"}],\"scattergl\":[{\"type\":\"scattergl\",\"marker\":{\"colorbar\":{\"outlinewidth\":0,\"ticks\":\"\"}}}],\"scatter3d\":[{\"type\":\"scatter3d\",\"line\":{\"colorbar\":{\"outlinewidth\":0,\"ticks\":\"\"}},\"marker\":{\"colorbar\":{\"outlinewidth\":0,\"ticks\":\"\"}}}],\"scattermapbox\":[{\"type\":\"scattermapbox\",\"marker\":{\"colorbar\":{\"outlinewidth\":0,\"ticks\":\"\"}}}],\"scatterternary\":[{\"type\":\"scatterternary\",\"marker\":{\"colorbar\":{\"outlinewidth\":0,\"ticks\":\"\"}}}],\"scattercarpet\":[{\"type\":\"scattercarpet\",\"marker\":{\"colorbar\":{\"outlinewidth\":0,\"ticks\":\"\"}}}],\"carpet\":[{\"aaxis\":{\"endlinecolor\":\"#2a3f5f\",\"gridcolor\":\"white\",\"linecolor\":\"white\",\"minorgridcolor\":\"white\",\"startlinecolor\":\"#2a3f5f\"},\"baxis\":{\"endlinecolor\":\"#2a3f5f\",\"gridcolor\":\"white\",\"linecolor\":\"white\",\"minorgridcolor\":\"white\",\"startlinecolor\":\"#2a3f5f\"},\"type\":\"carpet\"}],\"table\":[{\"cells\":{\"fill\":{\"color\":\"#EBF0F8\"},\"line\":{\"color\":\"white\"}},\"header\":{\"fill\":{\"color\":\"#C8D4E3\"},\"line\":{\"color\":\"white\"}},\"type\":\"table\"}],\"barpolar\":[{\"marker\":{\"line\":{\"color\":\"#E5ECF6\",\"width\":0.5},\"pattern\":{\"fillmode\":\"overlay\",\"size\":10,\"solidity\":0.2}},\"type\":\"barpolar\"}],\"pie\":[{\"automargin\":true,\"type\":\"pie\"}]},\"layout\":{\"autotypenumbers\":\"strict\",\"colorway\":[\"#636efa\",\"#EF553B\",\"#00cc96\",\"#ab63fa\",\"#FFA15A\",\"#19d3f3\",\"#FF6692\",\"#B6E880\",\"#FF97FF\",\"#FECB52\"],\"font\":{\"color\":\"#2a3f5f\"},\"hovermode\":\"closest\",\"hoverlabel\":{\"align\":\"left\"},\"paper_bgcolor\":\"white\",\"plot_bgcolor\":\"#E5ECF6\",\"polar\":{\"bgcolor\":\"#E5ECF6\",\"angularaxis\":{\"gridcolor\":\"white\",\"linecolor\":\"white\",\"ticks\":\"\"},\"radialaxis\":{\"gridcolor\":\"white\",\"linecolor\":\"white\",\"ticks\":\"\"}},\"ternary\":{\"bgcolor\":\"#E5ECF6\",\"aaxis\":{\"gridcolor\":\"white\",\"linecolor\":\"white\",\"ticks\":\"\"},\"baxis\":{\"gridcolor\":\"white\",\"linecolor\":\"white\",\"ticks\":\"\"},\"caxis\":{\"gridcolor\":\"white\",\"linecolor\":\"white\",\"ticks\":\"\"}},\"coloraxis\":{\"colorbar\":{\"outlinewidth\":0,\"ticks\":\"\"}},\"colorscale\":{\"sequential\":[[0.0,\"#0d0887\"],[0.1111111111111111,\"#46039f\"],[0.2222222222222222,\"#7201a8\"],[0.3333333333333333,\"#9c179e\"],[0.4444444444444444,\"#bd3786\"],[0.5555555555555556,\"#d8576b\"],[0.6666666666666666,\"#ed7953\"],[0.7777777777777778,\"#fb9f3a\"],[0.8888888888888888,\"#fdca26\"],[1.0,\"#f0f921\"]],\"sequentialminus\":[[0.0,\"#0d0887\"],[0.1111111111111111,\"#46039f\"],[0.2222222222222222,\"#7201a8\"],[0.3333333333333333,\"#9c179e\"],[0.4444444444444444,\"#bd3786\"],[0.5555555555555556,\"#d8576b\"],[0.6666666666666666,\"#ed7953\"],[0.7777777777777778,\"#fb9f3a\"],[0.8888888888888888,\"#fdca26\"],[1.0,\"#f0f921\"]],\"diverging\":[[0,\"#8e0152\"],[0.1,\"#c51b7d\"],[0.2,\"#de77ae\"],[0.3,\"#f1b6da\"],[0.4,\"#fde0ef\"],[0.5,\"#f7f7f7\"],[0.6,\"#e6f5d0\"],[0.7,\"#b8e186\"],[0.8,\"#7fbc41\"],[0.9,\"#4d9221\"],[1,\"#276419\"]]},\"xaxis\":{\"gridcolor\":\"white\",\"linecolor\":\"white\",\"ticks\":\"\",\"title\":{\"standoff\":15},\"zerolinecolor\":\"white\",\"automargin\":true,\"zerolinewidth\":2},\"yaxis\":{\"gridcolor\":\"white\",\"linecolor\":\"white\",\"ticks\":\"\",\"title\":{\"standoff\":15},\"zerolinecolor\":\"white\",\"automargin\":true,\"zerolinewidth\":2},\"scene\":{\"xaxis\":{\"backgroundcolor\":\"#E5ECF6\",\"gridcolor\":\"white\",\"linecolor\":\"white\",\"showbackground\":true,\"ticks\":\"\",\"zerolinecolor\":\"white\",\"gridwidth\":2},\"yaxis\":{\"backgroundcolor\":\"#E5ECF6\",\"gridcolor\":\"white\",\"linecolor\":\"white\",\"showbackground\":true,\"ticks\":\"\",\"zerolinecolor\":\"white\",\"gridwidth\":2},\"zaxis\":{\"backgroundcolor\":\"#E5ECF6\",\"gridcolor\":\"white\",\"linecolor\":\"white\",\"showbackground\":true,\"ticks\":\"\",\"zerolinecolor\":\"white\",\"gridwidth\":2}},\"shapedefaults\":{\"line\":{\"color\":\"#2a3f5f\"}},\"annotationdefaults\":{\"arrowcolor\":\"#2a3f5f\",\"arrowhead\":0,\"arrowwidth\":1},\"geo\":{\"bgcolor\":\"white\",\"landcolor\":\"#E5ECF6\",\"subunitcolor\":\"white\",\"showland\":true,\"showlakes\":true,\"lakecolor\":\"white\"},\"title\":{\"x\":0.05},\"mapbox\":{\"style\":\"light\"}}},\"xaxis\":{\"title\":{\"text\":\"Birth\"},\"side\":\"bottom\",\"type\":\"linear\",\"range\":[-0.012829850912094116,0.6543223965167999],\"autorange\":false,\"ticks\":\"outside\",\"showline\":true,\"zeroline\":true,\"linewidth\":1,\"linecolor\":\"black\",\"mirror\":false,\"showexponent\":\"all\",\"exponentformat\":\"e\"},\"yaxis\":{\"title\":{\"text\":\"Death\"},\"side\":\"left\",\"type\":\"linear\",\"range\":[-0.012829850912094116,0.6543223965167999],\"autorange\":false,\"scaleanchor\":\"x\",\"scaleratio\":1,\"ticks\":\"outside\",\"showline\":true,\"zeroline\":true,\"linewidth\":1,\"linecolor\":\"black\",\"mirror\":false,\"showexponent\":\"all\",\"exponentformat\":\"e\"},\"width\":500,\"height\":500,\"plot_bgcolor\":\"white\"},                        {\"responsive\": true}                    ).then(function(){\n",
       "                            \n",
       "var gd = document.getElementById('27380736-596c-4373-a385-b0e59973980f');\n",
       "var x = new MutationObserver(function (mutations, observer) {{\n",
       "        var display = window.getComputedStyle(gd).display;\n",
       "        if (!display || display === 'none') {{\n",
       "            console.log([gd, 'removed!']);\n",
       "            Plotly.purge(gd);\n",
       "            observer.disconnect();\n",
       "        }}\n",
       "}});\n",
       "\n",
       "// Listen for the removal of the full notebook cells\n",
       "var notebookContainer = gd.closest('#notebook-container');\n",
       "if (notebookContainer) {{\n",
       "    x.observe(notebookContainer, {childList: true});\n",
       "}}\n",
       "\n",
       "// Listen for the clearing of the current output cell\n",
       "var outputEl = gd.closest('.output');\n",
       "if (outputEl) {{\n",
       "    x.observe(outputEl, {childList: true});\n",
       "}}\n",
       "\n",
       "                        })                };                });            </script>        </div>"
      ]
     },
     "metadata": {},
     "output_type": "display_data"
    }
   ],
   "source": [
    "# clique oriented PS\n",
    "dgm_clique_or_PS=rev_directed(L_PS)\n",
    "plot_diagram(dgm_clique_or_PS[0])"
   ]
  },
  {
   "cell_type": "code",
   "execution_count": 62,
   "id": "afee38b6",
   "metadata": {},
   "outputs": [
    {
     "name": "stdout",
     "output_type": "stream",
     "text": [
      "0.00012368583797155226\n"
     ]
    },
    {
     "data": {
      "text/plain": [
       "<AxesSubplot:title={'center':'Persistence diagram'}, xlabel='Birth', ylabel='Death'>"
      ]
     },
     "execution_count": 62,
     "metadata": {},
     "output_type": "execute_result"
    },
    {
     "data": {
      "image/png": "[encoded data removed]",
      "text/plain": [
       "<Figure size 432x288 with 1 Axes>"
      ]
     },
     "metadata": {
      "needs_background": "light"
     },
     "output_type": "display_data"
    }
   ],
   "source": [
    "# high order, violating triangles PS\n",
    "indifference_value=0.05\n",
    "print(hyper_coherence(ts_PS,indifference_value))\n",
    "dgm_high_PS=create_diagram_directly_2(ts_PS,indifference_value)\n",
    "gudhi.plot_persistence_diagram(dgm_high_PS)"
   ]
  },
  {
   "cell_type": "code",
   "execution_count": 63,
   "id": "cde4bdff",
   "metadata": {},
   "outputs": [
    {
     "data": {
      "text/plain": [
       "<matplotlib.colorbar.Colorbar at 0x28b1b21fa60>"
      ]
     },
     "execution_count": 63,
     "metadata": {},
     "output_type": "execute_result"
    },
    {
     "data": {
      "image/png": "[encoded data removed]",
      "text/plain": [
       "<Figure size 720x504 with 2 Axes>"
      ]
     },
     "metadata": {
      "needs_background": "light"
     },
     "output_type": "display_data"
    }
   ],
   "source": [
    "# CBMD CBMD\n",
    "L_CBMD=lead_matrix_1(ts_CBMD)\n",
    "plt.figure(figsize=(10,7))\n",
    "plt.imshow(L_CBMD, alpha=0.9, cmap=\"Blues\")\n",
    "plt.colorbar()"
   ]
  },
  {
   "cell_type": "code",
   "execution_count": 64,
   "id": "42b55355",
   "metadata": {},
   "outputs": [
    {
     "data": {
      "application/vnd.plotly.v1+json": {
       "config": {
        "plotlyServerURL": "https://plot.ly"
       },
       "data": [
        {
         "hoverinfo": "none",
         "line": {
          "color": "black",
          "dash": "dash",
          "width": 1
         },
         "mode": "lines",
         "showlegend": false,
         "type": "scatter",
         "x": [
          -0.005294720530509949,
          0.2700307470560074
         ],
         "y": [
          -0.005294720530509949,
          0.2700307470560074
         ]
        },
        {
         "hoverinfo": "text",
         "hovertext": [
          "(0.0, 0.01209315937012434)",
          "(0.0, 0.017583953216671944)",
          "(0.0, 0.03722340613603592)",
          "(0.0, 0.038464441895484924)",
          "(0.0, 0.039512284100055695)",
          "(0.0, 0.04226548597216606)",
          "(0.0, 0.0533461757004261)",
          "(0.0, 0.05641385167837143)",
          "(0.0, 0.058851633220911026)",
          "(0.0, 0.05991348251700401)",
          "(0.0, 0.07213085889816284)",
          "(0.0, 0.0791701152920723)",
          "(0.0, 0.08358465880155563)",
          "(0.0, 0.08502786606550217)",
          "(0.0, 0.08886993676424026)",
          "(0.0, 0.09247290343046188)",
          "(0.0, 0.09356632083654404)",
          "(0.0, 0.09434392303228378)",
          "(0.0, 0.0980035588145256)",
          "(0.0, 0.10189320892095566)",
          "(0.0, 0.10195527970790863)",
          "(0.0, 0.10726167261600494)",
          "(0.0, 0.1130124181509018)",
          "(0.0, 0.11389455944299698)",
          "(0.0, 0.11635318398475647)",
          "(0.0, 0.11701759696006775)",
          "(0.0, 0.11744341254234314)",
          "(0.0, 0.11745287477970123)",
          "(0.0, 0.11765621602535248)",
          "(0.0, 0.12337251752614975)",
          "(0.0, 0.12521213293075562)",
          "(0.0, 0.12745721638202667)",
          "(0.0, 0.12947073578834534)",
          "(0.0, 0.13121171295642853)",
          "(0.0, 0.1347273290157318)",
          "(0.0, 0.13799971342086792)",
          "(0.0, 0.13830211758613586)",
          "(0.0, 0.1383516937494278)",
          "(0.0, 0.1398354023694992)",
          "(0.0, 0.1398528516292572)",
          "(0.0, 0.1406921148300171)",
          "(0.0, 0.1415206789970398)",
          "(0.0, 0.14331276714801788)",
          "(0.0, 0.14385931193828583)",
          "(0.0, 0.1483559012413025)",
          "(0.0, 0.14977429807186127)",
          "(0.0, 0.15096181631088257)",
          "(0.0, 0.15113359689712524)",
          "(0.0, 0.15213003754615784)",
          "(0.0, 0.1535084843635559)",
          "(0.0, 0.15397045016288757)",
          "(0.0, 0.15555821359157562)",
          "(0.0, 0.155679389834404)",
          "(0.0, 0.15895549952983856)",
          "(0.0, 0.1605832725763321)",
          "(0.0, 0.16125807166099548)",
          "(0.0, 0.16137492656707764)",
          "(0.0, 0.16392676532268524)",
          "(0.0, 0.16543002426624298)",
          "(0.0, 0.16545990109443665)",
          "(0.0, 0.16893748939037323)",
          "(0.0, 0.17012916505336761)",
          "(0.0, 0.17125914990901947)",
          "(0.0, 0.17211514711380005)",
          "(0.0, 0.17239801585674286)",
          "(0.0, 0.17255808413028717)",
          "(0.0, 0.17274153232574463)",
          "(0.0, 0.1744047850370407)",
          "(0.0, 0.17458361387252808)",
          "(0.0, 0.17465071380138397)",
          "(0.0, 0.17523713409900665)",
          "(0.0, 0.17666487395763397)",
          "(0.0, 0.1766899675130844)",
          "(0.0, 0.17743618786334991)",
          "(0.0, 0.17752289772033691)",
          "(0.0, 0.17779360711574554)",
          "(0.0, 0.17899246513843536)",
          "(0.0, 0.1803256720304489)",
          "(0.0, 0.18158791959285736)",
          "(0.0, 0.1834544539451599)",
          "(0.0, 0.18372181057929993)",
          "(0.0, 0.1851297914981842)",
          "(0.0, 0.1856921762228012)",
          "(0.0, 0.1858164370059967)",
          "(0.0, 0.18753230571746826)",
          "(0.0, 0.18774761259555817)",
          "(0.0, 0.187886580824852)",
          "(0.0, 0.18901804089546204)",
          "(0.0, 0.18944059312343597)",
          "(0.0, 0.1943361461162567)",
          "(0.0, 0.19475626945495605)",
          "(0.0, 0.19759304821491241)",
          "(0.0, 0.19831161201000214)",
          "(0.0, 0.19937896728515625)",
          "(0.0, 0.20010723173618317)",
          "(0.0, 0.20061661303043365)",
          "(0.0, 0.20095239579677582)",
          "(0.0, 0.20604242384433746)"
         ],
         "mode": "markers",
         "name": "H0",
         "type": "scatter",
         "x": [
          0,
          0,
          0,
          0,
          0,
          0,
          0,
          0,
          0,
          0,
          0,
          0,
          0,
          0,
          0,
          0,
          0,
          0,
          0,
          0,
          0,
          0,
          0,
          0,
          0,
          0,
          0,
          0,
          0,
          0,
          0,
          0,
          0,
          0,
          0,
          0,
          0,
          0,
          0,
          0,
          0,
          0,
          0,
          0,
          0,
          0,
          0,
          0,
          0,
          0,
          0,
          0,
          0,
          0,
          0,
          0,
          0,
          0,
          0,
          0,
          0,
          0,
          0,
          0,
          0,
          0,
          0,
          0,
          0,
          0,
          0,
          0,
          0,
          0,
          0,
          0,
          0,
          0,
          0,
          0,
          0,
          0,
          0,
          0,
          0,
          0,
          0,
          0,
          0,
          0,
          0,
          0,
          0,
          0,
          0,
          0,
          0,
          0
         ],
         "y": [
          0.01209315937012434,
          0.017583953216671944,
          0.03722340613603592,
          0.038464441895484924,
          0.039512284100055695,
          0.04226548597216606,
          0.0533461757004261,
          0.05641385167837143,
          0.058851633220911026,
          0.05991348251700401,
          0.07213085889816284,
          0.0791701152920723,
          0.08358465880155563,
          0.08502786606550217,
          0.08886993676424026,
          0.09247290343046188,
          0.09356632083654404,
          0.09434392303228378,
          0.0980035588145256,
          0.10189320892095566,
          0.10195527970790863,
          0.10726167261600494,
          0.1130124181509018,
          0.11389455944299698,
          0.11635318398475647,
          0.11701759696006775,
          0.11744341254234314,
          0.11745287477970123,
          0.11765621602535248,
          0.12337251752614975,
          0.12521213293075562,
          0.12745721638202667,
          0.12947073578834534,
          0.13121171295642853,
          0.1347273290157318,
          0.13799971342086792,
          0.13830211758613586,
          0.1383516937494278,
          0.1398354023694992,
          0.1398528516292572,
          0.1406921148300171,
          0.1415206789970398,
          0.14331276714801788,
          0.14385931193828583,
          0.1483559012413025,
          0.14977429807186127,
          0.15096181631088257,
          0.15113359689712524,
          0.15213003754615784,
          0.1535084843635559,
          0.15397045016288757,
          0.15555821359157562,
          0.155679389834404,
          0.15895549952983856,
          0.1605832725763321,
          0.16125807166099548,
          0.16137492656707764,
          0.16392676532268524,
          0.16543002426624298,
          0.16545990109443665,
          0.16893748939037323,
          0.17012916505336761,
          0.17125914990901947,
          0.17211514711380005,
          0.17239801585674286,
          0.17255808413028717,
          0.17274153232574463,
          0.1744047850370407,
          0.17458361387252808,
          0.17465071380138397,
          0.17523713409900665,
          0.17666487395763397,
          0.1766899675130844,
          0.17743618786334991,
          0.17752289772033691,
          0.17779360711574554,
          0.17899246513843536,
          0.1803256720304489,
          0.18158791959285736,
          0.1834544539451599,
          0.18372181057929993,
          0.1851297914981842,
          0.1856921762228012,
          0.1858164370059967,
          0.18753230571746826,
          0.18774761259555817,
          0.187886580824852,
          0.18901804089546204,
          0.18944059312343597,
          0.1943361461162567,
          0.19475626945495605,
          0.19759304821491241,
          0.19831161201000214,
          0.19937896728515625,
          0.20010723173618317,
          0.20061661303043365,
          0.20095239579677582,
          0.20604242384433746
         ]
        },
        {
         "hoverinfo": "text",
         "hovertext": [
          "(0.26020580530166626, 0.26473602652549744)",
          "(0.24770712852478027, 0.2558400630950928)",
          "(0.2397843450307846, 0.2500212788581848)",
          "(0.23919424414634705, 0.25062981247901917)",
          "(0.23903924226760864, 0.2458336055278778)",
          "(0.23896320164203644, 0.2521064579486847)",
          "(0.2371789664030075, 0.24021433293819427)",
          "(0.23372416198253632, 0.2350567877292633)",
          "(0.2333115041255951, 0.24453462660312653)",
          "(0.23083947598934174, 0.2534216642379761)",
          "(0.23044155538082123, 0.2396906018257141)",
          "(0.2280549257993698, 0.22851595282554626)",
          "(0.22424331307411194, 0.22818465530872345)",
          "(0.22397547960281372, 0.22607462108135223)",
          "(0.22389313578605652, 0.22906480729579926)",
          "(0.22360406816005707, 0.22637242078781128)",
          "(0.22274205088615417, 0.22906480729579926)",
          "(0.2225794643163681, 0.22877518832683563)",
          "(0.22222718596458435, 0.23115147650241852)",
          "(0.22048524022102356, 0.22848094999790192)",
          "(0.2200857549905777, 0.22013674676418304)",
          "(0.21993841230869293, 0.23374901711940765)",
          "(0.21988758444786072, 0.22493407130241394)",
          "(0.21898171305656433, 0.22906480729579926)",
          "(0.2188170850276947, 0.2227621227502823)",
          "(0.21849612891674042, 0.22278055548667908)",
          "(0.2180500030517578, 0.219853475689888)",
          "(0.21770015358924866, 0.221867635846138)",
          "(0.2174665480852127, 0.22457225620746613)",
          "(0.21743103861808777, 0.22260282933712006)",
          "(0.21726727485656738, 0.2450815886259079)",
          "(0.21723900735378265, 0.22061751782894135)",
          "(0.21652989089488983, 0.23744027316570282)",
          "(0.2164446860551834, 0.22675929963588715)",
          "(0.21613575518131256, 0.2549086809158325)",
          "(0.21607127785682678, 0.2205253392457962)",
          "(0.2150018960237503, 0.2339419722557068)",
          "(0.21471130847930908, 0.21676650643348694)",
          "(0.21414346992969513, 0.22566747665405273)",
          "(0.2139892578125, 0.22852440178394318)",
          "(0.213907852768898, 0.23302048444747925)",
          "(0.21364392340183258, 0.22440460324287415)",
          "(0.2135242521762848, 0.21763986349105835)",
          "(0.21347101032733917, 0.21849165856838226)",
          "(0.2121344804763794, 0.22887954115867615)",
          "(0.21208135783672333, 0.22585639357566833)",
          "(0.21186481416225433, 0.23568269610404968)",
          "(0.21174320578575134, 0.22440460324287415)",
          "(0.21173593401908875, 0.22957457602024078)",
          "(0.211463063955307, 0.214622363448143)",
          "(0.2113182544708252, 0.2213107794523239)",
          "(0.21115002036094666, 0.22293323278427124)",
          "(0.21114860475063324, 0.22133184969425201)",
          "(0.21097438037395477, 0.22260282933712006)",
          "(0.2098049521446228, 0.2548428177833557)",
          "(0.20928917825222015, 0.2221023589372635)",
          "(0.20803025364875793, 0.22382254898548126)",
          "(0.20767638087272644, 0.21183274686336517)",
          "(0.2076214700937271, 0.21444649994373322)",
          "(0.20742754638195038, 0.21447277069091797)",
          "(0.20631973445415497, 0.24034851789474487)",
          "(0.2057543694972992, 0.22892878949642181)",
          "(0.2056306004524231, 0.2191527783870697)",
          "(0.20538489520549774, 0.21923917531967163)",
          "(0.2053530067205429, 0.2076823115348816)",
          "(0.20517073571681976, 0.2052474468946457)",
          "(0.20511414110660553, 0.23290756344795227)",
          "(0.2050800919532776, 0.21310974657535553)",
          "(0.20503850281238556, 0.21849165856838226)",
          "(0.20484258234500885, 0.2198864370584488)",
          "(0.20436908304691315, 0.2428678423166275)",
          "(0.2041155993938446, 0.22810295224189758)",
          "(0.2038532942533493, 0.21146850287914276)",
          "(0.20368815958499908, 0.22810295224189758)",
          "(0.20354191958904266, 0.20785388350486755)",
          "(0.2034846693277359, 0.21769893169403076)",
          "(0.20346884429454803, 0.21864266693592072)",
          "(0.2027561515569687, 0.23662303388118744)",
          "(0.20256800949573517, 0.208187997341156)",
          "(0.20246271789073944, 0.21968047320842743)",
          "(0.20209136605262756, 0.21273016929626465)",
          "(0.20192891359329224, 0.22819864749908447)",
          "(0.20075762271881104, 0.21149536967277527)",
          "(0.20067282021045685, 0.22675643861293793)",
          "(0.20030584931373596, 0.2110724002122879)",
          "(0.1995232105255127, 0.21149536967277527)",
          "(0.19919589161872864, 0.21701811254024506)",
          "(0.19909247756004333, 0.20746932923793793)",
          "(0.19843046367168427, 0.2166098803281784)",
          "(0.1982463002204895, 0.20241625607013702)",
          "(0.1981184184551239, 0.2167268842458725)",
          "(0.19808192551136017, 0.23726612329483032)",
          "(0.19768299162387848, 0.19922032952308655)",
          "(0.19741161167621613, 0.20700953900814056)",
          "(0.1965627670288086, 0.1966322809457779)",
          "(0.1962914913892746, 0.21310974657535553)",
          "(0.19593794643878937, 0.22653867304325104)",
          "(0.1959173083305359, 0.20412471890449524)",
          "(0.19587257504463196, 0.22906480729579926)",
          "(0.1955016404390335, 0.21340565383434296)",
          "(0.19540217518806458, 0.2014373242855072)",
          "(0.1952405720949173, 0.19583763182163239)",
          "(0.1952286809682846, 0.22637242078781128)",
          "(0.19521306455135345, 0.23504173755645752)",
          "(0.19478797912597656, 0.2007051408290863)",
          "(0.19411702454090118, 0.1985873430967331)",
          "(0.19399242103099823, 0.20831547677516937)",
          "(0.19313840568065643, 0.22585639357566833)",
          "(0.19296090304851532, 0.2003019154071808)",
          "(0.19293448328971863, 0.21363654732704163)",
          "(0.1928626298904419, 0.22104580700397491)",
          "(0.1926174759864807, 0.22069518268108368)",
          "(0.19258244335651398, 0.19410783052444458)",
          "(0.1914195716381073, 0.20876359939575195)",
          "(0.19141829013824463, 0.20700953900814056)",
          "(0.19115108251571655, 0.22633910179138184)",
          "(0.19024154543876648, 0.20700953900814056)",
          "(0.19012446701526642, 0.1916462481021881)",
          "(0.1899988055229187, 0.2158161848783493)",
          "(0.18985247611999512, 0.19899813830852509)",
          "(0.18949554860591888, 0.2213107794523239)",
          "(0.18948517739772797, 0.2013939470052719)",
          "(0.18945296108722687, 0.20715731382369995)",
          "(0.1894487738609314, 0.2315930873155594)",
          "(0.18900810182094574, 0.2076823115348816)",
          "(0.18889877200126648, 0.19408054649829865)",
          "(0.18886300921440125, 0.20559921860694885)",
          "(0.18825754523277283, 0.21701811254024506)",
          "(0.1880779266357422, 0.20160417258739471)",
          "(0.18803125619888306, 0.20036102831363678)",
          "(0.1880248636007309, 0.2198864370584488)",
          "(0.18777664005756378, 0.20343270897865295)",
          "(0.18749912083148956, 0.2044638693332672)",
          "(0.1873594969511032, 0.19577519595623016)",
          "(0.18677055835723877, 0.19772474467754364)",
          "(0.1865498274564743, 0.18852046132087708)",
          "(0.18640847504138947, 0.24423626065254211)",
          "(0.18597811460494995, 0.19497497379779816)",
          "(0.1859384924173355, 0.23516418039798737)",
          "(0.18589521944522858, 0.2113254815340042)",
          "(0.18581801652908325, 0.22614678740501404)",
          "(0.18565510213375092, 0.21100449562072754)",
          "(0.18405283987522125, 0.19772474467754364)",
          "(0.18401914834976196, 0.23591798543930054)",
          "(0.18358220160007477, 0.2052944302558899)",
          "(0.18311947584152222, 0.21780532598495483)",
          "(0.18230903148651123, 0.19473250210285187)",
          "(0.1820516437292099, 0.21835513412952423)",
          "(0.18196873366832733, 0.1933985948562622)",
          "(0.18145513534545898, 0.20325759053230286)",
          "(0.1802181899547577, 0.20700953900814056)",
          "(0.17997218668460846, 0.21701811254024506)",
          "(0.17973773181438446, 0.2198864370584488)",
          "(0.1794414520263672, 0.22296956181526184)",
          "(0.17939715087413788, 0.19338847696781158)",
          "(0.17938537895679474, 0.18546362221240997)",
          "(0.1790277361869812, 0.19408054649829865)",
          "(0.17816923558712006, 0.18998385965824127)",
          "(0.17809249460697174, 0.2227621227502823)",
          "(0.1778312772512436, 0.2076823115348816)",
          "(0.1770581603050232, 0.22296956181526184)",
          "(0.1766628473997116, 0.21512667834758759)",
          "(0.1764625906944275, 0.1952936202287674)",
          "(0.17645049095153809, 0.2330433875322342)",
          "(0.17636224627494812, 0.22382254898548126)",
          "(0.17626535892486572, 0.229511559009552)",
          "(0.17578433454036713, 0.20827680826187134)",
          "(0.17529621720314026, 0.22602345049381256)",
          "(0.1751762330532074, 0.20928987860679626)",
          "(0.17495284974575043, 0.19408054649829865)",
          "(0.17457935214042664, 0.17981921136379242)",
          "(0.17421390116214752, 0.21310974657535553)",
          "(0.17401011288166046, 0.22174660861492157)",
          "(0.17341084778308868, 0.1767912656068802)",
          "(0.1732105314731598, 0.1767912656068802)",
          "(0.17270684242248535, 0.21789804100990295)",
          "(0.17204830050468445, 0.19410783052444458)",
          "(0.17198778688907623, 0.20932145416736603)",
          "(0.17133870720863342, 0.1791669875383377)",
          "(0.17101116478443146, 0.1966322809457779)",
          "(0.17043519020080566, 0.19220052659511566)",
          "(0.16961275041103363, 0.1985873430967331)",
          "(0.16933327913284302, 0.19410783052444458)",
          "(0.16884858906269073, 0.21403656899929047)",
          "(0.1683337390422821, 0.19578586518764496)",
          "(0.1675533950328827, 0.1933985948562622)",
          "(0.1675456017255783, 0.21100449562072754)",
          "(0.16731800138950348, 0.18641962110996246)",
          "(0.1670362800359726, 0.18971924483776093)",
          "(0.16657187044620514, 0.20826011896133423)",
          "(0.16542492806911469, 0.20279143750667572)",
          "(0.16495062410831451, 0.2017935812473297)",
          "(0.1643650382757187, 0.20115365087985992)",
          "(0.1621483415365219, 0.16562850773334503)",
          "(0.16118291020393372, 0.20720414817333221)",
          "(0.1599414199590683, 0.18641962110996246)",
          "(0.15971046686172485, 0.20775017142295837)",
          "(0.15932276844978333, 0.18264245986938477)",
          "(0.1575080156326294, 0.1791669875383377)",
          "(0.15730799734592438, 0.20876359939575195)",
          "(0.15670721232891083, 0.1964995265007019)",
          "(0.15619350969791412, 0.218858003616333)",
          "(0.15555867552757263, 0.21996375918388367)",
          "(0.15497122704982758, 0.20785388350486755)",
          "(0.1542743444442749, 0.22760793566703796)",
          "(0.15361426770687103, 0.2009304016828537)",
          "(0.15359364449977875, 0.19408054649829865)",
          "(0.15333811938762665, 0.2006441205739975)",
          "(0.15267273783683777, 0.18641962110996246)",
          "(0.1509619653224945, 0.16562850773334503)",
          "(0.15046359598636627, 0.20827680826187134)",
          "(0.14977572858333588, 0.20115365087985992)",
          "(0.1484602391719818, 0.20876359939575195)",
          "(0.14667735993862152, 0.1976049393415451)",
          "(0.14614535868167877, 0.20279143750667572)",
          "(0.14604587852954865, 0.20094606280326843)",
          "(0.14569085836410522, 0.20775017142295837)",
          "(0.14426438510417938, 0.2009304016828537)",
          "(0.14209771156311035, 0.20893089473247528)",
          "(0.1417435258626938, 0.2008005827665329)",
          "(0.1412421464920044, 0.2035997360944748)",
          "(0.13853760063648224, 0.2008005827665329)",
          "(0.1372753083705902, 0.2009304016828537)",
          "(0.13656935095787048, 0.18109723925590515)",
          "(0.1365230828523636, 0.22687028348445892)",
          "(0.13460344076156616, 0.20826011896133423)",
          "(0.13256298005580902, 0.1723298579454422)",
          "(0.13037613034248352, 0.20893089473247528)",
          "(0.1301991492509842, 0.19583763182163239)",
          "(0.12735168635845184, 0.18109723925590515)",
          "(0.12654033303260803, 0.1976049393415451)",
          "(0.11457961797714233, 0.18109723925590515)",
          "(0.09662975370883942, 0.09819874912500381)",
          "(0.0870986133813858, 0.13225659728050232)",
          "(0.07249056547880173, 0.13225659728050232)"
         ],
         "mode": "markers",
         "name": "H1",
         "type": "scatter",
         "x": [
          0.26020580530166626,
          0.24770712852478027,
          0.2397843450307846,
          0.23919424414634705,
          0.23903924226760864,
          0.23896320164203644,
          0.2371789664030075,
          0.23372416198253632,
          0.2333115041255951,
          0.23083947598934174,
          0.23044155538082123,
          0.2280549257993698,
          0.22424331307411194,
          0.22397547960281372,
          0.22389313578605652,
          0.22360406816005707,
          0.22274205088615417,
          0.2225794643163681,
          0.22222718596458435,
          0.22048524022102356,
          0.2200857549905777,
          0.21993841230869293,
          0.21988758444786072,
          0.21898171305656433,
          0.2188170850276947,
          0.21849612891674042,
          0.2180500030517578,
          0.21770015358924866,
          0.2174665480852127,
          0.21743103861808777,
          0.21726727485656738,
          0.21723900735378265,
          0.21652989089488983,
          0.2164446860551834,
          0.21613575518131256,
          0.21607127785682678,
          0.2150018960237503,
          0.21471130847930908,
          0.21414346992969513,
          0.2139892578125,
          0.213907852768898,
          0.21364392340183258,
          0.2135242521762848,
          0.21347101032733917,
          0.2121344804763794,
          0.21208135783672333,
          0.21186481416225433,
          0.21174320578575134,
          0.21173593401908875,
          0.211463063955307,
          0.2113182544708252,
          0.21115002036094666,
          0.21114860475063324,
          0.21097438037395477,
          0.2098049521446228,
          0.20928917825222015,
          0.20803025364875793,
          0.20767638087272644,
          0.2076214700937271,
          0.20742754638195038,
          0.20631973445415497,
          0.2057543694972992,
          0.2056306004524231,
          0.20538489520549774,
          0.2053530067205429,
          0.20517073571681976,
          0.20511414110660553,
          0.2050800919532776,
          0.20503850281238556,
          0.20484258234500885,
          0.20436908304691315,
          0.2041155993938446,
          0.2038532942533493,
          0.20368815958499908,
          0.20354191958904266,
          0.2034846693277359,
          0.20346884429454803,
          0.2027561515569687,
          0.20256800949573517,
          0.20246271789073944,
          0.20209136605262756,
          0.20192891359329224,
          0.20075762271881104,
          0.20067282021045685,
          0.20030584931373596,
          0.1995232105255127,
          0.19919589161872864,
          0.19909247756004333,
          0.19843046367168427,
          0.1982463002204895,
          0.1981184184551239,
          0.19808192551136017,
          0.19768299162387848,
          0.19741161167621613,
          0.1965627670288086,
          0.1962914913892746,
          0.19593794643878937,
          0.1959173083305359,
          0.19587257504463196,
          0.1955016404390335,
          0.19540217518806458,
          0.1952405720949173,
          0.1952286809682846,
          0.19521306455135345,
          0.19478797912597656,
          0.19411702454090118,
          0.19399242103099823,
          0.19313840568065643,
          0.19296090304851532,
          0.19293448328971863,
          0.1928626298904419,
          0.1926174759864807,
          0.19258244335651398,
          0.1914195716381073,
          0.19141829013824463,
          0.19115108251571655,
          0.19024154543876648,
          0.19012446701526642,
          0.1899988055229187,
          0.18985247611999512,
          0.18949554860591888,
          0.18948517739772797,
          0.18945296108722687,
          0.1894487738609314,
          0.18900810182094574,
          0.18889877200126648,
          0.18886300921440125,
          0.18825754523277283,
          0.1880779266357422,
          0.18803125619888306,
          0.1880248636007309,
          0.18777664005756378,
          0.18749912083148956,
          0.1873594969511032,
          0.18677055835723877,
          0.1865498274564743,
          0.18640847504138947,
          0.18597811460494995,
          0.1859384924173355,
          0.18589521944522858,
          0.18581801652908325,
          0.18565510213375092,
          0.18405283987522125,
          0.18401914834976196,
          0.18358220160007477,
          0.18311947584152222,
          0.18230903148651123,
          0.1820516437292099,
          0.18196873366832733,
          0.18145513534545898,
          0.1802181899547577,
          0.17997218668460846,
          0.17973773181438446,
          0.1794414520263672,
          0.17939715087413788,
          0.17938537895679474,
          0.1790277361869812,
          0.17816923558712006,
          0.17809249460697174,
          0.1778312772512436,
          0.1770581603050232,
          0.1766628473997116,
          0.1764625906944275,
          0.17645049095153809,
          0.17636224627494812,
          0.17626535892486572,
          0.17578433454036713,
          0.17529621720314026,
          0.1751762330532074,
          0.17495284974575043,
          0.17457935214042664,
          0.17421390116214752,
          0.17401011288166046,
          0.17341084778308868,
          0.1732105314731598,
          0.17270684242248535,
          0.17204830050468445,
          0.17198778688907623,
          0.17133870720863342,
          0.17101116478443146,
          0.17043519020080566,
          0.16961275041103363,
          0.16933327913284302,
          0.16884858906269073,
          0.1683337390422821,
          0.1675533950328827,
          0.1675456017255783,
          0.16731800138950348,
          0.1670362800359726,
          0.16657187044620514,
          0.16542492806911469,
          0.16495062410831451,
          0.1643650382757187,
          0.1621483415365219,
          0.16118291020393372,
          0.1599414199590683,
          0.15971046686172485,
          0.15932276844978333,
          0.1575080156326294,
          0.15730799734592438,
          0.15670721232891083,
          0.15619350969791412,
          0.15555867552757263,
          0.15497122704982758,
          0.1542743444442749,
          0.15361426770687103,
          0.15359364449977875,
          0.15333811938762665,
          0.15267273783683777,
          0.1509619653224945,
          0.15046359598636627,
          0.14977572858333588,
          0.1484602391719818,
          0.14667735993862152,
          0.14614535868167877,
          0.14604587852954865,
          0.14569085836410522,
          0.14426438510417938,
          0.14209771156311035,
          0.1417435258626938,
          0.1412421464920044,
          0.13853760063648224,
          0.1372753083705902,
          0.13656935095787048,
          0.1365230828523636,
          0.13460344076156616,
          0.13256298005580902,
          0.13037613034248352,
          0.1301991492509842,
          0.12735168635845184,
          0.12654033303260803,
          0.11457961797714233,
          0.09662975370883942,
          0.0870986133813858,
          0.07249056547880173
         ],
         "y": [
          0.26473602652549744,
          0.2558400630950928,
          0.2500212788581848,
          0.25062981247901917,
          0.2458336055278778,
          0.2521064579486847,
          0.24021433293819427,
          0.2350567877292633,
          0.24453462660312653,
          0.2534216642379761,
          0.2396906018257141,
          0.22851595282554626,
          0.22818465530872345,
          0.22607462108135223,
          0.22906480729579926,
          0.22637242078781128,
          0.22906480729579926,
          0.22877518832683563,
          0.23115147650241852,
          0.22848094999790192,
          0.22013674676418304,
          0.23374901711940765,
          0.22493407130241394,
          0.22906480729579926,
          0.2227621227502823,
          0.22278055548667908,
          0.219853475689888,
          0.221867635846138,
          0.22457225620746613,
          0.22260282933712006,
          0.2450815886259079,
          0.22061751782894135,
          0.23744027316570282,
          0.22675929963588715,
          0.2549086809158325,
          0.2205253392457962,
          0.2339419722557068,
          0.21676650643348694,
          0.22566747665405273,
          0.22852440178394318,
          0.23302048444747925,
          0.22440460324287415,
          0.21763986349105835,
          0.21849165856838226,
          0.22887954115867615,
          0.22585639357566833,
          0.23568269610404968,
          0.22440460324287415,
          0.22957457602024078,
          0.214622363448143,
          0.2213107794523239,
          0.22293323278427124,
          0.22133184969425201,
          0.22260282933712006,
          0.2548428177833557,
          0.2221023589372635,
          0.22382254898548126,
          0.21183274686336517,
          0.21444649994373322,
          0.21447277069091797,
          0.24034851789474487,
          0.22892878949642181,
          0.2191527783870697,
          0.21923917531967163,
          0.2076823115348816,
          0.2052474468946457,
          0.23290756344795227,
          0.21310974657535553,
          0.21849165856838226,
          0.2198864370584488,
          0.2428678423166275,
          0.22810295224189758,
          0.21146850287914276,
          0.22810295224189758,
          0.20785388350486755,
          0.21769893169403076,
          0.21864266693592072,
          0.23662303388118744,
          0.208187997341156,
          0.21968047320842743,
          0.21273016929626465,
          0.22819864749908447,
          0.21149536967277527,
          0.22675643861293793,
          0.2110724002122879,
          0.21149536967277527,
          0.21701811254024506,
          0.20746932923793793,
          0.2166098803281784,
          0.20241625607013702,
          0.2167268842458725,
          0.23726612329483032,
          0.19922032952308655,
          0.20700953900814056,
          0.1966322809457779,
          0.21310974657535553,
          0.22653867304325104,
          0.20412471890449524,
          0.22906480729579926,
          0.21340565383434296,
          0.2014373242855072,
          0.19583763182163239,
          0.22637242078781128,
          0.23504173755645752,
          0.2007051408290863,
          0.1985873430967331,
          0.20831547677516937,
          0.22585639357566833,
          0.2003019154071808,
          0.21363654732704163,
          0.22104580700397491,
          0.22069518268108368,
          0.19410783052444458,
          0.20876359939575195,
          0.20700953900814056,
          0.22633910179138184,
          0.20700953900814056,
          0.1916462481021881,
          0.2158161848783493,
          0.19899813830852509,
          0.2213107794523239,
          0.2013939470052719,
          0.20715731382369995,
          0.2315930873155594,
          0.2076823115348816,
          0.19408054649829865,
          0.20559921860694885,
          0.21701811254024506,
          0.20160417258739471,
          0.20036102831363678,
          0.2198864370584488,
          0.20343270897865295,
          0.2044638693332672,
          0.19577519595623016,
          0.19772474467754364,
          0.18852046132087708,
          0.24423626065254211,
          0.19497497379779816,
          0.23516418039798737,
          0.2113254815340042,
          0.22614678740501404,
          0.21100449562072754,
          0.19772474467754364,
          0.23591798543930054,
          0.2052944302558899,
          0.21780532598495483,
          0.19473250210285187,
          0.21835513412952423,
          0.1933985948562622,
          0.20325759053230286,
          0.20700953900814056,
          0.21701811254024506,
          0.2198864370584488,
          0.22296956181526184,
          0.19338847696781158,
          0.18546362221240997,
          0.19408054649829865,
          0.18998385965824127,
          0.2227621227502823,
          0.2076823115348816,
          0.22296956181526184,
          0.21512667834758759,
          0.1952936202287674,
          0.2330433875322342,
          0.22382254898548126,
          0.229511559009552,
          0.20827680826187134,
          0.22602345049381256,
          0.20928987860679626,
          0.19408054649829865,
          0.17981921136379242,
          0.21310974657535553,
          0.22174660861492157,
          0.1767912656068802,
          0.1767912656068802,
          0.21789804100990295,
          0.19410783052444458,
          0.20932145416736603,
          0.1791669875383377,
          0.1966322809457779,
          0.19220052659511566,
          0.1985873430967331,
          0.19410783052444458,
          0.21403656899929047,
          0.19578586518764496,
          0.1933985948562622,
          0.21100449562072754,
          0.18641962110996246,
          0.18971924483776093,
          0.20826011896133423,
          0.20279143750667572,
          0.2017935812473297,
          0.20115365087985992,
          0.16562850773334503,
          0.20720414817333221,
          0.18641962110996246,
          0.20775017142295837,
          0.18264245986938477,
          0.1791669875383377,
          0.20876359939575195,
          0.1964995265007019,
          0.218858003616333,
          0.21996375918388367,
          0.20785388350486755,
          0.22760793566703796,
          0.2009304016828537,
          0.19408054649829865,
          0.2006441205739975,
          0.18641962110996246,
          0.16562850773334503,
          0.20827680826187134,
          0.20115365087985992,
          0.20876359939575195,
          0.1976049393415451,
          0.20279143750667572,
          0.20094606280326843,
          0.20775017142295837,
          0.2009304016828537,
          0.20893089473247528,
          0.2008005827665329,
          0.2035997360944748,
          0.2008005827665329,
          0.2009304016828537,
          0.18109723925590515,
          0.22687028348445892,
          0.20826011896133423,
          0.1723298579454422,
          0.20893089473247528,
          0.19583763182163239,
          0.18109723925590515,
          0.1976049393415451,
          0.18109723925590515,
          0.09819874912500381,
          0.13225659728050232,
          0.13225659728050232
         ]
        }
       ],
       "layout": {
        "height": 500,
        "plot_bgcolor": "white",
        "template": {
         "data": {
          "bar": [
           {
            "error_x": {
             "color": "#2a3f5f"
            },
            "error_y": {
             "color": "#2a3f5f"
            },
            "marker": {
             "line": {
              "color": "#E5ECF6",
              "width": 0.5
             },
             "pattern": {
              "fillmode": "overlay",
              "size": 10,
              "solidity": 0.2
             }
            },
            "type": "bar"
           }
          ],
          "barpolar": [
           {
            "marker": {
             "line": {
              "color": "#E5ECF6",
              "width": 0.5
             },
             "pattern": {
              "fillmode": "overlay",
              "size": 10,
              "solidity": 0.2
             }
            },
            "type": "barpolar"
           }
          ],
          "carpet": [
           {
            "aaxis": {
             "endlinecolor": "#2a3f5f",
             "gridcolor": "white",
             "linecolor": "white",
             "minorgridcolor": "white",
             "startlinecolor": "#2a3f5f"
            },
            "baxis": {
             "endlinecolor": "#2a3f5f",
             "gridcolor": "white",
             "linecolor": "white",
             "minorgridcolor": "white",
             "startlinecolor": "#2a3f5f"
            },
            "type": "carpet"
           }
          ],
          "choropleth": [
           {
            "colorbar": {
             "outlinewidth": 0,
             "ticks": ""
            },
            "type": "choropleth"
           }
          ],
          "contour": [
           {
            "colorbar": {
             "outlinewidth": 0,
             "ticks": ""
            },
            "colorscale": [
             [
              0,
              "#0d0887"
             ],
             [
              0.1111111111111111,
              "#46039f"
             ],
             [
              0.2222222222222222,
              "#7201a8"
             ],
             [
              0.3333333333333333,
              "#9c179e"
             ],
             [
              0.4444444444444444,
              "#bd3786"
             ],
             [
              0.5555555555555556,
              "#d8576b"
             ],
             [
              0.6666666666666666,
              "#ed7953"
             ],
             [
              0.7777777777777778,
              "#fb9f3a"
             ],
             [
              0.8888888888888888,
              "#fdca26"
             ],
             [
              1,
              "#f0f921"
             ]
            ],
            "type": "contour"
           }
          ],
          "contourcarpet": [
           {
            "colorbar": {
             "outlinewidth": 0,
             "ticks": ""
            },
            "type": "contourcarpet"
           }
          ],
          "heatmap": [
           {
            "colorbar": {
             "outlinewidth": 0,
             "ticks": ""
            },
            "colorscale": [
             [
              0,
              "#0d0887"
             ],
             [
              0.1111111111111111,
              "#46039f"
             ],
             [
              0.2222222222222222,
              "#7201a8"
             ],
             [
              0.3333333333333333,
              "#9c179e"
             ],
             [
              0.4444444444444444,
              "#bd3786"
             ],
             [
              0.5555555555555556,
              "#d8576b"
             ],
             [
              0.6666666666666666,
              "#ed7953"
             ],
             [
              0.7777777777777778,
              "#fb9f3a"
             ],
             [
              0.8888888888888888,
              "#fdca26"
             ],
             [
              1,
              "#f0f921"
             ]
            ],
            "type": "heatmap"
           }
          ],
          "heatmapgl": [
           {
            "colorbar": {
             "outlinewidth": 0,
             "ticks": ""
            },
            "colorscale": [
             [
              0,
              "#0d0887"
             ],
             [
              0.1111111111111111,
              "#46039f"
             ],
             [
              0.2222222222222222,
              "#7201a8"
             ],
             [
              0.3333333333333333,
              "#9c179e"
             ],
             [
              0.4444444444444444,
              "#bd3786"
             ],
             [
              0.5555555555555556,
              "#d8576b"
             ],
             [
              0.6666666666666666,
              "#ed7953"
             ],
             [
              0.7777777777777778,
              "#fb9f3a"
             ],
             [
              0.8888888888888888,
              "#fdca26"
             ],
             [
              1,
              "#f0f921"
             ]
            ],
            "type": "heatmapgl"
           }
          ],
          "histogram": [
           {
            "marker": {
             "pattern": {
              "fillmode": "overlay",
              "size": 10,
              "solidity": 0.2
             }
            },
            "type": "histogram"
           }
          ],
          "histogram2d": [
           {
            "colorbar": {
             "outlinewidth": 0,
             "ticks": ""
            },
            "colorscale": [
             [
              0,
              "#0d0887"
             ],
             [
              0.1111111111111111,
              "#46039f"
             ],
             [
              0.2222222222222222,
              "#7201a8"
             ],
             [
              0.3333333333333333,
              "#9c179e"
             ],
             [
              0.4444444444444444,
              "#bd3786"
             ],
             [
              0.5555555555555556,
              "#d8576b"
             ],
             [
              0.6666666666666666,
              "#ed7953"
             ],
             [
              0.7777777777777778,
              "#fb9f3a"
             ],
             [
              0.8888888888888888,
              "#fdca26"
             ],
             [
              1,
              "#f0f921"
             ]
            ],
            "type": "histogram2d"
           }
          ],
          "histogram2dcontour": [
           {
            "colorbar": {
             "outlinewidth": 0,
             "ticks": ""
            },
            "colorscale": [
             [
              0,
              "#0d0887"
             ],
             [
              0.1111111111111111,
              "#46039f"
             ],
             [
              0.2222222222222222,
              "#7201a8"
             ],
             [
              0.3333333333333333,
              "#9c179e"
             ],
             [
              0.4444444444444444,
              "#bd3786"
             ],
             [
              0.5555555555555556,
              "#d8576b"
             ],
             [
              0.6666666666666666,
              "#ed7953"
             ],
             [
              0.7777777777777778,
              "#fb9f3a"
             ],
             [
              0.8888888888888888,
              "#fdca26"
             ],
             [
              1,
              "#f0f921"
             ]
            ],
            "type": "histogram2dcontour"
           }
          ],
          "mesh3d": [
           {
            "colorbar": {
             "outlinewidth": 0,
             "ticks": ""
            },
            "type": "mesh3d"
           }
          ],
          "parcoords": [
           {
            "line": {
             "colorbar": {
              "outlinewidth": 0,
              "ticks": ""
             }
            },
            "type": "parcoords"
           }
          ],
          "pie": [
           {
            "automargin": true,
            "type": "pie"
           }
          ],
          "scatter": [
           {
            "fillpattern": {
             "fillmode": "overlay",
             "size": 10,
             "solidity": 0.2
            },
            "type": "scatter"
           }
          ],
          "scatter3d": [
           {
            "line": {
             "colorbar": {
              "outlinewidth": 0,
              "ticks": ""
             }
            },
            "marker": {
             "colorbar": {
              "outlinewidth": 0,
              "ticks": ""
             }
            },
            "type": "scatter3d"
           }
          ],
          "scattercarpet": [
           {
            "marker": {
             "colorbar": {
              "outlinewidth": 0,
              "ticks": ""
             }
            },
            "type": "scattercarpet"
           }
          ],
          "scattergeo": [
           {
            "marker": {
             "colorbar": {
              "outlinewidth": 0,
              "ticks": ""
             }
            },
            "type": "scattergeo"
           }
          ],
          "scattergl": [
           {
            "marker": {
             "colorbar": {
              "outlinewidth": 0,
              "ticks": ""
             }
            },
            "type": "scattergl"
           }
          ],
          "scattermapbox": [
           {
            "marker": {
             "colorbar": {
              "outlinewidth": 0,
              "ticks": ""
             }
            },
            "type": "scattermapbox"
           }
          ],
          "scatterpolar": [
           {
            "marker": {
             "colorbar": {
              "outlinewidth": 0,
              "ticks": ""
             }
            },
            "type": "scatterpolar"
           }
          ],
          "scatterpolargl": [
           {
            "marker": {
             "colorbar": {
              "outlinewidth": 0,
              "ticks": ""
             }
            },
            "type": "scatterpolargl"
           }
          ],
          "scatterternary": [
           {
            "marker": {
             "colorbar": {
              "outlinewidth": 0,
              "ticks": ""
             }
            },
            "type": "scatterternary"
           }
          ],
          "surface": [
           {
            "colorbar": {
             "outlinewidth": 0,
             "ticks": ""
            },
            "colorscale": [
             [
              0,
              "#0d0887"
             ],
             [
              0.1111111111111111,
              "#46039f"
             ],
             [
              0.2222222222222222,
              "#7201a8"
             ],
             [
              0.3333333333333333,
              "#9c179e"
             ],
             [
              0.4444444444444444,
              "#bd3786"
             ],
             [
              0.5555555555555556,
              "#d8576b"
             ],
             [
              0.6666666666666666,
              "#ed7953"
             ],
             [
              0.7777777777777778,
              "#fb9f3a"
             ],
             [
              0.8888888888888888,
              "#fdca26"
             ],
             [
              1,
              "#f0f921"
             ]
            ],
            "type": "surface"
           }
          ],
          "table": [
           {
            "cells": {
             "fill": {
              "color": "#EBF0F8"
             },
             "line": {
              "color": "white"
             }
            },
            "header": {
             "fill": {
              "color": "#C8D4E3"
             },
             "line": {
              "color": "white"
             }
            },
            "type": "table"
           }
          ]
         },
         "layout": {
          "annotationdefaults": {
           "arrowcolor": "#2a3f5f",
           "arrowhead": 0,
           "arrowwidth": 1
          },
          "autotypenumbers": "strict",
          "coloraxis": {
           "colorbar": {
            "outlinewidth": 0,
            "ticks": ""
           }
          },
          "colorscale": {
           "diverging": [
            [
             0,
             "#8e0152"
            ],
            [
             0.1,
             "#c51b7d"
            ],
            [
             0.2,
             "#de77ae"
            ],
            [
             0.3,
             "#f1b6da"
            ],
            [
             0.4,
             "#fde0ef"
            ],
            [
             0.5,
             "#f7f7f7"
            ],
            [
             0.6,
             "#e6f5d0"
            ],
            [
             0.7,
             "#b8e186"
            ],
            [
             0.8,
             "#7fbc41"
            ],
            [
             0.9,
             "#4d9221"
            ],
            [
             1,
             "#276419"
            ]
           ],
           "sequential": [
            [
             0,
             "#0d0887"
            ],
            [
             0.1111111111111111,
             "#46039f"
            ],
            [
             0.2222222222222222,
             "#7201a8"
            ],
            [
             0.3333333333333333,
             "#9c179e"
            ],
            [
             0.4444444444444444,
             "#bd3786"
            ],
            [
             0.5555555555555556,
             "#d8576b"
            ],
            [
             0.6666666666666666,
             "#ed7953"
            ],
            [
             0.7777777777777778,
             "#fb9f3a"
            ],
            [
             0.8888888888888888,
             "#fdca26"
            ],
            [
             1,
             "#f0f921"
            ]
           ],
           "sequentialminus": [
            [
             0,
             "#0d0887"
            ],
            [
             0.1111111111111111,
             "#46039f"
            ],
            [
             0.2222222222222222,
             "#7201a8"
            ],
            [
             0.3333333333333333,
             "#9c179e"
            ],
            [
             0.4444444444444444,
             "#bd3786"
            ],
            [
             0.5555555555555556,
             "#d8576b"
            ],
            [
             0.6666666666666666,
             "#ed7953"
            ],
            [
             0.7777777777777778,
             "#fb9f3a"
            ],
            [
             0.8888888888888888,
             "#fdca26"
            ],
            [
             1,
             "#f0f921"
            ]
           ]
          },
          "colorway": [
           "#636efa",
           "#EF553B",
           "#00cc96",
           "#ab63fa",
           "#FFA15A",
           "#19d3f3",
           "#FF6692",
           "#B6E880",
           "#FF97FF",
           "#FECB52"
          ],
          "font": {
           "color": "#2a3f5f"
          },
          "geo": {
           "bgcolor": "white",
           "lakecolor": "white",
           "landcolor": "#E5ECF6",
           "showlakes": true,
           "showland": true,
           "subunitcolor": "white"
          },
          "hoverlabel": {
           "align": "left"
          },
          "hovermode": "closest",
          "mapbox": {
           "style": "light"
          },
          "paper_bgcolor": "white",
          "plot_bgcolor": "#E5ECF6",
          "polar": {
           "angularaxis": {
            "gridcolor": "white",
            "linecolor": "white",
            "ticks": ""
           },
           "bgcolor": "#E5ECF6",
           "radialaxis": {
            "gridcolor": "white",
            "linecolor": "white",
            "ticks": ""
           }
          },
          "scene": {
           "xaxis": {
            "backgroundcolor": "#E5ECF6",
            "gridcolor": "white",
            "gridwidth": 2,
            "linecolor": "white",
            "showbackground": true,
            "ticks": "",
            "zerolinecolor": "white"
           },
           "yaxis": {
            "backgroundcolor": "#E5ECF6",
            "gridcolor": "white",
            "gridwidth": 2,
            "linecolor": "white",
            "showbackground": true,
            "ticks": "",
            "zerolinecolor": "white"
           },
           "zaxis": {
            "backgroundcolor": "#E5ECF6",
            "gridcolor": "white",
            "gridwidth": 2,
            "linecolor": "white",
            "showbackground": true,
            "ticks": "",
            "zerolinecolor": "white"
           }
          },
          "shapedefaults": {
           "line": {
            "color": "#2a3f5f"
           }
          },
          "ternary": {
           "aaxis": {
            "gridcolor": "white",
            "linecolor": "white",
            "ticks": ""
           },
           "baxis": {
            "gridcolor": "white",
            "linecolor": "white",
            "ticks": ""
           },
           "bgcolor": "#E5ECF6",
           "caxis": {
            "gridcolor": "white",
            "linecolor": "white",
            "ticks": ""
           }
          },
          "title": {
           "x": 0.05
          },
          "xaxis": {
           "automargin": true,
           "gridcolor": "white",
           "linecolor": "white",
           "ticks": "",
           "title": {
            "standoff": 15
           },
           "zerolinecolor": "white",
           "zerolinewidth": 2
          },
          "yaxis": {
           "automargin": true,
           "gridcolor": "white",
           "linecolor": "white",
           "ticks": "",
           "title": {
            "standoff": 15
           },
           "zerolinecolor": "white",
           "zerolinewidth": 2
          }
         }
        },
        "width": 500,
        "xaxis": {
         "autorange": false,
         "exponentformat": "e",
         "linecolor": "black",
         "linewidth": 1,
         "mirror": false,
         "range": [
          -0.005294720530509949,
          0.2700307470560074
         ],
         "showexponent": "all",
         "showline": true,
         "side": "bottom",
         "ticks": "outside",
         "title": {
          "text": "Birth"
         },
         "type": "linear",
         "zeroline": true
        },
        "yaxis": {
         "autorange": false,
         "exponentformat": "e",
         "linecolor": "black",
         "linewidth": 1,
         "mirror": false,
         "range": [
          -0.005294720530509949,
          0.2700307470560074
         ],
         "scaleanchor": "x",
         "scaleratio": 1,
         "showexponent": "all",
         "showline": true,
         "side": "left",
         "ticks": "outside",
         "title": {
          "text": "Death"
         },
         "type": "linear",
         "zeroline": true
        }
       }
      },
      "text/html": [
       "<div>                            <div id=\"b53c1c81-0253-4766-887d-e1d266f69d59\" class=\"plotly-graph-div\" style=\"height:500px; width:500px;\"></div>            <script type=\"text/javascript\">                require([\"plotly\"], function(Plotly) {                    window.PLOTLYENV=window.PLOTLYENV || {};                                    if (document.getElementById(\"b53c1c81-0253-4766-887d-e1d266f69d59\")) {                    Plotly.newPlot(                        \"b53c1c81-0253-4766-887d-e1d266f69d59\",                        [{\"hoverinfo\":\"none\",\"line\":{\"color\":\"black\",\"dash\":\"dash\",\"width\":1},\"mode\":\"lines\",\"showlegend\":false,\"x\":[-0.005294720530509949,0.2700307470560074],\"y\":[-0.005294720530509949,0.2700307470560074],\"type\":\"scatter\"},{\"hoverinfo\":\"text\",\"hovertext\":[\"(0.0, 0.01209315937012434)\",\"(0.0, 0.017583953216671944)\",\"(0.0, 0.03722340613603592)\",\"(0.0, 0.038464441895484924)\",\"(0.0, 0.039512284100055695)\",\"(0.0, 0.04226548597216606)\",\"(0.0, 0.0533461757004261)\",\"(0.0, 0.05641385167837143)\",\"(0.0, 0.058851633220911026)\",\"(0.0, 0.05991348251700401)\",\"(0.0, 0.07213085889816284)\",\"(0.0, 0.0791701152920723)\",\"(0.0, 0.08358465880155563)\",\"(0.0, 0.08502786606550217)\",\"(0.0, 0.08886993676424026)\",\"(0.0, 0.09247290343046188)\",\"(0.0, 0.09356632083654404)\",\"(0.0, 0.09434392303228378)\",\"(0.0, 0.0980035588145256)\",\"(0.0, 0.10189320892095566)\",\"(0.0, 0.10195527970790863)\",\"(0.0, 0.10726167261600494)\",\"(0.0, 0.1130124181509018)\",\"(0.0, 0.11389455944299698)\",\"(0.0, 0.11635318398475647)\",\"(0.0, 0.11701759696006775)\",\"(0.0, 0.11744341254234314)\",\"(0.0, 0.11745287477970123)\",\"(0.0, 0.11765621602535248)\",\"(0.0, 0.12337251752614975)\",\"(0.0, 0.12521213293075562)\",\"(0.0, 0.12745721638202667)\",\"(0.0, 0.12947073578834534)\",\"(0.0, 0.13121171295642853)\",\"(0.0, 0.1347273290157318)\",\"(0.0, 0.13799971342086792)\",\"(0.0, 0.13830211758613586)\",\"(0.0, 0.1383516937494278)\",\"(0.0, 0.1398354023694992)\",\"(0.0, 0.1398528516292572)\",\"(0.0, 0.1406921148300171)\",\"(0.0, 0.1415206789970398)\",\"(0.0, 0.14331276714801788)\",\"(0.0, 0.14385931193828583)\",\"(0.0, 0.1483559012413025)\",\"(0.0, 0.14977429807186127)\",\"(0.0, 0.15096181631088257)\",\"(0.0, 0.15113359689712524)\",\"(0.0, 0.15213003754615784)\",\"(0.0, 0.1535084843635559)\",\"(0.0, 0.15397045016288757)\",\"(0.0, 0.15555821359157562)\",\"(0.0, 0.155679389834404)\",\"(0.0, 0.15895549952983856)\",\"(0.0, 0.1605832725763321)\",\"(0.0, 0.16125807166099548)\",\"(0.0, 0.16137492656707764)\",\"(0.0, 0.16392676532268524)\",\"(0.0, 0.16543002426624298)\",\"(0.0, 0.16545990109443665)\",\"(0.0, 0.16893748939037323)\",\"(0.0, 0.17012916505336761)\",\"(0.0, 0.17125914990901947)\",\"(0.0, 0.17211514711380005)\",\"(0.0, 0.17239801585674286)\",\"(0.0, 0.17255808413028717)\",\"(0.0, 0.17274153232574463)\",\"(0.0, 0.1744047850370407)\",\"(0.0, 0.17458361387252808)\",\"(0.0, 0.17465071380138397)\",\"(0.0, 0.17523713409900665)\",\"(0.0, 0.17666487395763397)\",\"(0.0, 0.1766899675130844)\",\"(0.0, 0.17743618786334991)\",\"(0.0, 0.17752289772033691)\",\"(0.0, 0.17779360711574554)\",\"(0.0, 0.17899246513843536)\",\"(0.0, 0.1803256720304489)\",\"(0.0, 0.18158791959285736)\",\"(0.0, 0.1834544539451599)\",\"(0.0, 0.18372181057929993)\",\"(0.0, 0.1851297914981842)\",\"(0.0, 0.1856921762228012)\",\"(0.0, 0.1858164370059967)\",\"(0.0, 0.18753230571746826)\",\"(0.0, 0.18774761259555817)\",\"(0.0, 0.187886580824852)\",\"(0.0, 0.18901804089546204)\",\"(0.0, 0.18944059312343597)\",\"(0.0, 0.1943361461162567)\",\"(0.0, 0.19475626945495605)\",\"(0.0, 0.19759304821491241)\",\"(0.0, 0.19831161201000214)\",\"(0.0, 0.19937896728515625)\",\"(0.0, 0.20010723173618317)\",\"(0.0, 0.20061661303043365)\",\"(0.0, 0.20095239579677582)\",\"(0.0, 0.20604242384433746)\"],\"mode\":\"markers\",\"name\":\"H0\",\"x\":[0.0,0.0,0.0,0.0,0.0,0.0,0.0,0.0,0.0,0.0,0.0,0.0,0.0,0.0,0.0,0.0,0.0,0.0,0.0,0.0,0.0,0.0,0.0,0.0,0.0,0.0,0.0,0.0,0.0,0.0,0.0,0.0,0.0,0.0,0.0,0.0,0.0,0.0,0.0,0.0,0.0,0.0,0.0,0.0,0.0,0.0,0.0,0.0,0.0,0.0,0.0,0.0,0.0,0.0,0.0,0.0,0.0,0.0,0.0,0.0,0.0,0.0,0.0,0.0,0.0,0.0,0.0,0.0,0.0,0.0,0.0,0.0,0.0,0.0,0.0,0.0,0.0,0.0,0.0,0.0,0.0,0.0,0.0,0.0,0.0,0.0,0.0,0.0,0.0,0.0,0.0,0.0,0.0,0.0,0.0,0.0,0.0,0.0],\"y\":[0.01209315937012434,0.017583953216671944,0.03722340613603592,0.038464441895484924,0.039512284100055695,0.04226548597216606,0.0533461757004261,0.05641385167837143,0.058851633220911026,0.05991348251700401,0.07213085889816284,0.0791701152920723,0.08358465880155563,0.08502786606550217,0.08886993676424026,0.09247290343046188,0.09356632083654404,0.09434392303228378,0.0980035588145256,0.10189320892095566,0.10195527970790863,0.10726167261600494,0.1130124181509018,0.11389455944299698,0.11635318398475647,0.11701759696006775,0.11744341254234314,0.11745287477970123,0.11765621602535248,0.12337251752614975,0.12521213293075562,0.12745721638202667,0.12947073578834534,0.13121171295642853,0.1347273290157318,0.13799971342086792,0.13830211758613586,0.1383516937494278,0.1398354023694992,0.1398528516292572,0.1406921148300171,0.1415206789970398,0.14331276714801788,0.14385931193828583,0.1483559012413025,0.14977429807186127,0.15096181631088257,0.15113359689712524,0.15213003754615784,0.1535084843635559,0.15397045016288757,0.15555821359157562,0.155679389834404,0.15895549952983856,0.1605832725763321,0.16125807166099548,0.16137492656707764,0.16392676532268524,0.16543002426624298,0.16545990109443665,0.16893748939037323,0.17012916505336761,0.17125914990901947,0.17211514711380005,0.17239801585674286,0.17255808413028717,0.17274153232574463,0.1744047850370407,0.17458361387252808,0.17465071380138397,0.17523713409900665,0.17666487395763397,0.1766899675130844,0.17743618786334991,0.17752289772033691,0.17779360711574554,0.17899246513843536,0.1803256720304489,0.18158791959285736,0.1834544539451599,0.18372181057929993,0.1851297914981842,0.1856921762228012,0.1858164370059967,0.18753230571746826,0.18774761259555817,0.187886580824852,0.18901804089546204,0.18944059312343597,0.1943361461162567,0.19475626945495605,0.19759304821491241,0.19831161201000214,0.19937896728515625,0.20010723173618317,0.20061661303043365,0.20095239579677582,0.20604242384433746],\"type\":\"scatter\"},{\"hoverinfo\":\"text\",\"hovertext\":[\"(0.26020580530166626, 0.26473602652549744)\",\"(0.24770712852478027, 0.2558400630950928)\",\"(0.2397843450307846, 0.2500212788581848)\",\"(0.23919424414634705, 0.25062981247901917)\",\"(0.23903924226760864, 0.2458336055278778)\",\"(0.23896320164203644, 0.2521064579486847)\",\"(0.2371789664030075, 0.24021433293819427)\",\"(0.23372416198253632, 0.2350567877292633)\",\"(0.2333115041255951, 0.24453462660312653)\",\"(0.23083947598934174, 0.2534216642379761)\",\"(0.23044155538082123, 0.2396906018257141)\",\"(0.2280549257993698, 0.22851595282554626)\",\"(0.22424331307411194, 0.22818465530872345)\",\"(0.22397547960281372, 0.22607462108135223)\",\"(0.22389313578605652, 0.22906480729579926)\",\"(0.22360406816005707, 0.22637242078781128)\",\"(0.22274205088615417, 0.22906480729579926)\",\"(0.2225794643163681, 0.22877518832683563)\",\"(0.22222718596458435, 0.23115147650241852)\",\"(0.22048524022102356, 0.22848094999790192)\",\"(0.2200857549905777, 0.22013674676418304)\",\"(0.21993841230869293, 0.23374901711940765)\",\"(0.21988758444786072, 0.22493407130241394)\",\"(0.21898171305656433, 0.22906480729579926)\",\"(0.2188170850276947, 0.2227621227502823)\",\"(0.21849612891674042, 0.22278055548667908)\",\"(0.2180500030517578, 0.219853475689888)\",\"(0.21770015358924866, 0.221867635846138)\",\"(0.2174665480852127, 0.22457225620746613)\",\"(0.21743103861808777, 0.22260282933712006)\",\"(0.21726727485656738, 0.2450815886259079)\",\"(0.21723900735378265, 0.22061751782894135)\",\"(0.21652989089488983, 0.23744027316570282)\",\"(0.2164446860551834, 0.22675929963588715)\",\"(0.21613575518131256, 0.2549086809158325)\",\"(0.21607127785682678, 0.2205253392457962)\",\"(0.2150018960237503, 0.2339419722557068)\",\"(0.21471130847930908, 0.21676650643348694)\",\"(0.21414346992969513, 0.22566747665405273)\",\"(0.2139892578125, 0.22852440178394318)\",\"(0.213907852768898, 0.23302048444747925)\",\"(0.21364392340183258, 0.22440460324287415)\",\"(0.2135242521762848, 0.21763986349105835)\",\"(0.21347101032733917, 0.21849165856838226)\",\"(0.2121344804763794, 0.22887954115867615)\",\"(0.21208135783672333, 0.22585639357566833)\",\"(0.21186481416225433, 0.23568269610404968)\",\"(0.21174320578575134, 0.22440460324287415)\",\"(0.21173593401908875, 0.22957457602024078)\",\"(0.211463063955307, 0.214622363448143)\",\"(0.2113182544708252, 0.2213107794523239)\",\"(0.21115002036094666, 0.22293323278427124)\",\"(0.21114860475063324, 0.22133184969425201)\",\"(0.21097438037395477, 0.22260282933712006)\",\"(0.2098049521446228, 0.2548428177833557)\",\"(0.20928917825222015, 0.2221023589372635)\",\"(0.20803025364875793, 0.22382254898548126)\",\"(0.20767638087272644, 0.21183274686336517)\",\"(0.2076214700937271, 0.21444649994373322)\",\"(0.20742754638195038, 0.21447277069091797)\",\"(0.20631973445415497, 0.24034851789474487)\",\"(0.2057543694972992, 0.22892878949642181)\",\"(0.2056306004524231, 0.2191527783870697)\",\"(0.20538489520549774, 0.21923917531967163)\",\"(0.2053530067205429, 0.2076823115348816)\",\"(0.20517073571681976, 0.2052474468946457)\",\"(0.20511414110660553, 0.23290756344795227)\",\"(0.2050800919532776, 0.21310974657535553)\",\"(0.20503850281238556, 0.21849165856838226)\",\"(0.20484258234500885, 0.2198864370584488)\",\"(0.20436908304691315, 0.2428678423166275)\",\"(0.2041155993938446, 0.22810295224189758)\",\"(0.2038532942533493, 0.21146850287914276)\",\"(0.20368815958499908, 0.22810295224189758)\",\"(0.20354191958904266, 0.20785388350486755)\",\"(0.2034846693277359, 0.21769893169403076)\",\"(0.20346884429454803, 0.21864266693592072)\",\"(0.2027561515569687, 0.23662303388118744)\",\"(0.20256800949573517, 0.208187997341156)\",\"(0.20246271789073944, 0.21968047320842743)\",\"(0.20209136605262756, 0.21273016929626465)\",\"(0.20192891359329224, 0.22819864749908447)\",\"(0.20075762271881104, 0.21149536967277527)\",\"(0.20067282021045685, 0.22675643861293793)\",\"(0.20030584931373596, 0.2110724002122879)\",\"(0.1995232105255127, 0.21149536967277527)\",\"(0.19919589161872864, 0.21701811254024506)\",\"(0.19909247756004333, 0.20746932923793793)\",\"(0.19843046367168427, 0.2166098803281784)\",\"(0.1982463002204895, 0.20241625607013702)\",\"(0.1981184184551239, 0.2167268842458725)\",\"(0.19808192551136017, 0.23726612329483032)\",\"(0.19768299162387848, 0.19922032952308655)\",\"(0.19741161167621613, 0.20700953900814056)\",\"(0.1965627670288086, 0.1966322809457779)\",\"(0.1962914913892746, 0.21310974657535553)\",\"(0.19593794643878937, 0.22653867304325104)\",\"(0.1959173083305359, 0.20412471890449524)\",\"(0.19587257504463196, 0.22906480729579926)\",\"(0.1955016404390335, 0.21340565383434296)\",\"(0.19540217518806458, 0.2014373242855072)\",\"(0.1952405720949173, 0.19583763182163239)\",\"(0.1952286809682846, 0.22637242078781128)\",\"(0.19521306455135345, 0.23504173755645752)\",\"(0.19478797912597656, 0.2007051408290863)\",\"(0.19411702454090118, 0.1985873430967331)\",\"(0.19399242103099823, 0.20831547677516937)\",\"(0.19313840568065643, 0.22585639357566833)\",\"(0.19296090304851532, 0.2003019154071808)\",\"(0.19293448328971863, 0.21363654732704163)\",\"(0.1928626298904419, 0.22104580700397491)\",\"(0.1926174759864807, 0.22069518268108368)\",\"(0.19258244335651398, 0.19410783052444458)\",\"(0.1914195716381073, 0.20876359939575195)\",\"(0.19141829013824463, 0.20700953900814056)\",\"(0.19115108251571655, 0.22633910179138184)\",\"(0.19024154543876648, 0.20700953900814056)\",\"(0.19012446701526642, 0.1916462481021881)\",\"(0.1899988055229187, 0.2158161848783493)\",\"(0.18985247611999512, 0.19899813830852509)\",\"(0.18949554860591888, 0.2213107794523239)\",\"(0.18948517739772797, 0.2013939470052719)\",\"(0.18945296108722687, 0.20715731382369995)\",\"(0.1894487738609314, 0.2315930873155594)\",\"(0.18900810182094574, 0.2076823115348816)\",\"(0.18889877200126648, 0.19408054649829865)\",\"(0.18886300921440125, 0.20559921860694885)\",\"(0.18825754523277283, 0.21701811254024506)\",\"(0.1880779266357422, 0.20160417258739471)\",\"(0.18803125619888306, 0.20036102831363678)\",\"(0.1880248636007309, 0.2198864370584488)\",\"(0.18777664005756378, 0.20343270897865295)\",\"(0.18749912083148956, 0.2044638693332672)\",\"(0.1873594969511032, 0.19577519595623016)\",\"(0.18677055835723877, 0.19772474467754364)\",\"(0.1865498274564743, 0.18852046132087708)\",\"(0.18640847504138947, 0.24423626065254211)\",\"(0.18597811460494995, 0.19497497379779816)\",\"(0.1859384924173355, 0.23516418039798737)\",\"(0.18589521944522858, 0.2113254815340042)\",\"(0.18581801652908325, 0.22614678740501404)\",\"(0.18565510213375092, 0.21100449562072754)\",\"(0.18405283987522125, 0.19772474467754364)\",\"(0.18401914834976196, 0.23591798543930054)\",\"(0.18358220160007477, 0.2052944302558899)\",\"(0.18311947584152222, 0.21780532598495483)\",\"(0.18230903148651123, 0.19473250210285187)\",\"(0.1820516437292099, 0.21835513412952423)\",\"(0.18196873366832733, 0.1933985948562622)\",\"(0.18145513534545898, 0.20325759053230286)\",\"(0.1802181899547577, 0.20700953900814056)\",\"(0.17997218668460846, 0.21701811254024506)\",\"(0.17973773181438446, 0.2198864370584488)\",\"(0.1794414520263672, 0.22296956181526184)\",\"(0.17939715087413788, 0.19338847696781158)\",\"(0.17938537895679474, 0.18546362221240997)\",\"(0.1790277361869812, 0.19408054649829865)\",\"(0.17816923558712006, 0.18998385965824127)\",\"(0.17809249460697174, 0.2227621227502823)\",\"(0.1778312772512436, 0.2076823115348816)\",\"(0.1770581603050232, 0.22296956181526184)\",\"(0.1766628473997116, 0.21512667834758759)\",\"(0.1764625906944275, 0.1952936202287674)\",\"(0.17645049095153809, 0.2330433875322342)\",\"(0.17636224627494812, 0.22382254898548126)\",\"(0.17626535892486572, 0.229511559009552)\",\"(0.17578433454036713, 0.20827680826187134)\",\"(0.17529621720314026, 0.22602345049381256)\",\"(0.1751762330532074, 0.20928987860679626)\",\"(0.17495284974575043, 0.19408054649829865)\",\"(0.17457935214042664, 0.17981921136379242)\",\"(0.17421390116214752, 0.21310974657535553)\",\"(0.17401011288166046, 0.22174660861492157)\",\"(0.17341084778308868, 0.1767912656068802)\",\"(0.1732105314731598, 0.1767912656068802)\",\"(0.17270684242248535, 0.21789804100990295)\",\"(0.17204830050468445, 0.19410783052444458)\",\"(0.17198778688907623, 0.20932145416736603)\",\"(0.17133870720863342, 0.1791669875383377)\",\"(0.17101116478443146, 0.1966322809457779)\",\"(0.17043519020080566, 0.19220052659511566)\",\"(0.16961275041103363, 0.1985873430967331)\",\"(0.16933327913284302, 0.19410783052444458)\",\"(0.16884858906269073, 0.21403656899929047)\",\"(0.1683337390422821, 0.19578586518764496)\",\"(0.1675533950328827, 0.1933985948562622)\",\"(0.1675456017255783, 0.21100449562072754)\",\"(0.16731800138950348, 0.18641962110996246)\",\"(0.1670362800359726, 0.18971924483776093)\",\"(0.16657187044620514, 0.20826011896133423)\",\"(0.16542492806911469, 0.20279143750667572)\",\"(0.16495062410831451, 0.2017935812473297)\",\"(0.1643650382757187, 0.20115365087985992)\",\"(0.1621483415365219, 0.16562850773334503)\",\"(0.16118291020393372, 0.20720414817333221)\",\"(0.1599414199590683, 0.18641962110996246)\",\"(0.15971046686172485, 0.20775017142295837)\",\"(0.15932276844978333, 0.18264245986938477)\",\"(0.1575080156326294, 0.1791669875383377)\",\"(0.15730799734592438, 0.20876359939575195)\",\"(0.15670721232891083, 0.1964995265007019)\",\"(0.15619350969791412, 0.218858003616333)\",\"(0.15555867552757263, 0.21996375918388367)\",\"(0.15497122704982758, 0.20785388350486755)\",\"(0.1542743444442749, 0.22760793566703796)\",\"(0.15361426770687103, 0.2009304016828537)\",\"(0.15359364449977875, 0.19408054649829865)\",\"(0.15333811938762665, 0.2006441205739975)\",\"(0.15267273783683777, 0.18641962110996246)\",\"(0.1509619653224945, 0.16562850773334503)\",\"(0.15046359598636627, 0.20827680826187134)\",\"(0.14977572858333588, 0.20115365087985992)\",\"(0.1484602391719818, 0.20876359939575195)\",\"(0.14667735993862152, 0.1976049393415451)\",\"(0.14614535868167877, 0.20279143750667572)\",\"(0.14604587852954865, 0.20094606280326843)\",\"(0.14569085836410522, 0.20775017142295837)\",\"(0.14426438510417938, 0.2009304016828537)\",\"(0.14209771156311035, 0.20893089473247528)\",\"(0.1417435258626938, 0.2008005827665329)\",\"(0.1412421464920044, 0.2035997360944748)\",\"(0.13853760063648224, 0.2008005827665329)\",\"(0.1372753083705902, 0.2009304016828537)\",\"(0.13656935095787048, 0.18109723925590515)\",\"(0.1365230828523636, 0.22687028348445892)\",\"(0.13460344076156616, 0.20826011896133423)\",\"(0.13256298005580902, 0.1723298579454422)\",\"(0.13037613034248352, 0.20893089473247528)\",\"(0.1301991492509842, 0.19583763182163239)\",\"(0.12735168635845184, 0.18109723925590515)\",\"(0.12654033303260803, 0.1976049393415451)\",\"(0.11457961797714233, 0.18109723925590515)\",\"(0.09662975370883942, 0.09819874912500381)\",\"(0.0870986133813858, 0.13225659728050232)\",\"(0.07249056547880173, 0.13225659728050232)\"],\"mode\":\"markers\",\"name\":\"H1\",\"x\":[0.26020580530166626,0.24770712852478027,0.2397843450307846,0.23919424414634705,0.23903924226760864,0.23896320164203644,0.2371789664030075,0.23372416198253632,0.2333115041255951,0.23083947598934174,0.23044155538082123,0.2280549257993698,0.22424331307411194,0.22397547960281372,0.22389313578605652,0.22360406816005707,0.22274205088615417,0.2225794643163681,0.22222718596458435,0.22048524022102356,0.2200857549905777,0.21993841230869293,0.21988758444786072,0.21898171305656433,0.2188170850276947,0.21849612891674042,0.2180500030517578,0.21770015358924866,0.2174665480852127,0.21743103861808777,0.21726727485656738,0.21723900735378265,0.21652989089488983,0.2164446860551834,0.21613575518131256,0.21607127785682678,0.2150018960237503,0.21471130847930908,0.21414346992969513,0.2139892578125,0.213907852768898,0.21364392340183258,0.2135242521762848,0.21347101032733917,0.2121344804763794,0.21208135783672333,0.21186481416225433,0.21174320578575134,0.21173593401908875,0.211463063955307,0.2113182544708252,0.21115002036094666,0.21114860475063324,0.21097438037395477,0.2098049521446228,0.20928917825222015,0.20803025364875793,0.20767638087272644,0.2076214700937271,0.20742754638195038,0.20631973445415497,0.2057543694972992,0.2056306004524231,0.20538489520549774,0.2053530067205429,0.20517073571681976,0.20511414110660553,0.2050800919532776,0.20503850281238556,0.20484258234500885,0.20436908304691315,0.2041155993938446,0.2038532942533493,0.20368815958499908,0.20354191958904266,0.2034846693277359,0.20346884429454803,0.2027561515569687,0.20256800949573517,0.20246271789073944,0.20209136605262756,0.20192891359329224,0.20075762271881104,0.20067282021045685,0.20030584931373596,0.1995232105255127,0.19919589161872864,0.19909247756004333,0.19843046367168427,0.1982463002204895,0.1981184184551239,0.19808192551136017,0.19768299162387848,0.19741161167621613,0.1965627670288086,0.1962914913892746,0.19593794643878937,0.1959173083305359,0.19587257504463196,0.1955016404390335,0.19540217518806458,0.1952405720949173,0.1952286809682846,0.19521306455135345,0.19478797912597656,0.19411702454090118,0.19399242103099823,0.19313840568065643,0.19296090304851532,0.19293448328971863,0.1928626298904419,0.1926174759864807,0.19258244335651398,0.1914195716381073,0.19141829013824463,0.19115108251571655,0.19024154543876648,0.19012446701526642,0.1899988055229187,0.18985247611999512,0.18949554860591888,0.18948517739772797,0.18945296108722687,0.1894487738609314,0.18900810182094574,0.18889877200126648,0.18886300921440125,0.18825754523277283,0.1880779266357422,0.18803125619888306,0.1880248636007309,0.18777664005756378,0.18749912083148956,0.1873594969511032,0.18677055835723877,0.1865498274564743,0.18640847504138947,0.18597811460494995,0.1859384924173355,0.18589521944522858,0.18581801652908325,0.18565510213375092,0.18405283987522125,0.18401914834976196,0.18358220160007477,0.18311947584152222,0.18230903148651123,0.1820516437292099,0.18196873366832733,0.18145513534545898,0.1802181899547577,0.17997218668460846,0.17973773181438446,0.1794414520263672,0.17939715087413788,0.17938537895679474,0.1790277361869812,0.17816923558712006,0.17809249460697174,0.1778312772512436,0.1770581603050232,0.1766628473997116,0.1764625906944275,0.17645049095153809,0.17636224627494812,0.17626535892486572,0.17578433454036713,0.17529621720314026,0.1751762330532074,0.17495284974575043,0.17457935214042664,0.17421390116214752,0.17401011288166046,0.17341084778308868,0.1732105314731598,0.17270684242248535,0.17204830050468445,0.17198778688907623,0.17133870720863342,0.17101116478443146,0.17043519020080566,0.16961275041103363,0.16933327913284302,0.16884858906269073,0.1683337390422821,0.1675533950328827,0.1675456017255783,0.16731800138950348,0.1670362800359726,0.16657187044620514,0.16542492806911469,0.16495062410831451,0.1643650382757187,0.1621483415365219,0.16118291020393372,0.1599414199590683,0.15971046686172485,0.15932276844978333,0.1575080156326294,0.15730799734592438,0.15670721232891083,0.15619350969791412,0.15555867552757263,0.15497122704982758,0.1542743444442749,0.15361426770687103,0.15359364449977875,0.15333811938762665,0.15267273783683777,0.1509619653224945,0.15046359598636627,0.14977572858333588,0.1484602391719818,0.14667735993862152,0.14614535868167877,0.14604587852954865,0.14569085836410522,0.14426438510417938,0.14209771156311035,0.1417435258626938,0.1412421464920044,0.13853760063648224,0.1372753083705902,0.13656935095787048,0.1365230828523636,0.13460344076156616,0.13256298005580902,0.13037613034248352,0.1301991492509842,0.12735168635845184,0.12654033303260803,0.11457961797714233,0.09662975370883942,0.0870986133813858,0.07249056547880173],\"y\":[0.26473602652549744,0.2558400630950928,0.2500212788581848,0.25062981247901917,0.2458336055278778,0.2521064579486847,0.24021433293819427,0.2350567877292633,0.24453462660312653,0.2534216642379761,0.2396906018257141,0.22851595282554626,0.22818465530872345,0.22607462108135223,0.22906480729579926,0.22637242078781128,0.22906480729579926,0.22877518832683563,0.23115147650241852,0.22848094999790192,0.22013674676418304,0.23374901711940765,0.22493407130241394,0.22906480729579926,0.2227621227502823,0.22278055548667908,0.219853475689888,0.221867635846138,0.22457225620746613,0.22260282933712006,0.2450815886259079,0.22061751782894135,0.23744027316570282,0.22675929963588715,0.2549086809158325,0.2205253392457962,0.2339419722557068,0.21676650643348694,0.22566747665405273,0.22852440178394318,0.23302048444747925,0.22440460324287415,0.21763986349105835,0.21849165856838226,0.22887954115867615,0.22585639357566833,0.23568269610404968,0.22440460324287415,0.22957457602024078,0.214622363448143,0.2213107794523239,0.22293323278427124,0.22133184969425201,0.22260282933712006,0.2548428177833557,0.2221023589372635,0.22382254898548126,0.21183274686336517,0.21444649994373322,0.21447277069091797,0.24034851789474487,0.22892878949642181,0.2191527783870697,0.21923917531967163,0.2076823115348816,0.2052474468946457,0.23290756344795227,0.21310974657535553,0.21849165856838226,0.2198864370584488,0.2428678423166275,0.22810295224189758,0.21146850287914276,0.22810295224189758,0.20785388350486755,0.21769893169403076,0.21864266693592072,0.23662303388118744,0.208187997341156,0.21968047320842743,0.21273016929626465,0.22819864749908447,0.21149536967277527,0.22675643861293793,0.2110724002122879,0.21149536967277527,0.21701811254024506,0.20746932923793793,0.2166098803281784,0.20241625607013702,0.2167268842458725,0.23726612329483032,0.19922032952308655,0.20700953900814056,0.1966322809457779,0.21310974657535553,0.22653867304325104,0.20412471890449524,0.22906480729579926,0.21340565383434296,0.2014373242855072,0.19583763182163239,0.22637242078781128,0.23504173755645752,0.2007051408290863,0.1985873430967331,0.20831547677516937,0.22585639357566833,0.2003019154071808,0.21363654732704163,0.22104580700397491,0.22069518268108368,0.19410783052444458,0.20876359939575195,0.20700953900814056,0.22633910179138184,0.20700953900814056,0.1916462481021881,0.2158161848783493,0.19899813830852509,0.2213107794523239,0.2013939470052719,0.20715731382369995,0.2315930873155594,0.2076823115348816,0.19408054649829865,0.20559921860694885,0.21701811254024506,0.20160417258739471,0.20036102831363678,0.2198864370584488,0.20343270897865295,0.2044638693332672,0.19577519595623016,0.19772474467754364,0.18852046132087708,0.24423626065254211,0.19497497379779816,0.23516418039798737,0.2113254815340042,0.22614678740501404,0.21100449562072754,0.19772474467754364,0.23591798543930054,0.2052944302558899,0.21780532598495483,0.19473250210285187,0.21835513412952423,0.1933985948562622,0.20325759053230286,0.20700953900814056,0.21701811254024506,0.2198864370584488,0.22296956181526184,0.19338847696781158,0.18546362221240997,0.19408054649829865,0.18998385965824127,0.2227621227502823,0.2076823115348816,0.22296956181526184,0.21512667834758759,0.1952936202287674,0.2330433875322342,0.22382254898548126,0.229511559009552,0.20827680826187134,0.22602345049381256,0.20928987860679626,0.19408054649829865,0.17981921136379242,0.21310974657535553,0.22174660861492157,0.1767912656068802,0.1767912656068802,0.21789804100990295,0.19410783052444458,0.20932145416736603,0.1791669875383377,0.1966322809457779,0.19220052659511566,0.1985873430967331,0.19410783052444458,0.21403656899929047,0.19578586518764496,0.1933985948562622,0.21100449562072754,0.18641962110996246,0.18971924483776093,0.20826011896133423,0.20279143750667572,0.2017935812473297,0.20115365087985992,0.16562850773334503,0.20720414817333221,0.18641962110996246,0.20775017142295837,0.18264245986938477,0.1791669875383377,0.20876359939575195,0.1964995265007019,0.218858003616333,0.21996375918388367,0.20785388350486755,0.22760793566703796,0.2009304016828537,0.19408054649829865,0.2006441205739975,0.18641962110996246,0.16562850773334503,0.20827680826187134,0.20115365087985992,0.20876359939575195,0.1976049393415451,0.20279143750667572,0.20094606280326843,0.20775017142295837,0.2009304016828537,0.20893089473247528,0.2008005827665329,0.2035997360944748,0.2008005827665329,0.2009304016828537,0.18109723925590515,0.22687028348445892,0.20826011896133423,0.1723298579454422,0.20893089473247528,0.19583763182163239,0.18109723925590515,0.1976049393415451,0.18109723925590515,0.09819874912500381,0.13225659728050232,0.13225659728050232],\"type\":\"scatter\"}],                        {\"template\":{\"data\":{\"histogram2dcontour\":[{\"type\":\"histogram2dcontour\",\"colorbar\":{\"outlinewidth\":0,\"ticks\":\"\"},\"colorscale\":[[0.0,\"#0d0887\"],[0.1111111111111111,\"#46039f\"],[0.2222222222222222,\"#7201a8\"],[0.3333333333333333,\"#9c179e\"],[0.4444444444444444,\"#bd3786\"],[0.5555555555555556,\"#d8576b\"],[0.6666666666666666,\"#ed7953\"],[0.7777777777777778,\"#fb9f3a\"],[0.8888888888888888,\"#fdca26\"],[1.0,\"#f0f921\"]]}],\"choropleth\":[{\"type\":\"choropleth\",\"colorbar\":{\"outlinewidth\":0,\"ticks\":\"\"}}],\"histogram2d\":[{\"type\":\"histogram2d\",\"colorbar\":{\"outlinewidth\":0,\"ticks\":\"\"},\"colorscale\":[[0.0,\"#0d0887\"],[0.1111111111111111,\"#46039f\"],[0.2222222222222222,\"#7201a8\"],[0.3333333333333333,\"#9c179e\"],[0.4444444444444444,\"#bd3786\"],[0.5555555555555556,\"#d8576b\"],[0.6666666666666666,\"#ed7953\"],[0.7777777777777778,\"#fb9f3a\"],[0.8888888888888888,\"#fdca26\"],[1.0,\"#f0f921\"]]}],\"heatmap\":[{\"type\":\"heatmap\",\"colorbar\":{\"outlinewidth\":0,\"ticks\":\"\"},\"colorscale\":[[0.0,\"#0d0887\"],[0.1111111111111111,\"#46039f\"],[0.2222222222222222,\"#7201a8\"],[0.3333333333333333,\"#9c179e\"],[0.4444444444444444,\"#bd3786\"],[0.5555555555555556,\"#d8576b\"],[0.6666666666666666,\"#ed7953\"],[0.7777777777777778,\"#fb9f3a\"],[0.8888888888888888,\"#fdca26\"],[1.0,\"#f0f921\"]]}],\"heatmapgl\":[{\"type\":\"heatmapgl\",\"colorbar\":{\"outlinewidth\":0,\"ticks\":\"\"},\"colorscale\":[[0.0,\"#0d0887\"],[0.1111111111111111,\"#46039f\"],[0.2222222222222222,\"#7201a8\"],[0.3333333333333333,\"#9c179e\"],[0.4444444444444444,\"#bd3786\"],[0.5555555555555556,\"#d8576b\"],[0.6666666666666666,\"#ed7953\"],[0.7777777777777778,\"#fb9f3a\"],[0.8888888888888888,\"#fdca26\"],[1.0,\"#f0f921\"]]}],\"contourcarpet\":[{\"type\":\"contourcarpet\",\"colorbar\":{\"outlinewidth\":0,\"ticks\":\"\"}}],\"contour\":[{\"type\":\"contour\",\"colorbar\":{\"outlinewidth\":0,\"ticks\":\"\"},\"colorscale\":[[0.0,\"#0d0887\"],[0.1111111111111111,\"#46039f\"],[0.2222222222222222,\"#7201a8\"],[0.3333333333333333,\"#9c179e\"],[0.4444444444444444,\"#bd3786\"],[0.5555555555555556,\"#d8576b\"],[0.6666666666666666,\"#ed7953\"],[0.7777777777777778,\"#fb9f3a\"],[0.8888888888888888,\"#fdca26\"],[1.0,\"#f0f921\"]]}],\"surface\":[{\"type\":\"surface\",\"colorbar\":{\"outlinewidth\":0,\"ticks\":\"\"},\"colorscale\":[[0.0,\"#0d0887\"],[0.1111111111111111,\"#46039f\"],[0.2222222222222222,\"#7201a8\"],[0.3333333333333333,\"#9c179e\"],[0.4444444444444444,\"#bd3786\"],[0.5555555555555556,\"#d8576b\"],[0.6666666666666666,\"#ed7953\"],[0.7777777777777778,\"#fb9f3a\"],[0.8888888888888888,\"#fdca26\"],[1.0,\"#f0f921\"]]}],\"mesh3d\":[{\"type\":\"mesh3d\",\"colorbar\":{\"outlinewidth\":0,\"ticks\":\"\"}}],\"scatter\":[{\"fillpattern\":{\"fillmode\":\"overlay\",\"size\":10,\"solidity\":0.2},\"type\":\"scatter\"}],\"parcoords\":[{\"type\":\"parcoords\",\"line\":{\"colorbar\":{\"outlinewidth\":0,\"ticks\":\"\"}}}],\"scatterpolargl\":[{\"type\":\"scatterpolargl\",\"marker\":{\"colorbar\":{\"outlinewidth\":0,\"ticks\":\"\"}}}],\"bar\":[{\"error_x\":{\"color\":\"#2a3f5f\"},\"error_y\":{\"color\":\"#2a3f5f\"},\"marker\":{\"line\":{\"color\":\"#E5ECF6\",\"width\":0.5},\"pattern\":{\"fillmode\":\"overlay\",\"size\":10,\"solidity\":0.2}},\"type\":\"bar\"}],\"scattergeo\":[{\"type\":\"scattergeo\",\"marker\":{\"colorbar\":{\"outlinewidth\":0,\"ticks\":\"\"}}}],\"scatterpolar\":[{\"type\":\"scatterpolar\",\"marker\":{\"colorbar\":{\"outlinewidth\":0,\"ticks\":\"\"}}}],\"histogram\":[{\"marker\":{\"pattern\":{\"fillmode\":\"overlay\",\"size\":10,\"solidity\":0.2}},\"type\":\"histogram\"}],\"scattergl\":[{\"type\":\"scattergl\",\"marker\":{\"colorbar\":{\"outlinewidth\":0,\"ticks\":\"\"}}}],\"scatter3d\":[{\"type\":\"scatter3d\",\"line\":{\"colorbar\":{\"outlinewidth\":0,\"ticks\":\"\"}},\"marker\":{\"colorbar\":{\"outlinewidth\":0,\"ticks\":\"\"}}}],\"scattermapbox\":[{\"type\":\"scattermapbox\",\"marker\":{\"colorbar\":{\"outlinewidth\":0,\"ticks\":\"\"}}}],\"scatterternary\":[{\"type\":\"scatterternary\",\"marker\":{\"colorbar\":{\"outlinewidth\":0,\"ticks\":\"\"}}}],\"scattercarpet\":[{\"type\":\"scattercarpet\",\"marker\":{\"colorbar\":{\"outlinewidth\":0,\"ticks\":\"\"}}}],\"carpet\":[{\"aaxis\":{\"endlinecolor\":\"#2a3f5f\",\"gridcolor\":\"white\",\"linecolor\":\"white\",\"minorgridcolor\":\"white\",\"startlinecolor\":\"#2a3f5f\"},\"baxis\":{\"endlinecolor\":\"#2a3f5f\",\"gridcolor\":\"white\",\"linecolor\":\"white\",\"minorgridcolor\":\"white\",\"startlinecolor\":\"#2a3f5f\"},\"type\":\"carpet\"}],\"table\":[{\"cells\":{\"fill\":{\"color\":\"#EBF0F8\"},\"line\":{\"color\":\"white\"}},\"header\":{\"fill\":{\"color\":\"#C8D4E3\"},\"line\":{\"color\":\"white\"}},\"type\":\"table\"}],\"barpolar\":[{\"marker\":{\"line\":{\"color\":\"#E5ECF6\",\"width\":0.5},\"pattern\":{\"fillmode\":\"overlay\",\"size\":10,\"solidity\":0.2}},\"type\":\"barpolar\"}],\"pie\":[{\"automargin\":true,\"type\":\"pie\"}]},\"layout\":{\"autotypenumbers\":\"strict\",\"colorway\":[\"#636efa\",\"#EF553B\",\"#00cc96\",\"#ab63fa\",\"#FFA15A\",\"#19d3f3\",\"#FF6692\",\"#B6E880\",\"#FF97FF\",\"#FECB52\"],\"font\":{\"color\":\"#2a3f5f\"},\"hovermode\":\"closest\",\"hoverlabel\":{\"align\":\"left\"},\"paper_bgcolor\":\"white\",\"plot_bgcolor\":\"#E5ECF6\",\"polar\":{\"bgcolor\":\"#E5ECF6\",\"angularaxis\":{\"gridcolor\":\"white\",\"linecolor\":\"white\",\"ticks\":\"\"},\"radialaxis\":{\"gridcolor\":\"white\",\"linecolor\":\"white\",\"ticks\":\"\"}},\"ternary\":{\"bgcolor\":\"#E5ECF6\",\"aaxis\":{\"gridcolor\":\"white\",\"linecolor\":\"white\",\"ticks\":\"\"},\"baxis\":{\"gridcolor\":\"white\",\"linecolor\":\"white\",\"ticks\":\"\"},\"caxis\":{\"gridcolor\":\"white\",\"linecolor\":\"white\",\"ticks\":\"\"}},\"coloraxis\":{\"colorbar\":{\"outlinewidth\":0,\"ticks\":\"\"}},\"colorscale\":{\"sequential\":[[0.0,\"#0d0887\"],[0.1111111111111111,\"#46039f\"],[0.2222222222222222,\"#7201a8\"],[0.3333333333333333,\"#9c179e\"],[0.4444444444444444,\"#bd3786\"],[0.5555555555555556,\"#d8576b\"],[0.6666666666666666,\"#ed7953\"],[0.7777777777777778,\"#fb9f3a\"],[0.8888888888888888,\"#fdca26\"],[1.0,\"#f0f921\"]],\"sequentialminus\":[[0.0,\"#0d0887\"],[0.1111111111111111,\"#46039f\"],[0.2222222222222222,\"#7201a8\"],[0.3333333333333333,\"#9c179e\"],[0.4444444444444444,\"#bd3786\"],[0.5555555555555556,\"#d8576b\"],[0.6666666666666666,\"#ed7953\"],[0.7777777777777778,\"#fb9f3a\"],[0.8888888888888888,\"#fdca26\"],[1.0,\"#f0f921\"]],\"diverging\":[[0,\"#8e0152\"],[0.1,\"#c51b7d\"],[0.2,\"#de77ae\"],[0.3,\"#f1b6da\"],[0.4,\"#fde0ef\"],[0.5,\"#f7f7f7\"],[0.6,\"#e6f5d0\"],[0.7,\"#b8e186\"],[0.8,\"#7fbc41\"],[0.9,\"#4d9221\"],[1,\"#276419\"]]},\"xaxis\":{\"gridcolor\":\"white\",\"linecolor\":\"white\",\"ticks\":\"\",\"title\":{\"standoff\":15},\"zerolinecolor\":\"white\",\"automargin\":true,\"zerolinewidth\":2},\"yaxis\":{\"gridcolor\":\"white\",\"linecolor\":\"white\",\"ticks\":\"\",\"title\":{\"standoff\":15},\"zerolinecolor\":\"white\",\"automargin\":true,\"zerolinewidth\":2},\"scene\":{\"xaxis\":{\"backgroundcolor\":\"#E5ECF6\",\"gridcolor\":\"white\",\"linecolor\":\"white\",\"showbackground\":true,\"ticks\":\"\",\"zerolinecolor\":\"white\",\"gridwidth\":2},\"yaxis\":{\"backgroundcolor\":\"#E5ECF6\",\"gridcolor\":\"white\",\"linecolor\":\"white\",\"showbackground\":true,\"ticks\":\"\",\"zerolinecolor\":\"white\",\"gridwidth\":2},\"zaxis\":{\"backgroundcolor\":\"#E5ECF6\",\"gridcolor\":\"white\",\"linecolor\":\"white\",\"showbackground\":true,\"ticks\":\"\",\"zerolinecolor\":\"white\",\"gridwidth\":2}},\"shapedefaults\":{\"line\":{\"color\":\"#2a3f5f\"}},\"annotationdefaults\":{\"arrowcolor\":\"#2a3f5f\",\"arrowhead\":0,\"arrowwidth\":1},\"geo\":{\"bgcolor\":\"white\",\"landcolor\":\"#E5ECF6\",\"subunitcolor\":\"white\",\"showland\":true,\"showlakes\":true,\"lakecolor\":\"white\"},\"title\":{\"x\":0.05},\"mapbox\":{\"style\":\"light\"}}},\"xaxis\":{\"title\":{\"text\":\"Birth\"},\"side\":\"bottom\",\"type\":\"linear\",\"range\":[-0.005294720530509949,0.2700307470560074],\"autorange\":false,\"ticks\":\"outside\",\"showline\":true,\"zeroline\":true,\"linewidth\":1,\"linecolor\":\"black\",\"mirror\":false,\"showexponent\":\"all\",\"exponentformat\":\"e\"},\"yaxis\":{\"title\":{\"text\":\"Death\"},\"side\":\"left\",\"type\":\"linear\",\"range\":[-0.005294720530509949,0.2700307470560074],\"autorange\":false,\"scaleanchor\":\"x\",\"scaleratio\":1,\"ticks\":\"outside\",\"showline\":true,\"zeroline\":true,\"linewidth\":1,\"linecolor\":\"black\",\"mirror\":false,\"showexponent\":\"all\",\"exponentformat\":\"e\"},\"width\":500,\"height\":500,\"plot_bgcolor\":\"white\"},                        {\"responsive\": true}                    ).then(function(){\n",
       "                            \n",
       "var gd = document.getElementById('b53c1c81-0253-4766-887d-e1d266f69d59');\n",
       "var x = new MutationObserver(function (mutations, observer) {{\n",
       "        var display = window.getComputedStyle(gd).display;\n",
       "        if (!display || display === 'none') {{\n",
       "            console.log([gd, 'removed!']);\n",
       "            Plotly.purge(gd);\n",
       "            observer.disconnect();\n",
       "        }}\n",
       "}});\n",
       "\n",
       "// Listen for the removal of the full notebook cells\n",
       "var notebookContainer = gd.closest('#notebook-container');\n",
       "if (notebookContainer) {{\n",
       "    x.observe(notebookContainer, {childList: true});\n",
       "}}\n",
       "\n",
       "// Listen for the clearing of the current output cell\n",
       "var outputEl = gd.closest('.output');\n",
       "if (outputEl) {{\n",
       "    x.observe(outputEl, {childList: true});\n",
       "}}\n",
       "\n",
       "                        })                };                });            </script>        </div>"
      ]
     },
     "metadata": {},
     "output_type": "display_data"
    }
   ],
   "source": [
    "# clique oriented CBMD\n",
    "dgm_clique_or_CBMD=rev_directed(L_CBMD)\n",
    "plot_diagram(dgm_clique_or_CBMD[0])"
   ]
  },
  {
   "cell_type": "code",
   "execution_count": 65,
   "id": "52e48c10",
   "metadata": {},
   "outputs": [
    {
     "name": "stdout",
     "output_type": "stream",
     "text": [
      "0.0\n"
     ]
    },
    {
     "data": {
      "text/plain": [
       "<AxesSubplot:title={'center':'Persistence diagram'}, xlabel='Birth', ylabel='Death'>"
      ]
     },
     "execution_count": 65,
     "metadata": {},
     "output_type": "execute_result"
    },
    {
     "data": {
      "image/png": "[encoded data removed]",
      "text/plain": [
       "<Figure size 432x288 with 1 Axes>"
      ]
     },
     "metadata": {
      "needs_background": "light"
     },
     "output_type": "display_data"
    }
   ],
   "source": [
    "# high order, violating triangles CBMD\n",
    "indifference_value=0.05\n",
    "print(hyper_coherence(ts_CBMD,indifference_value))\n",
    "dgm_high_CBMD=create_diagram_directly_2(ts_CBMD,indifference_value)\n",
    "gudhi.plot_persistence_diagram(dgm_high_CBMD)"
   ]
  },
  {
   "cell_type": "code",
   "execution_count": 66,
   "id": "c4c8ef6e",
   "metadata": {},
   "outputs": [
    {
     "data": {
      "text/plain": [
       "<matplotlib.colorbar.Colorbar at 0x28b08e2a070>"
      ]
     },
     "execution_count": 66,
     "metadata": {},
     "output_type": "execute_result"
    },
    {
     "data": {
      "image/png": "[encoded data removed]",
      "text/plain": [
       "<Figure size 720x504 with 2 Axes>"
      ]
     },
     "metadata": {
      "needs_background": "light"
     },
     "output_type": "display_data"
    }
   ],
   "source": [
    "# FDC\n",
    "L_FDC=lead_matrix_1(ts_FDC)\n",
    "plt.figure(figsize=(10,7))\n",
    "plt.imshow(L_FDC, alpha=0.9, cmap=\"Blues\")\n",
    "plt.colorbar()"
   ]
  },
  {
   "cell_type": "code",
   "execution_count": 67,
   "id": "46d38c27",
   "metadata": {},
   "outputs": [
    {
     "data": {
      "application/vnd.plotly.v1+json": {
       "config": {
        "plotlyServerURL": "https://plot.ly"
       },
       "data": [
        {
         "hoverinfo": "none",
         "line": {
          "color": "black",
          "dash": "dash",
          "width": 1
         },
         "mode": "lines",
         "showlegend": false,
         "type": "scatter",
         "x": [
          -0.12813446998596192,
          6.534857969284058
         ],
         "y": [
          -0.12813446998596192,
          6.534857969284058
         ]
        },
        {
         "hoverinfo": "text",
         "hovertext": [
          "(0.0, 0.28928348422050476)",
          "(0.0, 0.3822748363018036)",
          "(0.0, 0.688882052898407)",
          "(0.0, 0.8273693323135376)",
          "(0.0, 0.9080212116241455)",
          "(0.0, 0.915993869304657)",
          "(0.0, 0.9278542995452881)",
          "(0.0, 1.0221720933914185)",
          "(0.0, 1.0754450559616089)",
          "(0.0, 1.1438175439834595)",
          "(0.0, 1.217728614807129)",
          "(0.0, 1.2980623245239258)",
          "(0.0, 1.3194385766983032)",
          "(0.0, 1.3735135793685913)",
          "(0.0, 1.4404772520065308)",
          "(0.0, 1.5031471252441406)",
          "(0.0, 1.6072918176651)",
          "(0.0, 1.6637232303619385)",
          "(0.0, 1.677964687347412)",
          "(0.0, 1.6937310695648193)",
          "(0.0, 1.7135202884674072)",
          "(0.0, 1.7180168628692627)",
          "(0.0, 1.7239415645599365)",
          "(0.0, 1.7479205131530762)",
          "(0.0, 1.7529606819152832)",
          "(0.0, 1.7560678720474243)",
          "(0.0, 1.765472650527954)",
          "(0.0, 1.794153094291687)",
          "(0.0, 1.8022956848144531)",
          "(0.0, 1.8467742204666138)",
          "(0.0, 1.8782260417938232)",
          "(0.0, 1.8785490989685059)",
          "(0.0, 1.8928288221359253)",
          "(0.0, 1.8938584327697754)",
          "(0.0, 1.899591326713562)",
          "(0.0, 1.9039623737335205)",
          "(0.0, 1.9105442762374878)",
          "(0.0, 1.978587031364441)",
          "(0.0, 2.002699136734009)",
          "(0.0, 2.0438594818115234)",
          "(0.0, 2.055358409881592)",
          "(0.0, 2.061298370361328)",
          "(0.0, 2.0936646461486816)",
          "(0.0, 2.137124538421631)",
          "(0.0, 2.146132469177246)",
          "(0.0, 2.1667842864990234)",
          "(0.0, 2.18557071685791)",
          "(0.0, 2.187633514404297)",
          "(0.0, 2.203946113586426)",
          "(0.0, 2.2294886112213135)",
          "(0.0, 2.2475123405456543)",
          "(0.0, 2.2659339904785156)",
          "(0.0, 2.286168336868286)",
          "(0.0, 2.3414788246154785)",
          "(0.0, 2.356245279312134)",
          "(0.0, 2.3656206130981445)",
          "(0.0, 2.437730550765991)",
          "(0.0, 2.4549803733825684)",
          "(0.0, 2.460679531097412)",
          "(0.0, 2.480283260345459)",
          "(0.0, 2.5122358798980713)",
          "(0.0, 2.517427682876587)",
          "(0.0, 2.539983034133911)",
          "(0.0, 2.550398826599121)",
          "(0.0, 2.5556800365448)",
          "(0.0, 2.6184277534484863)",
          "(0.0, 2.64540696144104)",
          "(0.0, 2.6513736248016357)",
          "(0.0, 2.6755261421203613)",
          "(0.0, 2.6867709159851074)",
          "(0.0, 2.696192979812622)",
          "(0.0, 2.7288882732391357)",
          "(0.0, 2.7297115325927734)",
          "(0.0, 2.811305522918701)",
          "(0.0, 2.829252243041992)",
          "(0.0, 2.8318591117858887)",
          "(0.0, 2.9175686836242676)",
          "(0.0, 2.9378890991210938)",
          "(0.0, 2.9640860557556152)",
          "(0.0, 2.991101026535034)",
          "(0.0, 2.9970107078552246)",
          "(0.0, 3.0093255043029785)",
          "(0.0, 3.0497968196868896)",
          "(0.0, 3.06514048576355)",
          "(0.0, 3.0994930267333984)",
          "(0.0, 3.134995698928833)",
          "(0.0, 3.139460325241089)",
          "(0.0, 3.2095284461975098)",
          "(0.0, 3.239384174346924)",
          "(0.0, 3.4079535007476807)",
          "(0.0, 3.4686172008514404)",
          "(0.0, 3.477111577987671)",
          "(0.0, 3.630418062210083)",
          "(0.0, 3.6542139053344727)",
          "(0.0, 3.8186585903167725)",
          "(0.0, 3.966750144958496)",
          "(0.0, 4.1916279792785645)",
          "(0.0, 4.647935390472412)"
         ],
         "mode": "markers",
         "name": "H0",
         "type": "scatter",
         "x": [
          0,
          0,
          0,
          0,
          0,
          0,
          0,
          0,
          0,
          0,
          0,
          0,
          0,
          0,
          0,
          0,
          0,
          0,
          0,
          0,
          0,
          0,
          0,
          0,
          0,
          0,
          0,
          0,
          0,
          0,
          0,
          0,
          0,
          0,
          0,
          0,
          0,
          0,
          0,
          0,
          0,
          0,
          0,
          0,
          0,
          0,
          0,
          0,
          0,
          0,
          0,
          0,
          0,
          0,
          0,
          0,
          0,
          0,
          0,
          0,
          0,
          0,
          0,
          0,
          0,
          0,
          0,
          0,
          0,
          0,
          0,
          0,
          0,
          0,
          0,
          0,
          0,
          0,
          0,
          0,
          0,
          0,
          0,
          0,
          0,
          0,
          0,
          0,
          0,
          0,
          0,
          0,
          0,
          0,
          0,
          0,
          0,
          0
         ],
         "y": [
          0.28928348422050476,
          0.3822748363018036,
          0.688882052898407,
          0.8273693323135376,
          0.9080212116241455,
          0.915993869304657,
          0.9278542995452881,
          1.0221720933914185,
          1.0754450559616089,
          1.1438175439834595,
          1.217728614807129,
          1.2980623245239258,
          1.3194385766983032,
          1.3735135793685913,
          1.4404772520065308,
          1.5031471252441406,
          1.6072918176651,
          1.6637232303619385,
          1.677964687347412,
          1.6937310695648193,
          1.7135202884674072,
          1.7180168628692627,
          1.7239415645599365,
          1.7479205131530762,
          1.7529606819152832,
          1.7560678720474243,
          1.765472650527954,
          1.794153094291687,
          1.8022956848144531,
          1.8467742204666138,
          1.8782260417938232,
          1.8785490989685059,
          1.8928288221359253,
          1.8938584327697754,
          1.899591326713562,
          1.9039623737335205,
          1.9105442762374878,
          1.978587031364441,
          2.002699136734009,
          2.0438594818115234,
          2.055358409881592,
          2.061298370361328,
          2.0936646461486816,
          2.137124538421631,
          2.146132469177246,
          2.1667842864990234,
          2.18557071685791,
          2.187633514404297,
          2.203946113586426,
          2.2294886112213135,
          2.2475123405456543,
          2.2659339904785156,
          2.286168336868286,
          2.3414788246154785,
          2.356245279312134,
          2.3656206130981445,
          2.437730550765991,
          2.4549803733825684,
          2.460679531097412,
          2.480283260345459,
          2.5122358798980713,
          2.517427682876587,
          2.539983034133911,
          2.550398826599121,
          2.5556800365448,
          2.6184277534484863,
          2.64540696144104,
          2.6513736248016357,
          2.6755261421203613,
          2.6867709159851074,
          2.696192979812622,
          2.7288882732391357,
          2.7297115325927734,
          2.811305522918701,
          2.829252243041992,
          2.8318591117858887,
          2.9175686836242676,
          2.9378890991210938,
          2.9640860557556152,
          2.991101026535034,
          2.9970107078552246,
          3.0093255043029785,
          3.0497968196868896,
          3.06514048576355,
          3.0994930267333984,
          3.134995698928833,
          3.139460325241089,
          3.2095284461975098,
          3.239384174346924,
          3.4079535007476807,
          3.4686172008514404,
          3.477111577987671,
          3.630418062210083,
          3.6542139053344727,
          3.8186585903167725,
          3.966750144958496,
          4.1916279792785645,
          4.647935390472412
         ]
        },
        {
         "hoverinfo": "text",
         "hovertext": [
          "(6.000277996063232, 6.070749759674072)",
          "(5.9744086265563965, 6.387601852416992)",
          "(5.963146686553955, 6.406723499298096)",
          "(5.878213405609131, 6.334687232971191)",
          "(5.840071678161621, 5.970481872558594)",
          "(5.77591609954834, 6.1896748542785645)",
          "(5.51908016204834, 5.688913345336914)",
          "(5.505230903625488, 5.702854156494141)",
          "(5.491418838500977, 5.623899936676025)",
          "(5.489977836608887, 5.615982532501221)",
          "(5.445551872253418, 6.028116226196289)",
          "(5.439368724822998, 5.970481872558594)",
          "(5.408957004547119, 5.593194484710693)",
          "(5.352959156036377, 5.669767379760742)",
          "(5.33864164352417, 6.123279571533203)",
          "(5.311515808105469, 6.009833812713623)",
          "(5.301011085510254, 5.419078826904297)",
          "(5.299157619476318, 5.709759712219238)",
          "(5.287594795227051, 5.39593505859375)",
          "(5.282315254211426, 6.070749759674072)",
          "(5.264307022094727, 5.438149452209473)",
          "(5.255683898925781, 5.463134288787842)",
          "(5.254807949066162, 5.571111679077148)",
          "(5.228877544403076, 5.325296401977539)",
          "(5.215717315673828, 5.2552289962768555)",
          "(5.212786674499512, 5.492516994476318)",
          "(5.211103439331055, 5.2800164222717285)",
          "(5.205862998962402, 6.048890590667725)",
          "(5.205131530761719, 6.079176902770996)",
          "(5.199728965759277, 5.438592910766602)",
          "(5.19269323348999, 5.3730669021606445)",
          "(5.187385559082031, 5.946683883666992)",
          "(5.179333686828613, 5.749109745025635)",
          "(5.177918910980225, 5.2596025466918945)",
          "(5.149509906768799, 5.513485908508301)",
          "(5.148073196411133, 5.673727989196777)",
          "(5.144937038421631, 5.695206165313721)",
          "(5.1381940841674805, 5.449665546417236)",
          "(5.1033935546875, 5.6146368980407715)",
          "(5.099390983581543, 5.141500949859619)",
          "(5.096935272216797, 5.559226036071777)",
          "(5.093125820159912, 5.283845901489258)",
          "(5.090001106262207, 5.18186616897583)",
          "(5.088426113128662, 5.510612487792969)",
          "(5.066712379455566, 5.945806980133057)",
          "(5.050467491149902, 6.034581184387207)",
          "(5.045114517211914, 6.060403823852539)",
          "(5.040042877197266, 5.451411724090576)",
          "(5.039201736450195, 5.489687919616699)",
          "(5.030033111572266, 5.646237373352051)",
          "(5.027294158935547, 5.173064231872559)",
          "(5.014980316162109, 5.812078475952148)",
          "(5.012629508972168, 5.049137115478516)",
          "(4.998939037322998, 5.262214660644531)",
          "(4.9894256591796875, 5.350220680236816)",
          "(4.980154037475586, 5.485123634338379)",
          "(4.970938682556152, 5.545546054840088)",
          "(4.94277811050415, 5.327414512634277)",
          "(4.926399230957031, 5.480835437774658)",
          "(4.926137924194336, 5.696841716766357)",
          "(4.915825843811035, 5.144752502441406)",
          "(4.913298606872559, 6.333134651184082)",
          "(4.911045074462891, 5.533923149108887)",
          "(4.909400939941406, 5.341703414916992)",
          "(4.9061784744262695, 5.206874847412109)",
          "(4.903517246246338, 5.751674652099609)",
          "(4.9009246826171875, 4.9588823318481445)",
          "(4.900900840759277, 5.479766368865967)",
          "(4.898139476776123, 4.97483491897583)",
          "(4.896868705749512, 5.089188098907471)",
          "(4.895796298980713, 5.0778913497924805)",
          "(4.88494873046875, 5.085024356842041)",
          "(4.8828935623168945, 5.027841567993164)",
          "(4.880984783172607, 5.19518518447876)",
          "(4.880332946777344, 4.943795204162598)",
          "(4.860873222351074, 4.9393134117126465)",
          "(4.859254837036133, 5.556112289428711)",
          "(4.8266167640686035, 5.155017852783203)",
          "(4.819543361663818, 5.36641263961792)",
          "(4.8144989013671875, 5.1888837814331055)",
          "(4.80508279800415, 5.092425346374512)",
          "(4.798247814178467, 5.435695648193359)",
          "(4.795238494873047, 6.052618503570557)",
          "(4.794348239898682, 5.152072429656982)",
          "(4.789250373840332, 5.338532447814941)",
          "(4.78548002243042, 5.695811748504639)",
          "(4.775200843811035, 5.159073352813721)",
          "(4.774608135223389, 5.026180267333984)",
          "(4.7727813720703125, 5.247153282165527)",
          "(4.770976543426514, 5.036281108856201)",
          "(4.767991542816162, 5.39593505859375)",
          "(4.763534069061279, 5.18786096572876)",
          "(4.759578227996826, 5.664028167724609)",
          "(4.759357452392578, 5.807004451751709)",
          "(4.746771812438965, 5.037984371185303)",
          "(4.744124412536621, 5.054005146026611)",
          "(4.738450050354004, 4.863837242126465)",
          "(4.736175537109375, 5.419078826904297)",
          "(4.7328877449035645, 5.5696539878845215)",
          "(4.731168746948242, 5.463134288787842)",
          "(4.72880744934082, 5.5663909912109375)",
          "(4.724261283874512, 5.195952415466309)",
          "(4.712946891784668, 5.299503803253174)",
          "(4.70701789855957, 5.625325679779053)",
          "(4.689638137817383, 5.2411346435546875)",
          "(4.680383682250977, 5.776602745056152)",
          "(4.658764362335205, 4.671151161193848)",
          "(4.650941848754883, 4.7089080810546875)",
          "(4.644656181335449, 4.943424701690674)",
          "(4.619381427764893, 5.646237373352051)",
          "(4.618715763092041, 4.676920413970947)",
          "(4.61808443069458, 4.69084358215332)",
          "(4.596413612365723, 4.896384239196777)",
          "(4.590712547302246, 5.191075325012207)",
          "(4.589216709136963, 4.70336389541626)",
          "(4.5841593742370605, 4.90726375579834)",
          "(4.578433990478516, 4.920166969299316)",
          "(4.576807498931885, 5.199367046356201)",
          "(4.572771072387695, 5.0778913497924805)",
          "(4.572526931762695, 4.737499713897705)",
          "(4.570193290710449, 4.8776092529296875)",
          "(4.568449974060059, 5.981812953948975)",
          "(4.555517673492432, 4.680845260620117)",
          "(4.551562309265137, 5.133364200592041)",
          "(4.551200866699219, 4.920122146606445)",
          "(4.550678730010986, 4.680845260620117)",
          "(4.547735214233398, 5.327414512634277)",
          "(4.547317981719971, 4.8814167976379395)",
          "(4.541537761688232, 5.394779682159424)",
          "(4.540096759796143, 5.141500949859619)",
          "(4.537114143371582, 4.8170084953308105)",
          "(4.517710208892822, 5.18786096572876)",
          "(4.515403747558594, 4.97483491897583)",
          "(4.514439105987549, 5.2816386222839355)",
          "(4.513123512268066, 5.730287075042725)",
          "(4.512726306915283, 5.109022617340088)",
          "(4.51156759262085, 4.733137130737305)",
          "(4.503591537475586, 4.609952449798584)",
          "(4.500921726226807, 5.449665546417236)",
          "(4.500413417816162, 5.941957950592041)",
          "(4.493225574493408, 5.0107197761535645)",
          "(4.489663600921631, 5.316223621368408)",
          "(4.488559722900391, 5.109022617340088)",
          "(4.475398540496826, 4.733137130737305)",
          "(4.458665370941162, 5.695206165313721)",
          "(4.457086563110352, 5.602514743804932)",
          "(4.44876766204834, 4.85012149810791)",
          "(4.434126377105713, 5.111073970794678)",
          "(4.433589458465576, 5.19518518447876)",
          "(4.431795597076416, 5.338468074798584)",
          "(4.428614139556885, 5.0107197761535645)",
          "(4.423888206481934, 4.7089080810546875)",
          "(4.422722339630127, 5.905560493469238)",
          "(4.422252655029297, 5.092425346374512)",
          "(4.421511650085449, 5.120981216430664)",
          "(4.420284271240234, 5.18786096572876)",
          "(4.414936542510986, 6.08123254776001)",
          "(4.410759925842285, 5.266477108001709)",
          "(4.405339241027832, 4.680845260620117)",
          "(4.397532939910889, 4.882935523986816)",
          "(4.3925323486328125, 4.8170084953308105)",
          "(4.388810634613037, 5.165830135345459)",
          "(4.384499549865723, 5.783653259277344)",
          "(4.377665042877197, 5.4909892082214355)",
          "(4.371776103973389, 4.968458652496338)",
          "(4.371088981628418, 4.917797088623047)",
          "(4.369603633880615, 5.0776543617248535)",
          "(4.367064476013184, 5.200924396514893)",
          "(4.366743564605713, 4.913110256195068)",
          "(4.362551689147949, 5.036712646484375)",
          "(4.3570637702941895, 4.581475734710693)",
          "(4.35390043258667, 5.368625640869141)",
          "(4.35181188583374, 5.200924396514893)",
          "(4.3376078605651855, 5.556112289428711)",
          "(4.336501598358154, 5.599565505981445)",
          "(4.334544658660889, 5.099273204803467)",
          "(4.319825172424316, 5.293599605560303)",
          "(4.313243389129639, 5.364917278289795)",
          "(4.313036918640137, 5.048842430114746)",
          "(4.313014984130859, 5.0776543617248535)",
          "(4.310650825500488, 4.816441059112549)",
          "(4.306729316711426, 4.4175286293029785)",
          "(4.304850101470947, 4.7089080810546875)",
          "(4.293613910675049, 4.366238594055176)",
          "(4.289565563201904, 5.093294143676758)",
          "(4.2895097732543945, 4.816188812255859)",
          "(4.288583755493164, 5.048649787902832)",
          "(4.285520553588867, 4.905449867248535)",
          "(4.262210845947266, 4.4912214279174805)",
          "(4.261509418487549, 4.820319652557373)",
          "(4.260711193084717, 4.28739070892334)",
          "(4.25950288772583, 4.705713272094727)",
          "(4.255309581756592, 5.449716567993164)",
          "(4.248718738555908, 4.490422248840332)",
          "(4.243023872375488, 4.546730995178223)",
          "(4.242752552032471, 5.370975017547607)",
          "(4.2169647216796875, 5.113575458526611)",
          "(4.215566158294678, 5.104965686798096)",
          "(4.214250087738037, 5.2793145179748535)",
          "(4.211489200592041, 4.816441059112549)",
          "(4.20317268371582, 4.740692138671875)",
          "(4.1977105140686035, 4.659853458404541)",
          "(4.197677135467529, 4.999624252319336)",
          "(4.194339752197266, 5.4099860191345215)",
          "(4.190651893615723, 4.819350719451904)",
          "(4.188714981079102, 5.173064231872559)",
          "(4.1879167556762695, 5.3018341064453125)",
          "(4.179155349731445, 4.490072250366211)",
          "(4.176002502441406, 5.13586950302124)",
          "(4.17585563659668, 4.286281585693359)",
          "(4.170814514160156, 5.438592910766602)",
          "(4.1694793701171875, 4.784895420074463)",
          "(4.168172359466553, 4.676920413970947)",
          "(4.158877849578857, 5.581830978393555)",
          "(4.1575775146484375, 4.48702335357666)",
          "(4.151281833648682, 5.21609354019165)",
          "(4.150249481201172, 5.479583263397217)",
          "(4.14808988571167, 5.157163619995117)",
          "(4.1386919021606445, 5.265921592712402)",
          "(4.134456157684326, 5.009521961212158)",
          "(4.133266448974609, 5.139227867126465)",
          "(4.130243301391602, 5.023694038391113)",
          "(4.1240739822387695, 5.016045093536377)",
          "(4.119619846343994, 5.571111679077148)",
          "(4.116504192352295, 4.28739070892334)",
          "(4.114590644836426, 4.6824049949646)",
          "(4.112792491912842, 4.900262832641602)",
          "(4.112019062042236, 5.541270732879639)",
          "(4.1113691329956055, 5.523681163787842)",
          "(4.107383728027344, 4.688175201416016)",
          "(4.096856594085693, 4.916830539703369)",
          "(4.065465450286865, 4.6390252113342285)",
          "(4.0562005043029785, 5.441211700439453)",
          "(4.042754650115967, 4.8596601486206055)",
          "(4.03823709487915, 5.142324447631836)",
          "(4.0349297523498535, 4.43790864944458)",
          "(4.032885551452637, 5.133721828460693)",
          "(4.027864456176758, 4.9393134117126465)",
          "(4.021727085113525, 4.803969383239746)",
          "(4.01772928237915, 5.441019535064697)",
          "(4.0139079093933105, 4.820319652557373)",
          "(4.008627891540527, 5.527068614959717)",
          "(4.000175476074219, 5.054005146026611)",
          "(4.000097274780273, 6.170405387878418)",
          "(3.993109703063965, 4.244393825531006)",
          "(3.9867022037506104, 4.514407634735107)",
          "(3.985161542892456, 4.3667449951171875)",
          "(3.9805257320404053, 5.319794178009033)",
          "(3.9735703468322754, 5.006412982940674)",
          "(3.96486234664917, 5.094336986541748)",
          "(3.9648444652557373, 4.486011981964111)",
          "(3.958683967590332, 5.092425346374512)",
          "(3.957218885421753, 5.059669017791748)",
          "(3.9568653106689453, 4.581399440765381)",
          "(3.9554924964904785, 4.092380046844482)",
          "(3.949847459793091, 5.120981216430664)",
          "(3.9435744285583496, 5.099273204803467)",
          "(3.940429925918579, 5.899415493011475)",
          "(3.933797836303711, 5.119869232177734)",
          "(3.930440902709961, 4.766533374786377)",
          "(3.929903268814087, 5.094336986541748)",
          "(3.9295969009399414, 4.97483491897583)",
          "(3.928328037261963, 5.1925048828125)",
          "(3.9236488342285156, 4.68565034866333)",
          "(3.9197280406951904, 5.5696539878845215)",
          "(3.9137589931488037, 5.265921592712402)",
          "(3.9088361263275146, 5.507380485534668)",
          "(3.9056923389434814, 4.7410383224487305)",
          "(3.9035706520080566, 4.581475734710693)",
          "(3.9002013206481934, 5.4184041023254395)",
          "(3.8892135620117188, 4.547887325286865)",
          "(3.8884387016296387, 4.906950950622559)",
          "(3.885051727294922, 5.093294143676758)",
          "(3.864379405975342, 4.7410383224487305)",
          "(3.8616373538970947, 5.527068614959717)",
          "(3.861626625061035, 5.036367416381836)",
          "(3.86020565032959, 3.9953646659851074)",
          "(3.8572604656219482, 5.419840335845947)",
          "(3.84413743019104, 5.195952415466309)",
          "(3.8421413898468018, 4.6317901611328125)",
          "(3.838918924331665, 5.867258548736572)",
          "(3.8314924240112305, 4.78167200088501)",
          "(3.83015775680542, 5.350220680236816)",
          "(3.8238744735717773, 5.423797607421875)",
          "(3.8182241916656494, 4.831714630126953)",
          "(3.8176515102386475, 4.68565034866333)",
          "(3.81178879737854, 5.173064231872559)",
          "(3.798726797103882, 4.8170084953308105)",
          "(3.792755365371704, 6.0259690284729)",
          "(3.790351152420044, 4.990283489227295)",
          "(3.7866013050079346, 4.480534076690674)",
          "(3.7864129543304443, 5.006424427032471)",
          "(3.7778382301330566, 5.144752502441406)",
          "(3.777677059173584, 4.896384239196777)",
          "(3.766896963119507, 5.1128387451171875)",
          "(3.755248546600342, 5.435695648193359)",
          "(3.748961925506592, 5.19518518447876)",
          "(3.747671604156494, 5.581830978393555)",
          "(3.739398956298828, 5.504852771759033)",
          "(3.7375524044036865, 4.40797233581543)",
          "(3.7374188899993896, 5.009300708770752)",
          "(3.7337682247161865, 5.646237373352051)",
          "(3.7133593559265137, 5.6778883934021)",
          "(3.7106363773345947, 4.733137130737305)",
          "(3.710357666015625, 4.673153400421143)",
          "(3.6928422451019287, 5.159073352813721)",
          "(3.661970376968384, 5.124130725860596)",
          "(3.6603357791900635, 5.0778913497924805)",
          "(3.6559975147247314, 5.370975017547607)",
          "(3.641533374786377, 5.009300708770752)",
          "(3.6381475925445557, 5.456124782562256)",
          "(3.6336071491241455, 5.303778648376465)",
          "(3.629406452178955, 5.343133926391602)",
          "(3.6251137256622314, 5.093523025512695)",
          "(3.608534336090088, 5.006412982940674)",
          "(3.5969834327697754, 4.871713638305664)",
          "(3.583007574081421, 4.0586957931518555)",
          "(3.5799922943115234, 5.319794178009033)",
          "(3.5775251388549805, 5.130858898162842)",
          "(3.5624539852142334, 4.401815414428711)",
          "(3.5606513023376465, 5.258655548095703)",
          "(3.556095600128174, 5.009568214416504)",
          "(3.543044328689575, 5.652864933013916)",
          "(3.5339972972869873, 5.072926998138428)",
          "(3.5337672233581543, 4.941638469696045)",
          "(3.527980089187622, 5.188204765319824)",
          "(3.5148253440856934, 4.613214015960693)",
          "(3.511422634124756, 5.576752662658691)",
          "(3.50243878364563, 5.21609354019165)",
          "(3.4964144229888916, 5.0107197761535645)",
          "(3.4921138286590576, 4.705713272094727)",
          "(3.459029197692871, 4.631529808044434)",
          "(3.4562578201293945, 5.895564079284668)",
          "(3.454296827316284, 5.093012809753418)",
          "(3.4515421390533447, 5.18786096572876)",
          "(3.427152395248413, 4.917558193206787)",
          "(3.42659068107605, 5.520103454589844)",
          "(3.423696279525757, 5.119869232177734)",
          "(3.396949052810669, 5.082019329071045)",
          "(3.3889760971069336, 5.364917278289795)",
          "(3.3663012981414795, 5.4174485206604)",
          "(3.359036684036255, 5.410081386566162)",
          "(3.355677366256714, 5.112863063812256)",
          "(3.3418798446655273, 3.63624906539917)",
          "(3.33799147605896, 4.339061737060547)",
          "(3.330376148223877, 4.779032230377197)",
          "(3.3127801418304443, 4.900262832641602)",
          "(3.3069536685943604, 4.595961570739746)",
          "(3.298564910888672, 4.863837242126465)",
          "(3.2973132133483887, 5.142324447631836)",
          "(3.293217658996582, 3.8652632236480713)",
          "(3.2880823612213135, 5.1276116371154785)",
          "(3.2820770740509033, 4.990995407104492)",
          "(3.2708168029785156, 5.211664199829102)",
          "(3.2616004943847656, 4.930208683013916)",
          "(3.2592599391937256, 5.114777565002441)",
          "(3.2562952041625977, 3.7914178371429443)",
          "(3.251248359680176, 5.437603950500488)",
          "(3.2478463649749756, 5.507646560668945)",
          "(3.234543561935425, 4.895157814025879)",
          "(3.215813398361206, 4.906950950622559)",
          "(3.212132453918457, 4.923805236816406)",
          "(3.201322555541992, 5.0580153465271)",
          "(3.1976029872894287, 5.401645183563232)",
          "(3.1876637935638428, 4.673153400421143)",
          "(3.1876513957977295, 5.165830135345459)",
          "(3.147608518600464, 5.008767604827881)",
          "(3.1239492893218994, 3.9764199256896973)",
          "(3.0873148441314697, 5.526088714599609)",
          "(3.0798349380493164, 5.082019329071045)",
          "(3.0762369632720947, 5.095231056213379)",
          "(3.0671727657318115, 5.0780744552612305)",
          "(3.0485939979553223, 4.900262832641602)",
          "(3.032249927520752, 5.186169624328613)",
          "(3.003758430480957, 4.947781085968018)",
          "(2.997760534286499, 5.124130725860596)",
          "(2.996995210647583, 5.119869232177734)",
          "(2.988203525543213, 5.2411346435546875)",
          "(2.966430902481079, 4.784895420074463)",
          "(2.964893102645874, 5.130652904510498)",
          "(2.953289270401001, 5.036712646484375)",
          "(2.9038074016571045, 5.094336986541748)",
          "(2.895331859588623, 5.036712646484375)",
          "(2.894951105117798, 5.2793145179748535)",
          "(2.8762686252593994, 5.048842430114746)",
          "(2.8744924068450928, 5.159426689147949)",
          "(2.848693370819092, 4.8814167976379395)",
          "(2.8441483974456787, 5.097797393798828)",
          "(2.8392395973205566, 5.492516994476318)",
          "(2.831744432449341, 4.410325527191162)",
          "(2.8186862468719482, 5.072926998138428)",
          "(2.808274745941162, 5.299503803253174)",
          "(2.796959400177002, 5.072926998138428)",
          "(2.7940688133239746, 4.891473770141602)",
          "(2.7793614864349365, 5.2816386222839355)",
          "(2.7611594200134277, 5.195952415466309)",
          "(2.7430710792541504, 5.3018341064453125)",
          "(2.720691204071045, 5.139227867126465)",
          "(2.712285280227661, 5.114777565002441)",
          "(2.7052247524261475, 5.008767604827881)",
          "(2.6683223247528076, 5.333426475524902)",
          "(2.665860652923584, 5.350220680236816)",
          "(2.6138930320739746, 5.370304107666016)",
          "(2.553574323654175, 4.990283489227295)",
          "(2.489572525024414, 4.90726375579834)",
          "(2.482011079788208, 4.497768402099609)",
          "(2.3300702571868896, 5.194604873657227)",
          "(2.3265390396118164, 5.410081386566162)",
          "(2.3044979572296143, 5.195952415466309)",
          "(2.215440511703491, 5.008767604827881)",
          "(1.876754641532898, 5.195952415466309)"
         ],
         "mode": "markers",
         "name": "H1",
         "type": "scatter",
         "x": [
          6.000277996063232,
          5.9744086265563965,
          5.963146686553955,
          5.878213405609131,
          5.840071678161621,
          5.77591609954834,
          5.51908016204834,
          5.505230903625488,
          5.491418838500977,
          5.489977836608887,
          5.445551872253418,
          5.439368724822998,
          5.408957004547119,
          5.352959156036377,
          5.33864164352417,
          5.311515808105469,
          5.301011085510254,
          5.299157619476318,
          5.287594795227051,
          5.282315254211426,
          5.264307022094727,
          5.255683898925781,
          5.254807949066162,
          5.228877544403076,
          5.215717315673828,
          5.212786674499512,
          5.211103439331055,
          5.205862998962402,
          5.205131530761719,
          5.199728965759277,
          5.19269323348999,
          5.187385559082031,
          5.179333686828613,
          5.177918910980225,
          5.149509906768799,
          5.148073196411133,
          5.144937038421631,
          5.1381940841674805,
          5.1033935546875,
          5.099390983581543,
          5.096935272216797,
          5.093125820159912,
          5.090001106262207,
          5.088426113128662,
          5.066712379455566,
          5.050467491149902,
          5.045114517211914,
          5.040042877197266,
          5.039201736450195,
          5.030033111572266,
          5.027294158935547,
          5.014980316162109,
          5.012629508972168,
          4.998939037322998,
          4.9894256591796875,
          4.980154037475586,
          4.970938682556152,
          4.94277811050415,
          4.926399230957031,
          4.926137924194336,
          4.915825843811035,
          4.913298606872559,
          4.911045074462891,
          4.909400939941406,
          4.9061784744262695,
          4.903517246246338,
          4.9009246826171875,
          4.900900840759277,
          4.898139476776123,
          4.896868705749512,
          4.895796298980713,
          4.88494873046875,
          4.8828935623168945,
          4.880984783172607,
          4.880332946777344,
          4.860873222351074,
          4.859254837036133,
          4.8266167640686035,
          4.819543361663818,
          4.8144989013671875,
          4.80508279800415,
          4.798247814178467,
          4.795238494873047,
          4.794348239898682,
          4.789250373840332,
          4.78548002243042,
          4.775200843811035,
          4.774608135223389,
          4.7727813720703125,
          4.770976543426514,
          4.767991542816162,
          4.763534069061279,
          4.759578227996826,
          4.759357452392578,
          4.746771812438965,
          4.744124412536621,
          4.738450050354004,
          4.736175537109375,
          4.7328877449035645,
          4.731168746948242,
          4.72880744934082,
          4.724261283874512,
          4.712946891784668,
          4.70701789855957,
          4.689638137817383,
          4.680383682250977,
          4.658764362335205,
          4.650941848754883,
          4.644656181335449,
          4.619381427764893,
          4.618715763092041,
          4.61808443069458,
          4.596413612365723,
          4.590712547302246,
          4.589216709136963,
          4.5841593742370605,
          4.578433990478516,
          4.576807498931885,
          4.572771072387695,
          4.572526931762695,
          4.570193290710449,
          4.568449974060059,
          4.555517673492432,
          4.551562309265137,
          4.551200866699219,
          4.550678730010986,
          4.547735214233398,
          4.547317981719971,
          4.541537761688232,
          4.540096759796143,
          4.537114143371582,
          4.517710208892822,
          4.515403747558594,
          4.514439105987549,
          4.513123512268066,
          4.512726306915283,
          4.51156759262085,
          4.503591537475586,
          4.500921726226807,
          4.500413417816162,
          4.493225574493408,
          4.489663600921631,
          4.488559722900391,
          4.475398540496826,
          4.458665370941162,
          4.457086563110352,
          4.44876766204834,
          4.434126377105713,
          4.433589458465576,
          4.431795597076416,
          4.428614139556885,
          4.423888206481934,
          4.422722339630127,
          4.422252655029297,
          4.421511650085449,
          4.420284271240234,
          4.414936542510986,
          4.410759925842285,
          4.405339241027832,
          4.397532939910889,
          4.3925323486328125,
          4.388810634613037,
          4.384499549865723,
          4.377665042877197,
          4.371776103973389,
          4.371088981628418,
          4.369603633880615,
          4.367064476013184,
          4.366743564605713,
          4.362551689147949,
          4.3570637702941895,
          4.35390043258667,
          4.35181188583374,
          4.3376078605651855,
          4.336501598358154,
          4.334544658660889,
          4.319825172424316,
          4.313243389129639,
          4.313036918640137,
          4.313014984130859,
          4.310650825500488,
          4.306729316711426,
          4.304850101470947,
          4.293613910675049,
          4.289565563201904,
          4.2895097732543945,
          4.288583755493164,
          4.285520553588867,
          4.262210845947266,
          4.261509418487549,
          4.260711193084717,
          4.25950288772583,
          4.255309581756592,
          4.248718738555908,
          4.243023872375488,
          4.242752552032471,
          4.2169647216796875,
          4.215566158294678,
          4.214250087738037,
          4.211489200592041,
          4.20317268371582,
          4.1977105140686035,
          4.197677135467529,
          4.194339752197266,
          4.190651893615723,
          4.188714981079102,
          4.1879167556762695,
          4.179155349731445,
          4.176002502441406,
          4.17585563659668,
          4.170814514160156,
          4.1694793701171875,
          4.168172359466553,
          4.158877849578857,
          4.1575775146484375,
          4.151281833648682,
          4.150249481201172,
          4.14808988571167,
          4.1386919021606445,
          4.134456157684326,
          4.133266448974609,
          4.130243301391602,
          4.1240739822387695,
          4.119619846343994,
          4.116504192352295,
          4.114590644836426,
          4.112792491912842,
          4.112019062042236,
          4.1113691329956055,
          4.107383728027344,
          4.096856594085693,
          4.065465450286865,
          4.0562005043029785,
          4.042754650115967,
          4.03823709487915,
          4.0349297523498535,
          4.032885551452637,
          4.027864456176758,
          4.021727085113525,
          4.01772928237915,
          4.0139079093933105,
          4.008627891540527,
          4.000175476074219,
          4.000097274780273,
          3.993109703063965,
          3.9867022037506104,
          3.985161542892456,
          3.9805257320404053,
          3.9735703468322754,
          3.96486234664917,
          3.9648444652557373,
          3.958683967590332,
          3.957218885421753,
          3.9568653106689453,
          3.9554924964904785,
          3.949847459793091,
          3.9435744285583496,
          3.940429925918579,
          3.933797836303711,
          3.930440902709961,
          3.929903268814087,
          3.9295969009399414,
          3.928328037261963,
          3.9236488342285156,
          3.9197280406951904,
          3.9137589931488037,
          3.9088361263275146,
          3.9056923389434814,
          3.9035706520080566,
          3.9002013206481934,
          3.8892135620117188,
          3.8884387016296387,
          3.885051727294922,
          3.864379405975342,
          3.8616373538970947,
          3.861626625061035,
          3.86020565032959,
          3.8572604656219482,
          3.84413743019104,
          3.8421413898468018,
          3.838918924331665,
          3.8314924240112305,
          3.83015775680542,
          3.8238744735717773,
          3.8182241916656494,
          3.8176515102386475,
          3.81178879737854,
          3.798726797103882,
          3.792755365371704,
          3.790351152420044,
          3.7866013050079346,
          3.7864129543304443,
          3.7778382301330566,
          3.777677059173584,
          3.766896963119507,
          3.755248546600342,
          3.748961925506592,
          3.747671604156494,
          3.739398956298828,
          3.7375524044036865,
          3.7374188899993896,
          3.7337682247161865,
          3.7133593559265137,
          3.7106363773345947,
          3.710357666015625,
          3.6928422451019287,
          3.661970376968384,
          3.6603357791900635,
          3.6559975147247314,
          3.641533374786377,
          3.6381475925445557,
          3.6336071491241455,
          3.629406452178955,
          3.6251137256622314,
          3.608534336090088,
          3.5969834327697754,
          3.583007574081421,
          3.5799922943115234,
          3.5775251388549805,
          3.5624539852142334,
          3.5606513023376465,
          3.556095600128174,
          3.543044328689575,
          3.5339972972869873,
          3.5337672233581543,
          3.527980089187622,
          3.5148253440856934,
          3.511422634124756,
          3.50243878364563,
          3.4964144229888916,
          3.4921138286590576,
          3.459029197692871,
          3.4562578201293945,
          3.454296827316284,
          3.4515421390533447,
          3.427152395248413,
          3.42659068107605,
          3.423696279525757,
          3.396949052810669,
          3.3889760971069336,
          3.3663012981414795,
          3.359036684036255,
          3.355677366256714,
          3.3418798446655273,
          3.33799147605896,
          3.330376148223877,
          3.3127801418304443,
          3.3069536685943604,
          3.298564910888672,
          3.2973132133483887,
          3.293217658996582,
          3.2880823612213135,
          3.2820770740509033,
          3.2708168029785156,
          3.2616004943847656,
          3.2592599391937256,
          3.2562952041625977,
          3.251248359680176,
          3.2478463649749756,
          3.234543561935425,
          3.215813398361206,
          3.212132453918457,
          3.201322555541992,
          3.1976029872894287,
          3.1876637935638428,
          3.1876513957977295,
          3.147608518600464,
          3.1239492893218994,
          3.0873148441314697,
          3.0798349380493164,
          3.0762369632720947,
          3.0671727657318115,
          3.0485939979553223,
          3.032249927520752,
          3.003758430480957,
          2.997760534286499,
          2.996995210647583,
          2.988203525543213,
          2.966430902481079,
          2.964893102645874,
          2.953289270401001,
          2.9038074016571045,
          2.895331859588623,
          2.894951105117798,
          2.8762686252593994,
          2.8744924068450928,
          2.848693370819092,
          2.8441483974456787,
          2.8392395973205566,
          2.831744432449341,
          2.8186862468719482,
          2.808274745941162,
          2.796959400177002,
          2.7940688133239746,
          2.7793614864349365,
          2.7611594200134277,
          2.7430710792541504,
          2.720691204071045,
          2.712285280227661,
          2.7052247524261475,
          2.6683223247528076,
          2.665860652923584,
          2.6138930320739746,
          2.553574323654175,
          2.489572525024414,
          2.482011079788208,
          2.3300702571868896,
          2.3265390396118164,
          2.3044979572296143,
          2.215440511703491,
          1.876754641532898
         ],
         "y": [
          6.070749759674072,
          6.387601852416992,
          6.406723499298096,
          6.334687232971191,
          5.970481872558594,
          6.1896748542785645,
          5.688913345336914,
          5.702854156494141,
          5.623899936676025,
          5.615982532501221,
          6.028116226196289,
          5.970481872558594,
          5.593194484710693,
          5.669767379760742,
          6.123279571533203,
          6.009833812713623,
          5.419078826904297,
          5.709759712219238,
          5.39593505859375,
          6.070749759674072,
          5.438149452209473,
          5.463134288787842,
          5.571111679077148,
          5.325296401977539,
          5.2552289962768555,
          5.492516994476318,
          5.2800164222717285,
          6.048890590667725,
          6.079176902770996,
          5.438592910766602,
          5.3730669021606445,
          5.946683883666992,
          5.749109745025635,
          5.2596025466918945,
          5.513485908508301,
          5.673727989196777,
          5.695206165313721,
          5.449665546417236,
          5.6146368980407715,
          5.141500949859619,
          5.559226036071777,
          5.283845901489258,
          5.18186616897583,
          5.510612487792969,
          5.945806980133057,
          6.034581184387207,
          6.060403823852539,
          5.451411724090576,
          5.489687919616699,
          5.646237373352051,
          5.173064231872559,
          5.812078475952148,
          5.049137115478516,
          5.262214660644531,
          5.350220680236816,
          5.485123634338379,
          5.545546054840088,
          5.327414512634277,
          5.480835437774658,
          5.696841716766357,
          5.144752502441406,
          6.333134651184082,
          5.533923149108887,
          5.341703414916992,
          5.206874847412109,
          5.751674652099609,
          4.9588823318481445,
          5.479766368865967,
          4.97483491897583,
          5.089188098907471,
          5.0778913497924805,
          5.085024356842041,
          5.027841567993164,
          5.19518518447876,
          4.943795204162598,
          4.9393134117126465,
          5.556112289428711,
          5.155017852783203,
          5.36641263961792,
          5.1888837814331055,
          5.092425346374512,
          5.435695648193359,
          6.052618503570557,
          5.152072429656982,
          5.338532447814941,
          5.695811748504639,
          5.159073352813721,
          5.026180267333984,
          5.247153282165527,
          5.036281108856201,
          5.39593505859375,
          5.18786096572876,
          5.664028167724609,
          5.807004451751709,
          5.037984371185303,
          5.054005146026611,
          4.863837242126465,
          5.419078826904297,
          5.5696539878845215,
          5.463134288787842,
          5.5663909912109375,
          5.195952415466309,
          5.299503803253174,
          5.625325679779053,
          5.2411346435546875,
          5.776602745056152,
          4.671151161193848,
          4.7089080810546875,
          4.943424701690674,
          5.646237373352051,
          4.676920413970947,
          4.69084358215332,
          4.896384239196777,
          5.191075325012207,
          4.70336389541626,
          4.90726375579834,
          4.920166969299316,
          5.199367046356201,
          5.0778913497924805,
          4.737499713897705,
          4.8776092529296875,
          5.981812953948975,
          4.680845260620117,
          5.133364200592041,
          4.920122146606445,
          4.680845260620117,
          5.327414512634277,
          4.8814167976379395,
          5.394779682159424,
          5.141500949859619,
          4.8170084953308105,
          5.18786096572876,
          4.97483491897583,
          5.2816386222839355,
          5.730287075042725,
          5.109022617340088,
          4.733137130737305,
          4.609952449798584,
          5.449665546417236,
          5.941957950592041,
          5.0107197761535645,
          5.316223621368408,
          5.109022617340088,
          4.733137130737305,
          5.695206165313721,
          5.602514743804932,
          4.85012149810791,
          5.111073970794678,
          5.19518518447876,
          5.338468074798584,
          5.0107197761535645,
          4.7089080810546875,
          5.905560493469238,
          5.092425346374512,
          5.120981216430664,
          5.18786096572876,
          6.08123254776001,
          5.266477108001709,
          4.680845260620117,
          4.882935523986816,
          4.8170084953308105,
          5.165830135345459,
          5.783653259277344,
          5.4909892082214355,
          4.968458652496338,
          4.917797088623047,
          5.0776543617248535,
          5.200924396514893,
          4.913110256195068,
          5.036712646484375,
          4.581475734710693,
          5.368625640869141,
          5.200924396514893,
          5.556112289428711,
          5.599565505981445,
          5.099273204803467,
          5.293599605560303,
          5.364917278289795,
          5.048842430114746,
          5.0776543617248535,
          4.816441059112549,
          4.4175286293029785,
          4.7089080810546875,
          4.366238594055176,
          5.093294143676758,
          4.816188812255859,
          5.048649787902832,
          4.905449867248535,
          4.4912214279174805,
          4.820319652557373,
          4.28739070892334,
          4.705713272094727,
          5.449716567993164,
          4.490422248840332,
          4.546730995178223,
          5.370975017547607,
          5.113575458526611,
          5.104965686798096,
          5.2793145179748535,
          4.816441059112549,
          4.740692138671875,
          4.659853458404541,
          4.999624252319336,
          5.4099860191345215,
          4.819350719451904,
          5.173064231872559,
          5.3018341064453125,
          4.490072250366211,
          5.13586950302124,
          4.286281585693359,
          5.438592910766602,
          4.784895420074463,
          4.676920413970947,
          5.581830978393555,
          4.48702335357666,
          5.21609354019165,
          5.479583263397217,
          5.157163619995117,
          5.265921592712402,
          5.009521961212158,
          5.139227867126465,
          5.023694038391113,
          5.016045093536377,
          5.571111679077148,
          4.28739070892334,
          4.6824049949646,
          4.900262832641602,
          5.541270732879639,
          5.523681163787842,
          4.688175201416016,
          4.916830539703369,
          4.6390252113342285,
          5.441211700439453,
          4.8596601486206055,
          5.142324447631836,
          4.43790864944458,
          5.133721828460693,
          4.9393134117126465,
          4.803969383239746,
          5.441019535064697,
          4.820319652557373,
          5.527068614959717,
          5.054005146026611,
          6.170405387878418,
          4.244393825531006,
          4.514407634735107,
          4.3667449951171875,
          5.319794178009033,
          5.006412982940674,
          5.094336986541748,
          4.486011981964111,
          5.092425346374512,
          5.059669017791748,
          4.581399440765381,
          4.092380046844482,
          5.120981216430664,
          5.099273204803467,
          5.899415493011475,
          5.119869232177734,
          4.766533374786377,
          5.094336986541748,
          4.97483491897583,
          5.1925048828125,
          4.68565034866333,
          5.5696539878845215,
          5.265921592712402,
          5.507380485534668,
          4.7410383224487305,
          4.581475734710693,
          5.4184041023254395,
          4.547887325286865,
          4.906950950622559,
          5.093294143676758,
          4.7410383224487305,
          5.527068614959717,
          5.036367416381836,
          3.9953646659851074,
          5.419840335845947,
          5.195952415466309,
          4.6317901611328125,
          5.867258548736572,
          4.78167200088501,
          5.350220680236816,
          5.423797607421875,
          4.831714630126953,
          4.68565034866333,
          5.173064231872559,
          4.8170084953308105,
          6.0259690284729,
          4.990283489227295,
          4.480534076690674,
          5.006424427032471,
          5.144752502441406,
          4.896384239196777,
          5.1128387451171875,
          5.435695648193359,
          5.19518518447876,
          5.581830978393555,
          5.504852771759033,
          4.40797233581543,
          5.009300708770752,
          5.646237373352051,
          5.6778883934021,
          4.733137130737305,
          4.673153400421143,
          5.159073352813721,
          5.124130725860596,
          5.0778913497924805,
          5.370975017547607,
          5.009300708770752,
          5.456124782562256,
          5.303778648376465,
          5.343133926391602,
          5.093523025512695,
          5.006412982940674,
          4.871713638305664,
          4.0586957931518555,
          5.319794178009033,
          5.130858898162842,
          4.401815414428711,
          5.258655548095703,
          5.009568214416504,
          5.652864933013916,
          5.072926998138428,
          4.941638469696045,
          5.188204765319824,
          4.613214015960693,
          5.576752662658691,
          5.21609354019165,
          5.0107197761535645,
          4.705713272094727,
          4.631529808044434,
          5.895564079284668,
          5.093012809753418,
          5.18786096572876,
          4.917558193206787,
          5.520103454589844,
          5.119869232177734,
          5.082019329071045,
          5.364917278289795,
          5.4174485206604,
          5.410081386566162,
          5.112863063812256,
          3.63624906539917,
          4.339061737060547,
          4.779032230377197,
          4.900262832641602,
          4.595961570739746,
          4.863837242126465,
          5.142324447631836,
          3.8652632236480713,
          5.1276116371154785,
          4.990995407104492,
          5.211664199829102,
          4.930208683013916,
          5.114777565002441,
          3.7914178371429443,
          5.437603950500488,
          5.507646560668945,
          4.895157814025879,
          4.906950950622559,
          4.923805236816406,
          5.0580153465271,
          5.401645183563232,
          4.673153400421143,
          5.165830135345459,
          5.008767604827881,
          3.9764199256896973,
          5.526088714599609,
          5.082019329071045,
          5.095231056213379,
          5.0780744552612305,
          4.900262832641602,
          5.186169624328613,
          4.947781085968018,
          5.124130725860596,
          5.119869232177734,
          5.2411346435546875,
          4.784895420074463,
          5.130652904510498,
          5.036712646484375,
          5.094336986541748,
          5.036712646484375,
          5.2793145179748535,
          5.048842430114746,
          5.159426689147949,
          4.8814167976379395,
          5.097797393798828,
          5.492516994476318,
          4.410325527191162,
          5.072926998138428,
          5.299503803253174,
          5.072926998138428,
          4.891473770141602,
          5.2816386222839355,
          5.195952415466309,
          5.3018341064453125,
          5.139227867126465,
          5.114777565002441,
          5.008767604827881,
          5.333426475524902,
          5.350220680236816,
          5.370304107666016,
          4.990283489227295,
          4.90726375579834,
          4.497768402099609,
          5.194604873657227,
          5.410081386566162,
          5.195952415466309,
          5.008767604827881,
          5.195952415466309
         ]
        }
       ],
       "layout": {
        "height": 500,
        "plot_bgcolor": "white",
        "template": {
         "data": {
          "bar": [
           {
            "error_x": {
             "color": "#2a3f5f"
            },
            "error_y": {
             "color": "#2a3f5f"
            },
            "marker": {
             "line": {
              "color": "#E5ECF6",
              "width": 0.5
             },
             "pattern": {
              "fillmode": "overlay",
              "size": 10,
              "solidity": 0.2
             }
            },
            "type": "bar"
           }
          ],
          "barpolar": [
           {
            "marker": {
             "line": {
              "color": "#E5ECF6",
              "width": 0.5
             },
             "pattern": {
              "fillmode": "overlay",
              "size": 10,
              "solidity": 0.2
             }
            },
            "type": "barpolar"
           }
          ],
          "carpet": [
           {
            "aaxis": {
             "endlinecolor": "#2a3f5f",
             "gridcolor": "white",
             "linecolor": "white",
             "minorgridcolor": "white",
             "startlinecolor": "#2a3f5f"
            },
            "baxis": {
             "endlinecolor": "#2a3f5f",
             "gridcolor": "white",
             "linecolor": "white",
             "minorgridcolor": "white",
             "startlinecolor": "#2a3f5f"
            },
            "type": "carpet"
           }
          ],
          "choropleth": [
           {
            "colorbar": {
             "outlinewidth": 0,
             "ticks": ""
            },
            "type": "choropleth"
           }
          ],
          "contour": [
           {
            "colorbar": {
             "outlinewidth": 0,
             "ticks": ""
            },
            "colorscale": [
             [
              0,
              "#0d0887"
             ],
             [
              0.1111111111111111,
              "#46039f"
             ],
             [
              0.2222222222222222,
              "#7201a8"
             ],
             [
              0.3333333333333333,
              "#9c179e"
             ],
             [
              0.4444444444444444,
              "#bd3786"
             ],
             [
              0.5555555555555556,
              "#d8576b"
             ],
             [
              0.6666666666666666,
              "#ed7953"
             ],
             [
              0.7777777777777778,
              "#fb9f3a"
             ],
             [
              0.8888888888888888,
              "#fdca26"
             ],
             [
              1,
              "#f0f921"
             ]
            ],
            "type": "contour"
           }
          ],
          "contourcarpet": [
           {
            "colorbar": {
             "outlinewidth": 0,
             "ticks": ""
            },
            "type": "contourcarpet"
           }
          ],
          "heatmap": [
           {
            "colorbar": {
             "outlinewidth": 0,
             "ticks": ""
            },
            "colorscale": [
             [
              0,
              "#0d0887"
             ],
             [
              0.1111111111111111,
              "#46039f"
             ],
             [
              0.2222222222222222,
              "#7201a8"
             ],
             [
              0.3333333333333333,
              "#9c179e"
             ],
             [
              0.4444444444444444,
              "#bd3786"
             ],
             [
              0.5555555555555556,
              "#d8576b"
             ],
             [
              0.6666666666666666,
              "#ed7953"
             ],
             [
              0.7777777777777778,
              "#fb9f3a"
             ],
             [
              0.8888888888888888,
              "#fdca26"
             ],
             [
              1,
              "#f0f921"
             ]
            ],
            "type": "heatmap"
           }
          ],
          "heatmapgl": [
           {
            "colorbar": {
             "outlinewidth": 0,
             "ticks": ""
            },
            "colorscale": [
             [
              0,
              "#0d0887"
             ],
             [
              0.1111111111111111,
              "#46039f"
             ],
             [
              0.2222222222222222,
              "#7201a8"
             ],
             [
              0.3333333333333333,
              "#9c179e"
             ],
             [
              0.4444444444444444,
              "#bd3786"
             ],
             [
              0.5555555555555556,
              "#d8576b"
             ],
             [
              0.6666666666666666,
              "#ed7953"
             ],
             [
              0.7777777777777778,
              "#fb9f3a"
             ],
             [
              0.8888888888888888,
              "#fdca26"
             ],
             [
              1,
              "#f0f921"
             ]
            ],
            "type": "heatmapgl"
           }
          ],
          "histogram": [
           {
            "marker": {
             "pattern": {
              "fillmode": "overlay",
              "size": 10,
              "solidity": 0.2
             }
            },
            "type": "histogram"
           }
          ],
          "histogram2d": [
           {
            "colorbar": {
             "outlinewidth": 0,
             "ticks": ""
            },
            "colorscale": [
             [
              0,
              "#0d0887"
             ],
             [
              0.1111111111111111,
              "#46039f"
             ],
             [
              0.2222222222222222,
              "#7201a8"
             ],
             [
              0.3333333333333333,
              "#9c179e"
             ],
             [
              0.4444444444444444,
              "#bd3786"
             ],
             [
              0.5555555555555556,
              "#d8576b"
             ],
             [
              0.6666666666666666,
              "#ed7953"
             ],
             [
              0.7777777777777778,
              "#fb9f3a"
             ],
             [
              0.8888888888888888,
              "#fdca26"
             ],
             [
              1,
              "#f0f921"
             ]
            ],
            "type": "histogram2d"
           }
          ],
          "histogram2dcontour": [
           {
            "colorbar": {
             "outlinewidth": 0,
             "ticks": ""
            },
            "colorscale": [
             [
              0,
              "#0d0887"
             ],
             [
              0.1111111111111111,
              "#46039f"
             ],
             [
              0.2222222222222222,
              "#7201a8"
             ],
             [
              0.3333333333333333,
              "#9c179e"
             ],
             [
              0.4444444444444444,
              "#bd3786"
             ],
             [
              0.5555555555555556,
              "#d8576b"
             ],
             [
              0.6666666666666666,
              "#ed7953"
             ],
             [
              0.7777777777777778,
              "#fb9f3a"
             ],
             [
              0.8888888888888888,
              "#fdca26"
             ],
             [
              1,
              "#f0f921"
             ]
            ],
            "type": "histogram2dcontour"
           }
          ],
          "mesh3d": [
           {
            "colorbar": {
             "outlinewidth": 0,
             "ticks": ""
            },
            "type": "mesh3d"
           }
          ],
          "parcoords": [
           {
            "line": {
             "colorbar": {
              "outlinewidth": 0,
              "ticks": ""
             }
            },
            "type": "parcoords"
           }
          ],
          "pie": [
           {
            "automargin": true,
            "type": "pie"
           }
          ],
          "scatter": [
           {
            "fillpattern": {
             "fillmode": "overlay",
             "size": 10,
             "solidity": 0.2
            },
            "type": "scatter"
           }
          ],
          "scatter3d": [
           {
            "line": {
             "colorbar": {
              "outlinewidth": 0,
              "ticks": ""
             }
            },
            "marker": {
             "colorbar": {
              "outlinewidth": 0,
              "ticks": ""
             }
            },
            "type": "scatter3d"
           }
          ],
          "scattercarpet": [
           {
            "marker": {
             "colorbar": {
              "outlinewidth": 0,
              "ticks": ""
             }
            },
            "type": "scattercarpet"
           }
          ],
          "scattergeo": [
           {
            "marker": {
             "colorbar": {
              "outlinewidth": 0,
              "ticks": ""
             }
            },
            "type": "scattergeo"
           }
          ],
          "scattergl": [
           {
            "marker": {
             "colorbar": {
              "outlinewidth": 0,
              "ticks": ""
             }
            },
            "type": "scattergl"
           }
          ],
          "scattermapbox": [
           {
            "marker": {
             "colorbar": {
              "outlinewidth": 0,
              "ticks": ""
             }
            },
            "type": "scattermapbox"
           }
          ],
          "scatterpolar": [
           {
            "marker": {
             "colorbar": {
              "outlinewidth": 0,
              "ticks": ""
             }
            },
            "type": "scatterpolar"
           }
          ],
          "scatterpolargl": [
           {
            "marker": {
             "colorbar": {
              "outlinewidth": 0,
              "ticks": ""
             }
            },
            "type": "scatterpolargl"
           }
          ],
          "scatterternary": [
           {
            "marker": {
             "colorbar": {
              "outlinewidth": 0,
              "ticks": ""
             }
            },
            "type": "scatterternary"
           }
          ],
          "surface": [
           {
            "colorbar": {
             "outlinewidth": 0,
             "ticks": ""
            },
            "colorscale": [
             [
              0,
              "#0d0887"
             ],
             [
              0.1111111111111111,
              "#46039f"
             ],
             [
              0.2222222222222222,
              "#7201a8"
             ],
             [
              0.3333333333333333,
              "#9c179e"
             ],
             [
              0.4444444444444444,
              "#bd3786"
             ],
             [
              0.5555555555555556,
              "#d8576b"
             ],
             [
              0.6666666666666666,
              "#ed7953"
             ],
             [
              0.7777777777777778,
              "#fb9f3a"
             ],
             [
              0.8888888888888888,
              "#fdca26"
             ],
             [
              1,
              "#f0f921"
             ]
            ],
            "type": "surface"
           }
          ],
          "table": [
           {
            "cells": {
             "fill": {
              "color": "#EBF0F8"
             },
             "line": {
              "color": "white"
             }
            },
            "header": {
             "fill": {
              "color": "#C8D4E3"
             },
             "line": {
              "color": "white"
             }
            },
            "type": "table"
           }
          ]
         },
         "layout": {
          "annotationdefaults": {
           "arrowcolor": "#2a3f5f",
           "arrowhead": 0,
           "arrowwidth": 1
          },
          "autotypenumbers": "strict",
          "coloraxis": {
           "colorbar": {
            "outlinewidth": 0,
            "ticks": ""
           }
          },
          "colorscale": {
           "diverging": [
            [
             0,
             "#8e0152"
            ],
            [
             0.1,
             "#c51b7d"
            ],
            [
             0.2,
             "#de77ae"
            ],
            [
             0.3,
             "#f1b6da"
            ],
            [
             0.4,
             "#fde0ef"
            ],
            [
             0.5,
             "#f7f7f7"
            ],
            [
             0.6,
             "#e6f5d0"
            ],
            [
             0.7,
             "#b8e186"
            ],
            [
             0.8,
             "#7fbc41"
            ],
            [
             0.9,
             "#4d9221"
            ],
            [
             1,
             "#276419"
            ]
           ],
           "sequential": [
            [
             0,
             "#0d0887"
            ],
            [
             0.1111111111111111,
             "#46039f"
            ],
            [
             0.2222222222222222,
             "#7201a8"
            ],
            [
             0.3333333333333333,
             "#9c179e"
            ],
            [
             0.4444444444444444,
             "#bd3786"
            ],
            [
             0.5555555555555556,
             "#d8576b"
            ],
            [
             0.6666666666666666,
             "#ed7953"
            ],
            [
             0.7777777777777778,
             "#fb9f3a"
            ],
            [
             0.8888888888888888,
             "#fdca26"
            ],
            [
             1,
             "#f0f921"
            ]
           ],
           "sequentialminus": [
            [
             0,
             "#0d0887"
            ],
            [
             0.1111111111111111,
             "#46039f"
            ],
            [
             0.2222222222222222,
             "#7201a8"
            ],
            [
             0.3333333333333333,
             "#9c179e"
            ],
            [
             0.4444444444444444,
             "#bd3786"
            ],
            [
             0.5555555555555556,
             "#d8576b"
            ],
            [
             0.6666666666666666,
             "#ed7953"
            ],
            [
             0.7777777777777778,
             "#fb9f3a"
            ],
            [
             0.8888888888888888,
             "#fdca26"
            ],
            [
             1,
             "#f0f921"
            ]
           ]
          },
          "colorway": [
           "#636efa",
           "#EF553B",
           "#00cc96",
           "#ab63fa",
           "#FFA15A",
           "#19d3f3",
           "#FF6692",
           "#B6E880",
           "#FF97FF",
           "#FECB52"
          ],
          "font": {
           "color": "#2a3f5f"
          },
          "geo": {
           "bgcolor": "white",
           "lakecolor": "white",
           "landcolor": "#E5ECF6",
           "showlakes": true,
           "showland": true,
           "subunitcolor": "white"
          },
          "hoverlabel": {
           "align": "left"
          },
          "hovermode": "closest",
          "mapbox": {
           "style": "light"
          },
          "paper_bgcolor": "white",
          "plot_bgcolor": "#E5ECF6",
          "polar": {
           "angularaxis": {
            "gridcolor": "white",
            "linecolor": "white",
            "ticks": ""
           },
           "bgcolor": "#E5ECF6",
           "radialaxis": {
            "gridcolor": "white",
            "linecolor": "white",
            "ticks": ""
           }
          },
          "scene": {
           "xaxis": {
            "backgroundcolor": "#E5ECF6",
            "gridcolor": "white",
            "gridwidth": 2,
            "linecolor": "white",
            "showbackground": true,
            "ticks": "",
            "zerolinecolor": "white"
           },
           "yaxis": {
            "backgroundcolor": "#E5ECF6",
            "gridcolor": "white",
            "gridwidth": 2,
            "linecolor": "white",
            "showbackground": true,
            "ticks": "",
            "zerolinecolor": "white"
           },
           "zaxis": {
            "backgroundcolor": "#E5ECF6",
            "gridcolor": "white",
            "gridwidth": 2,
            "linecolor": "white",
            "showbackground": true,
            "ticks": "",
            "zerolinecolor": "white"
           }
          },
          "shapedefaults": {
           "line": {
            "color": "#2a3f5f"
           }
          },
          "ternary": {
           "aaxis": {
            "gridcolor": "white",
            "linecolor": "white",
            "ticks": ""
           },
           "baxis": {
            "gridcolor": "white",
            "linecolor": "white",
            "ticks": ""
           },
           "bgcolor": "#E5ECF6",
           "caxis": {
            "gridcolor": "white",
            "linecolor": "white",
            "ticks": ""
           }
          },
          "title": {
           "x": 0.05
          },
          "xaxis": {
           "automargin": true,
           "gridcolor": "white",
           "linecolor": "white",
           "ticks": "",
           "title": {
            "standoff": 15
           },
           "zerolinecolor": "white",
           "zerolinewidth": 2
          },
          "yaxis": {
           "automargin": true,
           "gridcolor": "white",
           "linecolor": "white",
           "ticks": "",
           "title": {
            "standoff": 15
           },
           "zerolinecolor": "white",
           "zerolinewidth": 2
          }
         }
        },
        "width": 500,
        "xaxis": {
         "autorange": false,
         "exponentformat": "e",
         "linecolor": "black",
         "linewidth": 1,
         "mirror": false,
         "range": [
          -0.12813446998596192,
          6.534857969284058
         ],
         "showexponent": "all",
         "showline": true,
         "side": "bottom",
         "ticks": "outside",
         "title": {
          "text": "Birth"
         },
         "type": "linear",
         "zeroline": true
        },
        "yaxis": {
         "autorange": false,
         "exponentformat": "e",
         "linecolor": "black",
         "linewidth": 1,
         "mirror": false,
         "range": [
          -0.12813446998596192,
          6.534857969284058
         ],
         "scaleanchor": "x",
         "scaleratio": 1,
         "showexponent": "all",
         "showline": true,
         "side": "left",
         "ticks": "outside",
         "title": {
          "text": "Death"
         },
         "type": "linear",
         "zeroline": true
        }
       }
      },
      "text/html": [
       "<div>                            <div id=\"a46f718d-609a-4f6a-b8a5-16254545b9e4\" class=\"plotly-graph-div\" style=\"height:500px; width:500px;\"></div>            <script type=\"text/javascript\">                require([\"plotly\"], function(Plotly) {                    window.PLOTLYENV=window.PLOTLYENV || {};                                    if (document.getElementById(\"a46f718d-609a-4f6a-b8a5-16254545b9e4\")) {                    Plotly.newPlot(                        \"a46f718d-609a-4f6a-b8a5-16254545b9e4\",                        [{\"hoverinfo\":\"none\",\"line\":{\"color\":\"black\",\"dash\":\"dash\",\"width\":1},\"mode\":\"lines\",\"showlegend\":false,\"x\":[-0.12813446998596192,6.534857969284058],\"y\":[-0.12813446998596192,6.534857969284058],\"type\":\"scatter\"},{\"hoverinfo\":\"text\",\"hovertext\":[\"(0.0, 0.28928348422050476)\",\"(0.0, 0.3822748363018036)\",\"(0.0, 0.688882052898407)\",\"(0.0, 0.8273693323135376)\",\"(0.0, 0.9080212116241455)\",\"(0.0, 0.915993869304657)\",\"(0.0, 0.9278542995452881)\",\"(0.0, 1.0221720933914185)\",\"(0.0, 1.0754450559616089)\",\"(0.0, 1.1438175439834595)\",\"(0.0, 1.217728614807129)\",\"(0.0, 1.2980623245239258)\",\"(0.0, 1.3194385766983032)\",\"(0.0, 1.3735135793685913)\",\"(0.0, 1.4404772520065308)\",\"(0.0, 1.5031471252441406)\",\"(0.0, 1.6072918176651)\",\"(0.0, 1.6637232303619385)\",\"(0.0, 1.677964687347412)\",\"(0.0, 1.6937310695648193)\",\"(0.0, 1.7135202884674072)\",\"(0.0, 1.7180168628692627)\",\"(0.0, 1.7239415645599365)\",\"(0.0, 1.7479205131530762)\",\"(0.0, 1.7529606819152832)\",\"(0.0, 1.7560678720474243)\",\"(0.0, 1.765472650527954)\",\"(0.0, 1.794153094291687)\",\"(0.0, 1.8022956848144531)\",\"(0.0, 1.8467742204666138)\",\"(0.0, 1.8782260417938232)\",\"(0.0, 1.8785490989685059)\",\"(0.0, 1.8928288221359253)\",\"(0.0, 1.8938584327697754)\",\"(0.0, 1.899591326713562)\",\"(0.0, 1.9039623737335205)\",\"(0.0, 1.9105442762374878)\",\"(0.0, 1.978587031364441)\",\"(0.0, 2.002699136734009)\",\"(0.0, 2.0438594818115234)\",\"(0.0, 2.055358409881592)\",\"(0.0, 2.061298370361328)\",\"(0.0, 2.0936646461486816)\",\"(0.0, 2.137124538421631)\",\"(0.0, 2.146132469177246)\",\"(0.0, 2.1667842864990234)\",\"(0.0, 2.18557071685791)\",\"(0.0, 2.187633514404297)\",\"(0.0, 2.203946113586426)\",\"(0.0, 2.2294886112213135)\",\"(0.0, 2.2475123405456543)\",\"(0.0, 2.2659339904785156)\",\"(0.0, 2.286168336868286)\",\"(0.0, 2.3414788246154785)\",\"(0.0, 2.356245279312134)\",\"(0.0, 2.3656206130981445)\",\"(0.0, 2.437730550765991)\",\"(0.0, 2.4549803733825684)\",\"(0.0, 2.460679531097412)\",\"(0.0, 2.480283260345459)\",\"(0.0, 2.5122358798980713)\",\"(0.0, 2.517427682876587)\",\"(0.0, 2.539983034133911)\",\"(0.0, 2.550398826599121)\",\"(0.0, 2.5556800365448)\",\"(0.0, 2.6184277534484863)\",\"(0.0, 2.64540696144104)\",\"(0.0, 2.6513736248016357)\",\"(0.0, 2.6755261421203613)\",\"(0.0, 2.6867709159851074)\",\"(0.0, 2.696192979812622)\",\"(0.0, 2.7288882732391357)\",\"(0.0, 2.7297115325927734)\",\"(0.0, 2.811305522918701)\",\"(0.0, 2.829252243041992)\",\"(0.0, 2.8318591117858887)\",\"(0.0, 2.9175686836242676)\",\"(0.0, 2.9378890991210938)\",\"(0.0, 2.9640860557556152)\",\"(0.0, 2.991101026535034)\",\"(0.0, 2.9970107078552246)\",\"(0.0, 3.0093255043029785)\",\"(0.0, 3.0497968196868896)\",\"(0.0, 3.06514048576355)\",\"(0.0, 3.0994930267333984)\",\"(0.0, 3.134995698928833)\",\"(0.0, 3.139460325241089)\",\"(0.0, 3.2095284461975098)\",\"(0.0, 3.239384174346924)\",\"(0.0, 3.4079535007476807)\",\"(0.0, 3.4686172008514404)\",\"(0.0, 3.477111577987671)\",\"(0.0, 3.630418062210083)\",\"(0.0, 3.6542139053344727)\",\"(0.0, 3.8186585903167725)\",\"(0.0, 3.966750144958496)\",\"(0.0, 4.1916279792785645)\",\"(0.0, 4.647935390472412)\"],\"mode\":\"markers\",\"name\":\"H0\",\"x\":[0.0,0.0,0.0,0.0,0.0,0.0,0.0,0.0,0.0,0.0,0.0,0.0,0.0,0.0,0.0,0.0,0.0,0.0,0.0,0.0,0.0,0.0,0.0,0.0,0.0,0.0,0.0,0.0,0.0,0.0,0.0,0.0,0.0,0.0,0.0,0.0,0.0,0.0,0.0,0.0,0.0,0.0,0.0,0.0,0.0,0.0,0.0,0.0,0.0,0.0,0.0,0.0,0.0,0.0,0.0,0.0,0.0,0.0,0.0,0.0,0.0,0.0,0.0,0.0,0.0,0.0,0.0,0.0,0.0,0.0,0.0,0.0,0.0,0.0,0.0,0.0,0.0,0.0,0.0,0.0,0.0,0.0,0.0,0.0,0.0,0.0,0.0,0.0,0.0,0.0,0.0,0.0,0.0,0.0,0.0,0.0,0.0,0.0],\"y\":[0.28928348422050476,0.3822748363018036,0.688882052898407,0.8273693323135376,0.9080212116241455,0.915993869304657,0.9278542995452881,1.0221720933914185,1.0754450559616089,1.1438175439834595,1.217728614807129,1.2980623245239258,1.3194385766983032,1.3735135793685913,1.4404772520065308,1.5031471252441406,1.6072918176651,1.6637232303619385,1.677964687347412,1.6937310695648193,1.7135202884674072,1.7180168628692627,1.7239415645599365,1.7479205131530762,1.7529606819152832,1.7560678720474243,1.765472650527954,1.794153094291687,1.8022956848144531,1.8467742204666138,1.8782260417938232,1.8785490989685059,1.8928288221359253,1.8938584327697754,1.899591326713562,1.9039623737335205,1.9105442762374878,1.978587031364441,2.002699136734009,2.0438594818115234,2.055358409881592,2.061298370361328,2.0936646461486816,2.137124538421631,2.146132469177246,2.1667842864990234,2.18557071685791,2.187633514404297,2.203946113586426,2.2294886112213135,2.2475123405456543,2.2659339904785156,2.286168336868286,2.3414788246154785,2.356245279312134,2.3656206130981445,2.437730550765991,2.4549803733825684,2.460679531097412,2.480283260345459,2.5122358798980713,2.517427682876587,2.539983034133911,2.550398826599121,2.5556800365448,2.6184277534484863,2.64540696144104,2.6513736248016357,2.6755261421203613,2.6867709159851074,2.696192979812622,2.7288882732391357,2.7297115325927734,2.811305522918701,2.829252243041992,2.8318591117858887,2.9175686836242676,2.9378890991210938,2.9640860557556152,2.991101026535034,2.9970107078552246,3.0093255043029785,3.0497968196868896,3.06514048576355,3.0994930267333984,3.134995698928833,3.139460325241089,3.2095284461975098,3.239384174346924,3.4079535007476807,3.4686172008514404,3.477111577987671,3.630418062210083,3.6542139053344727,3.8186585903167725,3.966750144958496,4.1916279792785645,4.647935390472412],\"type\":\"scatter\"},{\"hoverinfo\":\"text\",\"hovertext\":[\"(6.000277996063232, 6.070749759674072)\",\"(5.9744086265563965, 6.387601852416992)\",\"(5.963146686553955, 6.406723499298096)\",\"(5.878213405609131, 6.334687232971191)\",\"(5.840071678161621, 5.970481872558594)\",\"(5.77591609954834, 6.1896748542785645)\",\"(5.51908016204834, 5.688913345336914)\",\"(5.505230903625488, 5.702854156494141)\",\"(5.491418838500977, 5.623899936676025)\",\"(5.489977836608887, 5.615982532501221)\",\"(5.445551872253418, 6.028116226196289)\",\"(5.439368724822998, 5.970481872558594)\",\"(5.408957004547119, 5.593194484710693)\",\"(5.352959156036377, 5.669767379760742)\",\"(5.33864164352417, 6.123279571533203)\",\"(5.311515808105469, 6.009833812713623)\",\"(5.301011085510254, 5.419078826904297)\",\"(5.299157619476318, 5.709759712219238)\",\"(5.287594795227051, 5.39593505859375)\",\"(5.282315254211426, 6.070749759674072)\",\"(5.264307022094727, 5.438149452209473)\",\"(5.255683898925781, 5.463134288787842)\",\"(5.254807949066162, 5.571111679077148)\",\"(5.228877544403076, 5.325296401977539)\",\"(5.215717315673828, 5.2552289962768555)\",\"(5.212786674499512, 5.492516994476318)\",\"(5.211103439331055, 5.2800164222717285)\",\"(5.205862998962402, 6.048890590667725)\",\"(5.205131530761719, 6.079176902770996)\",\"(5.199728965759277, 5.438592910766602)\",\"(5.19269323348999, 5.3730669021606445)\",\"(5.187385559082031, 5.946683883666992)\",\"(5.179333686828613, 5.749109745025635)\",\"(5.177918910980225, 5.2596025466918945)\",\"(5.149509906768799, 5.513485908508301)\",\"(5.148073196411133, 5.673727989196777)\",\"(5.144937038421631, 5.695206165313721)\",\"(5.1381940841674805, 5.449665546417236)\",\"(5.1033935546875, 5.6146368980407715)\",\"(5.099390983581543, 5.141500949859619)\",\"(5.096935272216797, 5.559226036071777)\",\"(5.093125820159912, 5.283845901489258)\",\"(5.090001106262207, 5.18186616897583)\",\"(5.088426113128662, 5.510612487792969)\",\"(5.066712379455566, 5.945806980133057)\",\"(5.050467491149902, 6.034581184387207)\",\"(5.045114517211914, 6.060403823852539)\",\"(5.040042877197266, 5.451411724090576)\",\"(5.039201736450195, 5.489687919616699)\",\"(5.030033111572266, 5.646237373352051)\",\"(5.027294158935547, 5.173064231872559)\",\"(5.014980316162109, 5.812078475952148)\",\"(5.012629508972168, 5.049137115478516)\",\"(4.998939037322998, 5.262214660644531)\",\"(4.9894256591796875, 5.350220680236816)\",\"(4.980154037475586, 5.485123634338379)\",\"(4.970938682556152, 5.545546054840088)\",\"(4.94277811050415, 5.327414512634277)\",\"(4.926399230957031, 5.480835437774658)\",\"(4.926137924194336, 5.696841716766357)\",\"(4.915825843811035, 5.144752502441406)\",\"(4.913298606872559, 6.333134651184082)\",\"(4.911045074462891, 5.533923149108887)\",\"(4.909400939941406, 5.341703414916992)\",\"(4.9061784744262695, 5.206874847412109)\",\"(4.903517246246338, 5.751674652099609)\",\"(4.9009246826171875, 4.9588823318481445)\",\"(4.900900840759277, 5.479766368865967)\",\"(4.898139476776123, 4.97483491897583)\",\"(4.896868705749512, 5.089188098907471)\",\"(4.895796298980713, 5.0778913497924805)\",\"(4.88494873046875, 5.085024356842041)\",\"(4.8828935623168945, 5.027841567993164)\",\"(4.880984783172607, 5.19518518447876)\",\"(4.880332946777344, 4.943795204162598)\",\"(4.860873222351074, 4.9393134117126465)\",\"(4.859254837036133, 5.556112289428711)\",\"(4.8266167640686035, 5.155017852783203)\",\"(4.819543361663818, 5.36641263961792)\",\"(4.8144989013671875, 5.1888837814331055)\",\"(4.80508279800415, 5.092425346374512)\",\"(4.798247814178467, 5.435695648193359)\",\"(4.795238494873047, 6.052618503570557)\",\"(4.794348239898682, 5.152072429656982)\",\"(4.789250373840332, 5.338532447814941)\",\"(4.78548002243042, 5.695811748504639)\",\"(4.775200843811035, 5.159073352813721)\",\"(4.774608135223389, 5.026180267333984)\",\"(4.7727813720703125, 5.247153282165527)\",\"(4.770976543426514, 5.036281108856201)\",\"(4.767991542816162, 5.39593505859375)\",\"(4.763534069061279, 5.18786096572876)\",\"(4.759578227996826, 5.664028167724609)\",\"(4.759357452392578, 5.807004451751709)\",\"(4.746771812438965, 5.037984371185303)\",\"(4.744124412536621, 5.054005146026611)\",\"(4.738450050354004, 4.863837242126465)\",\"(4.736175537109375, 5.419078826904297)\",\"(4.7328877449035645, 5.5696539878845215)\",\"(4.731168746948242, 5.463134288787842)\",\"(4.72880744934082, 5.5663909912109375)\",\"(4.724261283874512, 5.195952415466309)\",\"(4.712946891784668, 5.299503803253174)\",\"(4.70701789855957, 5.625325679779053)\",\"(4.689638137817383, 5.2411346435546875)\",\"(4.680383682250977, 5.776602745056152)\",\"(4.658764362335205, 4.671151161193848)\",\"(4.650941848754883, 4.7089080810546875)\",\"(4.644656181335449, 4.943424701690674)\",\"(4.619381427764893, 5.646237373352051)\",\"(4.618715763092041, 4.676920413970947)\",\"(4.61808443069458, 4.69084358215332)\",\"(4.596413612365723, 4.896384239196777)\",\"(4.590712547302246, 5.191075325012207)\",\"(4.589216709136963, 4.70336389541626)\",\"(4.5841593742370605, 4.90726375579834)\",\"(4.578433990478516, 4.920166969299316)\",\"(4.576807498931885, 5.199367046356201)\",\"(4.572771072387695, 5.0778913497924805)\",\"(4.572526931762695, 4.737499713897705)\",\"(4.570193290710449, 4.8776092529296875)\",\"(4.568449974060059, 5.981812953948975)\",\"(4.555517673492432, 4.680845260620117)\",\"(4.551562309265137, 5.133364200592041)\",\"(4.551200866699219, 4.920122146606445)\",\"(4.550678730010986, 4.680845260620117)\",\"(4.547735214233398, 5.327414512634277)\",\"(4.547317981719971, 4.8814167976379395)\",\"(4.541537761688232, 5.394779682159424)\",\"(4.540096759796143, 5.141500949859619)\",\"(4.537114143371582, 4.8170084953308105)\",\"(4.517710208892822, 5.18786096572876)\",\"(4.515403747558594, 4.97483491897583)\",\"(4.514439105987549, 5.2816386222839355)\",\"(4.513123512268066, 5.730287075042725)\",\"(4.512726306915283, 5.109022617340088)\",\"(4.51156759262085, 4.733137130737305)\",\"(4.503591537475586, 4.609952449798584)\",\"(4.500921726226807, 5.449665546417236)\",\"(4.500413417816162, 5.941957950592041)\",\"(4.493225574493408, 5.0107197761535645)\",\"(4.489663600921631, 5.316223621368408)\",\"(4.488559722900391, 5.109022617340088)\",\"(4.475398540496826, 4.733137130737305)\",\"(4.458665370941162, 5.695206165313721)\",\"(4.457086563110352, 5.602514743804932)\",\"(4.44876766204834, 4.85012149810791)\",\"(4.434126377105713, 5.111073970794678)\",\"(4.433589458465576, 5.19518518447876)\",\"(4.431795597076416, 5.338468074798584)\",\"(4.428614139556885, 5.0107197761535645)\",\"(4.423888206481934, 4.7089080810546875)\",\"(4.422722339630127, 5.905560493469238)\",\"(4.422252655029297, 5.092425346374512)\",\"(4.421511650085449, 5.120981216430664)\",\"(4.420284271240234, 5.18786096572876)\",\"(4.414936542510986, 6.08123254776001)\",\"(4.410759925842285, 5.266477108001709)\",\"(4.405339241027832, 4.680845260620117)\",\"(4.397532939910889, 4.882935523986816)\",\"(4.3925323486328125, 4.8170084953308105)\",\"(4.388810634613037, 5.165830135345459)\",\"(4.384499549865723, 5.783653259277344)\",\"(4.377665042877197, 5.4909892082214355)\",\"(4.371776103973389, 4.968458652496338)\",\"(4.371088981628418, 4.917797088623047)\",\"(4.369603633880615, 5.0776543617248535)\",\"(4.367064476013184, 5.200924396514893)\",\"(4.366743564605713, 4.913110256195068)\",\"(4.362551689147949, 5.036712646484375)\",\"(4.3570637702941895, 4.581475734710693)\",\"(4.35390043258667, 5.368625640869141)\",\"(4.35181188583374, 5.200924396514893)\",\"(4.3376078605651855, 5.556112289428711)\",\"(4.336501598358154, 5.599565505981445)\",\"(4.334544658660889, 5.099273204803467)\",\"(4.319825172424316, 5.293599605560303)\",\"(4.313243389129639, 5.364917278289795)\",\"(4.313036918640137, 5.048842430114746)\",\"(4.313014984130859, 5.0776543617248535)\",\"(4.310650825500488, 4.816441059112549)\",\"(4.306729316711426, 4.4175286293029785)\",\"(4.304850101470947, 4.7089080810546875)\",\"(4.293613910675049, 4.366238594055176)\",\"(4.289565563201904, 5.093294143676758)\",\"(4.2895097732543945, 4.816188812255859)\",\"(4.288583755493164, 5.048649787902832)\",\"(4.285520553588867, 4.905449867248535)\",\"(4.262210845947266, 4.4912214279174805)\",\"(4.261509418487549, 4.820319652557373)\",\"(4.260711193084717, 4.28739070892334)\",\"(4.25950288772583, 4.705713272094727)\",\"(4.255309581756592, 5.449716567993164)\",\"(4.248718738555908, 4.490422248840332)\",\"(4.243023872375488, 4.546730995178223)\",\"(4.242752552032471, 5.370975017547607)\",\"(4.2169647216796875, 5.113575458526611)\",\"(4.215566158294678, 5.104965686798096)\",\"(4.214250087738037, 5.2793145179748535)\",\"(4.211489200592041, 4.816441059112549)\",\"(4.20317268371582, 4.740692138671875)\",\"(4.1977105140686035, 4.659853458404541)\",\"(4.197677135467529, 4.999624252319336)\",\"(4.194339752197266, 5.4099860191345215)\",\"(4.190651893615723, 4.819350719451904)\",\"(4.188714981079102, 5.173064231872559)\",\"(4.1879167556762695, 5.3018341064453125)\",\"(4.179155349731445, 4.490072250366211)\",\"(4.176002502441406, 5.13586950302124)\",\"(4.17585563659668, 4.286281585693359)\",\"(4.170814514160156, 5.438592910766602)\",\"(4.1694793701171875, 4.784895420074463)\",\"(4.168172359466553, 4.676920413970947)\",\"(4.158877849578857, 5.581830978393555)\",\"(4.1575775146484375, 4.48702335357666)\",\"(4.151281833648682, 5.21609354019165)\",\"(4.150249481201172, 5.479583263397217)\",\"(4.14808988571167, 5.157163619995117)\",\"(4.1386919021606445, 5.265921592712402)\",\"(4.134456157684326, 5.009521961212158)\",\"(4.133266448974609, 5.139227867126465)\",\"(4.130243301391602, 5.023694038391113)\",\"(4.1240739822387695, 5.016045093536377)\",\"(4.119619846343994, 5.571111679077148)\",\"(4.116504192352295, 4.28739070892334)\",\"(4.114590644836426, 4.6824049949646)\",\"(4.112792491912842, 4.900262832641602)\",\"(4.112019062042236, 5.541270732879639)\",\"(4.1113691329956055, 5.523681163787842)\",\"(4.107383728027344, 4.688175201416016)\",\"(4.096856594085693, 4.916830539703369)\",\"(4.065465450286865, 4.6390252113342285)\",\"(4.0562005043029785, 5.441211700439453)\",\"(4.042754650115967, 4.8596601486206055)\",\"(4.03823709487915, 5.142324447631836)\",\"(4.0349297523498535, 4.43790864944458)\",\"(4.032885551452637, 5.133721828460693)\",\"(4.027864456176758, 4.9393134117126465)\",\"(4.021727085113525, 4.803969383239746)\",\"(4.01772928237915, 5.441019535064697)\",\"(4.0139079093933105, 4.820319652557373)\",\"(4.008627891540527, 5.527068614959717)\",\"(4.000175476074219, 5.054005146026611)\",\"(4.000097274780273, 6.170405387878418)\",\"(3.993109703063965, 4.244393825531006)\",\"(3.9867022037506104, 4.514407634735107)\",\"(3.985161542892456, 4.3667449951171875)\",\"(3.9805257320404053, 5.319794178009033)\",\"(3.9735703468322754, 5.006412982940674)\",\"(3.96486234664917, 5.094336986541748)\",\"(3.9648444652557373, 4.486011981964111)\",\"(3.958683967590332, 5.092425346374512)\",\"(3.957218885421753, 5.059669017791748)\",\"(3.9568653106689453, 4.581399440765381)\",\"(3.9554924964904785, 4.092380046844482)\",\"(3.949847459793091, 5.120981216430664)\",\"(3.9435744285583496, 5.099273204803467)\",\"(3.940429925918579, 5.899415493011475)\",\"(3.933797836303711, 5.119869232177734)\",\"(3.930440902709961, 4.766533374786377)\",\"(3.929903268814087, 5.094336986541748)\",\"(3.9295969009399414, 4.97483491897583)\",\"(3.928328037261963, 5.1925048828125)\",\"(3.9236488342285156, 4.68565034866333)\",\"(3.9197280406951904, 5.5696539878845215)\",\"(3.9137589931488037, 5.265921592712402)\",\"(3.9088361263275146, 5.507380485534668)\",\"(3.9056923389434814, 4.7410383224487305)\",\"(3.9035706520080566, 4.581475734710693)\",\"(3.9002013206481934, 5.4184041023254395)\",\"(3.8892135620117188, 4.547887325286865)\",\"(3.8884387016296387, 4.906950950622559)\",\"(3.885051727294922, 5.093294143676758)\",\"(3.864379405975342, 4.7410383224487305)\",\"(3.8616373538970947, 5.527068614959717)\",\"(3.861626625061035, 5.036367416381836)\",\"(3.86020565032959, 3.9953646659851074)\",\"(3.8572604656219482, 5.419840335845947)\",\"(3.84413743019104, 5.195952415466309)\",\"(3.8421413898468018, 4.6317901611328125)\",\"(3.838918924331665, 5.867258548736572)\",\"(3.8314924240112305, 4.78167200088501)\",\"(3.83015775680542, 5.350220680236816)\",\"(3.8238744735717773, 5.423797607421875)\",\"(3.8182241916656494, 4.831714630126953)\",\"(3.8176515102386475, 4.68565034866333)\",\"(3.81178879737854, 5.173064231872559)\",\"(3.798726797103882, 4.8170084953308105)\",\"(3.792755365371704, 6.0259690284729)\",\"(3.790351152420044, 4.990283489227295)\",\"(3.7866013050079346, 4.480534076690674)\",\"(3.7864129543304443, 5.006424427032471)\",\"(3.7778382301330566, 5.144752502441406)\",\"(3.777677059173584, 4.896384239196777)\",\"(3.766896963119507, 5.1128387451171875)\",\"(3.755248546600342, 5.435695648193359)\",\"(3.748961925506592, 5.19518518447876)\",\"(3.747671604156494, 5.581830978393555)\",\"(3.739398956298828, 5.504852771759033)\",\"(3.7375524044036865, 4.40797233581543)\",\"(3.7374188899993896, 5.009300708770752)\",\"(3.7337682247161865, 5.646237373352051)\",\"(3.7133593559265137, 5.6778883934021)\",\"(3.7106363773345947, 4.733137130737305)\",\"(3.710357666015625, 4.673153400421143)\",\"(3.6928422451019287, 5.159073352813721)\",\"(3.661970376968384, 5.124130725860596)\",\"(3.6603357791900635, 5.0778913497924805)\",\"(3.6559975147247314, 5.370975017547607)\",\"(3.641533374786377, 5.009300708770752)\",\"(3.6381475925445557, 5.456124782562256)\",\"(3.6336071491241455, 5.303778648376465)\",\"(3.629406452178955, 5.343133926391602)\",\"(3.6251137256622314, 5.093523025512695)\",\"(3.608534336090088, 5.006412982940674)\",\"(3.5969834327697754, 4.871713638305664)\",\"(3.583007574081421, 4.0586957931518555)\",\"(3.5799922943115234, 5.319794178009033)\",\"(3.5775251388549805, 5.130858898162842)\",\"(3.5624539852142334, 4.401815414428711)\",\"(3.5606513023376465, 5.258655548095703)\",\"(3.556095600128174, 5.009568214416504)\",\"(3.543044328689575, 5.652864933013916)\",\"(3.5339972972869873, 5.072926998138428)\",\"(3.5337672233581543, 4.941638469696045)\",\"(3.527980089187622, 5.188204765319824)\",\"(3.5148253440856934, 4.613214015960693)\",\"(3.511422634124756, 5.576752662658691)\",\"(3.50243878364563, 5.21609354019165)\",\"(3.4964144229888916, 5.0107197761535645)\",\"(3.4921138286590576, 4.705713272094727)\",\"(3.459029197692871, 4.631529808044434)\",\"(3.4562578201293945, 5.895564079284668)\",\"(3.454296827316284, 5.093012809753418)\",\"(3.4515421390533447, 5.18786096572876)\",\"(3.427152395248413, 4.917558193206787)\",\"(3.42659068107605, 5.520103454589844)\",\"(3.423696279525757, 5.119869232177734)\",\"(3.396949052810669, 5.082019329071045)\",\"(3.3889760971069336, 5.364917278289795)\",\"(3.3663012981414795, 5.4174485206604)\",\"(3.359036684036255, 5.410081386566162)\",\"(3.355677366256714, 5.112863063812256)\",\"(3.3418798446655273, 3.63624906539917)\",\"(3.33799147605896, 4.339061737060547)\",\"(3.330376148223877, 4.779032230377197)\",\"(3.3127801418304443, 4.900262832641602)\",\"(3.3069536685943604, 4.595961570739746)\",\"(3.298564910888672, 4.863837242126465)\",\"(3.2973132133483887, 5.142324447631836)\",\"(3.293217658996582, 3.8652632236480713)\",\"(3.2880823612213135, 5.1276116371154785)\",\"(3.2820770740509033, 4.990995407104492)\",\"(3.2708168029785156, 5.211664199829102)\",\"(3.2616004943847656, 4.930208683013916)\",\"(3.2592599391937256, 5.114777565002441)\",\"(3.2562952041625977, 3.7914178371429443)\",\"(3.251248359680176, 5.437603950500488)\",\"(3.2478463649749756, 5.507646560668945)\",\"(3.234543561935425, 4.895157814025879)\",\"(3.215813398361206, 4.906950950622559)\",\"(3.212132453918457, 4.923805236816406)\",\"(3.201322555541992, 5.0580153465271)\",\"(3.1976029872894287, 5.401645183563232)\",\"(3.1876637935638428, 4.673153400421143)\",\"(3.1876513957977295, 5.165830135345459)\",\"(3.147608518600464, 5.008767604827881)\",\"(3.1239492893218994, 3.9764199256896973)\",\"(3.0873148441314697, 5.526088714599609)\",\"(3.0798349380493164, 5.082019329071045)\",\"(3.0762369632720947, 5.095231056213379)\",\"(3.0671727657318115, 5.0780744552612305)\",\"(3.0485939979553223, 4.900262832641602)\",\"(3.032249927520752, 5.186169624328613)\",\"(3.003758430480957, 4.947781085968018)\",\"(2.997760534286499, 5.124130725860596)\",\"(2.996995210647583, 5.119869232177734)\",\"(2.988203525543213, 5.2411346435546875)\",\"(2.966430902481079, 4.784895420074463)\",\"(2.964893102645874, 5.130652904510498)\",\"(2.953289270401001, 5.036712646484375)\",\"(2.9038074016571045, 5.094336986541748)\",\"(2.895331859588623, 5.036712646484375)\",\"(2.894951105117798, 5.2793145179748535)\",\"(2.8762686252593994, 5.048842430114746)\",\"(2.8744924068450928, 5.159426689147949)\",\"(2.848693370819092, 4.8814167976379395)\",\"(2.8441483974456787, 5.097797393798828)\",\"(2.8392395973205566, 5.492516994476318)\",\"(2.831744432449341, 4.410325527191162)\",\"(2.8186862468719482, 5.072926998138428)\",\"(2.808274745941162, 5.299503803253174)\",\"(2.796959400177002, 5.072926998138428)\",\"(2.7940688133239746, 4.891473770141602)\",\"(2.7793614864349365, 5.2816386222839355)\",\"(2.7611594200134277, 5.195952415466309)\",\"(2.7430710792541504, 5.3018341064453125)\",\"(2.720691204071045, 5.139227867126465)\",\"(2.712285280227661, 5.114777565002441)\",\"(2.7052247524261475, 5.008767604827881)\",\"(2.6683223247528076, 5.333426475524902)\",\"(2.665860652923584, 5.350220680236816)\",\"(2.6138930320739746, 5.370304107666016)\",\"(2.553574323654175, 4.990283489227295)\",\"(2.489572525024414, 4.90726375579834)\",\"(2.482011079788208, 4.497768402099609)\",\"(2.3300702571868896, 5.194604873657227)\",\"(2.3265390396118164, 5.410081386566162)\",\"(2.3044979572296143, 5.195952415466309)\",\"(2.215440511703491, 5.008767604827881)\",\"(1.876754641532898, 5.195952415466309)\"],\"mode\":\"markers\",\"name\":\"H1\",\"x\":[6.000277996063232,5.9744086265563965,5.963146686553955,5.878213405609131,5.840071678161621,5.77591609954834,5.51908016204834,5.505230903625488,5.491418838500977,5.489977836608887,5.445551872253418,5.439368724822998,5.408957004547119,5.352959156036377,5.33864164352417,5.311515808105469,5.301011085510254,5.299157619476318,5.287594795227051,5.282315254211426,5.264307022094727,5.255683898925781,5.254807949066162,5.228877544403076,5.215717315673828,5.212786674499512,5.211103439331055,5.205862998962402,5.205131530761719,5.199728965759277,5.19269323348999,5.187385559082031,5.179333686828613,5.177918910980225,5.149509906768799,5.148073196411133,5.144937038421631,5.1381940841674805,5.1033935546875,5.099390983581543,5.096935272216797,5.093125820159912,5.090001106262207,5.088426113128662,5.066712379455566,5.050467491149902,5.045114517211914,5.040042877197266,5.039201736450195,5.030033111572266,5.027294158935547,5.014980316162109,5.012629508972168,4.998939037322998,4.9894256591796875,4.980154037475586,4.970938682556152,4.94277811050415,4.926399230957031,4.926137924194336,4.915825843811035,4.913298606872559,4.911045074462891,4.909400939941406,4.9061784744262695,4.903517246246338,4.9009246826171875,4.900900840759277,4.898139476776123,4.896868705749512,4.895796298980713,4.88494873046875,4.8828935623168945,4.880984783172607,4.880332946777344,4.860873222351074,4.859254837036133,4.8266167640686035,4.819543361663818,4.8144989013671875,4.80508279800415,4.798247814178467,4.795238494873047,4.794348239898682,4.789250373840332,4.78548002243042,4.775200843811035,4.774608135223389,4.7727813720703125,4.770976543426514,4.767991542816162,4.763534069061279,4.759578227996826,4.759357452392578,4.746771812438965,4.744124412536621,4.738450050354004,4.736175537109375,4.7328877449035645,4.731168746948242,4.72880744934082,4.724261283874512,4.712946891784668,4.70701789855957,4.689638137817383,4.680383682250977,4.658764362335205,4.650941848754883,4.644656181335449,4.619381427764893,4.618715763092041,4.61808443069458,4.596413612365723,4.590712547302246,4.589216709136963,4.5841593742370605,4.578433990478516,4.576807498931885,4.572771072387695,4.572526931762695,4.570193290710449,4.568449974060059,4.555517673492432,4.551562309265137,4.551200866699219,4.550678730010986,4.547735214233398,4.547317981719971,4.541537761688232,4.540096759796143,4.537114143371582,4.517710208892822,4.515403747558594,4.514439105987549,4.513123512268066,4.512726306915283,4.51156759262085,4.503591537475586,4.500921726226807,4.500413417816162,4.493225574493408,4.489663600921631,4.488559722900391,4.475398540496826,4.458665370941162,4.457086563110352,4.44876766204834,4.434126377105713,4.433589458465576,4.431795597076416,4.428614139556885,4.423888206481934,4.422722339630127,4.422252655029297,4.421511650085449,4.420284271240234,4.414936542510986,4.410759925842285,4.405339241027832,4.397532939910889,4.3925323486328125,4.388810634613037,4.384499549865723,4.377665042877197,4.371776103973389,4.371088981628418,4.369603633880615,4.367064476013184,4.366743564605713,4.362551689147949,4.3570637702941895,4.35390043258667,4.35181188583374,4.3376078605651855,4.336501598358154,4.334544658660889,4.319825172424316,4.313243389129639,4.313036918640137,4.313014984130859,4.310650825500488,4.306729316711426,4.304850101470947,4.293613910675049,4.289565563201904,4.2895097732543945,4.288583755493164,4.285520553588867,4.262210845947266,4.261509418487549,4.260711193084717,4.25950288772583,4.255309581756592,4.248718738555908,4.243023872375488,4.242752552032471,4.2169647216796875,4.215566158294678,4.214250087738037,4.211489200592041,4.20317268371582,4.1977105140686035,4.197677135467529,4.194339752197266,4.190651893615723,4.188714981079102,4.1879167556762695,4.179155349731445,4.176002502441406,4.17585563659668,4.170814514160156,4.1694793701171875,4.168172359466553,4.158877849578857,4.1575775146484375,4.151281833648682,4.150249481201172,4.14808988571167,4.1386919021606445,4.134456157684326,4.133266448974609,4.130243301391602,4.1240739822387695,4.119619846343994,4.116504192352295,4.114590644836426,4.112792491912842,4.112019062042236,4.1113691329956055,4.107383728027344,4.096856594085693,4.065465450286865,4.0562005043029785,4.042754650115967,4.03823709487915,4.0349297523498535,4.032885551452637,4.027864456176758,4.021727085113525,4.01772928237915,4.0139079093933105,4.008627891540527,4.000175476074219,4.000097274780273,3.993109703063965,3.9867022037506104,3.985161542892456,3.9805257320404053,3.9735703468322754,3.96486234664917,3.9648444652557373,3.958683967590332,3.957218885421753,3.9568653106689453,3.9554924964904785,3.949847459793091,3.9435744285583496,3.940429925918579,3.933797836303711,3.930440902709961,3.929903268814087,3.9295969009399414,3.928328037261963,3.9236488342285156,3.9197280406951904,3.9137589931488037,3.9088361263275146,3.9056923389434814,3.9035706520080566,3.9002013206481934,3.8892135620117188,3.8884387016296387,3.885051727294922,3.864379405975342,3.8616373538970947,3.861626625061035,3.86020565032959,3.8572604656219482,3.84413743019104,3.8421413898468018,3.838918924331665,3.8314924240112305,3.83015775680542,3.8238744735717773,3.8182241916656494,3.8176515102386475,3.81178879737854,3.798726797103882,3.792755365371704,3.790351152420044,3.7866013050079346,3.7864129543304443,3.7778382301330566,3.777677059173584,3.766896963119507,3.755248546600342,3.748961925506592,3.747671604156494,3.739398956298828,3.7375524044036865,3.7374188899993896,3.7337682247161865,3.7133593559265137,3.7106363773345947,3.710357666015625,3.6928422451019287,3.661970376968384,3.6603357791900635,3.6559975147247314,3.641533374786377,3.6381475925445557,3.6336071491241455,3.629406452178955,3.6251137256622314,3.608534336090088,3.5969834327697754,3.583007574081421,3.5799922943115234,3.5775251388549805,3.5624539852142334,3.5606513023376465,3.556095600128174,3.543044328689575,3.5339972972869873,3.5337672233581543,3.527980089187622,3.5148253440856934,3.511422634124756,3.50243878364563,3.4964144229888916,3.4921138286590576,3.459029197692871,3.4562578201293945,3.454296827316284,3.4515421390533447,3.427152395248413,3.42659068107605,3.423696279525757,3.396949052810669,3.3889760971069336,3.3663012981414795,3.359036684036255,3.355677366256714,3.3418798446655273,3.33799147605896,3.330376148223877,3.3127801418304443,3.3069536685943604,3.298564910888672,3.2973132133483887,3.293217658996582,3.2880823612213135,3.2820770740509033,3.2708168029785156,3.2616004943847656,3.2592599391937256,3.2562952041625977,3.251248359680176,3.2478463649749756,3.234543561935425,3.215813398361206,3.212132453918457,3.201322555541992,3.1976029872894287,3.1876637935638428,3.1876513957977295,3.147608518600464,3.1239492893218994,3.0873148441314697,3.0798349380493164,3.0762369632720947,3.0671727657318115,3.0485939979553223,3.032249927520752,3.003758430480957,2.997760534286499,2.996995210647583,2.988203525543213,2.966430902481079,2.964893102645874,2.953289270401001,2.9038074016571045,2.895331859588623,2.894951105117798,2.8762686252593994,2.8744924068450928,2.848693370819092,2.8441483974456787,2.8392395973205566,2.831744432449341,2.8186862468719482,2.808274745941162,2.796959400177002,2.7940688133239746,2.7793614864349365,2.7611594200134277,2.7430710792541504,2.720691204071045,2.712285280227661,2.7052247524261475,2.6683223247528076,2.665860652923584,2.6138930320739746,2.553574323654175,2.489572525024414,2.482011079788208,2.3300702571868896,2.3265390396118164,2.3044979572296143,2.215440511703491,1.876754641532898],\"y\":[6.070749759674072,6.387601852416992,6.406723499298096,6.334687232971191,5.970481872558594,6.1896748542785645,5.688913345336914,5.702854156494141,5.623899936676025,5.615982532501221,6.028116226196289,5.970481872558594,5.593194484710693,5.669767379760742,6.123279571533203,6.009833812713623,5.419078826904297,5.709759712219238,5.39593505859375,6.070749759674072,5.438149452209473,5.463134288787842,5.571111679077148,5.325296401977539,5.2552289962768555,5.492516994476318,5.2800164222717285,6.048890590667725,6.079176902770996,5.438592910766602,5.3730669021606445,5.946683883666992,5.749109745025635,5.2596025466918945,5.513485908508301,5.673727989196777,5.695206165313721,5.449665546417236,5.6146368980407715,5.141500949859619,5.559226036071777,5.283845901489258,5.18186616897583,5.510612487792969,5.945806980133057,6.034581184387207,6.060403823852539,5.451411724090576,5.489687919616699,5.646237373352051,5.173064231872559,5.812078475952148,5.049137115478516,5.262214660644531,5.350220680236816,5.485123634338379,5.545546054840088,5.327414512634277,5.480835437774658,5.696841716766357,5.144752502441406,6.333134651184082,5.533923149108887,5.341703414916992,5.206874847412109,5.751674652099609,4.9588823318481445,5.479766368865967,4.97483491897583,5.089188098907471,5.0778913497924805,5.085024356842041,5.027841567993164,5.19518518447876,4.943795204162598,4.9393134117126465,5.556112289428711,5.155017852783203,5.36641263961792,5.1888837814331055,5.092425346374512,5.435695648193359,6.052618503570557,5.152072429656982,5.338532447814941,5.695811748504639,5.159073352813721,5.026180267333984,5.247153282165527,5.036281108856201,5.39593505859375,5.18786096572876,5.664028167724609,5.807004451751709,5.037984371185303,5.054005146026611,4.863837242126465,5.419078826904297,5.5696539878845215,5.463134288787842,5.5663909912109375,5.195952415466309,5.299503803253174,5.625325679779053,5.2411346435546875,5.776602745056152,4.671151161193848,4.7089080810546875,4.943424701690674,5.646237373352051,4.676920413970947,4.69084358215332,4.896384239196777,5.191075325012207,4.70336389541626,4.90726375579834,4.920166969299316,5.199367046356201,5.0778913497924805,4.737499713897705,4.8776092529296875,5.981812953948975,4.680845260620117,5.133364200592041,4.920122146606445,4.680845260620117,5.327414512634277,4.8814167976379395,5.394779682159424,5.141500949859619,4.8170084953308105,5.18786096572876,4.97483491897583,5.2816386222839355,5.730287075042725,5.109022617340088,4.733137130737305,4.609952449798584,5.449665546417236,5.941957950592041,5.0107197761535645,5.316223621368408,5.109022617340088,4.733137130737305,5.695206165313721,5.602514743804932,4.85012149810791,5.111073970794678,5.19518518447876,5.338468074798584,5.0107197761535645,4.7089080810546875,5.905560493469238,5.092425346374512,5.120981216430664,5.18786096572876,6.08123254776001,5.266477108001709,4.680845260620117,4.882935523986816,4.8170084953308105,5.165830135345459,5.783653259277344,5.4909892082214355,4.968458652496338,4.917797088623047,5.0776543617248535,5.200924396514893,4.913110256195068,5.036712646484375,4.581475734710693,5.368625640869141,5.200924396514893,5.556112289428711,5.599565505981445,5.099273204803467,5.293599605560303,5.364917278289795,5.048842430114746,5.0776543617248535,4.816441059112549,4.4175286293029785,4.7089080810546875,4.366238594055176,5.093294143676758,4.816188812255859,5.048649787902832,4.905449867248535,4.4912214279174805,4.820319652557373,4.28739070892334,4.705713272094727,5.449716567993164,4.490422248840332,4.546730995178223,5.370975017547607,5.113575458526611,5.104965686798096,5.2793145179748535,4.816441059112549,4.740692138671875,4.659853458404541,4.999624252319336,5.4099860191345215,4.819350719451904,5.173064231872559,5.3018341064453125,4.490072250366211,5.13586950302124,4.286281585693359,5.438592910766602,4.784895420074463,4.676920413970947,5.581830978393555,4.48702335357666,5.21609354019165,5.479583263397217,5.157163619995117,5.265921592712402,5.009521961212158,5.139227867126465,5.023694038391113,5.016045093536377,5.571111679077148,4.28739070892334,4.6824049949646,4.900262832641602,5.541270732879639,5.523681163787842,4.688175201416016,4.916830539703369,4.6390252113342285,5.441211700439453,4.8596601486206055,5.142324447631836,4.43790864944458,5.133721828460693,4.9393134117126465,4.803969383239746,5.441019535064697,4.820319652557373,5.527068614959717,5.054005146026611,6.170405387878418,4.244393825531006,4.514407634735107,4.3667449951171875,5.319794178009033,5.006412982940674,5.094336986541748,4.486011981964111,5.092425346374512,5.059669017791748,4.581399440765381,4.092380046844482,5.120981216430664,5.099273204803467,5.899415493011475,5.119869232177734,4.766533374786377,5.094336986541748,4.97483491897583,5.1925048828125,4.68565034866333,5.5696539878845215,5.265921592712402,5.507380485534668,4.7410383224487305,4.581475734710693,5.4184041023254395,4.547887325286865,4.906950950622559,5.093294143676758,4.7410383224487305,5.527068614959717,5.036367416381836,3.9953646659851074,5.419840335845947,5.195952415466309,4.6317901611328125,5.867258548736572,4.78167200088501,5.350220680236816,5.423797607421875,4.831714630126953,4.68565034866333,5.173064231872559,4.8170084953308105,6.0259690284729,4.990283489227295,4.480534076690674,5.006424427032471,5.144752502441406,4.896384239196777,5.1128387451171875,5.435695648193359,5.19518518447876,5.581830978393555,5.504852771759033,4.40797233581543,5.009300708770752,5.646237373352051,5.6778883934021,4.733137130737305,4.673153400421143,5.159073352813721,5.124130725860596,5.0778913497924805,5.370975017547607,5.009300708770752,5.456124782562256,5.303778648376465,5.343133926391602,5.093523025512695,5.006412982940674,4.871713638305664,4.0586957931518555,5.319794178009033,5.130858898162842,4.401815414428711,5.258655548095703,5.009568214416504,5.652864933013916,5.072926998138428,4.941638469696045,5.188204765319824,4.613214015960693,5.576752662658691,5.21609354019165,5.0107197761535645,4.705713272094727,4.631529808044434,5.895564079284668,5.093012809753418,5.18786096572876,4.917558193206787,5.520103454589844,5.119869232177734,5.082019329071045,5.364917278289795,5.4174485206604,5.410081386566162,5.112863063812256,3.63624906539917,4.339061737060547,4.779032230377197,4.900262832641602,4.595961570739746,4.863837242126465,5.142324447631836,3.8652632236480713,5.1276116371154785,4.990995407104492,5.211664199829102,4.930208683013916,5.114777565002441,3.7914178371429443,5.437603950500488,5.507646560668945,4.895157814025879,4.906950950622559,4.923805236816406,5.0580153465271,5.401645183563232,4.673153400421143,5.165830135345459,5.008767604827881,3.9764199256896973,5.526088714599609,5.082019329071045,5.095231056213379,5.0780744552612305,4.900262832641602,5.186169624328613,4.947781085968018,5.124130725860596,5.119869232177734,5.2411346435546875,4.784895420074463,5.130652904510498,5.036712646484375,5.094336986541748,5.036712646484375,5.2793145179748535,5.048842430114746,5.159426689147949,4.8814167976379395,5.097797393798828,5.492516994476318,4.410325527191162,5.072926998138428,5.299503803253174,5.072926998138428,4.891473770141602,5.2816386222839355,5.195952415466309,5.3018341064453125,5.139227867126465,5.114777565002441,5.008767604827881,5.333426475524902,5.350220680236816,5.370304107666016,4.990283489227295,4.90726375579834,4.497768402099609,5.194604873657227,5.410081386566162,5.195952415466309,5.008767604827881,5.195952415466309],\"type\":\"scatter\"}],                        {\"template\":{\"data\":{\"histogram2dcontour\":[{\"type\":\"histogram2dcontour\",\"colorbar\":{\"outlinewidth\":0,\"ticks\":\"\"},\"colorscale\":[[0.0,\"#0d0887\"],[0.1111111111111111,\"#46039f\"],[0.2222222222222222,\"#7201a8\"],[0.3333333333333333,\"#9c179e\"],[0.4444444444444444,\"#bd3786\"],[0.5555555555555556,\"#d8576b\"],[0.6666666666666666,\"#ed7953\"],[0.7777777777777778,\"#fb9f3a\"],[0.8888888888888888,\"#fdca26\"],[1.0,\"#f0f921\"]]}],\"choropleth\":[{\"type\":\"choropleth\",\"colorbar\":{\"outlinewidth\":0,\"ticks\":\"\"}}],\"histogram2d\":[{\"type\":\"histogram2d\",\"colorbar\":{\"outlinewidth\":0,\"ticks\":\"\"},\"colorscale\":[[0.0,\"#0d0887\"],[0.1111111111111111,\"#46039f\"],[0.2222222222222222,\"#7201a8\"],[0.3333333333333333,\"#9c179e\"],[0.4444444444444444,\"#bd3786\"],[0.5555555555555556,\"#d8576b\"],[0.6666666666666666,\"#ed7953\"],[0.7777777777777778,\"#fb9f3a\"],[0.8888888888888888,\"#fdca26\"],[1.0,\"#f0f921\"]]}],\"heatmap\":[{\"type\":\"heatmap\",\"colorbar\":{\"outlinewidth\":0,\"ticks\":\"\"},\"colorscale\":[[0.0,\"#0d0887\"],[0.1111111111111111,\"#46039f\"],[0.2222222222222222,\"#7201a8\"],[0.3333333333333333,\"#9c179e\"],[0.4444444444444444,\"#bd3786\"],[0.5555555555555556,\"#d8576b\"],[0.6666666666666666,\"#ed7953\"],[0.7777777777777778,\"#fb9f3a\"],[0.8888888888888888,\"#fdca26\"],[1.0,\"#f0f921\"]]}],\"heatmapgl\":[{\"type\":\"heatmapgl\",\"colorbar\":{\"outlinewidth\":0,\"ticks\":\"\"},\"colorscale\":[[0.0,\"#0d0887\"],[0.1111111111111111,\"#46039f\"],[0.2222222222222222,\"#7201a8\"],[0.3333333333333333,\"#9c179e\"],[0.4444444444444444,\"#bd3786\"],[0.5555555555555556,\"#d8576b\"],[0.6666666666666666,\"#ed7953\"],[0.7777777777777778,\"#fb9f3a\"],[0.8888888888888888,\"#fdca26\"],[1.0,\"#f0f921\"]]}],\"contourcarpet\":[{\"type\":\"contourcarpet\",\"colorbar\":{\"outlinewidth\":0,\"ticks\":\"\"}}],\"contour\":[{\"type\":\"contour\",\"colorbar\":{\"outlinewidth\":0,\"ticks\":\"\"},\"colorscale\":[[0.0,\"#0d0887\"],[0.1111111111111111,\"#46039f\"],[0.2222222222222222,\"#7201a8\"],[0.3333333333333333,\"#9c179e\"],[0.4444444444444444,\"#bd3786\"],[0.5555555555555556,\"#d8576b\"],[0.6666666666666666,\"#ed7953\"],[0.7777777777777778,\"#fb9f3a\"],[0.8888888888888888,\"#fdca26\"],[1.0,\"#f0f921\"]]}],\"surface\":[{\"type\":\"surface\",\"colorbar\":{\"outlinewidth\":0,\"ticks\":\"\"},\"colorscale\":[[0.0,\"#0d0887\"],[0.1111111111111111,\"#46039f\"],[0.2222222222222222,\"#7201a8\"],[0.3333333333333333,\"#9c179e\"],[0.4444444444444444,\"#bd3786\"],[0.5555555555555556,\"#d8576b\"],[0.6666666666666666,\"#ed7953\"],[0.7777777777777778,\"#fb9f3a\"],[0.8888888888888888,\"#fdca26\"],[1.0,\"#f0f921\"]]}],\"mesh3d\":[{\"type\":\"mesh3d\",\"colorbar\":{\"outlinewidth\":0,\"ticks\":\"\"}}],\"scatter\":[{\"fillpattern\":{\"fillmode\":\"overlay\",\"size\":10,\"solidity\":0.2},\"type\":\"scatter\"}],\"parcoords\":[{\"type\":\"parcoords\",\"line\":{\"colorbar\":{\"outlinewidth\":0,\"ticks\":\"\"}}}],\"scatterpolargl\":[{\"type\":\"scatterpolargl\",\"marker\":{\"colorbar\":{\"outlinewidth\":0,\"ticks\":\"\"}}}],\"bar\":[{\"error_x\":{\"color\":\"#2a3f5f\"},\"error_y\":{\"color\":\"#2a3f5f\"},\"marker\":{\"line\":{\"color\":\"#E5ECF6\",\"width\":0.5},\"pattern\":{\"fillmode\":\"overlay\",\"size\":10,\"solidity\":0.2}},\"type\":\"bar\"}],\"scattergeo\":[{\"type\":\"scattergeo\",\"marker\":{\"colorbar\":{\"outlinewidth\":0,\"ticks\":\"\"}}}],\"scatterpolar\":[{\"type\":\"scatterpolar\",\"marker\":{\"colorbar\":{\"outlinewidth\":0,\"ticks\":\"\"}}}],\"histogram\":[{\"marker\":{\"pattern\":{\"fillmode\":\"overlay\",\"size\":10,\"solidity\":0.2}},\"type\":\"histogram\"}],\"scattergl\":[{\"type\":\"scattergl\",\"marker\":{\"colorbar\":{\"outlinewidth\":0,\"ticks\":\"\"}}}],\"scatter3d\":[{\"type\":\"scatter3d\",\"line\":{\"colorbar\":{\"outlinewidth\":0,\"ticks\":\"\"}},\"marker\":{\"colorbar\":{\"outlinewidth\":0,\"ticks\":\"\"}}}],\"scattermapbox\":[{\"type\":\"scattermapbox\",\"marker\":{\"colorbar\":{\"outlinewidth\":0,\"ticks\":\"\"}}}],\"scatterternary\":[{\"type\":\"scatterternary\",\"marker\":{\"colorbar\":{\"outlinewidth\":0,\"ticks\":\"\"}}}],\"scattercarpet\":[{\"type\":\"scattercarpet\",\"marker\":{\"colorbar\":{\"outlinewidth\":0,\"ticks\":\"\"}}}],\"carpet\":[{\"aaxis\":{\"endlinecolor\":\"#2a3f5f\",\"gridcolor\":\"white\",\"linecolor\":\"white\",\"minorgridcolor\":\"white\",\"startlinecolor\":\"#2a3f5f\"},\"baxis\":{\"endlinecolor\":\"#2a3f5f\",\"gridcolor\":\"white\",\"linecolor\":\"white\",\"minorgridcolor\":\"white\",\"startlinecolor\":\"#2a3f5f\"},\"type\":\"carpet\"}],\"table\":[{\"cells\":{\"fill\":{\"color\":\"#EBF0F8\"},\"line\":{\"color\":\"white\"}},\"header\":{\"fill\":{\"color\":\"#C8D4E3\"},\"line\":{\"color\":\"white\"}},\"type\":\"table\"}],\"barpolar\":[{\"marker\":{\"line\":{\"color\":\"#E5ECF6\",\"width\":0.5},\"pattern\":{\"fillmode\":\"overlay\",\"size\":10,\"solidity\":0.2}},\"type\":\"barpolar\"}],\"pie\":[{\"automargin\":true,\"type\":\"pie\"}]},\"layout\":{\"autotypenumbers\":\"strict\",\"colorway\":[\"#636efa\",\"#EF553B\",\"#00cc96\",\"#ab63fa\",\"#FFA15A\",\"#19d3f3\",\"#FF6692\",\"#B6E880\",\"#FF97FF\",\"#FECB52\"],\"font\":{\"color\":\"#2a3f5f\"},\"hovermode\":\"closest\",\"hoverlabel\":{\"align\":\"left\"},\"paper_bgcolor\":\"white\",\"plot_bgcolor\":\"#E5ECF6\",\"polar\":{\"bgcolor\":\"#E5ECF6\",\"angularaxis\":{\"gridcolor\":\"white\",\"linecolor\":\"white\",\"ticks\":\"\"},\"radialaxis\":{\"gridcolor\":\"white\",\"linecolor\":\"white\",\"ticks\":\"\"}},\"ternary\":{\"bgcolor\":\"#E5ECF6\",\"aaxis\":{\"gridcolor\":\"white\",\"linecolor\":\"white\",\"ticks\":\"\"},\"baxis\":{\"gridcolor\":\"white\",\"linecolor\":\"white\",\"ticks\":\"\"},\"caxis\":{\"gridcolor\":\"white\",\"linecolor\":\"white\",\"ticks\":\"\"}},\"coloraxis\":{\"colorbar\":{\"outlinewidth\":0,\"ticks\":\"\"}},\"colorscale\":{\"sequential\":[[0.0,\"#0d0887\"],[0.1111111111111111,\"#46039f\"],[0.2222222222222222,\"#7201a8\"],[0.3333333333333333,\"#9c179e\"],[0.4444444444444444,\"#bd3786\"],[0.5555555555555556,\"#d8576b\"],[0.6666666666666666,\"#ed7953\"],[0.7777777777777778,\"#fb9f3a\"],[0.8888888888888888,\"#fdca26\"],[1.0,\"#f0f921\"]],\"sequentialminus\":[[0.0,\"#0d0887\"],[0.1111111111111111,\"#46039f\"],[0.2222222222222222,\"#7201a8\"],[0.3333333333333333,\"#9c179e\"],[0.4444444444444444,\"#bd3786\"],[0.5555555555555556,\"#d8576b\"],[0.6666666666666666,\"#ed7953\"],[0.7777777777777778,\"#fb9f3a\"],[0.8888888888888888,\"#fdca26\"],[1.0,\"#f0f921\"]],\"diverging\":[[0,\"#8e0152\"],[0.1,\"#c51b7d\"],[0.2,\"#de77ae\"],[0.3,\"#f1b6da\"],[0.4,\"#fde0ef\"],[0.5,\"#f7f7f7\"],[0.6,\"#e6f5d0\"],[0.7,\"#b8e186\"],[0.8,\"#7fbc41\"],[0.9,\"#4d9221\"],[1,\"#276419\"]]},\"xaxis\":{\"gridcolor\":\"white\",\"linecolor\":\"white\",\"ticks\":\"\",\"title\":{\"standoff\":15},\"zerolinecolor\":\"white\",\"automargin\":true,\"zerolinewidth\":2},\"yaxis\":{\"gridcolor\":\"white\",\"linecolor\":\"white\",\"ticks\":\"\",\"title\":{\"standoff\":15},\"zerolinecolor\":\"white\",\"automargin\":true,\"zerolinewidth\":2},\"scene\":{\"xaxis\":{\"backgroundcolor\":\"#E5ECF6\",\"gridcolor\":\"white\",\"linecolor\":\"white\",\"showbackground\":true,\"ticks\":\"\",\"zerolinecolor\":\"white\",\"gridwidth\":2},\"yaxis\":{\"backgroundcolor\":\"#E5ECF6\",\"gridcolor\":\"white\",\"linecolor\":\"white\",\"showbackground\":true,\"ticks\":\"\",\"zerolinecolor\":\"white\",\"gridwidth\":2},\"zaxis\":{\"backgroundcolor\":\"#E5ECF6\",\"gridcolor\":\"white\",\"linecolor\":\"white\",\"showbackground\":true,\"ticks\":\"\",\"zerolinecolor\":\"white\",\"gridwidth\":2}},\"shapedefaults\":{\"line\":{\"color\":\"#2a3f5f\"}},\"annotationdefaults\":{\"arrowcolor\":\"#2a3f5f\",\"arrowhead\":0,\"arrowwidth\":1},\"geo\":{\"bgcolor\":\"white\",\"landcolor\":\"#E5ECF6\",\"subunitcolor\":\"white\",\"showland\":true,\"showlakes\":true,\"lakecolor\":\"white\"},\"title\":{\"x\":0.05},\"mapbox\":{\"style\":\"light\"}}},\"xaxis\":{\"title\":{\"text\":\"Birth\"},\"side\":\"bottom\",\"type\":\"linear\",\"range\":[-0.12813446998596192,6.534857969284058],\"autorange\":false,\"ticks\":\"outside\",\"showline\":true,\"zeroline\":true,\"linewidth\":1,\"linecolor\":\"black\",\"mirror\":false,\"showexponent\":\"all\",\"exponentformat\":\"e\"},\"yaxis\":{\"title\":{\"text\":\"Death\"},\"side\":\"left\",\"type\":\"linear\",\"range\":[-0.12813446998596192,6.534857969284058],\"autorange\":false,\"scaleanchor\":\"x\",\"scaleratio\":1,\"ticks\":\"outside\",\"showline\":true,\"zeroline\":true,\"linewidth\":1,\"linecolor\":\"black\",\"mirror\":false,\"showexponent\":\"all\",\"exponentformat\":\"e\"},\"width\":500,\"height\":500,\"plot_bgcolor\":\"white\"},                        {\"responsive\": true}                    ).then(function(){\n",
       "                            \n",
       "var gd = document.getElementById('a46f718d-609a-4f6a-b8a5-16254545b9e4');\n",
       "var x = new MutationObserver(function (mutations, observer) {{\n",
       "        var display = window.getComputedStyle(gd).display;\n",
       "        if (!display || display === 'none') {{\n",
       "            console.log([gd, 'removed!']);\n",
       "            Plotly.purge(gd);\n",
       "            observer.disconnect();\n",
       "        }}\n",
       "}});\n",
       "\n",
       "// Listen for the removal of the full notebook cells\n",
       "var notebookContainer = gd.closest('#notebook-container');\n",
       "if (notebookContainer) {{\n",
       "    x.observe(notebookContainer, {childList: true});\n",
       "}}\n",
       "\n",
       "// Listen for the clearing of the current output cell\n",
       "var outputEl = gd.closest('.output');\n",
       "if (outputEl) {{\n",
       "    x.observe(outputEl, {childList: true});\n",
       "}}\n",
       "\n",
       "                        })                };                });            </script>        </div>"
      ]
     },
     "metadata": {},
     "output_type": "display_data"
    }
   ],
   "source": [
    "# clique oriented FDC\n",
    "dgm_clique_or_FDC=rev_directed(L_FDC)\n",
    "plot_diagram(dgm_clique_or_FDC[0])"
   ]
  },
  {
   "cell_type": "code",
   "execution_count": 68,
   "id": "03009081",
   "metadata": {},
   "outputs": [
    {
     "name": "stdout",
     "output_type": "stream",
     "text": [
      "0.43311069882498454\n"
     ]
    },
    {
     "data": {
      "text/plain": [
       "<AxesSubplot:title={'center':'Persistence diagram'}, xlabel='Birth', ylabel='Death'>"
      ]
     },
     "execution_count": 68,
     "metadata": {},
     "output_type": "execute_result"
    },
    {
     "data": {
      "image/png": "[encoded data removed]",
      "text/plain": [
       "<Figure size 432x288 with 1 Axes>"
      ]
     },
     "metadata": {
      "needs_background": "light"
     },
     "output_type": "display_data"
    }
   ],
   "source": [
    "# high order, violating triangles FDC\n",
    "indifference_value=0.05\n",
    "print(hyper_coherence(ts_FDC,indifference_value))\n",
    "dgm_high_FDC=create_diagram_directly_2(ts_FDC,indifference_value)\n",
    "gudhi.plot_persistence_diagram(dgm_high_FDC)"
   ]
  },
  {
   "cell_type": "code",
   "execution_count": 69,
   "id": "9484f61b",
   "metadata": {},
   "outputs": [
    {
     "data": {
      "text/plain": [
       "<matplotlib.colorbar.Colorbar at 0x28b19569640>"
      ]
     },
     "execution_count": 69,
     "metadata": {},
     "output_type": "execute_result"
    },
    {
     "data": {
      "image/png": "[encoded data removed]",
      "text/plain": [
       "<Figure size 720x504 with 2 Axes>"
      ]
     },
     "metadata": {
      "needs_background": "light"
     },
     "output_type": "display_data"
    }
   ],
   "source": [
    "# STI\n",
    "L_STI=lead_matrix_1(ts_STI)\n",
    "plt.figure(figsize=(10,7))\n",
    "plt.imshow(L_STI, alpha=0.9, cmap=\"Blues\")\n",
    "plt.colorbar()"
   ]
  },
  {
   "cell_type": "code",
   "execution_count": 70,
   "id": "3c868ccc",
   "metadata": {},
   "outputs": [
    {
     "data": {
      "application/vnd.plotly.v1+json": {
       "config": {
        "plotlyServerURL": "https://plot.ly"
       },
       "data": [
        {
         "hoverinfo": "none",
         "line": {
          "color": "black",
          "dash": "dash",
          "width": 1
         },
         "mode": "lines",
         "showlegend": false,
         "type": "scatter",
         "x": [
          -0.00047602154314517974,
          0.024277098700404166
         ],
         "y": [
          -0.00047602154314517974,
          0.024277098700404166
         ]
        },
        {
         "hoverinfo": "text",
         "hovertext": [
          "(0.0, 0.0003662199014797807)",
          "(0.0, 0.000610769959166646)",
          "(0.0, 0.004030189942568541)",
          "(0.0, 0.004635830409824848)",
          "(0.0, 0.0046690888702869415)",
          "(0.0, 0.0055916993878781796)",
          "(0.0, 0.005867225583642721)",
          "(0.0, 0.007217328529804945)",
          "(0.0, 0.008174873888492584)",
          "(0.0, 0.00867246463894844)",
          "(0.0, 0.008910189382731915)",
          "(0.0, 0.008998820558190346)",
          "(0.0, 0.00922067929059267)",
          "(0.0, 0.009319628588855267)",
          "(0.0, 0.00934535264968872)",
          "(0.0, 0.00994227733463049)",
          "(0.0, 0.010095842182636261)",
          "(0.0, 0.010105199180543423)",
          "(0.0, 0.010198645293712616)",
          "(0.0, 0.010991107672452927)",
          "(0.0, 0.011024669744074345)",
          "(0.0, 0.01231313869357109)",
          "(0.0, 0.012335844337940216)",
          "(0.0, 0.012505204416811466)",
          "(0.0, 0.012699087150394917)",
          "(0.0, 0.012798630632460117)",
          "(0.0, 0.01304932776838541)",
          "(0.0, 0.013456848450005054)",
          "(0.0, 0.013461514376103878)",
          "(0.0, 0.013495376333594322)",
          "(0.0, 0.01350101176649332)",
          "(0.0, 0.013690915890038013)",
          "(0.0, 0.01403389684855938)",
          "(0.0, 0.014112060889601707)",
          "(0.0, 0.0141526497900486)",
          "(0.0, 0.014519101940095425)",
          "(0.0, 0.014658678323030472)",
          "(0.0, 0.014672745950520039)",
          "(0.0, 0.014880349859595299)",
          "(0.0, 0.014986726455390453)",
          "(0.0, 0.015060428529977798)",
          "(0.0, 0.015318145975470543)",
          "(0.0, 0.015334995463490486)",
          "(0.0, 0.015370740555226803)",
          "(0.0, 0.015577718615531921)",
          "(0.0, 0.015731530264019966)",
          "(0.0, 0.015755977481603622)",
          "(0.0, 0.015809565782546997)",
          "(0.0, 0.0159213375300169)",
          "(0.0, 0.01606358028948307)",
          "(0.0, 0.01617809385061264)",
          "(0.0, 0.016186799854040146)",
          "(0.0, 0.016214273869991302)",
          "(0.0, 0.016324898228049278)",
          "(0.0, 0.01647832803428173)",
          "(0.0, 0.016745269298553467)",
          "(0.0, 0.01678628660738468)",
          "(0.0, 0.01683664321899414)",
          "(0.0, 0.01735023222863674)",
          "(0.0, 0.017570581287145615)",
          "(0.0, 0.01766754314303398)",
          "(0.0, 0.01789575256407261)",
          "(0.0, 0.01792445406317711)",
          "(0.0, 0.0180975329130888)",
          "(0.0, 0.01830241084098816)",
          "(0.0, 0.01844734698534012)",
          "(0.0, 0.018749583512544632)",
          "(0.0, 0.01891578920185566)",
          "(0.0, 0.01916034147143364)",
          "(0.0, 0.019220001995563507)",
          "(0.0, 0.019459618255496025)",
          "(0.0, 0.019511975347995758)",
          "(0.0, 0.020305493846535683)",
          "(0.0, 0.0209943950176239)",
          "(0.0, 0.021012641489505768)",
          "(0.0, 0.021069176495075226)",
          "(0.0, 0.021108048036694527)",
          "(0.0, 0.02111237682402134)",
          "(0.0, 0.021167760714888573)",
          "(0.0, 0.02118958719074726)",
          "(0.0, 0.02126086875796318)",
          "(0.0, 0.021396739408373833)",
          "(0.0, 0.021546589210629463)",
          "(0.0, 0.021572459489107132)",
          "(0.0, 0.02172430418431759)",
          "(0.0, 0.021779915317893028)",
          "(0.0, 0.021877124905586243)",
          "(0.0, 0.02191530540585518)",
          "(0.0, 0.02203436754643917)",
          "(0.0, 0.022058138623833656)",
          "(0.0, 0.02209044061601162)",
          "(0.0, 0.022184213623404503)",
          "(0.0, 0.022207152098417282)",
          "(0.0, 0.022280238568782806)",
          "(0.0, 0.02238721214234829)",
          "(0.0, 0.02247859165072441)",
          "(0.0, 0.022482721135020256)",
          "(0.0, 0.023058639839291573)"
         ],
         "mode": "markers",
         "name": "H0",
         "type": "scatter",
         "x": [
          0,
          0,
          0,
          0,
          0,
          0,
          0,
          0,
          0,
          0,
          0,
          0,
          0,
          0,
          0,
          0,
          0,
          0,
          0,
          0,
          0,
          0,
          0,
          0,
          0,
          0,
          0,
          0,
          0,
          0,
          0,
          0,
          0,
          0,
          0,
          0,
          0,
          0,
          0,
          0,
          0,
          0,
          0,
          0,
          0,
          0,
          0,
          0,
          0,
          0,
          0,
          0,
          0,
          0,
          0,
          0,
          0,
          0,
          0,
          0,
          0,
          0,
          0,
          0,
          0,
          0,
          0,
          0,
          0,
          0,
          0,
          0,
          0,
          0,
          0,
          0,
          0,
          0,
          0,
          0,
          0,
          0,
          0,
          0,
          0,
          0,
          0,
          0,
          0,
          0,
          0,
          0,
          0,
          0,
          0,
          0,
          0,
          0
         ],
         "y": [
          0.0003662199014797807,
          0.000610769959166646,
          0.004030189942568541,
          0.004635830409824848,
          0.0046690888702869415,
          0.0055916993878781796,
          0.005867225583642721,
          0.007217328529804945,
          0.008174873888492584,
          0.00867246463894844,
          0.008910189382731915,
          0.008998820558190346,
          0.00922067929059267,
          0.009319628588855267,
          0.00934535264968872,
          0.00994227733463049,
          0.010095842182636261,
          0.010105199180543423,
          0.010198645293712616,
          0.010991107672452927,
          0.011024669744074345,
          0.01231313869357109,
          0.012335844337940216,
          0.012505204416811466,
          0.012699087150394917,
          0.012798630632460117,
          0.01304932776838541,
          0.013456848450005054,
          0.013461514376103878,
          0.013495376333594322,
          0.01350101176649332,
          0.013690915890038013,
          0.01403389684855938,
          0.014112060889601707,
          0.0141526497900486,
          0.014519101940095425,
          0.014658678323030472,
          0.014672745950520039,
          0.014880349859595299,
          0.014986726455390453,
          0.015060428529977798,
          0.015318145975470543,
          0.015334995463490486,
          0.015370740555226803,
          0.015577718615531921,
          0.015731530264019966,
          0.015755977481603622,
          0.015809565782546997,
          0.0159213375300169,
          0.01606358028948307,
          0.01617809385061264,
          0.016186799854040146,
          0.016214273869991302,
          0.016324898228049278,
          0.01647832803428173,
          0.016745269298553467,
          0.01678628660738468,
          0.01683664321899414,
          0.01735023222863674,
          0.017570581287145615,
          0.01766754314303398,
          0.01789575256407261,
          0.01792445406317711,
          0.0180975329130888,
          0.01830241084098816,
          0.01844734698534012,
          0.018749583512544632,
          0.01891578920185566,
          0.01916034147143364,
          0.019220001995563507,
          0.019459618255496025,
          0.019511975347995758,
          0.020305493846535683,
          0.0209943950176239,
          0.021012641489505768,
          0.021069176495075226,
          0.021108048036694527,
          0.02111237682402134,
          0.021167760714888573,
          0.02118958719074726,
          0.02126086875796318,
          0.021396739408373833,
          0.021546589210629463,
          0.021572459489107132,
          0.02172430418431759,
          0.021779915317893028,
          0.021877124905586243,
          0.02191530540585518,
          0.02203436754643917,
          0.022058138623833656,
          0.02209044061601162,
          0.022184213623404503,
          0.022207152098417282,
          0.022280238568782806,
          0.02238721214234829,
          0.02247859165072441,
          0.022482721135020256,
          0.023058639839291573
         ]
        },
        {
         "hoverinfo": "text",
         "hovertext": [
          "(0.023597726598381996, 0.02371309883892536)",
          "(0.023532481864094734, 0.02364584058523178)",
          "(0.02343330904841423, 0.023469317704439163)",
          "(0.023415125906467438, 0.023575736209750175)",
          "(0.023407937958836555, 0.023660030215978622)",
          "(0.023393891751766205, 0.023801077157258987)",
          "(0.02337081916630268, 0.02362101897597313)",
          "(0.023340675979852676, 0.02356579154729843)",
          "(0.02330292947590351, 0.02361457422375679)",
          "(0.02330089919269085, 0.023546533659100533)",
          "(0.02326258085668087, 0.023546533659100533)",
          "(0.023201264441013336, 0.023240098729729652)",
          "(0.023167714476585388, 0.023217760026454926)",
          "(0.023158397525548935, 0.023240098729729652)",
          "(0.02307247184216976, 0.02315850928425789)",
          "(0.023058148100972176, 0.02372569404542446)",
          "(0.023055000230669975, 0.023217760026454926)",
          "(0.02291269227862358, 0.023715058341622353)",
          "(0.022911066189408302, 0.023072408512234688)",
          "(0.02281443402171135, 0.022971857339143753)",
          "(0.022811437025666237, 0.023109903559088707)",
          "(0.022804848849773407, 0.023579536005854607)",
          "(0.022799430415034294, 0.02371309883892536)",
          "(0.02276681363582611, 0.02353399619460106)",
          "(0.022755684331059456, 0.0229754950851202)",
          "(0.022723594680428505, 0.022749699652194977)",
          "(0.022694535553455353, 0.022785602137446404)",
          "(0.022681647911667824, 0.02345331758260727)",
          "(0.022675998508930206, 0.022817544639110565)",
          "(0.02258332073688507, 0.023109903559088707)",
          "(0.022547628730535507, 0.023481294512748718)",
          "(0.022541804239153862, 0.02356579154729843)",
          "(0.022457418963313103, 0.0229754950851202)",
          "(0.022385722026228905, 0.0224284864962101)",
          "(0.02237803488969803, 0.022937485948204994)",
          "(0.02219988964498043, 0.023007303476333618)",
          "(0.022137871012091637, 0.02257673814892769)",
          "(0.022109266370534897, 0.022937485948204994)",
          "(0.022102689370512962, 0.022130176424980164)",
          "(0.02209370955824852, 0.02216387912631035)",
          "(0.022091399878263474, 0.02257673814892769)",
          "(0.022022219374775887, 0.02232983149588108)",
          "(0.021949680522084236, 0.022089440375566483)",
          "(0.02191649191081524, 0.02232983149588108)",
          "(0.02191162295639515, 0.022130176424980164)",
          "(0.021513234823942184, 0.02181730978190899)",
          "(0.021424127742648125, 0.02150745689868927)",
          "(0.021400127559900284, 0.021451491862535477)",
          "(0.021393626928329468, 0.02181730978190899)",
          "(0.021287981420755386, 0.02217770367860794)",
          "(0.021266084164381027, 0.021749522536993027)",
          "(0.021213676780462265, 0.02174096554517746)",
          "(0.021134095266461372, 0.021807195618748665)",
          "(0.020924502983689308, 0.021348513662815094)",
          "(0.020921818912029266, 0.02096373960375786)",
          "(0.02081933058798313, 0.02082824520766735)",
          "(0.020816680043935776, 0.020992925390601158)",
          "(0.02081090770661831, 0.02082190103828907)",
          "(0.020791446790099144, 0.021238669753074646)",
          "(0.020791202783584595, 0.02100921981036663)",
          "(0.02077355794608593, 0.02107911929488182)",
          "(0.020750226452946663, 0.021333197131752968)",
          "(0.020703207701444626, 0.02100921981036663)",
          "(0.020669911056756973, 0.02082190103828907)",
          "(0.02063606306910515, 0.021333197131752968)",
          "(0.020613573491573334, 0.020867008715867996)",
          "(0.020515713840723038, 0.02100921981036663)",
          "(0.020450448617339134, 0.020701805129647255)",
          "(0.02043154090642929, 0.021099183708429337)",
          "(0.020274415612220764, 0.02063601277768612)",
          "(0.020239992067217827, 0.020776744931936264)",
          "(0.020161863416433334, 0.02020937018096447)",
          "(0.02015538141131401, 0.02100921981036663)",
          "(0.020149650052189827, 0.020509175956249237)",
          "(0.020147675648331642, 0.020931577309966087)",
          "(0.020117515698075294, 0.020493045449256897)",
          "(0.02010507509112358, 0.0208078995347023)",
          "(0.020072221755981445, 0.020628836005926132)",
          "(0.02005215734243393, 0.020223082974553108)",
          "(0.02005152963101864, 0.020493045449256897)",
          "(0.020040856674313545, 0.020931577309966087)",
          "(0.020036816596984863, 0.020932689309120178)",
          "(0.019999800249934196, 0.020554300397634506)",
          "(0.019949300214648247, 0.020509175956249237)",
          "(0.019946377724409103, 0.02052999846637249)",
          "(0.019903061911463737, 0.020493045449256897)",
          "(0.01990274153649807, 0.020554300397634506)",
          "(0.01988294906914234, 0.020151523873209953)",
          "(0.019876666367053986, 0.02020937018096447)",
          "(0.019874081015586853, 0.02058657445013523)",
          "(0.01977004110813141, 0.019804712384939194)",
          "(0.019763154909014702, 0.020266778767108917)",
          "(0.01975979655981064, 0.019778979942202568)",
          "(0.019701369106769562, 0.02003486268222332)",
          "(0.019613394513726234, 0.020089395344257355)",
          "(0.019600199535489082, 0.020266778767108917)",
          "(0.01952439732849598, 0.020266778767108917)",
          "(0.019517194479703903, 0.019974470138549805)",
          "(0.01950693316757679, 0.020151523873209953)",
          "(0.019497929140925407, 0.019791120663285255)",
          "(0.01946892961859703, 0.019506046548485756)",
          "(0.019424116238951683, 0.02072952501475811)",
          "(0.019395483657717705, 0.019974470138549805)",
          "(0.01938902959227562, 0.01974513567984104)",
          "(0.019360866397619247, 0.020089395344257355)",
          "(0.019338490441441536, 0.019506046548485756)",
          "(0.01930837705731392, 0.020202988758683205)",
          "(0.019266940653324127, 0.020668312907218933)",
          "(0.019256874918937683, 0.019948190078139305)",
          "(0.019234413281083107, 0.020829880610108376)",
          "(0.01923150196671486, 0.020493045449256897)",
          "(0.01920754462480545, 0.020003799349069595)",
          "(0.01920689456164837, 0.019974470138549805)",
          "(0.019181903451681137, 0.020300835371017456)",
          "(0.01913375034928322, 0.0192701555788517)",
          "(0.019119400531053543, 0.01928376778960228)",
          "(0.019043415784835815, 0.02148451656103134)",
          "(0.0190357007086277, 0.020114144310355186)",
          "(0.01903204806149006, 0.02021961286664009)",
          "(0.0190176572650671, 0.01975037157535553)",
          "(0.01900426298379898, 0.01975404843688011)",
          "(0.01897142082452774, 0.019260268658399582)",
          "(0.01895831525325775, 0.020089395344257355)",
          "(0.018904682248830795, 0.019260268658399582)",
          "(0.018893923610448837, 0.01946035958826542)",
          "(0.018833421170711517, 0.01975404843688011)",
          "(0.0188138484954834, 0.019948190078139305)",
          "(0.018809525296092033, 0.019974470138549805)",
          "(0.018731849268078804, 0.019221143797039986)",
          "(0.018724119290709496, 0.01975404843688011)",
          "(0.01872316561639309, 0.01918201707303524)",
          "(0.01866951584815979, 0.01975404843688011)",
          "(0.01864742487668991, 0.01975037157535553)",
          "(0.018638871610164642, 0.019316647201776505)",
          "(0.018595362082123756, 0.018981285393238068)",
          "(0.018541788682341576, 0.01875089481472969)",
          "(0.01848631165921688, 0.019691089168190956)",
          "(0.018443364650011063, 0.018888035789132118)",
          "(0.01838022656738758, 0.019080331549048424)",
          "(0.018373526632785797, 0.020493045449256897)",
          "(0.01836983673274517, 0.019557051360607147)",
          "(0.018361611291766167, 0.01897447742521763)",
          "(0.01832931861281395, 0.01928376778960228)",
          "(0.01831437647342682, 0.01847042888402939)",
          "(0.01824735850095749, 0.01979473978281021)",
          "(0.018234174698591232, 0.02015262469649315)",
          "(0.018175678327679634, 0.018981285393238068)",
          "(0.0181571077555418, 0.019364425912499428)",
          "(0.018132662400603294, 0.01897716335952282)",
          "(0.018120449036359787, 0.01858431100845337)",
          "(0.018063461408019066, 0.019104866310954094)",
          "(0.01806032285094261, 0.01928376778960228)",
          "(0.018044166266918182, 0.019974470138549805)",
          "(0.017964623868465424, 0.019290700554847717)",
          "(0.017957504838705063, 0.020223082974553108)",
          "(0.01792716421186924, 0.017983809113502502)",
          "(0.017902210354804993, 0.019260268658399582)",
          "(0.017850438132882118, 0.01825581304728985)",
          "(0.01778613217175007, 0.01810367964208126)",
          "(0.017762916162610054, 0.01840977370738983)",
          "(0.0177251435816288, 0.018191656097769737)",
          "(0.017686452716588974, 0.021196335554122925)",
          "(0.017632251605391502, 0.020744433626532555)",
          "(0.01762991026043892, 0.019034676253795624)",
          "(0.01758604869246483, 0.020003799349069595)",
          "(0.01757444255053997, 0.01825581304728985)",
          "(0.01753346435725689, 0.019948190078139305)",
          "(0.017487525939941406, 0.01840977370738983)",
          "(0.017407257109880447, 0.01872163452208042)",
          "(0.017384657636284828, 0.019290700554847717)",
          "(0.017363769933581352, 0.019732510671019554)",
          "(0.017263950780034065, 0.018236909061670303)",
          "(0.017237067222595215, 0.017347440123558044)",
          "(0.017217392101883888, 0.01927257888019085)",
          "(0.01720430701971054, 0.01825014129281044)",
          "(0.017165781930088997, 0.020001092925667763)",
          "(0.01714695431292057, 0.018643762916326523)",
          "(0.017139285802841187, 0.01884150505065918)",
          "(0.01710912212729454, 0.01808769442141056)",
          "(0.01710757613182068, 0.017948387190699577)",
          "(0.017055364325642586, 0.017948387190699577)",
          "(0.01697184145450592, 0.018611745908856392)",
          "(0.0169578455388546, 0.018382083624601364)",
          "(0.016929225996136665, 0.019316647201776505)",
          "(0.01690383441746235, 0.01872163452208042)",
          "(0.016887446865439415, 0.01840977370738983)",
          "(0.016867777332663536, 0.017677288502454758)",
          "(0.016866015270352364, 0.017041806131601334)",
          "(0.01685149595141411, 0.01927257888019085)",
          "(0.016794858500361443, 0.01825014129281044)",
          "(0.016792740672826767, 0.017503811046481133)",
          "(0.016788925975561142, 0.018590571358799934)",
          "(0.016755377873778343, 0.019762493669986725)",
          "(0.016640055924654007, 0.016651898622512817)",
          "(0.016628149896860123, 0.018805095925927162)",
          "(0.016625922173261642, 0.01947430521249771)",
          "(0.016595754772424698, 0.01816576160490513)",
          "(0.016592420637607574, 0.019967691972851753)",
          "(0.016584696248173714, 0.01848948374390602)",
          "(0.01656939834356308, 0.018463442102074623)",
          "(0.01656290329992771, 0.01927257888019085)",
          "(0.016552498564124107, 0.016580039635300636)",
          "(0.016546636819839478, 0.016566412523388863)",
          "(0.01654173992574215, 0.02015262469649315)",
          "(0.016525985673069954, 0.018805095925927162)",
          "(0.016525330021977425, 0.018463442102074623)",
          "(0.016510779038071632, 0.018611745908856392)",
          "(0.016510125249624252, 0.017944077029824257)",
          "(0.01650695689022541, 0.019464047625660896)",
          "(0.016487883403897285, 0.016598008573055267)",
          "(0.01648334041237831, 0.016651898622512817)",
          "(0.01641044206917286, 0.01876641809940338)",
          "(0.016311245039105415, 0.01753276027739048)",
          "(0.016309086233377457, 0.01808769442141056)",
          "(0.01630360633134842, 0.018590571358799934)",
          "(0.016301296651363373, 0.020223082974553108)",
          "(0.016294844448566437, 0.01816576160490513)",
          "(0.01626175083220005, 0.017077291384339333)",
          "(0.0162525475025177, 0.019004343077540398)",
          "(0.016239948570728302, 0.01816576160490513)",
          "(0.016217825934290886, 0.018611745908856392)",
          "(0.016131501644849777, 0.01770912855863571)",
          "(0.016118548810482025, 0.017392540350556374)",
          "(0.016111569479107857, 0.01816576160490513)",
          "(0.016075266525149345, 0.016532309353351593)",
          "(0.01600814424455166, 0.01791994646191597)",
          "(0.015944581478834152, 0.01791994646191597)",
          "(0.01593819074332714, 0.016598008573055267)",
          "(0.0159379243850708, 0.017543526366353035)",
          "(0.01593528874218464, 0.018862932920455933)",
          "(0.01593259908258915, 0.020001092925667763)",
          "(0.015928585082292557, 0.018590571358799934)",
          "(0.015912458300590515, 0.01897447742521763)",
          "(0.015861181542277336, 0.020001092925667763)",
          "(0.01583733595907688, 0.02030136249959469)",
          "(0.015832938253879547, 0.016507605090737343)",
          "(0.015828251838684082, 0.02160823531448841)",
          "(0.015823224559426308, 0.01791994646191597)",
          "(0.015744458884000778, 0.018451284617185593)",
          "(0.01567230001091957, 0.020184816792607307)",
          "(0.015671586617827415, 0.016710948199033737)",
          "(0.015667172148823738, 0.018254026770591736)",
          "(0.015650669112801552, 0.01918201707303524)",
          "(0.01564093492925167, 0.016847513616085052)",
          "(0.015474815852940083, 0.020184816792607307)",
          "(0.015445439144968987, 0.016971072182059288)",
          "(0.015421636402606964, 0.015826283022761345)",
          "(0.015372639521956444, 0.019316647201776505)",
          "(0.015300034545361996, 0.017543526366353035)",
          "(0.015281169675290585, 0.017753278836607933)",
          "(0.01526517141610384, 0.015405192971229553)",
          "(0.01526216696947813, 0.018382083624601364)",
          "(0.015255812555551529, 0.019948190078139305)",
          "(0.015251317992806435, 0.015818603336811066)",
          "(0.0152289355173707, 0.020001092925667763)",
          "(0.01522293221205473, 0.016134100034832954)",
          "(0.015202944166958332, 0.020328089594841003)",
          "(0.015175857581198215, 0.018611745908856392)",
          "(0.015091100707650185, 0.015610242262482643)",
          "(0.015082737430930138, 0.016628339886665344)",
          "(0.015036603435873985, 0.018590571358799934)",
          "(0.015008333139121532, 0.019791120663285255)",
          "(0.014931202866137028, 0.018375789746642113)",
          "(0.014894685707986355, 0.017677294090390205)",
          "(0.01488075777888298, 0.01796223409473896)",
          "(0.014814628288149834, 0.01848948374390602)",
          "(0.014800564385950565, 0.015193114057183266)",
          "(0.01475425623357296, 0.015826283022761345)",
          "(0.01470708753913641, 0.017077291384339333)",
          "(0.01467166654765606, 0.018590571358799934)",
          "(0.014656205661594868, 0.017819933593273163)",
          "(0.014647342264652252, 0.01795201562345028)",
          "(0.014622875489294529, 0.016126325353980064)",
          "(0.014585682190954685, 0.018590571358799934)",
          "(0.014541851356625557, 0.017819933593273163)",
          "(0.014507237821817398, 0.016847513616085052)",
          "(0.014474732801318169, 0.018590571358799934)",
          "(0.014417553320527077, 0.01714460551738739)",
          "(0.014416049234569073, 0.019436638802289963)",
          "(0.014361582696437836, 0.016775714233517647)",
          "(0.014311947859823704, 0.015099767595529556)",
          "(0.01429908536374569, 0.014340806752443314)",
          "(0.014288651756942272, 0.017115242779254913)",
          "(0.014282304793596268, 0.015826283022761345)",
          "(0.014213488437235355, 0.018167197704315186)",
          "(0.013920002616941929, 0.015826283022761345)",
          "(0.01383364200592041, 0.015826283022761345)",
          "(0.013686031103134155, 0.015527023002505302)",
          "(0.013656637631356716, 0.01774454489350319)",
          "(0.013653990812599659, 0.015610242262482643)",
          "(0.013376732356846333, 0.01652243547141552)",
          "(0.013278180733323097, 0.015339325182139874)",
          "(0.013274269178509712, 0.015610242262482643)",
          "(0.013001389801502228, 0.015717297792434692)",
          "(0.012959476560354233, 0.01625843159854412)",
          "(0.012944131158292294, 0.013465373776853085)",
          "(0.012933940626680851, 0.014340806752443314)",
          "(0.012878341600298882, 0.013080880977213383)",
          "(0.012841345742344856, 0.018590571358799934)",
          "(0.012838571332395077, 0.013988290913403034)",
          "(0.0126874390989542, 0.014860488474369049)",
          "(0.012616202235221863, 0.013603928498923779)",
          "(0.01257068756967783, 0.015958350151777267)",
          "(0.012520632706582546, 0.012933789752423763)",
          "(0.01251104287803173, 0.013919007033109665)",
          "(0.01242730114609003, 0.013988290913403034)",
          "(0.012148290872573853, 0.014628606848418713)",
          "(0.011294232681393623, 0.019594037905335426)",
          "(0.011288352310657501, 0.014628606848418713)",
          "(0.011106439866125584, 0.015193114057183266)",
          "(0.011068759486079216, 0.013081934303045273)",
          "(0.0110569316893816, 0.015193114057183266)",
          "(0.010995970107614994, 0.014628606848418713)",
          "(0.010981273837387562, 0.0113271065056324)",
          "(0.01086671557277441, 0.014969599433243275)",
          "(0.010720598511397839, 0.014969599433243275)",
          "(0.010397457517683506, 0.013465373776853085)",
          "(0.010374742560088634, 0.015610242262482643)",
          "(0.010277303867042065, 0.015826283022761345)",
          "(0.009947136044502258, 0.0113271065056324)",
          "(0.00943773053586483, 0.012933789752423763)",
          "(0.008518191985785961, 0.01774454489350319)",
          "(0.008188229985535145, 0.008351429365575314)",
          "(0.00743876351043582, 0.007646175101399422)",
          "(0.006502584554255009, 0.019939782097935677)"
         ],
         "mode": "markers",
         "name": "H1",
         "type": "scatter",
         "x": [
          0.023597726598381996,
          0.023532481864094734,
          0.02343330904841423,
          0.023415125906467438,
          0.023407937958836555,
          0.023393891751766205,
          0.02337081916630268,
          0.023340675979852676,
          0.02330292947590351,
          0.02330089919269085,
          0.02326258085668087,
          0.023201264441013336,
          0.023167714476585388,
          0.023158397525548935,
          0.02307247184216976,
          0.023058148100972176,
          0.023055000230669975,
          0.02291269227862358,
          0.022911066189408302,
          0.02281443402171135,
          0.022811437025666237,
          0.022804848849773407,
          0.022799430415034294,
          0.02276681363582611,
          0.022755684331059456,
          0.022723594680428505,
          0.022694535553455353,
          0.022681647911667824,
          0.022675998508930206,
          0.02258332073688507,
          0.022547628730535507,
          0.022541804239153862,
          0.022457418963313103,
          0.022385722026228905,
          0.02237803488969803,
          0.02219988964498043,
          0.022137871012091637,
          0.022109266370534897,
          0.022102689370512962,
          0.02209370955824852,
          0.022091399878263474,
          0.022022219374775887,
          0.021949680522084236,
          0.02191649191081524,
          0.02191162295639515,
          0.021513234823942184,
          0.021424127742648125,
          0.021400127559900284,
          0.021393626928329468,
          0.021287981420755386,
          0.021266084164381027,
          0.021213676780462265,
          0.021134095266461372,
          0.020924502983689308,
          0.020921818912029266,
          0.02081933058798313,
          0.020816680043935776,
          0.02081090770661831,
          0.020791446790099144,
          0.020791202783584595,
          0.02077355794608593,
          0.020750226452946663,
          0.020703207701444626,
          0.020669911056756973,
          0.02063606306910515,
          0.020613573491573334,
          0.020515713840723038,
          0.020450448617339134,
          0.02043154090642929,
          0.020274415612220764,
          0.020239992067217827,
          0.020161863416433334,
          0.02015538141131401,
          0.020149650052189827,
          0.020147675648331642,
          0.020117515698075294,
          0.02010507509112358,
          0.020072221755981445,
          0.02005215734243393,
          0.02005152963101864,
          0.020040856674313545,
          0.020036816596984863,
          0.019999800249934196,
          0.019949300214648247,
          0.019946377724409103,
          0.019903061911463737,
          0.01990274153649807,
          0.01988294906914234,
          0.019876666367053986,
          0.019874081015586853,
          0.01977004110813141,
          0.019763154909014702,
          0.01975979655981064,
          0.019701369106769562,
          0.019613394513726234,
          0.019600199535489082,
          0.01952439732849598,
          0.019517194479703903,
          0.01950693316757679,
          0.019497929140925407,
          0.01946892961859703,
          0.019424116238951683,
          0.019395483657717705,
          0.01938902959227562,
          0.019360866397619247,
          0.019338490441441536,
          0.01930837705731392,
          0.019266940653324127,
          0.019256874918937683,
          0.019234413281083107,
          0.01923150196671486,
          0.01920754462480545,
          0.01920689456164837,
          0.019181903451681137,
          0.01913375034928322,
          0.019119400531053543,
          0.019043415784835815,
          0.0190357007086277,
          0.01903204806149006,
          0.0190176572650671,
          0.01900426298379898,
          0.01897142082452774,
          0.01895831525325775,
          0.018904682248830795,
          0.018893923610448837,
          0.018833421170711517,
          0.0188138484954834,
          0.018809525296092033,
          0.018731849268078804,
          0.018724119290709496,
          0.01872316561639309,
          0.01866951584815979,
          0.01864742487668991,
          0.018638871610164642,
          0.018595362082123756,
          0.018541788682341576,
          0.01848631165921688,
          0.018443364650011063,
          0.01838022656738758,
          0.018373526632785797,
          0.01836983673274517,
          0.018361611291766167,
          0.01832931861281395,
          0.01831437647342682,
          0.01824735850095749,
          0.018234174698591232,
          0.018175678327679634,
          0.0181571077555418,
          0.018132662400603294,
          0.018120449036359787,
          0.018063461408019066,
          0.01806032285094261,
          0.018044166266918182,
          0.017964623868465424,
          0.017957504838705063,
          0.01792716421186924,
          0.017902210354804993,
          0.017850438132882118,
          0.01778613217175007,
          0.017762916162610054,
          0.0177251435816288,
          0.017686452716588974,
          0.017632251605391502,
          0.01762991026043892,
          0.01758604869246483,
          0.01757444255053997,
          0.01753346435725689,
          0.017487525939941406,
          0.017407257109880447,
          0.017384657636284828,
          0.017363769933581352,
          0.017263950780034065,
          0.017237067222595215,
          0.017217392101883888,
          0.01720430701971054,
          0.017165781930088997,
          0.01714695431292057,
          0.017139285802841187,
          0.01710912212729454,
          0.01710757613182068,
          0.017055364325642586,
          0.01697184145450592,
          0.0169578455388546,
          0.016929225996136665,
          0.01690383441746235,
          0.016887446865439415,
          0.016867777332663536,
          0.016866015270352364,
          0.01685149595141411,
          0.016794858500361443,
          0.016792740672826767,
          0.016788925975561142,
          0.016755377873778343,
          0.016640055924654007,
          0.016628149896860123,
          0.016625922173261642,
          0.016595754772424698,
          0.016592420637607574,
          0.016584696248173714,
          0.01656939834356308,
          0.01656290329992771,
          0.016552498564124107,
          0.016546636819839478,
          0.01654173992574215,
          0.016525985673069954,
          0.016525330021977425,
          0.016510779038071632,
          0.016510125249624252,
          0.01650695689022541,
          0.016487883403897285,
          0.01648334041237831,
          0.01641044206917286,
          0.016311245039105415,
          0.016309086233377457,
          0.01630360633134842,
          0.016301296651363373,
          0.016294844448566437,
          0.01626175083220005,
          0.0162525475025177,
          0.016239948570728302,
          0.016217825934290886,
          0.016131501644849777,
          0.016118548810482025,
          0.016111569479107857,
          0.016075266525149345,
          0.01600814424455166,
          0.015944581478834152,
          0.01593819074332714,
          0.0159379243850708,
          0.01593528874218464,
          0.01593259908258915,
          0.015928585082292557,
          0.015912458300590515,
          0.015861181542277336,
          0.01583733595907688,
          0.015832938253879547,
          0.015828251838684082,
          0.015823224559426308,
          0.015744458884000778,
          0.01567230001091957,
          0.015671586617827415,
          0.015667172148823738,
          0.015650669112801552,
          0.01564093492925167,
          0.015474815852940083,
          0.015445439144968987,
          0.015421636402606964,
          0.015372639521956444,
          0.015300034545361996,
          0.015281169675290585,
          0.01526517141610384,
          0.01526216696947813,
          0.015255812555551529,
          0.015251317992806435,
          0.0152289355173707,
          0.01522293221205473,
          0.015202944166958332,
          0.015175857581198215,
          0.015091100707650185,
          0.015082737430930138,
          0.015036603435873985,
          0.015008333139121532,
          0.014931202866137028,
          0.014894685707986355,
          0.01488075777888298,
          0.014814628288149834,
          0.014800564385950565,
          0.01475425623357296,
          0.01470708753913641,
          0.01467166654765606,
          0.014656205661594868,
          0.014647342264652252,
          0.014622875489294529,
          0.014585682190954685,
          0.014541851356625557,
          0.014507237821817398,
          0.014474732801318169,
          0.014417553320527077,
          0.014416049234569073,
          0.014361582696437836,
          0.014311947859823704,
          0.01429908536374569,
          0.014288651756942272,
          0.014282304793596268,
          0.014213488437235355,
          0.013920002616941929,
          0.01383364200592041,
          0.013686031103134155,
          0.013656637631356716,
          0.013653990812599659,
          0.013376732356846333,
          0.013278180733323097,
          0.013274269178509712,
          0.013001389801502228,
          0.012959476560354233,
          0.012944131158292294,
          0.012933940626680851,
          0.012878341600298882,
          0.012841345742344856,
          0.012838571332395077,
          0.0126874390989542,
          0.012616202235221863,
          0.01257068756967783,
          0.012520632706582546,
          0.01251104287803173,
          0.01242730114609003,
          0.012148290872573853,
          0.011294232681393623,
          0.011288352310657501,
          0.011106439866125584,
          0.011068759486079216,
          0.0110569316893816,
          0.010995970107614994,
          0.010981273837387562,
          0.01086671557277441,
          0.010720598511397839,
          0.010397457517683506,
          0.010374742560088634,
          0.010277303867042065,
          0.009947136044502258,
          0.00943773053586483,
          0.008518191985785961,
          0.008188229985535145,
          0.00743876351043582,
          0.006502584554255009
         ],
         "y": [
          0.02371309883892536,
          0.02364584058523178,
          0.023469317704439163,
          0.023575736209750175,
          0.023660030215978622,
          0.023801077157258987,
          0.02362101897597313,
          0.02356579154729843,
          0.02361457422375679,
          0.023546533659100533,
          0.023546533659100533,
          0.023240098729729652,
          0.023217760026454926,
          0.023240098729729652,
          0.02315850928425789,
          0.02372569404542446,
          0.023217760026454926,
          0.023715058341622353,
          0.023072408512234688,
          0.022971857339143753,
          0.023109903559088707,
          0.023579536005854607,
          0.02371309883892536,
          0.02353399619460106,
          0.0229754950851202,
          0.022749699652194977,
          0.022785602137446404,
          0.02345331758260727,
          0.022817544639110565,
          0.023109903559088707,
          0.023481294512748718,
          0.02356579154729843,
          0.0229754950851202,
          0.0224284864962101,
          0.022937485948204994,
          0.023007303476333618,
          0.02257673814892769,
          0.022937485948204994,
          0.022130176424980164,
          0.02216387912631035,
          0.02257673814892769,
          0.02232983149588108,
          0.022089440375566483,
          0.02232983149588108,
          0.022130176424980164,
          0.02181730978190899,
          0.02150745689868927,
          0.021451491862535477,
          0.02181730978190899,
          0.02217770367860794,
          0.021749522536993027,
          0.02174096554517746,
          0.021807195618748665,
          0.021348513662815094,
          0.02096373960375786,
          0.02082824520766735,
          0.020992925390601158,
          0.02082190103828907,
          0.021238669753074646,
          0.02100921981036663,
          0.02107911929488182,
          0.021333197131752968,
          0.02100921981036663,
          0.02082190103828907,
          0.021333197131752968,
          0.020867008715867996,
          0.02100921981036663,
          0.020701805129647255,
          0.021099183708429337,
          0.02063601277768612,
          0.020776744931936264,
          0.02020937018096447,
          0.02100921981036663,
          0.020509175956249237,
          0.020931577309966087,
          0.020493045449256897,
          0.0208078995347023,
          0.020628836005926132,
          0.020223082974553108,
          0.020493045449256897,
          0.020931577309966087,
          0.020932689309120178,
          0.020554300397634506,
          0.020509175956249237,
          0.02052999846637249,
          0.020493045449256897,
          0.020554300397634506,
          0.020151523873209953,
          0.02020937018096447,
          0.02058657445013523,
          0.019804712384939194,
          0.020266778767108917,
          0.019778979942202568,
          0.02003486268222332,
          0.020089395344257355,
          0.020266778767108917,
          0.020266778767108917,
          0.019974470138549805,
          0.020151523873209953,
          0.019791120663285255,
          0.019506046548485756,
          0.02072952501475811,
          0.019974470138549805,
          0.01974513567984104,
          0.020089395344257355,
          0.019506046548485756,
          0.020202988758683205,
          0.020668312907218933,
          0.019948190078139305,
          0.020829880610108376,
          0.020493045449256897,
          0.020003799349069595,
          0.019974470138549805,
          0.020300835371017456,
          0.0192701555788517,
          0.01928376778960228,
          0.02148451656103134,
          0.020114144310355186,
          0.02021961286664009,
          0.01975037157535553,
          0.01975404843688011,
          0.019260268658399582,
          0.020089395344257355,
          0.019260268658399582,
          0.01946035958826542,
          0.01975404843688011,
          0.019948190078139305,
          0.019974470138549805,
          0.019221143797039986,
          0.01975404843688011,
          0.01918201707303524,
          0.01975404843688011,
          0.01975037157535553,
          0.019316647201776505,
          0.018981285393238068,
          0.01875089481472969,
          0.019691089168190956,
          0.018888035789132118,
          0.019080331549048424,
          0.020493045449256897,
          0.019557051360607147,
          0.01897447742521763,
          0.01928376778960228,
          0.01847042888402939,
          0.01979473978281021,
          0.02015262469649315,
          0.018981285393238068,
          0.019364425912499428,
          0.01897716335952282,
          0.01858431100845337,
          0.019104866310954094,
          0.01928376778960228,
          0.019974470138549805,
          0.019290700554847717,
          0.020223082974553108,
          0.017983809113502502,
          0.019260268658399582,
          0.01825581304728985,
          0.01810367964208126,
          0.01840977370738983,
          0.018191656097769737,
          0.021196335554122925,
          0.020744433626532555,
          0.019034676253795624,
          0.020003799349069595,
          0.01825581304728985,
          0.019948190078139305,
          0.01840977370738983,
          0.01872163452208042,
          0.019290700554847717,
          0.019732510671019554,
          0.018236909061670303,
          0.017347440123558044,
          0.01927257888019085,
          0.01825014129281044,
          0.020001092925667763,
          0.018643762916326523,
          0.01884150505065918,
          0.01808769442141056,
          0.017948387190699577,
          0.017948387190699577,
          0.018611745908856392,
          0.018382083624601364,
          0.019316647201776505,
          0.01872163452208042,
          0.01840977370738983,
          0.017677288502454758,
          0.017041806131601334,
          0.01927257888019085,
          0.01825014129281044,
          0.017503811046481133,
          0.018590571358799934,
          0.019762493669986725,
          0.016651898622512817,
          0.018805095925927162,
          0.01947430521249771,
          0.01816576160490513,
          0.019967691972851753,
          0.01848948374390602,
          0.018463442102074623,
          0.01927257888019085,
          0.016580039635300636,
          0.016566412523388863,
          0.02015262469649315,
          0.018805095925927162,
          0.018463442102074623,
          0.018611745908856392,
          0.017944077029824257,
          0.019464047625660896,
          0.016598008573055267,
          0.016651898622512817,
          0.01876641809940338,
          0.01753276027739048,
          0.01808769442141056,
          0.018590571358799934,
          0.020223082974553108,
          0.01816576160490513,
          0.017077291384339333,
          0.019004343077540398,
          0.01816576160490513,
          0.018611745908856392,
          0.01770912855863571,
          0.017392540350556374,
          0.01816576160490513,
          0.016532309353351593,
          0.01791994646191597,
          0.01791994646191597,
          0.016598008573055267,
          0.017543526366353035,
          0.018862932920455933,
          0.020001092925667763,
          0.018590571358799934,
          0.01897447742521763,
          0.020001092925667763,
          0.02030136249959469,
          0.016507605090737343,
          0.02160823531448841,
          0.01791994646191597,
          0.018451284617185593,
          0.020184816792607307,
          0.016710948199033737,
          0.018254026770591736,
          0.01918201707303524,
          0.016847513616085052,
          0.020184816792607307,
          0.016971072182059288,
          0.015826283022761345,
          0.019316647201776505,
          0.017543526366353035,
          0.017753278836607933,
          0.015405192971229553,
          0.018382083624601364,
          0.019948190078139305,
          0.015818603336811066,
          0.020001092925667763,
          0.016134100034832954,
          0.020328089594841003,
          0.018611745908856392,
          0.015610242262482643,
          0.016628339886665344,
          0.018590571358799934,
          0.019791120663285255,
          0.018375789746642113,
          0.017677294090390205,
          0.01796223409473896,
          0.01848948374390602,
          0.015193114057183266,
          0.015826283022761345,
          0.017077291384339333,
          0.018590571358799934,
          0.017819933593273163,
          0.01795201562345028,
          0.016126325353980064,
          0.018590571358799934,
          0.017819933593273163,
          0.016847513616085052,
          0.018590571358799934,
          0.01714460551738739,
          0.019436638802289963,
          0.016775714233517647,
          0.015099767595529556,
          0.014340806752443314,
          0.017115242779254913,
          0.015826283022761345,
          0.018167197704315186,
          0.015826283022761345,
          0.015826283022761345,
          0.015527023002505302,
          0.01774454489350319,
          0.015610242262482643,
          0.01652243547141552,
          0.015339325182139874,
          0.015610242262482643,
          0.015717297792434692,
          0.01625843159854412,
          0.013465373776853085,
          0.014340806752443314,
          0.013080880977213383,
          0.018590571358799934,
          0.013988290913403034,
          0.014860488474369049,
          0.013603928498923779,
          0.015958350151777267,
          0.012933789752423763,
          0.013919007033109665,
          0.013988290913403034,
          0.014628606848418713,
          0.019594037905335426,
          0.014628606848418713,
          0.015193114057183266,
          0.013081934303045273,
          0.015193114057183266,
          0.014628606848418713,
          0.0113271065056324,
          0.014969599433243275,
          0.014969599433243275,
          0.013465373776853085,
          0.015610242262482643,
          0.015826283022761345,
          0.0113271065056324,
          0.012933789752423763,
          0.01774454489350319,
          0.008351429365575314,
          0.007646175101399422,
          0.019939782097935677
         ]
        }
       ],
       "layout": {
        "height": 500,
        "plot_bgcolor": "white",
        "template": {
         "data": {
          "bar": [
           {
            "error_x": {
             "color": "#2a3f5f"
            },
            "error_y": {
             "color": "#2a3f5f"
            },
            "marker": {
             "line": {
              "color": "#E5ECF6",
              "width": 0.5
             },
             "pattern": {
              "fillmode": "overlay",
              "size": 10,
              "solidity": 0.2
             }
            },
            "type": "bar"
           }
          ],
          "barpolar": [
           {
            "marker": {
             "line": {
              "color": "#E5ECF6",
              "width": 0.5
             },
             "pattern": {
              "fillmode": "overlay",
              "size": 10,
              "solidity": 0.2
             }
            },
            "type": "barpolar"
           }
          ],
          "carpet": [
           {
            "aaxis": {
             "endlinecolor": "#2a3f5f",
             "gridcolor": "white",
             "linecolor": "white",
             "minorgridcolor": "white",
             "startlinecolor": "#2a3f5f"
            },
            "baxis": {
             "endlinecolor": "#2a3f5f",
             "gridcolor": "white",
             "linecolor": "white",
             "minorgridcolor": "white",
             "startlinecolor": "#2a3f5f"
            },
            "type": "carpet"
           }
          ],
          "choropleth": [
           {
            "colorbar": {
             "outlinewidth": 0,
             "ticks": ""
            },
            "type": "choropleth"
           }
          ],
          "contour": [
           {
            "colorbar": {
             "outlinewidth": 0,
             "ticks": ""
            },
            "colorscale": [
             [
              0,
              "#0d0887"
             ],
             [
              0.1111111111111111,
              "#46039f"
             ],
             [
              0.2222222222222222,
              "#7201a8"
             ],
             [
              0.3333333333333333,
              "#9c179e"
             ],
             [
              0.4444444444444444,
              "#bd3786"
             ],
             [
              0.5555555555555556,
              "#d8576b"
             ],
             [
              0.6666666666666666,
              "#ed7953"
             ],
             [
              0.7777777777777778,
              "#fb9f3a"
             ],
             [
              0.8888888888888888,
              "#fdca26"
             ],
             [
              1,
              "#f0f921"
             ]
            ],
            "type": "contour"
           }
          ],
          "contourcarpet": [
           {
            "colorbar": {
             "outlinewidth": 0,
             "ticks": ""
            },
            "type": "contourcarpet"
           }
          ],
          "heatmap": [
           {
            "colorbar": {
             "outlinewidth": 0,
             "ticks": ""
            },
            "colorscale": [
             [
              0,
              "#0d0887"
             ],
             [
              0.1111111111111111,
              "#46039f"
             ],
             [
              0.2222222222222222,
              "#7201a8"
             ],
             [
              0.3333333333333333,
              "#9c179e"
             ],
             [
              0.4444444444444444,
              "#bd3786"
             ],
             [
              0.5555555555555556,
              "#d8576b"
             ],
             [
              0.6666666666666666,
              "#ed7953"
             ],
             [
              0.7777777777777778,
              "#fb9f3a"
             ],
             [
              0.8888888888888888,
              "#fdca26"
             ],
             [
              1,
              "#f0f921"
             ]
            ],
            "type": "heatmap"
           }
          ],
          "heatmapgl": [
           {
            "colorbar": {
             "outlinewidth": 0,
             "ticks": ""
            },
            "colorscale": [
             [
              0,
              "#0d0887"
             ],
             [
              0.1111111111111111,
              "#46039f"
             ],
             [
              0.2222222222222222,
              "#7201a8"
             ],
             [
              0.3333333333333333,
              "#9c179e"
             ],
             [
              0.4444444444444444,
              "#bd3786"
             ],
             [
              0.5555555555555556,
              "#d8576b"
             ],
             [
              0.6666666666666666,
              "#ed7953"
             ],
             [
              0.7777777777777778,
              "#fb9f3a"
             ],
             [
              0.8888888888888888,
              "#fdca26"
             ],
             [
              1,
              "#f0f921"
             ]
            ],
            "type": "heatmapgl"
           }
          ],
          "histogram": [
           {
            "marker": {
             "pattern": {
              "fillmode": "overlay",
              "size": 10,
              "solidity": 0.2
             }
            },
            "type": "histogram"
           }
          ],
          "histogram2d": [
           {
            "colorbar": {
             "outlinewidth": 0,
             "ticks": ""
            },
            "colorscale": [
             [
              0,
              "#0d0887"
             ],
             [
              0.1111111111111111,
              "#46039f"
             ],
             [
              0.2222222222222222,
              "#7201a8"
             ],
             [
              0.3333333333333333,
              "#9c179e"
             ],
             [
              0.4444444444444444,
              "#bd3786"
             ],
             [
              0.5555555555555556,
              "#d8576b"
             ],
             [
              0.6666666666666666,
              "#ed7953"
             ],
             [
              0.7777777777777778,
              "#fb9f3a"
             ],
             [
              0.8888888888888888,
              "#fdca26"
             ],
             [
              1,
              "#f0f921"
             ]
            ],
            "type": "histogram2d"
           }
          ],
          "histogram2dcontour": [
           {
            "colorbar": {
             "outlinewidth": 0,
             "ticks": ""
            },
            "colorscale": [
             [
              0,
              "#0d0887"
             ],
             [
              0.1111111111111111,
              "#46039f"
             ],
             [
              0.2222222222222222,
              "#7201a8"
             ],
             [
              0.3333333333333333,
              "#9c179e"
             ],
             [
              0.4444444444444444,
              "#bd3786"
             ],
             [
              0.5555555555555556,
              "#d8576b"
             ],
             [
              0.6666666666666666,
              "#ed7953"
             ],
             [
              0.7777777777777778,
              "#fb9f3a"
             ],
             [
              0.8888888888888888,
              "#fdca26"
             ],
             [
              1,
              "#f0f921"
             ]
            ],
            "type": "histogram2dcontour"
           }
          ],
          "mesh3d": [
           {
            "colorbar": {
             "outlinewidth": 0,
             "ticks": ""
            },
            "type": "mesh3d"
           }
          ],
          "parcoords": [
           {
            "line": {
             "colorbar": {
              "outlinewidth": 0,
              "ticks": ""
             }
            },
            "type": "parcoords"
           }
          ],
          "pie": [
           {
            "automargin": true,
            "type": "pie"
           }
          ],
          "scatter": [
           {
            "fillpattern": {
             "fillmode": "overlay",
             "size": 10,
             "solidity": 0.2
            },
            "type": "scatter"
           }
          ],
          "scatter3d": [
           {
            "line": {
             "colorbar": {
              "outlinewidth": 0,
              "ticks": ""
             }
            },
            "marker": {
             "colorbar": {
              "outlinewidth": 0,
              "ticks": ""
             }
            },
            "type": "scatter3d"
           }
          ],
          "scattercarpet": [
           {
            "marker": {
             "colorbar": {
              "outlinewidth": 0,
              "ticks": ""
             }
            },
            "type": "scattercarpet"
           }
          ],
          "scattergeo": [
           {
            "marker": {
             "colorbar": {
              "outlinewidth": 0,
              "ticks": ""
             }
            },
            "type": "scattergeo"
           }
          ],
          "scattergl": [
           {
            "marker": {
             "colorbar": {
              "outlinewidth": 0,
              "ticks": ""
             }
            },
            "type": "scattergl"
           }
          ],
          "scattermapbox": [
           {
            "marker": {
             "colorbar": {
              "outlinewidth": 0,
              "ticks": ""
             }
            },
            "type": "scattermapbox"
           }
          ],
          "scatterpolar": [
           {
            "marker": {
             "colorbar": {
              "outlinewidth": 0,
              "ticks": ""
             }
            },
            "type": "scatterpolar"
           }
          ],
          "scatterpolargl": [
           {
            "marker": {
             "colorbar": {
              "outlinewidth": 0,
              "ticks": ""
             }
            },
            "type": "scatterpolargl"
           }
          ],
          "scatterternary": [
           {
            "marker": {
             "colorbar": {
              "outlinewidth": 0,
              "ticks": ""
             }
            },
            "type": "scatterternary"
           }
          ],
          "surface": [
           {
            "colorbar": {
             "outlinewidth": 0,
             "ticks": ""
            },
            "colorscale": [
             [
              0,
              "#0d0887"
             ],
             [
              0.1111111111111111,
              "#46039f"
             ],
             [
              0.2222222222222222,
              "#7201a8"
             ],
             [
              0.3333333333333333,
              "#9c179e"
             ],
             [
              0.4444444444444444,
              "#bd3786"
             ],
             [
              0.5555555555555556,
              "#d8576b"
             ],
             [
              0.6666666666666666,
              "#ed7953"
             ],
             [
              0.7777777777777778,
              "#fb9f3a"
             ],
             [
              0.8888888888888888,
              "#fdca26"
             ],
             [
              1,
              "#f0f921"
             ]
            ],
            "type": "surface"
           }
          ],
          "table": [
           {
            "cells": {
             "fill": {
              "color": "#EBF0F8"
             },
             "line": {
              "color": "white"
             }
            },
            "header": {
             "fill": {
              "color": "#C8D4E3"
             },
             "line": {
              "color": "white"
             }
            },
            "type": "table"
           }
          ]
         },
         "layout": {
          "annotationdefaults": {
           "arrowcolor": "#2a3f5f",
           "arrowhead": 0,
           "arrowwidth": 1
          },
          "autotypenumbers": "strict",
          "coloraxis": {
           "colorbar": {
            "outlinewidth": 0,
            "ticks": ""
           }
          },
          "colorscale": {
           "diverging": [
            [
             0,
             "#8e0152"
            ],
            [
             0.1,
             "#c51b7d"
            ],
            [
             0.2,
             "#de77ae"
            ],
            [
             0.3,
             "#f1b6da"
            ],
            [
             0.4,
             "#fde0ef"
            ],
            [
             0.5,
             "#f7f7f7"
            ],
            [
             0.6,
             "#e6f5d0"
            ],
            [
             0.7,
             "#b8e186"
            ],
            [
             0.8,
             "#7fbc41"
            ],
            [
             0.9,
             "#4d9221"
            ],
            [
             1,
             "#276419"
            ]
           ],
           "sequential": [
            [
             0,
             "#0d0887"
            ],
            [
             0.1111111111111111,
             "#46039f"
            ],
            [
             0.2222222222222222,
             "#7201a8"
            ],
            [
             0.3333333333333333,
             "#9c179e"
            ],
            [
             0.4444444444444444,
             "#bd3786"
            ],
            [
             0.5555555555555556,
             "#d8576b"
            ],
            [
             0.6666666666666666,
             "#ed7953"
            ],
            [
             0.7777777777777778,
             "#fb9f3a"
            ],
            [
             0.8888888888888888,
             "#fdca26"
            ],
            [
             1,
             "#f0f921"
            ]
           ],
           "sequentialminus": [
            [
             0,
             "#0d0887"
            ],
            [
             0.1111111111111111,
             "#46039f"
            ],
            [
             0.2222222222222222,
             "#7201a8"
            ],
            [
             0.3333333333333333,
             "#9c179e"
            ],
            [
             0.4444444444444444,
             "#bd3786"
            ],
            [
             0.5555555555555556,
             "#d8576b"
            ],
            [
             0.6666666666666666,
             "#ed7953"
            ],
            [
             0.7777777777777778,
             "#fb9f3a"
            ],
            [
             0.8888888888888888,
             "#fdca26"
            ],
            [
             1,
             "#f0f921"
            ]
           ]
          },
          "colorway": [
           "#636efa",
           "#EF553B",
           "#00cc96",
           "#ab63fa",
           "#FFA15A",
           "#19d3f3",
           "#FF6692",
           "#B6E880",
           "#FF97FF",
           "#FECB52"
          ],
          "font": {
           "color": "#2a3f5f"
          },
          "geo": {
           "bgcolor": "white",
           "lakecolor": "white",
           "landcolor": "#E5ECF6",
           "showlakes": true,
           "showland": true,
           "subunitcolor": "white"
          },
          "hoverlabel": {
           "align": "left"
          },
          "hovermode": "closest",
          "mapbox": {
           "style": "light"
          },
          "paper_bgcolor": "white",
          "plot_bgcolor": "#E5ECF6",
          "polar": {
           "angularaxis": {
            "gridcolor": "white",
            "linecolor": "white",
            "ticks": ""
           },
           "bgcolor": "#E5ECF6",
           "radialaxis": {
            "gridcolor": "white",
            "linecolor": "white",
            "ticks": ""
           }
          },
          "scene": {
           "xaxis": {
            "backgroundcolor": "#E5ECF6",
            "gridcolor": "white",
            "gridwidth": 2,
            "linecolor": "white",
            "showbackground": true,
            "ticks": "",
            "zerolinecolor": "white"
           },
           "yaxis": {
            "backgroundcolor": "#E5ECF6",
            "gridcolor": "white",
            "gridwidth": 2,
            "linecolor": "white",
            "showbackground": true,
            "ticks": "",
            "zerolinecolor": "white"
           },
           "zaxis": {
            "backgroundcolor": "#E5ECF6",
            "gridcolor": "white",
            "gridwidth": 2,
            "linecolor": "white",
            "showbackground": true,
            "ticks": "",
            "zerolinecolor": "white"
           }
          },
          "shapedefaults": {
           "line": {
            "color": "#2a3f5f"
           }
          },
          "ternary": {
           "aaxis": {
            "gridcolor": "white",
            "linecolor": "white",
            "ticks": ""
           },
           "baxis": {
            "gridcolor": "white",
            "linecolor": "white",
            "ticks": ""
           },
           "bgcolor": "#E5ECF6",
           "caxis": {
            "gridcolor": "white",
            "linecolor": "white",
            "ticks": ""
           }
          },
          "title": {
           "x": 0.05
          },
          "xaxis": {
           "automargin": true,
           "gridcolor": "white",
           "linecolor": "white",
           "ticks": "",
           "title": {
            "standoff": 15
           },
           "zerolinecolor": "white",
           "zerolinewidth": 2
          },
          "yaxis": {
           "automargin": true,
           "gridcolor": "white",
           "linecolor": "white",
           "ticks": "",
           "title": {
            "standoff": 15
           },
           "zerolinecolor": "white",
           "zerolinewidth": 2
          }
         }
        },
        "width": 500,
        "xaxis": {
         "autorange": false,
         "exponentformat": "e",
         "linecolor": "black",
         "linewidth": 1,
         "mirror": false,
         "range": [
          -0.00047602154314517974,
          0.024277098700404166
         ],
         "showexponent": "all",
         "showline": true,
         "side": "bottom",
         "ticks": "outside",
         "title": {
          "text": "Birth"
         },
         "type": "linear",
         "zeroline": true
        },
        "yaxis": {
         "autorange": false,
         "exponentformat": "e",
         "linecolor": "black",
         "linewidth": 1,
         "mirror": false,
         "range": [
          -0.00047602154314517974,
          0.024277098700404166
         ],
         "scaleanchor": "x",
         "scaleratio": 1,
         "showexponent": "all",
         "showline": true,
         "side": "left",
         "ticks": "outside",
         "title": {
          "text": "Death"
         },
         "type": "linear",
         "zeroline": true
        }
       }
      },
      "text/html": [
       "<div>                            <div id=\"0a2f1c30-8753-4253-afe3-053629314ad0\" class=\"plotly-graph-div\" style=\"height:500px; width:500px;\"></div>            <script type=\"text/javascript\">                require([\"plotly\"], function(Plotly) {                    window.PLOTLYENV=window.PLOTLYENV || {};                                    if (document.getElementById(\"0a2f1c30-8753-4253-afe3-053629314ad0\")) {                    Plotly.newPlot(                        \"0a2f1c30-8753-4253-afe3-053629314ad0\",                        [{\"hoverinfo\":\"none\",\"line\":{\"color\":\"black\",\"dash\":\"dash\",\"width\":1},\"mode\":\"lines\",\"showlegend\":false,\"x\":[-0.00047602154314517974,0.024277098700404166],\"y\":[-0.00047602154314517974,0.024277098700404166],\"type\":\"scatter\"},{\"hoverinfo\":\"text\",\"hovertext\":[\"(0.0, 0.0003662199014797807)\",\"(0.0, 0.000610769959166646)\",\"(0.0, 0.004030189942568541)\",\"(0.0, 0.004635830409824848)\",\"(0.0, 0.0046690888702869415)\",\"(0.0, 0.0055916993878781796)\",\"(0.0, 0.005867225583642721)\",\"(0.0, 0.007217328529804945)\",\"(0.0, 0.008174873888492584)\",\"(0.0, 0.00867246463894844)\",\"(0.0, 0.008910189382731915)\",\"(0.0, 0.008998820558190346)\",\"(0.0, 0.00922067929059267)\",\"(0.0, 0.009319628588855267)\",\"(0.0, 0.00934535264968872)\",\"(0.0, 0.00994227733463049)\",\"(0.0, 0.010095842182636261)\",\"(0.0, 0.010105199180543423)\",\"(0.0, 0.010198645293712616)\",\"(0.0, 0.010991107672452927)\",\"(0.0, 0.011024669744074345)\",\"(0.0, 0.01231313869357109)\",\"(0.0, 0.012335844337940216)\",\"(0.0, 0.012505204416811466)\",\"(0.0, 0.012699087150394917)\",\"(0.0, 0.012798630632460117)\",\"(0.0, 0.01304932776838541)\",\"(0.0, 0.013456848450005054)\",\"(0.0, 0.013461514376103878)\",\"(0.0, 0.013495376333594322)\",\"(0.0, 0.01350101176649332)\",\"(0.0, 0.013690915890038013)\",\"(0.0, 0.01403389684855938)\",\"(0.0, 0.014112060889601707)\",\"(0.0, 0.0141526497900486)\",\"(0.0, 0.014519101940095425)\",\"(0.0, 0.014658678323030472)\",\"(0.0, 0.014672745950520039)\",\"(0.0, 0.014880349859595299)\",\"(0.0, 0.014986726455390453)\",\"(0.0, 0.015060428529977798)\",\"(0.0, 0.015318145975470543)\",\"(0.0, 0.015334995463490486)\",\"(0.0, 0.015370740555226803)\",\"(0.0, 0.015577718615531921)\",\"(0.0, 0.015731530264019966)\",\"(0.0, 0.015755977481603622)\",\"(0.0, 0.015809565782546997)\",\"(0.0, 0.0159213375300169)\",\"(0.0, 0.01606358028948307)\",\"(0.0, 0.01617809385061264)\",\"(0.0, 0.016186799854040146)\",\"(0.0, 0.016214273869991302)\",\"(0.0, 0.016324898228049278)\",\"(0.0, 0.01647832803428173)\",\"(0.0, 0.016745269298553467)\",\"(0.0, 0.01678628660738468)\",\"(0.0, 0.01683664321899414)\",\"(0.0, 0.01735023222863674)\",\"(0.0, 0.017570581287145615)\",\"(0.0, 0.01766754314303398)\",\"(0.0, 0.01789575256407261)\",\"(0.0, 0.01792445406317711)\",\"(0.0, 0.0180975329130888)\",\"(0.0, 0.01830241084098816)\",\"(0.0, 0.01844734698534012)\",\"(0.0, 0.018749583512544632)\",\"(0.0, 0.01891578920185566)\",\"(0.0, 0.01916034147143364)\",\"(0.0, 0.019220001995563507)\",\"(0.0, 0.019459618255496025)\",\"(0.0, 0.019511975347995758)\",\"(0.0, 0.020305493846535683)\",\"(0.0, 0.0209943950176239)\",\"(0.0, 0.021012641489505768)\",\"(0.0, 0.021069176495075226)\",\"(0.0, 0.021108048036694527)\",\"(0.0, 0.02111237682402134)\",\"(0.0, 0.021167760714888573)\",\"(0.0, 0.02118958719074726)\",\"(0.0, 0.02126086875796318)\",\"(0.0, 0.021396739408373833)\",\"(0.0, 0.021546589210629463)\",\"(0.0, 0.021572459489107132)\",\"(0.0, 0.02172430418431759)\",\"(0.0, 0.021779915317893028)\",\"(0.0, 0.021877124905586243)\",\"(0.0, 0.02191530540585518)\",\"(0.0, 0.02203436754643917)\",\"(0.0, 0.022058138623833656)\",\"(0.0, 0.02209044061601162)\",\"(0.0, 0.022184213623404503)\",\"(0.0, 0.022207152098417282)\",\"(0.0, 0.022280238568782806)\",\"(0.0, 0.02238721214234829)\",\"(0.0, 0.02247859165072441)\",\"(0.0, 0.022482721135020256)\",\"(0.0, 0.023058639839291573)\"],\"mode\":\"markers\",\"name\":\"H0\",\"x\":[0.0,0.0,0.0,0.0,0.0,0.0,0.0,0.0,0.0,0.0,0.0,0.0,0.0,0.0,0.0,0.0,0.0,0.0,0.0,0.0,0.0,0.0,0.0,0.0,0.0,0.0,0.0,0.0,0.0,0.0,0.0,0.0,0.0,0.0,0.0,0.0,0.0,0.0,0.0,0.0,0.0,0.0,0.0,0.0,0.0,0.0,0.0,0.0,0.0,0.0,0.0,0.0,0.0,0.0,0.0,0.0,0.0,0.0,0.0,0.0,0.0,0.0,0.0,0.0,0.0,0.0,0.0,0.0,0.0,0.0,0.0,0.0,0.0,0.0,0.0,0.0,0.0,0.0,0.0,0.0,0.0,0.0,0.0,0.0,0.0,0.0,0.0,0.0,0.0,0.0,0.0,0.0,0.0,0.0,0.0,0.0,0.0,0.0],\"y\":[0.0003662199014797807,0.000610769959166646,0.004030189942568541,0.004635830409824848,0.0046690888702869415,0.0055916993878781796,0.005867225583642721,0.007217328529804945,0.008174873888492584,0.00867246463894844,0.008910189382731915,0.008998820558190346,0.00922067929059267,0.009319628588855267,0.00934535264968872,0.00994227733463049,0.010095842182636261,0.010105199180543423,0.010198645293712616,0.010991107672452927,0.011024669744074345,0.01231313869357109,0.012335844337940216,0.012505204416811466,0.012699087150394917,0.012798630632460117,0.01304932776838541,0.013456848450005054,0.013461514376103878,0.013495376333594322,0.01350101176649332,0.013690915890038013,0.01403389684855938,0.014112060889601707,0.0141526497900486,0.014519101940095425,0.014658678323030472,0.014672745950520039,0.014880349859595299,0.014986726455390453,0.015060428529977798,0.015318145975470543,0.015334995463490486,0.015370740555226803,0.015577718615531921,0.015731530264019966,0.015755977481603622,0.015809565782546997,0.0159213375300169,0.01606358028948307,0.01617809385061264,0.016186799854040146,0.016214273869991302,0.016324898228049278,0.01647832803428173,0.016745269298553467,0.01678628660738468,0.01683664321899414,0.01735023222863674,0.017570581287145615,0.01766754314303398,0.01789575256407261,0.01792445406317711,0.0180975329130888,0.01830241084098816,0.01844734698534012,0.018749583512544632,0.01891578920185566,0.01916034147143364,0.019220001995563507,0.019459618255496025,0.019511975347995758,0.020305493846535683,0.0209943950176239,0.021012641489505768,0.021069176495075226,0.021108048036694527,0.02111237682402134,0.021167760714888573,0.02118958719074726,0.02126086875796318,0.021396739408373833,0.021546589210629463,0.021572459489107132,0.02172430418431759,0.021779915317893028,0.021877124905586243,0.02191530540585518,0.02203436754643917,0.022058138623833656,0.02209044061601162,0.022184213623404503,0.022207152098417282,0.022280238568782806,0.02238721214234829,0.02247859165072441,0.022482721135020256,0.023058639839291573],\"type\":\"scatter\"},{\"hoverinfo\":\"text\",\"hovertext\":[\"(0.023597726598381996, 0.02371309883892536)\",\"(0.023532481864094734, 0.02364584058523178)\",\"(0.02343330904841423, 0.023469317704439163)\",\"(0.023415125906467438, 0.023575736209750175)\",\"(0.023407937958836555, 0.023660030215978622)\",\"(0.023393891751766205, 0.023801077157258987)\",\"(0.02337081916630268, 0.02362101897597313)\",\"(0.023340675979852676, 0.02356579154729843)\",\"(0.02330292947590351, 0.02361457422375679)\",\"(0.02330089919269085, 0.023546533659100533)\",\"(0.02326258085668087, 0.023546533659100533)\",\"(0.023201264441013336, 0.023240098729729652)\",\"(0.023167714476585388, 0.023217760026454926)\",\"(0.023158397525548935, 0.023240098729729652)\",\"(0.02307247184216976, 0.02315850928425789)\",\"(0.023058148100972176, 0.02372569404542446)\",\"(0.023055000230669975, 0.023217760026454926)\",\"(0.02291269227862358, 0.023715058341622353)\",\"(0.022911066189408302, 0.023072408512234688)\",\"(0.02281443402171135, 0.022971857339143753)\",\"(0.022811437025666237, 0.023109903559088707)\",\"(0.022804848849773407, 0.023579536005854607)\",\"(0.022799430415034294, 0.02371309883892536)\",\"(0.02276681363582611, 0.02353399619460106)\",\"(0.022755684331059456, 0.0229754950851202)\",\"(0.022723594680428505, 0.022749699652194977)\",\"(0.022694535553455353, 0.022785602137446404)\",\"(0.022681647911667824, 0.02345331758260727)\",\"(0.022675998508930206, 0.022817544639110565)\",\"(0.02258332073688507, 0.023109903559088707)\",\"(0.022547628730535507, 0.023481294512748718)\",\"(0.022541804239153862, 0.02356579154729843)\",\"(0.022457418963313103, 0.0229754950851202)\",\"(0.022385722026228905, 0.0224284864962101)\",\"(0.02237803488969803, 0.022937485948204994)\",\"(0.02219988964498043, 0.023007303476333618)\",\"(0.022137871012091637, 0.02257673814892769)\",\"(0.022109266370534897, 0.022937485948204994)\",\"(0.022102689370512962, 0.022130176424980164)\",\"(0.02209370955824852, 0.02216387912631035)\",\"(0.022091399878263474, 0.02257673814892769)\",\"(0.022022219374775887, 0.02232983149588108)\",\"(0.021949680522084236, 0.022089440375566483)\",\"(0.02191649191081524, 0.02232983149588108)\",\"(0.02191162295639515, 0.022130176424980164)\",\"(0.021513234823942184, 0.02181730978190899)\",\"(0.021424127742648125, 0.02150745689868927)\",\"(0.021400127559900284, 0.021451491862535477)\",\"(0.021393626928329468, 0.02181730978190899)\",\"(0.021287981420755386, 0.02217770367860794)\",\"(0.021266084164381027, 0.021749522536993027)\",\"(0.021213676780462265, 0.02174096554517746)\",\"(0.021134095266461372, 0.021807195618748665)\",\"(0.020924502983689308, 0.021348513662815094)\",\"(0.020921818912029266, 0.02096373960375786)\",\"(0.02081933058798313, 0.02082824520766735)\",\"(0.020816680043935776, 0.020992925390601158)\",\"(0.02081090770661831, 0.02082190103828907)\",\"(0.020791446790099144, 0.021238669753074646)\",\"(0.020791202783584595, 0.02100921981036663)\",\"(0.02077355794608593, 0.02107911929488182)\",\"(0.020750226452946663, 0.021333197131752968)\",\"(0.020703207701444626, 0.02100921981036663)\",\"(0.020669911056756973, 0.02082190103828907)\",\"(0.02063606306910515, 0.021333197131752968)\",\"(0.020613573491573334, 0.020867008715867996)\",\"(0.020515713840723038, 0.02100921981036663)\",\"(0.020450448617339134, 0.020701805129647255)\",\"(0.02043154090642929, 0.021099183708429337)\",\"(0.020274415612220764, 0.02063601277768612)\",\"(0.020239992067217827, 0.020776744931936264)\",\"(0.020161863416433334, 0.02020937018096447)\",\"(0.02015538141131401, 0.02100921981036663)\",\"(0.020149650052189827, 0.020509175956249237)\",\"(0.020147675648331642, 0.020931577309966087)\",\"(0.020117515698075294, 0.020493045449256897)\",\"(0.02010507509112358, 0.0208078995347023)\",\"(0.020072221755981445, 0.020628836005926132)\",\"(0.02005215734243393, 0.020223082974553108)\",\"(0.02005152963101864, 0.020493045449256897)\",\"(0.020040856674313545, 0.020931577309966087)\",\"(0.020036816596984863, 0.020932689309120178)\",\"(0.019999800249934196, 0.020554300397634506)\",\"(0.019949300214648247, 0.020509175956249237)\",\"(0.019946377724409103, 0.02052999846637249)\",\"(0.019903061911463737, 0.020493045449256897)\",\"(0.01990274153649807, 0.020554300397634506)\",\"(0.01988294906914234, 0.020151523873209953)\",\"(0.019876666367053986, 0.02020937018096447)\",\"(0.019874081015586853, 0.02058657445013523)\",\"(0.01977004110813141, 0.019804712384939194)\",\"(0.019763154909014702, 0.020266778767108917)\",\"(0.01975979655981064, 0.019778979942202568)\",\"(0.019701369106769562, 0.02003486268222332)\",\"(0.019613394513726234, 0.020089395344257355)\",\"(0.019600199535489082, 0.020266778767108917)\",\"(0.01952439732849598, 0.020266778767108917)\",\"(0.019517194479703903, 0.019974470138549805)\",\"(0.01950693316757679, 0.020151523873209953)\",\"(0.019497929140925407, 0.019791120663285255)\",\"(0.01946892961859703, 0.019506046548485756)\",\"(0.019424116238951683, 0.02072952501475811)\",\"(0.019395483657717705, 0.019974470138549805)\",\"(0.01938902959227562, 0.01974513567984104)\",\"(0.019360866397619247, 0.020089395344257355)\",\"(0.019338490441441536, 0.019506046548485756)\",\"(0.01930837705731392, 0.020202988758683205)\",\"(0.019266940653324127, 0.020668312907218933)\",\"(0.019256874918937683, 0.019948190078139305)\",\"(0.019234413281083107, 0.020829880610108376)\",\"(0.01923150196671486, 0.020493045449256897)\",\"(0.01920754462480545, 0.020003799349069595)\",\"(0.01920689456164837, 0.019974470138549805)\",\"(0.019181903451681137, 0.020300835371017456)\",\"(0.01913375034928322, 0.0192701555788517)\",\"(0.019119400531053543, 0.01928376778960228)\",\"(0.019043415784835815, 0.02148451656103134)\",\"(0.0190357007086277, 0.020114144310355186)\",\"(0.01903204806149006, 0.02021961286664009)\",\"(0.0190176572650671, 0.01975037157535553)\",\"(0.01900426298379898, 0.01975404843688011)\",\"(0.01897142082452774, 0.019260268658399582)\",\"(0.01895831525325775, 0.020089395344257355)\",\"(0.018904682248830795, 0.019260268658399582)\",\"(0.018893923610448837, 0.01946035958826542)\",\"(0.018833421170711517, 0.01975404843688011)\",\"(0.0188138484954834, 0.019948190078139305)\",\"(0.018809525296092033, 0.019974470138549805)\",\"(0.018731849268078804, 0.019221143797039986)\",\"(0.018724119290709496, 0.01975404843688011)\",\"(0.01872316561639309, 0.01918201707303524)\",\"(0.01866951584815979, 0.01975404843688011)\",\"(0.01864742487668991, 0.01975037157535553)\",\"(0.018638871610164642, 0.019316647201776505)\",\"(0.018595362082123756, 0.018981285393238068)\",\"(0.018541788682341576, 0.01875089481472969)\",\"(0.01848631165921688, 0.019691089168190956)\",\"(0.018443364650011063, 0.018888035789132118)\",\"(0.01838022656738758, 0.019080331549048424)\",\"(0.018373526632785797, 0.020493045449256897)\",\"(0.01836983673274517, 0.019557051360607147)\",\"(0.018361611291766167, 0.01897447742521763)\",\"(0.01832931861281395, 0.01928376778960228)\",\"(0.01831437647342682, 0.01847042888402939)\",\"(0.01824735850095749, 0.01979473978281021)\",\"(0.018234174698591232, 0.02015262469649315)\",\"(0.018175678327679634, 0.018981285393238068)\",\"(0.0181571077555418, 0.019364425912499428)\",\"(0.018132662400603294, 0.01897716335952282)\",\"(0.018120449036359787, 0.01858431100845337)\",\"(0.018063461408019066, 0.019104866310954094)\",\"(0.01806032285094261, 0.01928376778960228)\",\"(0.018044166266918182, 0.019974470138549805)\",\"(0.017964623868465424, 0.019290700554847717)\",\"(0.017957504838705063, 0.020223082974553108)\",\"(0.01792716421186924, 0.017983809113502502)\",\"(0.017902210354804993, 0.019260268658399582)\",\"(0.017850438132882118, 0.01825581304728985)\",\"(0.01778613217175007, 0.01810367964208126)\",\"(0.017762916162610054, 0.01840977370738983)\",\"(0.0177251435816288, 0.018191656097769737)\",\"(0.017686452716588974, 0.021196335554122925)\",\"(0.017632251605391502, 0.020744433626532555)\",\"(0.01762991026043892, 0.019034676253795624)\",\"(0.01758604869246483, 0.020003799349069595)\",\"(0.01757444255053997, 0.01825581304728985)\",\"(0.01753346435725689, 0.019948190078139305)\",\"(0.017487525939941406, 0.01840977370738983)\",\"(0.017407257109880447, 0.01872163452208042)\",\"(0.017384657636284828, 0.019290700554847717)\",\"(0.017363769933581352, 0.019732510671019554)\",\"(0.017263950780034065, 0.018236909061670303)\",\"(0.017237067222595215, 0.017347440123558044)\",\"(0.017217392101883888, 0.01927257888019085)\",\"(0.01720430701971054, 0.01825014129281044)\",\"(0.017165781930088997, 0.020001092925667763)\",\"(0.01714695431292057, 0.018643762916326523)\",\"(0.017139285802841187, 0.01884150505065918)\",\"(0.01710912212729454, 0.01808769442141056)\",\"(0.01710757613182068, 0.017948387190699577)\",\"(0.017055364325642586, 0.017948387190699577)\",\"(0.01697184145450592, 0.018611745908856392)\",\"(0.0169578455388546, 0.018382083624601364)\",\"(0.016929225996136665, 0.019316647201776505)\",\"(0.01690383441746235, 0.01872163452208042)\",\"(0.016887446865439415, 0.01840977370738983)\",\"(0.016867777332663536, 0.017677288502454758)\",\"(0.016866015270352364, 0.017041806131601334)\",\"(0.01685149595141411, 0.01927257888019085)\",\"(0.016794858500361443, 0.01825014129281044)\",\"(0.016792740672826767, 0.017503811046481133)\",\"(0.016788925975561142, 0.018590571358799934)\",\"(0.016755377873778343, 0.019762493669986725)\",\"(0.016640055924654007, 0.016651898622512817)\",\"(0.016628149896860123, 0.018805095925927162)\",\"(0.016625922173261642, 0.01947430521249771)\",\"(0.016595754772424698, 0.01816576160490513)\",\"(0.016592420637607574, 0.019967691972851753)\",\"(0.016584696248173714, 0.01848948374390602)\",\"(0.01656939834356308, 0.018463442102074623)\",\"(0.01656290329992771, 0.01927257888019085)\",\"(0.016552498564124107, 0.016580039635300636)\",\"(0.016546636819839478, 0.016566412523388863)\",\"(0.01654173992574215, 0.02015262469649315)\",\"(0.016525985673069954, 0.018805095925927162)\",\"(0.016525330021977425, 0.018463442102074623)\",\"(0.016510779038071632, 0.018611745908856392)\",\"(0.016510125249624252, 0.017944077029824257)\",\"(0.01650695689022541, 0.019464047625660896)\",\"(0.016487883403897285, 0.016598008573055267)\",\"(0.01648334041237831, 0.016651898622512817)\",\"(0.01641044206917286, 0.01876641809940338)\",\"(0.016311245039105415, 0.01753276027739048)\",\"(0.016309086233377457, 0.01808769442141056)\",\"(0.01630360633134842, 0.018590571358799934)\",\"(0.016301296651363373, 0.020223082974553108)\",\"(0.016294844448566437, 0.01816576160490513)\",\"(0.01626175083220005, 0.017077291384339333)\",\"(0.0162525475025177, 0.019004343077540398)\",\"(0.016239948570728302, 0.01816576160490513)\",\"(0.016217825934290886, 0.018611745908856392)\",\"(0.016131501644849777, 0.01770912855863571)\",\"(0.016118548810482025, 0.017392540350556374)\",\"(0.016111569479107857, 0.01816576160490513)\",\"(0.016075266525149345, 0.016532309353351593)\",\"(0.01600814424455166, 0.01791994646191597)\",\"(0.015944581478834152, 0.01791994646191597)\",\"(0.01593819074332714, 0.016598008573055267)\",\"(0.0159379243850708, 0.017543526366353035)\",\"(0.01593528874218464, 0.018862932920455933)\",\"(0.01593259908258915, 0.020001092925667763)\",\"(0.015928585082292557, 0.018590571358799934)\",\"(0.015912458300590515, 0.01897447742521763)\",\"(0.015861181542277336, 0.020001092925667763)\",\"(0.01583733595907688, 0.02030136249959469)\",\"(0.015832938253879547, 0.016507605090737343)\",\"(0.015828251838684082, 0.02160823531448841)\",\"(0.015823224559426308, 0.01791994646191597)\",\"(0.015744458884000778, 0.018451284617185593)\",\"(0.01567230001091957, 0.020184816792607307)\",\"(0.015671586617827415, 0.016710948199033737)\",\"(0.015667172148823738, 0.018254026770591736)\",\"(0.015650669112801552, 0.01918201707303524)\",\"(0.01564093492925167, 0.016847513616085052)\",\"(0.015474815852940083, 0.020184816792607307)\",\"(0.015445439144968987, 0.016971072182059288)\",\"(0.015421636402606964, 0.015826283022761345)\",\"(0.015372639521956444, 0.019316647201776505)\",\"(0.015300034545361996, 0.017543526366353035)\",\"(0.015281169675290585, 0.017753278836607933)\",\"(0.01526517141610384, 0.015405192971229553)\",\"(0.01526216696947813, 0.018382083624601364)\",\"(0.015255812555551529, 0.019948190078139305)\",\"(0.015251317992806435, 0.015818603336811066)\",\"(0.0152289355173707, 0.020001092925667763)\",\"(0.01522293221205473, 0.016134100034832954)\",\"(0.015202944166958332, 0.020328089594841003)\",\"(0.015175857581198215, 0.018611745908856392)\",\"(0.015091100707650185, 0.015610242262482643)\",\"(0.015082737430930138, 0.016628339886665344)\",\"(0.015036603435873985, 0.018590571358799934)\",\"(0.015008333139121532, 0.019791120663285255)\",\"(0.014931202866137028, 0.018375789746642113)\",\"(0.014894685707986355, 0.017677294090390205)\",\"(0.01488075777888298, 0.01796223409473896)\",\"(0.014814628288149834, 0.01848948374390602)\",\"(0.014800564385950565, 0.015193114057183266)\",\"(0.01475425623357296, 0.015826283022761345)\",\"(0.01470708753913641, 0.017077291384339333)\",\"(0.01467166654765606, 0.018590571358799934)\",\"(0.014656205661594868, 0.017819933593273163)\",\"(0.014647342264652252, 0.01795201562345028)\",\"(0.014622875489294529, 0.016126325353980064)\",\"(0.014585682190954685, 0.018590571358799934)\",\"(0.014541851356625557, 0.017819933593273163)\",\"(0.014507237821817398, 0.016847513616085052)\",\"(0.014474732801318169, 0.018590571358799934)\",\"(0.014417553320527077, 0.01714460551738739)\",\"(0.014416049234569073, 0.019436638802289963)\",\"(0.014361582696437836, 0.016775714233517647)\",\"(0.014311947859823704, 0.015099767595529556)\",\"(0.01429908536374569, 0.014340806752443314)\",\"(0.014288651756942272, 0.017115242779254913)\",\"(0.014282304793596268, 0.015826283022761345)\",\"(0.014213488437235355, 0.018167197704315186)\",\"(0.013920002616941929, 0.015826283022761345)\",\"(0.01383364200592041, 0.015826283022761345)\",\"(0.013686031103134155, 0.015527023002505302)\",\"(0.013656637631356716, 0.01774454489350319)\",\"(0.013653990812599659, 0.015610242262482643)\",\"(0.013376732356846333, 0.01652243547141552)\",\"(0.013278180733323097, 0.015339325182139874)\",\"(0.013274269178509712, 0.015610242262482643)\",\"(0.013001389801502228, 0.015717297792434692)\",\"(0.012959476560354233, 0.01625843159854412)\",\"(0.012944131158292294, 0.013465373776853085)\",\"(0.012933940626680851, 0.014340806752443314)\",\"(0.012878341600298882, 0.013080880977213383)\",\"(0.012841345742344856, 0.018590571358799934)\",\"(0.012838571332395077, 0.013988290913403034)\",\"(0.0126874390989542, 0.014860488474369049)\",\"(0.012616202235221863, 0.013603928498923779)\",\"(0.01257068756967783, 0.015958350151777267)\",\"(0.012520632706582546, 0.012933789752423763)\",\"(0.01251104287803173, 0.013919007033109665)\",\"(0.01242730114609003, 0.013988290913403034)\",\"(0.012148290872573853, 0.014628606848418713)\",\"(0.011294232681393623, 0.019594037905335426)\",\"(0.011288352310657501, 0.014628606848418713)\",\"(0.011106439866125584, 0.015193114057183266)\",\"(0.011068759486079216, 0.013081934303045273)\",\"(0.0110569316893816, 0.015193114057183266)\",\"(0.010995970107614994, 0.014628606848418713)\",\"(0.010981273837387562, 0.0113271065056324)\",\"(0.01086671557277441, 0.014969599433243275)\",\"(0.010720598511397839, 0.014969599433243275)\",\"(0.010397457517683506, 0.013465373776853085)\",\"(0.010374742560088634, 0.015610242262482643)\",\"(0.010277303867042065, 0.015826283022761345)\",\"(0.009947136044502258, 0.0113271065056324)\",\"(0.00943773053586483, 0.012933789752423763)\",\"(0.008518191985785961, 0.01774454489350319)\",\"(0.008188229985535145, 0.008351429365575314)\",\"(0.00743876351043582, 0.007646175101399422)\",\"(0.006502584554255009, 0.019939782097935677)\"],\"mode\":\"markers\",\"name\":\"H1\",\"x\":[0.023597726598381996,0.023532481864094734,0.02343330904841423,0.023415125906467438,0.023407937958836555,0.023393891751766205,0.02337081916630268,0.023340675979852676,0.02330292947590351,0.02330089919269085,0.02326258085668087,0.023201264441013336,0.023167714476585388,0.023158397525548935,0.02307247184216976,0.023058148100972176,0.023055000230669975,0.02291269227862358,0.022911066189408302,0.02281443402171135,0.022811437025666237,0.022804848849773407,0.022799430415034294,0.02276681363582611,0.022755684331059456,0.022723594680428505,0.022694535553455353,0.022681647911667824,0.022675998508930206,0.02258332073688507,0.022547628730535507,0.022541804239153862,0.022457418963313103,0.022385722026228905,0.02237803488969803,0.02219988964498043,0.022137871012091637,0.022109266370534897,0.022102689370512962,0.02209370955824852,0.022091399878263474,0.022022219374775887,0.021949680522084236,0.02191649191081524,0.02191162295639515,0.021513234823942184,0.021424127742648125,0.021400127559900284,0.021393626928329468,0.021287981420755386,0.021266084164381027,0.021213676780462265,0.021134095266461372,0.020924502983689308,0.020921818912029266,0.02081933058798313,0.020816680043935776,0.02081090770661831,0.020791446790099144,0.020791202783584595,0.02077355794608593,0.020750226452946663,0.020703207701444626,0.020669911056756973,0.02063606306910515,0.020613573491573334,0.020515713840723038,0.020450448617339134,0.02043154090642929,0.020274415612220764,0.020239992067217827,0.020161863416433334,0.02015538141131401,0.020149650052189827,0.020147675648331642,0.020117515698075294,0.02010507509112358,0.020072221755981445,0.02005215734243393,0.02005152963101864,0.020040856674313545,0.020036816596984863,0.019999800249934196,0.019949300214648247,0.019946377724409103,0.019903061911463737,0.01990274153649807,0.01988294906914234,0.019876666367053986,0.019874081015586853,0.01977004110813141,0.019763154909014702,0.01975979655981064,0.019701369106769562,0.019613394513726234,0.019600199535489082,0.01952439732849598,0.019517194479703903,0.01950693316757679,0.019497929140925407,0.01946892961859703,0.019424116238951683,0.019395483657717705,0.01938902959227562,0.019360866397619247,0.019338490441441536,0.01930837705731392,0.019266940653324127,0.019256874918937683,0.019234413281083107,0.01923150196671486,0.01920754462480545,0.01920689456164837,0.019181903451681137,0.01913375034928322,0.019119400531053543,0.019043415784835815,0.0190357007086277,0.01903204806149006,0.0190176572650671,0.01900426298379898,0.01897142082452774,0.01895831525325775,0.018904682248830795,0.018893923610448837,0.018833421170711517,0.0188138484954834,0.018809525296092033,0.018731849268078804,0.018724119290709496,0.01872316561639309,0.01866951584815979,0.01864742487668991,0.018638871610164642,0.018595362082123756,0.018541788682341576,0.01848631165921688,0.018443364650011063,0.01838022656738758,0.018373526632785797,0.01836983673274517,0.018361611291766167,0.01832931861281395,0.01831437647342682,0.01824735850095749,0.018234174698591232,0.018175678327679634,0.0181571077555418,0.018132662400603294,0.018120449036359787,0.018063461408019066,0.01806032285094261,0.018044166266918182,0.017964623868465424,0.017957504838705063,0.01792716421186924,0.017902210354804993,0.017850438132882118,0.01778613217175007,0.017762916162610054,0.0177251435816288,0.017686452716588974,0.017632251605391502,0.01762991026043892,0.01758604869246483,0.01757444255053997,0.01753346435725689,0.017487525939941406,0.017407257109880447,0.017384657636284828,0.017363769933581352,0.017263950780034065,0.017237067222595215,0.017217392101883888,0.01720430701971054,0.017165781930088997,0.01714695431292057,0.017139285802841187,0.01710912212729454,0.01710757613182068,0.017055364325642586,0.01697184145450592,0.0169578455388546,0.016929225996136665,0.01690383441746235,0.016887446865439415,0.016867777332663536,0.016866015270352364,0.01685149595141411,0.016794858500361443,0.016792740672826767,0.016788925975561142,0.016755377873778343,0.016640055924654007,0.016628149896860123,0.016625922173261642,0.016595754772424698,0.016592420637607574,0.016584696248173714,0.01656939834356308,0.01656290329992771,0.016552498564124107,0.016546636819839478,0.01654173992574215,0.016525985673069954,0.016525330021977425,0.016510779038071632,0.016510125249624252,0.01650695689022541,0.016487883403897285,0.01648334041237831,0.01641044206917286,0.016311245039105415,0.016309086233377457,0.01630360633134842,0.016301296651363373,0.016294844448566437,0.01626175083220005,0.0162525475025177,0.016239948570728302,0.016217825934290886,0.016131501644849777,0.016118548810482025,0.016111569479107857,0.016075266525149345,0.01600814424455166,0.015944581478834152,0.01593819074332714,0.0159379243850708,0.01593528874218464,0.01593259908258915,0.015928585082292557,0.015912458300590515,0.015861181542277336,0.01583733595907688,0.015832938253879547,0.015828251838684082,0.015823224559426308,0.015744458884000778,0.01567230001091957,0.015671586617827415,0.015667172148823738,0.015650669112801552,0.01564093492925167,0.015474815852940083,0.015445439144968987,0.015421636402606964,0.015372639521956444,0.015300034545361996,0.015281169675290585,0.01526517141610384,0.01526216696947813,0.015255812555551529,0.015251317992806435,0.0152289355173707,0.01522293221205473,0.015202944166958332,0.015175857581198215,0.015091100707650185,0.015082737430930138,0.015036603435873985,0.015008333139121532,0.014931202866137028,0.014894685707986355,0.01488075777888298,0.014814628288149834,0.014800564385950565,0.01475425623357296,0.01470708753913641,0.01467166654765606,0.014656205661594868,0.014647342264652252,0.014622875489294529,0.014585682190954685,0.014541851356625557,0.014507237821817398,0.014474732801318169,0.014417553320527077,0.014416049234569073,0.014361582696437836,0.014311947859823704,0.01429908536374569,0.014288651756942272,0.014282304793596268,0.014213488437235355,0.013920002616941929,0.01383364200592041,0.013686031103134155,0.013656637631356716,0.013653990812599659,0.013376732356846333,0.013278180733323097,0.013274269178509712,0.013001389801502228,0.012959476560354233,0.012944131158292294,0.012933940626680851,0.012878341600298882,0.012841345742344856,0.012838571332395077,0.0126874390989542,0.012616202235221863,0.01257068756967783,0.012520632706582546,0.01251104287803173,0.01242730114609003,0.012148290872573853,0.011294232681393623,0.011288352310657501,0.011106439866125584,0.011068759486079216,0.0110569316893816,0.010995970107614994,0.010981273837387562,0.01086671557277441,0.010720598511397839,0.010397457517683506,0.010374742560088634,0.010277303867042065,0.009947136044502258,0.00943773053586483,0.008518191985785961,0.008188229985535145,0.00743876351043582,0.006502584554255009],\"y\":[0.02371309883892536,0.02364584058523178,0.023469317704439163,0.023575736209750175,0.023660030215978622,0.023801077157258987,0.02362101897597313,0.02356579154729843,0.02361457422375679,0.023546533659100533,0.023546533659100533,0.023240098729729652,0.023217760026454926,0.023240098729729652,0.02315850928425789,0.02372569404542446,0.023217760026454926,0.023715058341622353,0.023072408512234688,0.022971857339143753,0.023109903559088707,0.023579536005854607,0.02371309883892536,0.02353399619460106,0.0229754950851202,0.022749699652194977,0.022785602137446404,0.02345331758260727,0.022817544639110565,0.023109903559088707,0.023481294512748718,0.02356579154729843,0.0229754950851202,0.0224284864962101,0.022937485948204994,0.023007303476333618,0.02257673814892769,0.022937485948204994,0.022130176424980164,0.02216387912631035,0.02257673814892769,0.02232983149588108,0.022089440375566483,0.02232983149588108,0.022130176424980164,0.02181730978190899,0.02150745689868927,0.021451491862535477,0.02181730978190899,0.02217770367860794,0.021749522536993027,0.02174096554517746,0.021807195618748665,0.021348513662815094,0.02096373960375786,0.02082824520766735,0.020992925390601158,0.02082190103828907,0.021238669753074646,0.02100921981036663,0.02107911929488182,0.021333197131752968,0.02100921981036663,0.02082190103828907,0.021333197131752968,0.020867008715867996,0.02100921981036663,0.020701805129647255,0.021099183708429337,0.02063601277768612,0.020776744931936264,0.02020937018096447,0.02100921981036663,0.020509175956249237,0.020931577309966087,0.020493045449256897,0.0208078995347023,0.020628836005926132,0.020223082974553108,0.020493045449256897,0.020931577309966087,0.020932689309120178,0.020554300397634506,0.020509175956249237,0.02052999846637249,0.020493045449256897,0.020554300397634506,0.020151523873209953,0.02020937018096447,0.02058657445013523,0.019804712384939194,0.020266778767108917,0.019778979942202568,0.02003486268222332,0.020089395344257355,0.020266778767108917,0.020266778767108917,0.019974470138549805,0.020151523873209953,0.019791120663285255,0.019506046548485756,0.02072952501475811,0.019974470138549805,0.01974513567984104,0.020089395344257355,0.019506046548485756,0.020202988758683205,0.020668312907218933,0.019948190078139305,0.020829880610108376,0.020493045449256897,0.020003799349069595,0.019974470138549805,0.020300835371017456,0.0192701555788517,0.01928376778960228,0.02148451656103134,0.020114144310355186,0.02021961286664009,0.01975037157535553,0.01975404843688011,0.019260268658399582,0.020089395344257355,0.019260268658399582,0.01946035958826542,0.01975404843688011,0.019948190078139305,0.019974470138549805,0.019221143797039986,0.01975404843688011,0.01918201707303524,0.01975404843688011,0.01975037157535553,0.019316647201776505,0.018981285393238068,0.01875089481472969,0.019691089168190956,0.018888035789132118,0.019080331549048424,0.020493045449256897,0.019557051360607147,0.01897447742521763,0.01928376778960228,0.01847042888402939,0.01979473978281021,0.02015262469649315,0.018981285393238068,0.019364425912499428,0.01897716335952282,0.01858431100845337,0.019104866310954094,0.01928376778960228,0.019974470138549805,0.019290700554847717,0.020223082974553108,0.017983809113502502,0.019260268658399582,0.01825581304728985,0.01810367964208126,0.01840977370738983,0.018191656097769737,0.021196335554122925,0.020744433626532555,0.019034676253795624,0.020003799349069595,0.01825581304728985,0.019948190078139305,0.01840977370738983,0.01872163452208042,0.019290700554847717,0.019732510671019554,0.018236909061670303,0.017347440123558044,0.01927257888019085,0.01825014129281044,0.020001092925667763,0.018643762916326523,0.01884150505065918,0.01808769442141056,0.017948387190699577,0.017948387190699577,0.018611745908856392,0.018382083624601364,0.019316647201776505,0.01872163452208042,0.01840977370738983,0.017677288502454758,0.017041806131601334,0.01927257888019085,0.01825014129281044,0.017503811046481133,0.018590571358799934,0.019762493669986725,0.016651898622512817,0.018805095925927162,0.01947430521249771,0.01816576160490513,0.019967691972851753,0.01848948374390602,0.018463442102074623,0.01927257888019085,0.016580039635300636,0.016566412523388863,0.02015262469649315,0.018805095925927162,0.018463442102074623,0.018611745908856392,0.017944077029824257,0.019464047625660896,0.016598008573055267,0.016651898622512817,0.01876641809940338,0.01753276027739048,0.01808769442141056,0.018590571358799934,0.020223082974553108,0.01816576160490513,0.017077291384339333,0.019004343077540398,0.01816576160490513,0.018611745908856392,0.01770912855863571,0.017392540350556374,0.01816576160490513,0.016532309353351593,0.01791994646191597,0.01791994646191597,0.016598008573055267,0.017543526366353035,0.018862932920455933,0.020001092925667763,0.018590571358799934,0.01897447742521763,0.020001092925667763,0.02030136249959469,0.016507605090737343,0.02160823531448841,0.01791994646191597,0.018451284617185593,0.020184816792607307,0.016710948199033737,0.018254026770591736,0.01918201707303524,0.016847513616085052,0.020184816792607307,0.016971072182059288,0.015826283022761345,0.019316647201776505,0.017543526366353035,0.017753278836607933,0.015405192971229553,0.018382083624601364,0.019948190078139305,0.015818603336811066,0.020001092925667763,0.016134100034832954,0.020328089594841003,0.018611745908856392,0.015610242262482643,0.016628339886665344,0.018590571358799934,0.019791120663285255,0.018375789746642113,0.017677294090390205,0.01796223409473896,0.01848948374390602,0.015193114057183266,0.015826283022761345,0.017077291384339333,0.018590571358799934,0.017819933593273163,0.01795201562345028,0.016126325353980064,0.018590571358799934,0.017819933593273163,0.016847513616085052,0.018590571358799934,0.01714460551738739,0.019436638802289963,0.016775714233517647,0.015099767595529556,0.014340806752443314,0.017115242779254913,0.015826283022761345,0.018167197704315186,0.015826283022761345,0.015826283022761345,0.015527023002505302,0.01774454489350319,0.015610242262482643,0.01652243547141552,0.015339325182139874,0.015610242262482643,0.015717297792434692,0.01625843159854412,0.013465373776853085,0.014340806752443314,0.013080880977213383,0.018590571358799934,0.013988290913403034,0.014860488474369049,0.013603928498923779,0.015958350151777267,0.012933789752423763,0.013919007033109665,0.013988290913403034,0.014628606848418713,0.019594037905335426,0.014628606848418713,0.015193114057183266,0.013081934303045273,0.015193114057183266,0.014628606848418713,0.0113271065056324,0.014969599433243275,0.014969599433243275,0.013465373776853085,0.015610242262482643,0.015826283022761345,0.0113271065056324,0.012933789752423763,0.01774454489350319,0.008351429365575314,0.007646175101399422,0.019939782097935677],\"type\":\"scatter\"}],                        {\"template\":{\"data\":{\"histogram2dcontour\":[{\"type\":\"histogram2dcontour\",\"colorbar\":{\"outlinewidth\":0,\"ticks\":\"\"},\"colorscale\":[[0.0,\"#0d0887\"],[0.1111111111111111,\"#46039f\"],[0.2222222222222222,\"#7201a8\"],[0.3333333333333333,\"#9c179e\"],[0.4444444444444444,\"#bd3786\"],[0.5555555555555556,\"#d8576b\"],[0.6666666666666666,\"#ed7953\"],[0.7777777777777778,\"#fb9f3a\"],[0.8888888888888888,\"#fdca26\"],[1.0,\"#f0f921\"]]}],\"choropleth\":[{\"type\":\"choropleth\",\"colorbar\":{\"outlinewidth\":0,\"ticks\":\"\"}}],\"histogram2d\":[{\"type\":\"histogram2d\",\"colorbar\":{\"outlinewidth\":0,\"ticks\":\"\"},\"colorscale\":[[0.0,\"#0d0887\"],[0.1111111111111111,\"#46039f\"],[0.2222222222222222,\"#7201a8\"],[0.3333333333333333,\"#9c179e\"],[0.4444444444444444,\"#bd3786\"],[0.5555555555555556,\"#d8576b\"],[0.6666666666666666,\"#ed7953\"],[0.7777777777777778,\"#fb9f3a\"],[0.8888888888888888,\"#fdca26\"],[1.0,\"#f0f921\"]]}],\"heatmap\":[{\"type\":\"heatmap\",\"colorbar\":{\"outlinewidth\":0,\"ticks\":\"\"},\"colorscale\":[[0.0,\"#0d0887\"],[0.1111111111111111,\"#46039f\"],[0.2222222222222222,\"#7201a8\"],[0.3333333333333333,\"#9c179e\"],[0.4444444444444444,\"#bd3786\"],[0.5555555555555556,\"#d8576b\"],[0.6666666666666666,\"#ed7953\"],[0.7777777777777778,\"#fb9f3a\"],[0.8888888888888888,\"#fdca26\"],[1.0,\"#f0f921\"]]}],\"heatmapgl\":[{\"type\":\"heatmapgl\",\"colorbar\":{\"outlinewidth\":0,\"ticks\":\"\"},\"colorscale\":[[0.0,\"#0d0887\"],[0.1111111111111111,\"#46039f\"],[0.2222222222222222,\"#7201a8\"],[0.3333333333333333,\"#9c179e\"],[0.4444444444444444,\"#bd3786\"],[0.5555555555555556,\"#d8576b\"],[0.6666666666666666,\"#ed7953\"],[0.7777777777777778,\"#fb9f3a\"],[0.8888888888888888,\"#fdca26\"],[1.0,\"#f0f921\"]]}],\"contourcarpet\":[{\"type\":\"contourcarpet\",\"colorbar\":{\"outlinewidth\":0,\"ticks\":\"\"}}],\"contour\":[{\"type\":\"contour\",\"colorbar\":{\"outlinewidth\":0,\"ticks\":\"\"},\"colorscale\":[[0.0,\"#0d0887\"],[0.1111111111111111,\"#46039f\"],[0.2222222222222222,\"#7201a8\"],[0.3333333333333333,\"#9c179e\"],[0.4444444444444444,\"#bd3786\"],[0.5555555555555556,\"#d8576b\"],[0.6666666666666666,\"#ed7953\"],[0.7777777777777778,\"#fb9f3a\"],[0.8888888888888888,\"#fdca26\"],[1.0,\"#f0f921\"]]}],\"surface\":[{\"type\":\"surface\",\"colorbar\":{\"outlinewidth\":0,\"ticks\":\"\"},\"colorscale\":[[0.0,\"#0d0887\"],[0.1111111111111111,\"#46039f\"],[0.2222222222222222,\"#7201a8\"],[0.3333333333333333,\"#9c179e\"],[0.4444444444444444,\"#bd3786\"],[0.5555555555555556,\"#d8576b\"],[0.6666666666666666,\"#ed7953\"],[0.7777777777777778,\"#fb9f3a\"],[0.8888888888888888,\"#fdca26\"],[1.0,\"#f0f921\"]]}],\"mesh3d\":[{\"type\":\"mesh3d\",\"colorbar\":{\"outlinewidth\":0,\"ticks\":\"\"}}],\"scatter\":[{\"fillpattern\":{\"fillmode\":\"overlay\",\"size\":10,\"solidity\":0.2},\"type\":\"scatter\"}],\"parcoords\":[{\"type\":\"parcoords\",\"line\":{\"colorbar\":{\"outlinewidth\":0,\"ticks\":\"\"}}}],\"scatterpolargl\":[{\"type\":\"scatterpolargl\",\"marker\":{\"colorbar\":{\"outlinewidth\":0,\"ticks\":\"\"}}}],\"bar\":[{\"error_x\":{\"color\":\"#2a3f5f\"},\"error_y\":{\"color\":\"#2a3f5f\"},\"marker\":{\"line\":{\"color\":\"#E5ECF6\",\"width\":0.5},\"pattern\":{\"fillmode\":\"overlay\",\"size\":10,\"solidity\":0.2}},\"type\":\"bar\"}],\"scattergeo\":[{\"type\":\"scattergeo\",\"marker\":{\"colorbar\":{\"outlinewidth\":0,\"ticks\":\"\"}}}],\"scatterpolar\":[{\"type\":\"scatterpolar\",\"marker\":{\"colorbar\":{\"outlinewidth\":0,\"ticks\":\"\"}}}],\"histogram\":[{\"marker\":{\"pattern\":{\"fillmode\":\"overlay\",\"size\":10,\"solidity\":0.2}},\"type\":\"histogram\"}],\"scattergl\":[{\"type\":\"scattergl\",\"marker\":{\"colorbar\":{\"outlinewidth\":0,\"ticks\":\"\"}}}],\"scatter3d\":[{\"type\":\"scatter3d\",\"line\":{\"colorbar\":{\"outlinewidth\":0,\"ticks\":\"\"}},\"marker\":{\"colorbar\":{\"outlinewidth\":0,\"ticks\":\"\"}}}],\"scattermapbox\":[{\"type\":\"scattermapbox\",\"marker\":{\"colorbar\":{\"outlinewidth\":0,\"ticks\":\"\"}}}],\"scatterternary\":[{\"type\":\"scatterternary\",\"marker\":{\"colorbar\":{\"outlinewidth\":0,\"ticks\":\"\"}}}],\"scattercarpet\":[{\"type\":\"scattercarpet\",\"marker\":{\"colorbar\":{\"outlinewidth\":0,\"ticks\":\"\"}}}],\"carpet\":[{\"aaxis\":{\"endlinecolor\":\"#2a3f5f\",\"gridcolor\":\"white\",\"linecolor\":\"white\",\"minorgridcolor\":\"white\",\"startlinecolor\":\"#2a3f5f\"},\"baxis\":{\"endlinecolor\":\"#2a3f5f\",\"gridcolor\":\"white\",\"linecolor\":\"white\",\"minorgridcolor\":\"white\",\"startlinecolor\":\"#2a3f5f\"},\"type\":\"carpet\"}],\"table\":[{\"cells\":{\"fill\":{\"color\":\"#EBF0F8\"},\"line\":{\"color\":\"white\"}},\"header\":{\"fill\":{\"color\":\"#C8D4E3\"},\"line\":{\"color\":\"white\"}},\"type\":\"table\"}],\"barpolar\":[{\"marker\":{\"line\":{\"color\":\"#E5ECF6\",\"width\":0.5},\"pattern\":{\"fillmode\":\"overlay\",\"size\":10,\"solidity\":0.2}},\"type\":\"barpolar\"}],\"pie\":[{\"automargin\":true,\"type\":\"pie\"}]},\"layout\":{\"autotypenumbers\":\"strict\",\"colorway\":[\"#636efa\",\"#EF553B\",\"#00cc96\",\"#ab63fa\",\"#FFA15A\",\"#19d3f3\",\"#FF6692\",\"#B6E880\",\"#FF97FF\",\"#FECB52\"],\"font\":{\"color\":\"#2a3f5f\"},\"hovermode\":\"closest\",\"hoverlabel\":{\"align\":\"left\"},\"paper_bgcolor\":\"white\",\"plot_bgcolor\":\"#E5ECF6\",\"polar\":{\"bgcolor\":\"#E5ECF6\",\"angularaxis\":{\"gridcolor\":\"white\",\"linecolor\":\"white\",\"ticks\":\"\"},\"radialaxis\":{\"gridcolor\":\"white\",\"linecolor\":\"white\",\"ticks\":\"\"}},\"ternary\":{\"bgcolor\":\"#E5ECF6\",\"aaxis\":{\"gridcolor\":\"white\",\"linecolor\":\"white\",\"ticks\":\"\"},\"baxis\":{\"gridcolor\":\"white\",\"linecolor\":\"white\",\"ticks\":\"\"},\"caxis\":{\"gridcolor\":\"white\",\"linecolor\":\"white\",\"ticks\":\"\"}},\"coloraxis\":{\"colorbar\":{\"outlinewidth\":0,\"ticks\":\"\"}},\"colorscale\":{\"sequential\":[[0.0,\"#0d0887\"],[0.1111111111111111,\"#46039f\"],[0.2222222222222222,\"#7201a8\"],[0.3333333333333333,\"#9c179e\"],[0.4444444444444444,\"#bd3786\"],[0.5555555555555556,\"#d8576b\"],[0.6666666666666666,\"#ed7953\"],[0.7777777777777778,\"#fb9f3a\"],[0.8888888888888888,\"#fdca26\"],[1.0,\"#f0f921\"]],\"sequentialminus\":[[0.0,\"#0d0887\"],[0.1111111111111111,\"#46039f\"],[0.2222222222222222,\"#7201a8\"],[0.3333333333333333,\"#9c179e\"],[0.4444444444444444,\"#bd3786\"],[0.5555555555555556,\"#d8576b\"],[0.6666666666666666,\"#ed7953\"],[0.7777777777777778,\"#fb9f3a\"],[0.8888888888888888,\"#fdca26\"],[1.0,\"#f0f921\"]],\"diverging\":[[0,\"#8e0152\"],[0.1,\"#c51b7d\"],[0.2,\"#de77ae\"],[0.3,\"#f1b6da\"],[0.4,\"#fde0ef\"],[0.5,\"#f7f7f7\"],[0.6,\"#e6f5d0\"],[0.7,\"#b8e186\"],[0.8,\"#7fbc41\"],[0.9,\"#4d9221\"],[1,\"#276419\"]]},\"xaxis\":{\"gridcolor\":\"white\",\"linecolor\":\"white\",\"ticks\":\"\",\"title\":{\"standoff\":15},\"zerolinecolor\":\"white\",\"automargin\":true,\"zerolinewidth\":2},\"yaxis\":{\"gridcolor\":\"white\",\"linecolor\":\"white\",\"ticks\":\"\",\"title\":{\"standoff\":15},\"zerolinecolor\":\"white\",\"automargin\":true,\"zerolinewidth\":2},\"scene\":{\"xaxis\":{\"backgroundcolor\":\"#E5ECF6\",\"gridcolor\":\"white\",\"linecolor\":\"white\",\"showbackground\":true,\"ticks\":\"\",\"zerolinecolor\":\"white\",\"gridwidth\":2},\"yaxis\":{\"backgroundcolor\":\"#E5ECF6\",\"gridcolor\":\"white\",\"linecolor\":\"white\",\"showbackground\":true,\"ticks\":\"\",\"zerolinecolor\":\"white\",\"gridwidth\":2},\"zaxis\":{\"backgroundcolor\":\"#E5ECF6\",\"gridcolor\":\"white\",\"linecolor\":\"white\",\"showbackground\":true,\"ticks\":\"\",\"zerolinecolor\":\"white\",\"gridwidth\":2}},\"shapedefaults\":{\"line\":{\"color\":\"#2a3f5f\"}},\"annotationdefaults\":{\"arrowcolor\":\"#2a3f5f\",\"arrowhead\":0,\"arrowwidth\":1},\"geo\":{\"bgcolor\":\"white\",\"landcolor\":\"#E5ECF6\",\"subunitcolor\":\"white\",\"showland\":true,\"showlakes\":true,\"lakecolor\":\"white\"},\"title\":{\"x\":0.05},\"mapbox\":{\"style\":\"light\"}}},\"xaxis\":{\"title\":{\"text\":\"Birth\"},\"side\":\"bottom\",\"type\":\"linear\",\"range\":[-0.00047602154314517974,0.024277098700404166],\"autorange\":false,\"ticks\":\"outside\",\"showline\":true,\"zeroline\":true,\"linewidth\":1,\"linecolor\":\"black\",\"mirror\":false,\"showexponent\":\"all\",\"exponentformat\":\"e\"},\"yaxis\":{\"title\":{\"text\":\"Death\"},\"side\":\"left\",\"type\":\"linear\",\"range\":[-0.00047602154314517974,0.024277098700404166],\"autorange\":false,\"scaleanchor\":\"x\",\"scaleratio\":1,\"ticks\":\"outside\",\"showline\":true,\"zeroline\":true,\"linewidth\":1,\"linecolor\":\"black\",\"mirror\":false,\"showexponent\":\"all\",\"exponentformat\":\"e\"},\"width\":500,\"height\":500,\"plot_bgcolor\":\"white\"},                        {\"responsive\": true}                    ).then(function(){\n",
       "                            \n",
       "var gd = document.getElementById('0a2f1c30-8753-4253-afe3-053629314ad0');\n",
       "var x = new MutationObserver(function (mutations, observer) {{\n",
       "        var display = window.getComputedStyle(gd).display;\n",
       "        if (!display || display === 'none') {{\n",
       "            console.log([gd, 'removed!']);\n",
       "            Plotly.purge(gd);\n",
       "            observer.disconnect();\n",
       "        }}\n",
       "}});\n",
       "\n",
       "// Listen for the removal of the full notebook cells\n",
       "var notebookContainer = gd.closest('#notebook-container');\n",
       "if (notebookContainer) {{\n",
       "    x.observe(notebookContainer, {childList: true});\n",
       "}}\n",
       "\n",
       "// Listen for the clearing of the current output cell\n",
       "var outputEl = gd.closest('.output');\n",
       "if (outputEl) {{\n",
       "    x.observe(outputEl, {childList: true});\n",
       "}}\n",
       "\n",
       "                        })                };                });            </script>        </div>"
      ]
     },
     "metadata": {},
     "output_type": "display_data"
    }
   ],
   "source": [
    "# clique oriented STI\n",
    "dgm_clique_or_STI=rev_directed(L_STI)\n",
    "plot_diagram(dgm_clique_or_STI[0])"
   ]
  },
  {
   "cell_type": "code",
   "execution_count": 71,
   "id": "7e5b47fd",
   "metadata": {},
   "outputs": [
    {
     "name": "stdout",
     "output_type": "stream",
     "text": [
      "0.0\n"
     ]
    },
    {
     "data": {
      "text/plain": [
       "<AxesSubplot:title={'center':'Persistence diagram'}, xlabel='Birth', ylabel='Death'>"
      ]
     },
     "execution_count": 71,
     "metadata": {},
     "output_type": "execute_result"
    },
    {
     "data": {
      "image/png": "[encoded data removed]",
      "text/plain": [
       "<Figure size 432x288 with 1 Axes>"
      ]
     },
     "metadata": {
      "needs_background": "light"
     },
     "output_type": "display_data"
    }
   ],
   "source": [
    "# high order, violating triangles STI\n",
    "indifference_value=0.05\n",
    "print(hyper_coherence(ts_STI,indifference_value))\n",
    "dgm_high_STI=create_diagram_directly_2(ts_STI,indifference_value)\n",
    "gudhi.plot_persistence_diagram(dgm_high_STI)"
   ]
  },
  {
   "cell_type": "code",
   "execution_count": 72,
   "id": "e54bcd8d",
   "metadata": {},
   "outputs": [
    {
     "data": {
      "text/plain": [
       "<matplotlib.colorbar.Colorbar at 0x28b17c94c40>"
      ]
     },
     "execution_count": 72,
     "metadata": {},
     "output_type": "execute_result"
    },
    {
     "data": {
      "image/png": "[encoded data removed]",
      "text/plain": [
       "<Figure size 720x504 with 2 Axes>"
      ]
     },
     "metadata": {
      "needs_background": "light"
     },
     "output_type": "display_data"
    }
   ],
   "source": [
    "# DT\n",
    "L_DT=lead_matrix_1(ts_DT)\n",
    "plt.figure(figsize=(10,7))\n",
    "plt.imshow(L_DT, alpha=0.9, cmap=\"Blues\")\n",
    "plt.colorbar()"
   ]
  },
  {
   "cell_type": "code",
   "execution_count": 73,
   "id": "7b2d1a7e",
   "metadata": {},
   "outputs": [
    {
     "data": {
      "application/vnd.plotly.v1+json": {
       "config": {
        "plotlyServerURL": "https://plot.ly"
       },
       "data": [
        {
         "hoverinfo": "none",
         "line": {
          "color": "black",
          "dash": "dash",
          "width": 1
         },
         "mode": "lines",
         "showlegend": false,
         "type": "scatter",
         "x": [
          -0.09958584785461426,
          5.078878240585327
         ],
         "y": [
          -0.09958584785461426,
          5.078878240585327
         ]
        },
        {
         "hoverinfo": "text",
         "hovertext": [
          "(0.0, 0.30760353803634644)",
          "(0.0, 0.5064101815223694)",
          "(0.0, 0.7918812036514282)",
          "(0.0, 0.8621941208839417)",
          "(0.0, 0.8964433073997498)",
          "(0.0, 0.9704688191413879)",
          "(0.0, 0.982617974281311)",
          "(0.0, 1.0281835794448853)",
          "(0.0, 1.051692008972168)",
          "(0.0, 1.1055837869644165)",
          "(0.0, 1.1112854480743408)",
          "(0.0, 1.1118634939193726)",
          "(0.0, 1.1759861707687378)",
          "(0.0, 1.1808522939682007)",
          "(0.0, 1.201285481452942)",
          "(0.0, 1.2592768669128418)",
          "(0.0, 1.2796980142593384)",
          "(0.0, 1.3276643753051758)",
          "(0.0, 1.3689517974853516)",
          "(0.0, 1.37509286403656)",
          "(0.0, 1.3784987926483154)",
          "(0.0, 1.3853652477264404)",
          "(0.0, 1.3976291418075562)",
          "(0.0, 1.3998863697052002)",
          "(0.0, 1.5507303476333618)",
          "(0.0, 1.6289899349212646)",
          "(0.0, 1.633103609085083)",
          "(0.0, 1.6470746994018555)",
          "(0.0, 1.6666122674942017)",
          "(0.0, 1.6688494682312012)",
          "(0.0, 1.672558307647705)",
          "(0.0, 1.7725694179534912)",
          "(0.0, 1.8012735843658447)",
          "(0.0, 1.8145424127578735)",
          "(0.0, 1.8219842910766602)",
          "(0.0, 1.8378013372421265)",
          "(0.0, 1.848803997039795)",
          "(0.0, 1.8523973226547241)",
          "(0.0, 1.88454270362854)",
          "(0.0, 1.8847849369049072)",
          "(0.0, 1.8996036052703857)",
          "(0.0, 1.9068729877471924)",
          "(0.0, 1.920496940612793)",
          "(0.0, 1.9357870817184448)",
          "(0.0, 1.942502498626709)",
          "(0.0, 1.9452552795410156)",
          "(0.0, 1.9870163202285767)",
          "(0.0, 1.9885367155075073)",
          "(0.0, 2.001138925552368)",
          "(0.0, 2.0038983821868896)",
          "(0.0, 2.0156400203704834)",
          "(0.0, 2.022488832473755)",
          "(0.0, 2.0268893241882324)",
          "(0.0, 2.0295891761779785)",
          "(0.0, 2.0344982147216797)",
          "(0.0, 2.069561719894409)",
          "(0.0, 2.0810956954956055)",
          "(0.0, 2.081348419189453)",
          "(0.0, 2.0899658203125)",
          "(0.0, 2.0999197959899902)",
          "(0.0, 2.1101300716400146)",
          "(0.0, 2.1110188961029053)",
          "(0.0, 2.1368982791900635)",
          "(0.0, 2.137362003326416)",
          "(0.0, 2.160932779312134)",
          "(0.0, 2.1663968563079834)",
          "(0.0, 2.1682374477386475)",
          "(0.0, 2.186722993850708)",
          "(0.0, 2.204568386077881)",
          "(0.0, 2.2419633865356445)",
          "(0.0, 2.2434189319610596)",
          "(0.0, 2.2592711448669434)",
          "(0.0, 2.26712965965271)",
          "(0.0, 2.303661584854126)",
          "(0.0, 2.313772201538086)",
          "(0.0, 2.337127923965454)",
          "(0.0, 2.341702461242676)",
          "(0.0, 2.370518684387207)",
          "(0.0, 2.4069974422454834)",
          "(0.0, 2.511328935623169)",
          "(0.0, 2.579744577407837)",
          "(0.0, 2.6268205642700195)",
          "(0.0, 2.643326759338379)",
          "(0.0, 2.6873815059661865)",
          "(0.0, 2.71146559715271)",
          "(0.0, 2.7877485752105713)",
          "(0.0, 2.809140920639038)",
          "(0.0, 2.8137574195861816)",
          "(0.0, 2.860966682434082)",
          "(0.0, 2.880561590194702)",
          "(0.0, 2.909884214401245)",
          "(0.0, 2.9127683639526367)",
          "(0.0, 3.0202765464782715)",
          "(0.0, 3.152364730834961)",
          "(0.0, 3.1945033073425293)",
          "(0.0, 3.21905517578125)",
          "(0.0, 3.226395606994629)",
          "(0.0, 3.366326332092285)"
         ],
         "mode": "markers",
         "name": "H0",
         "type": "scatter",
         "x": [
          0,
          0,
          0,
          0,
          0,
          0,
          0,
          0,
          0,
          0,
          0,
          0,
          0,
          0,
          0,
          0,
          0,
          0,
          0,
          0,
          0,
          0,
          0,
          0,
          0,
          0,
          0,
          0,
          0,
          0,
          0,
          0,
          0,
          0,
          0,
          0,
          0,
          0,
          0,
          0,
          0,
          0,
          0,
          0,
          0,
          0,
          0,
          0,
          0,
          0,
          0,
          0,
          0,
          0,
          0,
          0,
          0,
          0,
          0,
          0,
          0,
          0,
          0,
          0,
          0,
          0,
          0,
          0,
          0,
          0,
          0,
          0,
          0,
          0,
          0,
          0,
          0,
          0,
          0,
          0,
          0,
          0,
          0,
          0,
          0,
          0,
          0,
          0,
          0,
          0,
          0,
          0,
          0,
          0,
          0,
          0,
          0,
          0
         ],
         "y": [
          0.30760353803634644,
          0.5064101815223694,
          0.7918812036514282,
          0.8621941208839417,
          0.8964433073997498,
          0.9704688191413879,
          0.982617974281311,
          1.0281835794448853,
          1.051692008972168,
          1.1055837869644165,
          1.1112854480743408,
          1.1118634939193726,
          1.1759861707687378,
          1.1808522939682007,
          1.201285481452942,
          1.2592768669128418,
          1.2796980142593384,
          1.3276643753051758,
          1.3689517974853516,
          1.37509286403656,
          1.3784987926483154,
          1.3853652477264404,
          1.3976291418075562,
          1.3998863697052002,
          1.5507303476333618,
          1.6289899349212646,
          1.633103609085083,
          1.6470746994018555,
          1.6666122674942017,
          1.6688494682312012,
          1.672558307647705,
          1.7725694179534912,
          1.8012735843658447,
          1.8145424127578735,
          1.8219842910766602,
          1.8378013372421265,
          1.848803997039795,
          1.8523973226547241,
          1.88454270362854,
          1.8847849369049072,
          1.8996036052703857,
          1.9068729877471924,
          1.920496940612793,
          1.9357870817184448,
          1.942502498626709,
          1.9452552795410156,
          1.9870163202285767,
          1.9885367155075073,
          2.001138925552368,
          2.0038983821868896,
          2.0156400203704834,
          2.022488832473755,
          2.0268893241882324,
          2.0295891761779785,
          2.0344982147216797,
          2.069561719894409,
          2.0810956954956055,
          2.081348419189453,
          2.0899658203125,
          2.0999197959899902,
          2.1101300716400146,
          2.1110188961029053,
          2.1368982791900635,
          2.137362003326416,
          2.160932779312134,
          2.1663968563079834,
          2.1682374477386475,
          2.186722993850708,
          2.204568386077881,
          2.2419633865356445,
          2.2434189319610596,
          2.2592711448669434,
          2.26712965965271,
          2.303661584854126,
          2.313772201538086,
          2.337127923965454,
          2.341702461242676,
          2.370518684387207,
          2.4069974422454834,
          2.511328935623169,
          2.579744577407837,
          2.6268205642700195,
          2.643326759338379,
          2.6873815059661865,
          2.71146559715271,
          2.7877485752105713,
          2.809140920639038,
          2.8137574195861816,
          2.860966682434082,
          2.880561590194702,
          2.909884214401245,
          2.9127683639526367,
          3.0202765464782715,
          3.152364730834961,
          3.1945033073425293,
          3.21905517578125,
          3.226395606994629,
          3.366326332092285
         ]
        },
        {
         "hoverinfo": "text",
         "hovertext": [
          "(4.864761829376221, 4.879148960113525)",
          "(4.712215900421143, 4.9339118003845215)",
          "(4.639449596405029, 4.702503681182861)",
          "(4.605687141418457, 4.789278030395508)",
          "(4.597039222717285, 4.879148960113525)",
          "(4.552263259887695, 4.631526947021484)",
          "(4.443512439727783, 4.70894718170166)",
          "(4.430746555328369, 4.454724311828613)",
          "(4.392058372497559, 4.402712821960449)",
          "(4.3872575759887695, 4.529255390167236)",
          "(4.374630451202393, 4.379739284515381)",
          "(4.371518135070801, 4.863755702972412)",
          "(4.357083797454834, 4.6245036125183105)",
          "(4.326182842254639, 4.376598834991455)",
          "(4.326165676116943, 4.490725994110107)",
          "(4.299139976501465, 4.458094120025635)",
          "(4.285272121429443, 4.564711093902588)",
          "(4.259733200073242, 4.406630039215088)",
          "(4.258163928985596, 4.779881000518799)",
          "(4.251573085784912, 4.526793003082275)",
          "(4.24249267578125, 4.38792085647583)",
          "(4.23703145980835, 4.241304874420166)",
          "(4.229780197143555, 4.484519958496094)",
          "(4.226404190063477, 4.519902229309082)",
          "(4.210396766662598, 4.261612892150879)",
          "(4.205014228820801, 4.628664970397949)",
          "(4.200793743133545, 4.252377033233643)",
          "(4.19327449798584, 4.572418212890625)",
          "(4.179664134979248, 4.411952972412109)",
          "(4.176661014556885, 4.409107208251953)",
          "(4.162486553192139, 4.570221900939941)",
          "(4.1515398025512695, 4.320969104766846)",
          "(4.14033842086792, 4.3040924072265625)",
          "(4.118725776672363, 4.241304874420166)",
          "(4.116757869720459, 4.151724815368652)",
          "(4.1153693199157715, 4.222830772399902)",
          "(4.111800193786621, 4.628664970397949)",
          "(4.1094794273376465, 4.553627967834473)",
          "(4.107815742492676, 4.362748146057129)",
          "(4.1074371337890625, 4.575207710266113)",
          "(4.106817245483398, 4.270164489746094)",
          "(4.1056084632873535, 4.719175815582275)",
          "(4.102926731109619, 4.425347328186035)",
          "(4.102643013000488, 4.361410617828369)",
          "(4.101989269256592, 4.123946189880371)",
          "(4.089287281036377, 4.208362102508545)",
          "(4.085268974304199, 4.3920159339904785)",
          "(4.081193447113037, 4.212869167327881)",
          "(4.080665588378906, 4.204580307006836)",
          "(4.079808712005615, 4.444896221160889)",
          "(4.066784381866455, 4.4308552742004395)",
          "(4.065024375915527, 4.223321437835693)",
          "(4.06400203704834, 4.7943830490112305)",
          "(4.063231468200684, 4.273581027984619)",
          "(4.055116176605225, 4.086115837097168)",
          "(4.0470967292785645, 4.743015766143799)",
          "(4.04057502746582, 4.0544891357421875)",
          "(4.036200523376465, 4.151724815368652)",
          "(4.034797668457031, 4.195265293121338)",
          "(4.03110408782959, 4.148965358734131)",
          "(4.02850866317749, 4.172780513763428)",
          "(4.027015209197998, 4.251646995544434)",
          "(4.024869918823242, 4.32684326171875)",
          "(4.02045202255249, 4.402712821960449)",
          "(4.020318984985352, 4.123946189880371)",
          "(4.016149044036865, 4.528037071228027)",
          "(3.996328353881836, 4.137568950653076)",
          "(3.9852733612060547, 4.413020133972168)",
          "(3.979062080383301, 4.130105495452881)",
          "(3.9660418033599854, 4.0343170166015625)",
          "(3.965764045715332, 4.768392562866211)",
          "(3.948768377304077, 4.006161212921143)",
          "(3.939113140106201, 4.141519069671631)",
          "(3.938889741897583, 3.994985342025757)",
          "(3.936220645904541, 4.76172399520874)",
          "(3.9354467391967773, 4.080564498901367)",
          "(3.9350640773773193, 4.479930400848389)",
          "(3.9317569732666016, 4.176149368286133)",
          "(3.9263041019439697, 4.133119106292725)",
          "(3.9246621131896973, 4.2428460121154785)",
          "(3.921726942062378, 4.270164489746094)",
          "(3.9149138927459717, 4.38792085647583)",
          "(3.914486885070801, 4.349729537963867)",
          "(3.9126791954040527, 4.14933443069458)",
          "(3.9109737873077393, 3.9432520866394043)",
          "(3.908424139022827, 4.338419437408447)",
          "(3.9067671298980713, 4.7091569900512695)",
          "(3.8985137939453125, 4.220607757568359)",
          "(3.895522356033325, 4.0610551834106445)",
          "(3.8919363021850586, 3.9949100017547607)",
          "(3.8784000873565674, 4.015748023986816)",
          "(3.8757693767547607, 4.409107208251953)",
          "(3.874958038330078, 4.2612786293029785)",
          "(3.871771812438965, 4.358841896057129)",
          "(3.8713881969451904, 4.3799920082092285)",
          "(3.868877649307251, 4.0227131843566895)",
          "(3.8676230907440186, 4.229130744934082)",
          "(3.866621732711792, 3.9069879055023193)",
          "(3.8665895462036133, 3.9629440307617188)",
          "(3.8599681854248047, 4.008817195892334)",
          "(3.855428457260132, 3.9161617755889893)",
          "(3.847583532333374, 4.409107208251953)",
          "(3.845707654953003, 3.931201696395874)",
          "(3.8419110774993896, 4.565506935119629)",
          "(3.8402979373931885, 4.333250522613525)",
          "(3.837237596511841, 4.789278030395508)",
          "(3.8338463306427, 4.138875961303711)",
          "(3.831817865371704, 3.8505210876464844)",
          "(3.8295412063598633, 4.130105495452881)",
          "(3.8201944828033447, 3.9601120948791504)",
          "(3.804589033126831, 3.935873508453369)",
          "(3.800063133239746, 4.463154315948486)",
          "(3.7879586219787598, 4.009936332702637)",
          "(3.7875237464904785, 4.175549507141113)",
          "(3.7864365577697754, 4.500778675079346)",
          "(3.7851362228393555, 4.077784061431885)",
          "(3.781934976577759, 3.917858600616455)",
          "(3.77660870552063, 4.288393020629883)",
          "(3.7714860439300537, 3.8637921810150146)",
          "(3.7706711292266846, 4.192771911621094)",
          "(3.7699501514434814, 4.497187614440918)",
          "(3.7671642303466797, 4.0610551834106445)",
          "(3.7621750831604004, 4.137568950653076)",
          "(3.7616565227508545, 4.030196666717529)",
          "(3.757018566131592, 4.050448894500732)",
          "(3.756060838699341, 3.855600595474243)",
          "(3.7556183338165283, 4.379242897033691)",
          "(3.7542526721954346, 4.128683090209961)",
          "(3.7471041679382324, 4.405633449554443)",
          "(3.7469065189361572, 3.7778964042663574)",
          "(3.7398359775543213, 3.9552459716796875)",
          "(3.7396352291107178, 3.829763412475586)",
          "(3.737139940261841, 4.193825721740723)",
          "(3.737121105194092, 4.172780513763428)",
          "(3.7371068000793457, 4.003358840942383)",
          "(3.732145071029663, 4.06194543838501)",
          "(3.7309696674346924, 4.052518367767334)",
          "(3.7254555225372314, 3.931201696395874)",
          "(3.7233211994171143, 3.9432520866394043)",
          "(3.7230935096740723, 4.008817195892334)",
          "(3.7205474376678467, 4.019402980804443)",
          "(3.7083609104156494, 4.208401679992676)",
          "(3.708185911178589, 3.833864212036133)",
          "(3.7059199810028076, 3.931990623474121)",
          "(3.698815107345581, 4.464456081390381)",
          "(3.6971964836120605, 4.0544891357421875)",
          "(3.696225643157959, 3.969890594482422)",
          "(3.6886279582977295, 4.176149368286133)",
          "(3.6747708320617676, 4.2612786293029785)",
          "(3.673858880996704, 3.75508975982666)",
          "(3.6723997592926025, 4.5209574699401855)",
          "(3.669095039367676, 4.022412300109863)",
          "(3.665349245071411, 4.272076606750488)",
          "(3.665180206298828, 4.13909387588501)",
          "(3.664147138595581, 4.060417652130127)",
          "(3.6636338233947754, 4.078376293182373)",
          "(3.660620927810669, 4.063297271728516)",
          "(3.66015362739563, 4.116252422332764)",
          "(3.65138840675354, 4.128042221069336)",
          "(3.65130352973938, 4.073587417602539)",
          "(3.64788818359375, 4.163400173187256)",
          "(3.6453428268432617, 3.893343210220337)",
          "(3.639859437942505, 4.115699291229248)",
          "(3.63938570022583, 4.010311603546143)",
          "(3.6355478763580322, 4.06194543838501)",
          "(3.6295979022979736, 4.006161212921143)",
          "(3.6185302734375, 4.052518367767334)",
          "(3.611130475997925, 3.955871105194092)",
          "(3.599334955215454, 4.297160625457764)",
          "(3.5987708568573, 4.227068901062012)",
          "(3.5955312252044678, 4.073043346405029)",
          "(3.5903139114379883, 4.42347526550293)",
          "(3.5889885425567627, 4.176149368286133)",
          "(3.5866281986236572, 4.134485721588135)",
          "(3.584244728088379, 4.130105495452881)",
          "(3.5816242694854736, 3.92228627204895)",
          "(3.5661821365356445, 3.98640775680542)",
          "(3.5596108436584473, 4.379739284515381)",
          "(3.5515406131744385, 4.406952857971191)",
          "(3.549189805984497, 3.6607184410095215)",
          "(3.5472145080566406, 3.9833028316497803)",
          "(3.5407156944274902, 4.259738922119141)",
          "(3.5379323959350586, 3.7778964042663574)",
          "(3.5376060009002686, 3.8358232975006104)",
          "(3.537590503692627, 3.8431243896484375)",
          "(3.5351970195770264, 3.577385663986206)",
          "(3.532370090484619, 4.193825721740723)",
          "(3.531224489212036, 4.251646995544434)",
          "(3.5278396606445312, 4.137568950653076)",
          "(3.5248754024505615, 4.2428460121154785)",
          "(3.5247538089752197, 3.618138551712036)",
          "(3.5242362022399902, 3.917858600616455)",
          "(3.5232608318328857, 4.287046432495117)",
          "(3.517829179763794, 4.133119106292725)",
          "(3.5130069255828857, 4.133326053619385)",
          "(3.502603530883789, 4.628664970397949)",
          "(3.5023884773254395, 3.9395852088928223)",
          "(3.4959378242492676, 4.127503871917725)",
          "(3.4880752563476562, 3.9180026054382324)",
          "(3.4843406677246094, 3.9096293449401855)",
          "(3.4826858043670654, 4.308334827423096)",
          "(3.48183274269104, 3.8505210876464844)",
          "(3.4733986854553223, 4.19413423538208)",
          "(3.4717366695404053, 4.525893211364746)",
          "(3.4670298099517822, 4.10207462310791)",
          "(3.462045669555664, 4.1246843338012695)",
          "(3.4570765495300293, 4.425347328186035)",
          "(3.4562020301818848, 4.052518367767334)",
          "(3.4525985717773438, 4.086115837097168)",
          "(3.451214075088501, 4.126891613006592)",
          "(3.450953245162964, 4.382063865661621)",
          "(3.4465081691741943, 4.231682300567627)",
          "(3.4461162090301514, 4.554173946380615)",
          "(3.430341958999634, 4.371488094329834)",
          "(3.42915678024292, 3.6671268939971924)",
          "(3.425290107727051, 4.479098796844482)",
          "(3.4223499298095703, 4.148965358734131)",
          "(3.4115209579467773, 4.979292392730713)",
          "(3.3987674713134766, 4.531069278717041)",
          "(3.3954408168792725, 3.9193403720855713)",
          "(3.3928611278533936, 3.7905752658843994)",
          "(3.3895440101623535, 4.757484436035156)",
          "(3.381521463394165, 4.133750915527344)",
          "(3.378147602081299, 4.308334827423096)",
          "(3.3769614696502686, 4.19608211517334)",
          "(3.371706008911133, 4.212869167327881)",
          "(3.3702969551086426, 3.6671268939971924)",
          "(3.368813991546631, 4.20188570022583)",
          "(3.3678832054138184, 4.225301742553711)",
          "(3.367445707321167, 4.0343170166015625)",
          "(3.3647749423980713, 3.4589147567749023)",
          "(3.3626043796539307, 4.523853778839111)",
          "(3.362309694290161, 4.3920159339904785)",
          "(3.3470213413238525, 4.117968559265137)",
          "(3.3455684185028076, 4.372650146484375)",
          "(3.333587884902954, 4.122465133666992)",
          "(3.3240506649017334, 3.7944655418395996)",
          "(3.3238749504089355, 3.840280055999756)",
          "(3.3228766918182373, 3.4734466075897217)",
          "(3.3228423595428467, 3.790834426879883)",
          "(3.3215575218200684, 3.6654276847839355)",
          "(3.318693161010742, 4.172780513763428)",
          "(3.317039728164673, 3.5358633995056152)",
          "(3.3166699409484863, 4.324412822723389)",
          "(3.3030261993408203, 3.4589147567749023)",
          "(3.3022825717926025, 3.577385663986206)",
          "(3.284677267074585, 3.931516170501709)",
          "(3.283555507659912, 3.945547103881836)",
          "(3.283193588256836, 3.840280055999756)",
          "(3.2784128189086914, 4.252377033233643)",
          "(3.2766919136047363, 3.4589147567749023)",
          "(3.2752881050109863, 3.893343210220337)",
          "(3.2752878665924072, 4.229130744934082)",
          "(3.2729063034057617, 3.5639731884002686)",
          "(3.2726328372955322, 3.6799917221069336)",
          "(3.2654566764831543, 3.8841118812561035)",
          "(3.2462940216064453, 4.4989519119262695)",
          "(3.2389612197875977, 4.207278728485107)",
          "(3.2352113723754883, 4.347242832183838)",
          "(3.2351810932159424, 3.4048116207122803)",
          "(3.2351431846618652, 4.318222999572754)",
          "(3.230504274368286, 4.505892276763916)",
          "(3.22823166847229, 3.7248148918151855)",
          "(3.225433826446533, 4.829329490661621)",
          "(3.218986749649048, 3.98640775680542)",
          "(3.2178304195404053, 3.945547103881836)",
          "(3.2136929035186768, 4.166217803955078)",
          "(3.1925954818725586, 3.8637921810150146)",
          "(3.191145896911621, 3.9481236934661865)",
          "(3.189784049987793, 4.166217803955078)",
          "(3.186354398727417, 3.7076587677001953)",
          "(3.1844584941864014, 3.931516170501709)",
          "(3.1802797317504883, 3.6133806705474854)",
          "(3.171187400817871, 4.354682445526123)",
          "(3.16298508644104, 4.266968727111816)",
          "(3.1558666229248047, 3.9841318130493164)",
          "(3.1541404724121094, 3.3000569343566895)",
          "(3.1410531997680664, 4.004950523376465)",
          "(3.1325881481170654, 4.231682300567627)",
          "(3.1312127113342285, 4.325644493103027)",
          "(3.1283812522888184, 4.167112350463867)",
          "(3.1260223388671875, 4.264352321624756)",
          "(3.1234090328216553, 4.2428460121154785)",
          "(3.116776466369629, 3.833306312561035)",
          "(3.1150567531585693, 3.8626391887664795)",
          "(3.1033661365509033, 3.774933099746704)",
          "(3.087146759033203, 3.9126439094543457)",
          "(3.0845947265625, 4.066219806671143)",
          "(3.084592819213867, 3.7905752658843994)",
          "(3.0837671756744385, 4.2088446617126465)",
          "(3.0832817554473877, 3.774933099746704)",
          "(3.0781362056732178, 3.9534857273101807)",
          "(3.067965030670166, 3.790834426879883)",
          "(3.066998243331909, 3.9432520866394043)",
          "(3.0598092079162598, 4.066219806671143)",
          "(3.052558183670044, 4.220607757568359)",
          "(3.051607608795166, 3.9136104583740234)",
          "(3.0497629642486572, 4.162868976593018)",
          "(3.049099922180176, 3.9841318130493164)",
          "(3.0457091331481934, 4.1246843338012695)",
          "(3.037511110305786, 4.176149368286133)",
          "(3.0372612476348877, 4.265600204467773)",
          "(3.0356314182281494, 3.55682635307312)",
          "(3.035060167312622, 4.12388801574707)",
          "(3.0239882469177246, 4.149137496948242)",
          "(3.0224480628967285, 4.066219806671143)",
          "(3.0210158824920654, 3.7494924068450928)",
          "(3.0173776149749756, 4.06682014465332)",
          "(3.004924774169922, 3.7507200241088867)",
          "(3.0023858547210693, 3.3000569343566895)",
          "(3.001426935195923, 3.9322030544281006)",
          "(2.9984371662139893, 4.14860725402832)",
          "(2.9980287551879883, 4.237412452697754)",
          "(2.995666742324829, 4.379242897033691)",
          "(2.98943829536438, 4.267480850219727)",
          "(2.9815030097961426, 3.786353826522827)",
          "(2.9802863597869873, 3.75508975982666)",
          "(2.974599838256836, 3.259760618209839)",
          "(2.9646801948547363, 4.360656261444092)",
          "(2.9368362426757812, 3.746048927307129)",
          "(2.935817003250122, 4.624059677124023)",
          "(2.9321248531341553, 3.55682635307312)",
          "(2.925295829772949, 3.969890594482422)",
          "(2.9249062538146973, 4.228257656097412)",
          "(2.9177987575531006, 4.162868976593018)",
          "(2.9138503074645996, 4.202559947967529)",
          "(2.8995871543884277, 3.9180026054382324)",
          "(2.8950886726379395, 3.258345603942871)",
          "(2.8941731452941895, 4.266968727111816)",
          "(2.8937325477600098, 4.06682014465332)",
          "(2.8867616653442383, 4.067684650421143)",
          "(2.8859786987304688, 4.122833728790283)",
          "(2.8819997310638428, 4.128042221069336)",
          "(2.871267795562744, 3.92228627204895)",
          "(2.8562979698181152, 4.07267427444458)",
          "(2.8523874282836914, 3.818638324737549)",
          "(2.847038984298706, 4.181906700134277)",
          "(2.838060140609741, 4.466240406036377)",
          "(2.8371543884277344, 4.013965129852295)",
          "(2.834859609603882, 3.9136104583740234)",
          "(2.8338260650634766, 3.4589147567749023)",
          "(2.833493947982788, 4.508941650390625)",
          "(2.8241541385650635, 4.243077278137207)",
          "(2.796931028366089, 3.75508975982666)",
          "(2.7921154499053955, 4.2532877922058105)",
          "(2.789780616760254, 4.250876426696777)",
          "(2.786696672439575, 4.128042221069336)",
          "(2.7862539291381836, 4.013965129852295)",
          "(2.7850465774536133, 4.3040924072265625)",
          "(2.7836389541625977, 4.231682300567627)",
          "(2.7674479484558105, 4.1246843338012695)",
          "(2.750861644744873, 4.302728652954102)",
          "(2.7419259548187256, 4.331275463104248)",
          "(2.7413103580474854, 4.010311603546143)",
          "(2.735905170440674, 4.1074934005737305)",
          "(2.712169885635376, 4.3920159339904785)",
          "(2.7049503326416016, 4.115699291229248)",
          "(2.6911802291870117, 4.050448894500732)",
          "(2.6637349128723145, 4.1246843338012695)",
          "(2.6427836418151855, 4.1246843338012695)",
          "(2.6296446323394775, 4.162868976593018)",
          "(2.620175838470459, 4.523853778839111)",
          "(2.591334104537964, 3.5889413356781006)",
          "(2.5864171981811523, 4.811660289764404)",
          "(2.5803351402282715, 4.10385274887085)",
          "(2.5653302669525146, 4.0114336013793945)",
          "(2.5408573150634766, 4.576107501983643)",
          "(2.537977695465088, 4.14860725402832)",
          "(2.533906936645508, 4.181906700134277)",
          "(2.493419885635376, 3.746048927307129)",
          "(2.465972661972046, 4.2786383628845215)",
          "(2.464501142501831, 4.013965129852295)",
          "(2.4419314861297607, 4.050448894500732)",
          "(2.441579818725586, 4.229130744934082)",
          "(2.436333179473877, 4.164865016937256)",
          "(2.429187536239624, 4.179760456085205)",
          "(2.4290926456451416, 4.122833728790283)",
          "(2.4230003356933594, 4.06194543838501)",
          "(2.4110069274902344, 4.128042221069336)",
          "(2.4070076942443848, 4.360656261444092)",
          "(2.4063003063201904, 4.259738922119141)",
          "(2.4050514698028564, 4.183903217315674)",
          "(2.4034605026245117, 4.015748023986816)",
          "(2.3994767665863037, 4.207278728485107)",
          "(2.3984146118164062, 4.184750080108643)",
          "(2.393185615539551, 4.231682300567627)",
          "(2.3411035537719727, 4.25365686416626)",
          "(2.309814691543579, 3.9719057083129883)",
          "(2.2846150398254395, 4.128042221069336)",
          "(2.280315637588501, 3.931201696395874)",
          "(2.2494118213653564, 4.1074934005737305)",
          "(2.2334470748901367, 3.7507200241088867)",
          "(2.225105047225952, 4.19577169418335)",
          "(2.142388105392456, 4.13909387588501)",
          "(2.1181676387786865, 4.271877288818359)",
          "(2.113309383392334, 4.19608211517334)",
          "(2.1056387424468994, 4.141724109649658)",
          "(1.8351200819015503, 4.253722190856934)",
          "(1.7760955095291138, 4.299095630645752)",
          "(1.4502427577972412, 4.243077278137207)"
         ],
         "mode": "markers",
         "name": "H1",
         "type": "scatter",
         "x": [
          4.864761829376221,
          4.712215900421143,
          4.639449596405029,
          4.605687141418457,
          4.597039222717285,
          4.552263259887695,
          4.443512439727783,
          4.430746555328369,
          4.392058372497559,
          4.3872575759887695,
          4.374630451202393,
          4.371518135070801,
          4.357083797454834,
          4.326182842254639,
          4.326165676116943,
          4.299139976501465,
          4.285272121429443,
          4.259733200073242,
          4.258163928985596,
          4.251573085784912,
          4.24249267578125,
          4.23703145980835,
          4.229780197143555,
          4.226404190063477,
          4.210396766662598,
          4.205014228820801,
          4.200793743133545,
          4.19327449798584,
          4.179664134979248,
          4.176661014556885,
          4.162486553192139,
          4.1515398025512695,
          4.14033842086792,
          4.118725776672363,
          4.116757869720459,
          4.1153693199157715,
          4.111800193786621,
          4.1094794273376465,
          4.107815742492676,
          4.1074371337890625,
          4.106817245483398,
          4.1056084632873535,
          4.102926731109619,
          4.102643013000488,
          4.101989269256592,
          4.089287281036377,
          4.085268974304199,
          4.081193447113037,
          4.080665588378906,
          4.079808712005615,
          4.066784381866455,
          4.065024375915527,
          4.06400203704834,
          4.063231468200684,
          4.055116176605225,
          4.0470967292785645,
          4.04057502746582,
          4.036200523376465,
          4.034797668457031,
          4.03110408782959,
          4.02850866317749,
          4.027015209197998,
          4.024869918823242,
          4.02045202255249,
          4.020318984985352,
          4.016149044036865,
          3.996328353881836,
          3.9852733612060547,
          3.979062080383301,
          3.9660418033599854,
          3.965764045715332,
          3.948768377304077,
          3.939113140106201,
          3.938889741897583,
          3.936220645904541,
          3.9354467391967773,
          3.9350640773773193,
          3.9317569732666016,
          3.9263041019439697,
          3.9246621131896973,
          3.921726942062378,
          3.9149138927459717,
          3.914486885070801,
          3.9126791954040527,
          3.9109737873077393,
          3.908424139022827,
          3.9067671298980713,
          3.8985137939453125,
          3.895522356033325,
          3.8919363021850586,
          3.8784000873565674,
          3.8757693767547607,
          3.874958038330078,
          3.871771812438965,
          3.8713881969451904,
          3.868877649307251,
          3.8676230907440186,
          3.866621732711792,
          3.8665895462036133,
          3.8599681854248047,
          3.855428457260132,
          3.847583532333374,
          3.845707654953003,
          3.8419110774993896,
          3.8402979373931885,
          3.837237596511841,
          3.8338463306427,
          3.831817865371704,
          3.8295412063598633,
          3.8201944828033447,
          3.804589033126831,
          3.800063133239746,
          3.7879586219787598,
          3.7875237464904785,
          3.7864365577697754,
          3.7851362228393555,
          3.781934976577759,
          3.77660870552063,
          3.7714860439300537,
          3.7706711292266846,
          3.7699501514434814,
          3.7671642303466797,
          3.7621750831604004,
          3.7616565227508545,
          3.757018566131592,
          3.756060838699341,
          3.7556183338165283,
          3.7542526721954346,
          3.7471041679382324,
          3.7469065189361572,
          3.7398359775543213,
          3.7396352291107178,
          3.737139940261841,
          3.737121105194092,
          3.7371068000793457,
          3.732145071029663,
          3.7309696674346924,
          3.7254555225372314,
          3.7233211994171143,
          3.7230935096740723,
          3.7205474376678467,
          3.7083609104156494,
          3.708185911178589,
          3.7059199810028076,
          3.698815107345581,
          3.6971964836120605,
          3.696225643157959,
          3.6886279582977295,
          3.6747708320617676,
          3.673858880996704,
          3.6723997592926025,
          3.669095039367676,
          3.665349245071411,
          3.665180206298828,
          3.664147138595581,
          3.6636338233947754,
          3.660620927810669,
          3.66015362739563,
          3.65138840675354,
          3.65130352973938,
          3.64788818359375,
          3.6453428268432617,
          3.639859437942505,
          3.63938570022583,
          3.6355478763580322,
          3.6295979022979736,
          3.6185302734375,
          3.611130475997925,
          3.599334955215454,
          3.5987708568573,
          3.5955312252044678,
          3.5903139114379883,
          3.5889885425567627,
          3.5866281986236572,
          3.584244728088379,
          3.5816242694854736,
          3.5661821365356445,
          3.5596108436584473,
          3.5515406131744385,
          3.549189805984497,
          3.5472145080566406,
          3.5407156944274902,
          3.5379323959350586,
          3.5376060009002686,
          3.537590503692627,
          3.5351970195770264,
          3.532370090484619,
          3.531224489212036,
          3.5278396606445312,
          3.5248754024505615,
          3.5247538089752197,
          3.5242362022399902,
          3.5232608318328857,
          3.517829179763794,
          3.5130069255828857,
          3.502603530883789,
          3.5023884773254395,
          3.4959378242492676,
          3.4880752563476562,
          3.4843406677246094,
          3.4826858043670654,
          3.48183274269104,
          3.4733986854553223,
          3.4717366695404053,
          3.4670298099517822,
          3.462045669555664,
          3.4570765495300293,
          3.4562020301818848,
          3.4525985717773438,
          3.451214075088501,
          3.450953245162964,
          3.4465081691741943,
          3.4461162090301514,
          3.430341958999634,
          3.42915678024292,
          3.425290107727051,
          3.4223499298095703,
          3.4115209579467773,
          3.3987674713134766,
          3.3954408168792725,
          3.3928611278533936,
          3.3895440101623535,
          3.381521463394165,
          3.378147602081299,
          3.3769614696502686,
          3.371706008911133,
          3.3702969551086426,
          3.368813991546631,
          3.3678832054138184,
          3.367445707321167,
          3.3647749423980713,
          3.3626043796539307,
          3.362309694290161,
          3.3470213413238525,
          3.3455684185028076,
          3.333587884902954,
          3.3240506649017334,
          3.3238749504089355,
          3.3228766918182373,
          3.3228423595428467,
          3.3215575218200684,
          3.318693161010742,
          3.317039728164673,
          3.3166699409484863,
          3.3030261993408203,
          3.3022825717926025,
          3.284677267074585,
          3.283555507659912,
          3.283193588256836,
          3.2784128189086914,
          3.2766919136047363,
          3.2752881050109863,
          3.2752878665924072,
          3.2729063034057617,
          3.2726328372955322,
          3.2654566764831543,
          3.2462940216064453,
          3.2389612197875977,
          3.2352113723754883,
          3.2351810932159424,
          3.2351431846618652,
          3.230504274368286,
          3.22823166847229,
          3.225433826446533,
          3.218986749649048,
          3.2178304195404053,
          3.2136929035186768,
          3.1925954818725586,
          3.191145896911621,
          3.189784049987793,
          3.186354398727417,
          3.1844584941864014,
          3.1802797317504883,
          3.171187400817871,
          3.16298508644104,
          3.1558666229248047,
          3.1541404724121094,
          3.1410531997680664,
          3.1325881481170654,
          3.1312127113342285,
          3.1283812522888184,
          3.1260223388671875,
          3.1234090328216553,
          3.116776466369629,
          3.1150567531585693,
          3.1033661365509033,
          3.087146759033203,
          3.0845947265625,
          3.084592819213867,
          3.0837671756744385,
          3.0832817554473877,
          3.0781362056732178,
          3.067965030670166,
          3.066998243331909,
          3.0598092079162598,
          3.052558183670044,
          3.051607608795166,
          3.0497629642486572,
          3.049099922180176,
          3.0457091331481934,
          3.037511110305786,
          3.0372612476348877,
          3.0356314182281494,
          3.035060167312622,
          3.0239882469177246,
          3.0224480628967285,
          3.0210158824920654,
          3.0173776149749756,
          3.004924774169922,
          3.0023858547210693,
          3.001426935195923,
          2.9984371662139893,
          2.9980287551879883,
          2.995666742324829,
          2.98943829536438,
          2.9815030097961426,
          2.9802863597869873,
          2.974599838256836,
          2.9646801948547363,
          2.9368362426757812,
          2.935817003250122,
          2.9321248531341553,
          2.925295829772949,
          2.9249062538146973,
          2.9177987575531006,
          2.9138503074645996,
          2.8995871543884277,
          2.8950886726379395,
          2.8941731452941895,
          2.8937325477600098,
          2.8867616653442383,
          2.8859786987304688,
          2.8819997310638428,
          2.871267795562744,
          2.8562979698181152,
          2.8523874282836914,
          2.847038984298706,
          2.838060140609741,
          2.8371543884277344,
          2.834859609603882,
          2.8338260650634766,
          2.833493947982788,
          2.8241541385650635,
          2.796931028366089,
          2.7921154499053955,
          2.789780616760254,
          2.786696672439575,
          2.7862539291381836,
          2.7850465774536133,
          2.7836389541625977,
          2.7674479484558105,
          2.750861644744873,
          2.7419259548187256,
          2.7413103580474854,
          2.735905170440674,
          2.712169885635376,
          2.7049503326416016,
          2.6911802291870117,
          2.6637349128723145,
          2.6427836418151855,
          2.6296446323394775,
          2.620175838470459,
          2.591334104537964,
          2.5864171981811523,
          2.5803351402282715,
          2.5653302669525146,
          2.5408573150634766,
          2.537977695465088,
          2.533906936645508,
          2.493419885635376,
          2.465972661972046,
          2.464501142501831,
          2.4419314861297607,
          2.441579818725586,
          2.436333179473877,
          2.429187536239624,
          2.4290926456451416,
          2.4230003356933594,
          2.4110069274902344,
          2.4070076942443848,
          2.4063003063201904,
          2.4050514698028564,
          2.4034605026245117,
          2.3994767665863037,
          2.3984146118164062,
          2.393185615539551,
          2.3411035537719727,
          2.309814691543579,
          2.2846150398254395,
          2.280315637588501,
          2.2494118213653564,
          2.2334470748901367,
          2.225105047225952,
          2.142388105392456,
          2.1181676387786865,
          2.113309383392334,
          2.1056387424468994,
          1.8351200819015503,
          1.7760955095291138,
          1.4502427577972412
         ],
         "y": [
          4.879148960113525,
          4.9339118003845215,
          4.702503681182861,
          4.789278030395508,
          4.879148960113525,
          4.631526947021484,
          4.70894718170166,
          4.454724311828613,
          4.402712821960449,
          4.529255390167236,
          4.379739284515381,
          4.863755702972412,
          4.6245036125183105,
          4.376598834991455,
          4.490725994110107,
          4.458094120025635,
          4.564711093902588,
          4.406630039215088,
          4.779881000518799,
          4.526793003082275,
          4.38792085647583,
          4.241304874420166,
          4.484519958496094,
          4.519902229309082,
          4.261612892150879,
          4.628664970397949,
          4.252377033233643,
          4.572418212890625,
          4.411952972412109,
          4.409107208251953,
          4.570221900939941,
          4.320969104766846,
          4.3040924072265625,
          4.241304874420166,
          4.151724815368652,
          4.222830772399902,
          4.628664970397949,
          4.553627967834473,
          4.362748146057129,
          4.575207710266113,
          4.270164489746094,
          4.719175815582275,
          4.425347328186035,
          4.361410617828369,
          4.123946189880371,
          4.208362102508545,
          4.3920159339904785,
          4.212869167327881,
          4.204580307006836,
          4.444896221160889,
          4.4308552742004395,
          4.223321437835693,
          4.7943830490112305,
          4.273581027984619,
          4.086115837097168,
          4.743015766143799,
          4.0544891357421875,
          4.151724815368652,
          4.195265293121338,
          4.148965358734131,
          4.172780513763428,
          4.251646995544434,
          4.32684326171875,
          4.402712821960449,
          4.123946189880371,
          4.528037071228027,
          4.137568950653076,
          4.413020133972168,
          4.130105495452881,
          4.0343170166015625,
          4.768392562866211,
          4.006161212921143,
          4.141519069671631,
          3.994985342025757,
          4.76172399520874,
          4.080564498901367,
          4.479930400848389,
          4.176149368286133,
          4.133119106292725,
          4.2428460121154785,
          4.270164489746094,
          4.38792085647583,
          4.349729537963867,
          4.14933443069458,
          3.9432520866394043,
          4.338419437408447,
          4.7091569900512695,
          4.220607757568359,
          4.0610551834106445,
          3.9949100017547607,
          4.015748023986816,
          4.409107208251953,
          4.2612786293029785,
          4.358841896057129,
          4.3799920082092285,
          4.0227131843566895,
          4.229130744934082,
          3.9069879055023193,
          3.9629440307617188,
          4.008817195892334,
          3.9161617755889893,
          4.409107208251953,
          3.931201696395874,
          4.565506935119629,
          4.333250522613525,
          4.789278030395508,
          4.138875961303711,
          3.8505210876464844,
          4.130105495452881,
          3.9601120948791504,
          3.935873508453369,
          4.463154315948486,
          4.009936332702637,
          4.175549507141113,
          4.500778675079346,
          4.077784061431885,
          3.917858600616455,
          4.288393020629883,
          3.8637921810150146,
          4.192771911621094,
          4.497187614440918,
          4.0610551834106445,
          4.137568950653076,
          4.030196666717529,
          4.050448894500732,
          3.855600595474243,
          4.379242897033691,
          4.128683090209961,
          4.405633449554443,
          3.7778964042663574,
          3.9552459716796875,
          3.829763412475586,
          4.193825721740723,
          4.172780513763428,
          4.003358840942383,
          4.06194543838501,
          4.052518367767334,
          3.931201696395874,
          3.9432520866394043,
          4.008817195892334,
          4.019402980804443,
          4.208401679992676,
          3.833864212036133,
          3.931990623474121,
          4.464456081390381,
          4.0544891357421875,
          3.969890594482422,
          4.176149368286133,
          4.2612786293029785,
          3.75508975982666,
          4.5209574699401855,
          4.022412300109863,
          4.272076606750488,
          4.13909387588501,
          4.060417652130127,
          4.078376293182373,
          4.063297271728516,
          4.116252422332764,
          4.128042221069336,
          4.073587417602539,
          4.163400173187256,
          3.893343210220337,
          4.115699291229248,
          4.010311603546143,
          4.06194543838501,
          4.006161212921143,
          4.052518367767334,
          3.955871105194092,
          4.297160625457764,
          4.227068901062012,
          4.073043346405029,
          4.42347526550293,
          4.176149368286133,
          4.134485721588135,
          4.130105495452881,
          3.92228627204895,
          3.98640775680542,
          4.379739284515381,
          4.406952857971191,
          3.6607184410095215,
          3.9833028316497803,
          4.259738922119141,
          3.7778964042663574,
          3.8358232975006104,
          3.8431243896484375,
          3.577385663986206,
          4.193825721740723,
          4.251646995544434,
          4.137568950653076,
          4.2428460121154785,
          3.618138551712036,
          3.917858600616455,
          4.287046432495117,
          4.133119106292725,
          4.133326053619385,
          4.628664970397949,
          3.9395852088928223,
          4.127503871917725,
          3.9180026054382324,
          3.9096293449401855,
          4.308334827423096,
          3.8505210876464844,
          4.19413423538208,
          4.525893211364746,
          4.10207462310791,
          4.1246843338012695,
          4.425347328186035,
          4.052518367767334,
          4.086115837097168,
          4.126891613006592,
          4.382063865661621,
          4.231682300567627,
          4.554173946380615,
          4.371488094329834,
          3.6671268939971924,
          4.479098796844482,
          4.148965358734131,
          4.979292392730713,
          4.531069278717041,
          3.9193403720855713,
          3.7905752658843994,
          4.757484436035156,
          4.133750915527344,
          4.308334827423096,
          4.19608211517334,
          4.212869167327881,
          3.6671268939971924,
          4.20188570022583,
          4.225301742553711,
          4.0343170166015625,
          3.4589147567749023,
          4.523853778839111,
          4.3920159339904785,
          4.117968559265137,
          4.372650146484375,
          4.122465133666992,
          3.7944655418395996,
          3.840280055999756,
          3.4734466075897217,
          3.790834426879883,
          3.6654276847839355,
          4.172780513763428,
          3.5358633995056152,
          4.324412822723389,
          3.4589147567749023,
          3.577385663986206,
          3.931516170501709,
          3.945547103881836,
          3.840280055999756,
          4.252377033233643,
          3.4589147567749023,
          3.893343210220337,
          4.229130744934082,
          3.5639731884002686,
          3.6799917221069336,
          3.8841118812561035,
          4.4989519119262695,
          4.207278728485107,
          4.347242832183838,
          3.4048116207122803,
          4.318222999572754,
          4.505892276763916,
          3.7248148918151855,
          4.829329490661621,
          3.98640775680542,
          3.945547103881836,
          4.166217803955078,
          3.8637921810150146,
          3.9481236934661865,
          4.166217803955078,
          3.7076587677001953,
          3.931516170501709,
          3.6133806705474854,
          4.354682445526123,
          4.266968727111816,
          3.9841318130493164,
          3.3000569343566895,
          4.004950523376465,
          4.231682300567627,
          4.325644493103027,
          4.167112350463867,
          4.264352321624756,
          4.2428460121154785,
          3.833306312561035,
          3.8626391887664795,
          3.774933099746704,
          3.9126439094543457,
          4.066219806671143,
          3.7905752658843994,
          4.2088446617126465,
          3.774933099746704,
          3.9534857273101807,
          3.790834426879883,
          3.9432520866394043,
          4.066219806671143,
          4.220607757568359,
          3.9136104583740234,
          4.162868976593018,
          3.9841318130493164,
          4.1246843338012695,
          4.176149368286133,
          4.265600204467773,
          3.55682635307312,
          4.12388801574707,
          4.149137496948242,
          4.066219806671143,
          3.7494924068450928,
          4.06682014465332,
          3.7507200241088867,
          3.3000569343566895,
          3.9322030544281006,
          4.14860725402832,
          4.237412452697754,
          4.379242897033691,
          4.267480850219727,
          3.786353826522827,
          3.75508975982666,
          3.259760618209839,
          4.360656261444092,
          3.746048927307129,
          4.624059677124023,
          3.55682635307312,
          3.969890594482422,
          4.228257656097412,
          4.162868976593018,
          4.202559947967529,
          3.9180026054382324,
          3.258345603942871,
          4.266968727111816,
          4.06682014465332,
          4.067684650421143,
          4.122833728790283,
          4.128042221069336,
          3.92228627204895,
          4.07267427444458,
          3.818638324737549,
          4.181906700134277,
          4.466240406036377,
          4.013965129852295,
          3.9136104583740234,
          3.4589147567749023,
          4.508941650390625,
          4.243077278137207,
          3.75508975982666,
          4.2532877922058105,
          4.250876426696777,
          4.128042221069336,
          4.013965129852295,
          4.3040924072265625,
          4.231682300567627,
          4.1246843338012695,
          4.302728652954102,
          4.331275463104248,
          4.010311603546143,
          4.1074934005737305,
          4.3920159339904785,
          4.115699291229248,
          4.050448894500732,
          4.1246843338012695,
          4.1246843338012695,
          4.162868976593018,
          4.523853778839111,
          3.5889413356781006,
          4.811660289764404,
          4.10385274887085,
          4.0114336013793945,
          4.576107501983643,
          4.14860725402832,
          4.181906700134277,
          3.746048927307129,
          4.2786383628845215,
          4.013965129852295,
          4.050448894500732,
          4.229130744934082,
          4.164865016937256,
          4.179760456085205,
          4.122833728790283,
          4.06194543838501,
          4.128042221069336,
          4.360656261444092,
          4.259738922119141,
          4.183903217315674,
          4.015748023986816,
          4.207278728485107,
          4.184750080108643,
          4.231682300567627,
          4.25365686416626,
          3.9719057083129883,
          4.128042221069336,
          3.931201696395874,
          4.1074934005737305,
          3.7507200241088867,
          4.19577169418335,
          4.13909387588501,
          4.271877288818359,
          4.19608211517334,
          4.141724109649658,
          4.253722190856934,
          4.299095630645752,
          4.243077278137207
         ]
        }
       ],
       "layout": {
        "height": 500,
        "plot_bgcolor": "white",
        "template": {
         "data": {
          "bar": [
           {
            "error_x": {
             "color": "#2a3f5f"
            },
            "error_y": {
             "color": "#2a3f5f"
            },
            "marker": {
             "line": {
              "color": "#E5ECF6",
              "width": 0.5
             },
             "pattern": {
              "fillmode": "overlay",
              "size": 10,
              "solidity": 0.2
             }
            },
            "type": "bar"
           }
          ],
          "barpolar": [
           {
            "marker": {
             "line": {
              "color": "#E5ECF6",
              "width": 0.5
             },
             "pattern": {
              "fillmode": "overlay",
              "size": 10,
              "solidity": 0.2
             }
            },
            "type": "barpolar"
           }
          ],
          "carpet": [
           {
            "aaxis": {
             "endlinecolor": "#2a3f5f",
             "gridcolor": "white",
             "linecolor": "white",
             "minorgridcolor": "white",
             "startlinecolor": "#2a3f5f"
            },
            "baxis": {
             "endlinecolor": "#2a3f5f",
             "gridcolor": "white",
             "linecolor": "white",
             "minorgridcolor": "white",
             "startlinecolor": "#2a3f5f"
            },
            "type": "carpet"
           }
          ],
          "choropleth": [
           {
            "colorbar": {
             "outlinewidth": 0,
             "ticks": ""
            },
            "type": "choropleth"
           }
          ],
          "contour": [
           {
            "colorbar": {
             "outlinewidth": 0,
             "ticks": ""
            },
            "colorscale": [
             [
              0,
              "#0d0887"
             ],
             [
              0.1111111111111111,
              "#46039f"
             ],
             [
              0.2222222222222222,
              "#7201a8"
             ],
             [
              0.3333333333333333,
              "#9c179e"
             ],
             [
              0.4444444444444444,
              "#bd3786"
             ],
             [
              0.5555555555555556,
              "#d8576b"
             ],
             [
              0.6666666666666666,
              "#ed7953"
             ],
             [
              0.7777777777777778,
              "#fb9f3a"
             ],
             [
              0.8888888888888888,
              "#fdca26"
             ],
             [
              1,
              "#f0f921"
             ]
            ],
            "type": "contour"
           }
          ],
          "contourcarpet": [
           {
            "colorbar": {
             "outlinewidth": 0,
             "ticks": ""
            },
            "type": "contourcarpet"
           }
          ],
          "heatmap": [
           {
            "colorbar": {
             "outlinewidth": 0,
             "ticks": ""
            },
            "colorscale": [
             [
              0,
              "#0d0887"
             ],
             [
              0.1111111111111111,
              "#46039f"
             ],
             [
              0.2222222222222222,
              "#7201a8"
             ],
             [
              0.3333333333333333,
              "#9c179e"
             ],
             [
              0.4444444444444444,
              "#bd3786"
             ],
             [
              0.5555555555555556,
              "#d8576b"
             ],
             [
              0.6666666666666666,
              "#ed7953"
             ],
             [
              0.7777777777777778,
              "#fb9f3a"
             ],
             [
              0.8888888888888888,
              "#fdca26"
             ],
             [
              1,
              "#f0f921"
             ]
            ],
            "type": "heatmap"
           }
          ],
          "heatmapgl": [
           {
            "colorbar": {
             "outlinewidth": 0,
             "ticks": ""
            },
            "colorscale": [
             [
              0,
              "#0d0887"
             ],
             [
              0.1111111111111111,
              "#46039f"
             ],
             [
              0.2222222222222222,
              "#7201a8"
             ],
             [
              0.3333333333333333,
              "#9c179e"
             ],
             [
              0.4444444444444444,
              "#bd3786"
             ],
             [
              0.5555555555555556,
              "#d8576b"
             ],
             [
              0.6666666666666666,
              "#ed7953"
             ],
             [
              0.7777777777777778,
              "#fb9f3a"
             ],
             [
              0.8888888888888888,
              "#fdca26"
             ],
             [
              1,
              "#f0f921"
             ]
            ],
            "type": "heatmapgl"
           }
          ],
          "histogram": [
           {
            "marker": {
             "pattern": {
              "fillmode": "overlay",
              "size": 10,
              "solidity": 0.2
             }
            },
            "type": "histogram"
           }
          ],
          "histogram2d": [
           {
            "colorbar": {
             "outlinewidth": 0,
             "ticks": ""
            },
            "colorscale": [
             [
              0,
              "#0d0887"
             ],
             [
              0.1111111111111111,
              "#46039f"
             ],
             [
              0.2222222222222222,
              "#7201a8"
             ],
             [
              0.3333333333333333,
              "#9c179e"
             ],
             [
              0.4444444444444444,
              "#bd3786"
             ],
             [
              0.5555555555555556,
              "#d8576b"
             ],
             [
              0.6666666666666666,
              "#ed7953"
             ],
             [
              0.7777777777777778,
              "#fb9f3a"
             ],
             [
              0.8888888888888888,
              "#fdca26"
             ],
             [
              1,
              "#f0f921"
             ]
            ],
            "type": "histogram2d"
           }
          ],
          "histogram2dcontour": [
           {
            "colorbar": {
             "outlinewidth": 0,
             "ticks": ""
            },
            "colorscale": [
             [
              0,
              "#0d0887"
             ],
             [
              0.1111111111111111,
              "#46039f"
             ],
             [
              0.2222222222222222,
              "#7201a8"
             ],
             [
              0.3333333333333333,
              "#9c179e"
             ],
             [
              0.4444444444444444,
              "#bd3786"
             ],
             [
              0.5555555555555556,
              "#d8576b"
             ],
             [
              0.6666666666666666,
              "#ed7953"
             ],
             [
              0.7777777777777778,
              "#fb9f3a"
             ],
             [
              0.8888888888888888,
              "#fdca26"
             ],
             [
              1,
              "#f0f921"
             ]
            ],
            "type": "histogram2dcontour"
           }
          ],
          "mesh3d": [
           {
            "colorbar": {
             "outlinewidth": 0,
             "ticks": ""
            },
            "type": "mesh3d"
           }
          ],
          "parcoords": [
           {
            "line": {
             "colorbar": {
              "outlinewidth": 0,
              "ticks": ""
             }
            },
            "type": "parcoords"
           }
          ],
          "pie": [
           {
            "automargin": true,
            "type": "pie"
           }
          ],
          "scatter": [
           {
            "fillpattern": {
             "fillmode": "overlay",
             "size": 10,
             "solidity": 0.2
            },
            "type": "scatter"
           }
          ],
          "scatter3d": [
           {
            "line": {
             "colorbar": {
              "outlinewidth": 0,
              "ticks": ""
             }
            },
            "marker": {
             "colorbar": {
              "outlinewidth": 0,
              "ticks": ""
             }
            },
            "type": "scatter3d"
           }
          ],
          "scattercarpet": [
           {
            "marker": {
             "colorbar": {
              "outlinewidth": 0,
              "ticks": ""
             }
            },
            "type": "scattercarpet"
           }
          ],
          "scattergeo": [
           {
            "marker": {
             "colorbar": {
              "outlinewidth": 0,
              "ticks": ""
             }
            },
            "type": "scattergeo"
           }
          ],
          "scattergl": [
           {
            "marker": {
             "colorbar": {
              "outlinewidth": 0,
              "ticks": ""
             }
            },
            "type": "scattergl"
           }
          ],
          "scattermapbox": [
           {
            "marker": {
             "colorbar": {
              "outlinewidth": 0,
              "ticks": ""
             }
            },
            "type": "scattermapbox"
           }
          ],
          "scatterpolar": [
           {
            "marker": {
             "colorbar": {
              "outlinewidth": 0,
              "ticks": ""
             }
            },
            "type": "scatterpolar"
           }
          ],
          "scatterpolargl": [
           {
            "marker": {
             "colorbar": {
              "outlinewidth": 0,
              "ticks": ""
             }
            },
            "type": "scatterpolargl"
           }
          ],
          "scatterternary": [
           {
            "marker": {
             "colorbar": {
              "outlinewidth": 0,
              "ticks": ""
             }
            },
            "type": "scatterternary"
           }
          ],
          "surface": [
           {
            "colorbar": {
             "outlinewidth": 0,
             "ticks": ""
            },
            "colorscale": [
             [
              0,
              "#0d0887"
             ],
             [
              0.1111111111111111,
              "#46039f"
             ],
             [
              0.2222222222222222,
              "#7201a8"
             ],
             [
              0.3333333333333333,
              "#9c179e"
             ],
             [
              0.4444444444444444,
              "#bd3786"
             ],
             [
              0.5555555555555556,
              "#d8576b"
             ],
             [
              0.6666666666666666,
              "#ed7953"
             ],
             [
              0.7777777777777778,
              "#fb9f3a"
             ],
             [
              0.8888888888888888,
              "#fdca26"
             ],
             [
              1,
              "#f0f921"
             ]
            ],
            "type": "surface"
           }
          ],
          "table": [
           {
            "cells": {
             "fill": {
              "color": "#EBF0F8"
             },
             "line": {
              "color": "white"
             }
            },
            "header": {
             "fill": {
              "color": "#C8D4E3"
             },
             "line": {
              "color": "white"
             }
            },
            "type": "table"
           }
          ]
         },
         "layout": {
          "annotationdefaults": {
           "arrowcolor": "#2a3f5f",
           "arrowhead": 0,
           "arrowwidth": 1
          },
          "autotypenumbers": "strict",
          "coloraxis": {
           "colorbar": {
            "outlinewidth": 0,
            "ticks": ""
           }
          },
          "colorscale": {
           "diverging": [
            [
             0,
             "#8e0152"
            ],
            [
             0.1,
             "#c51b7d"
            ],
            [
             0.2,
             "#de77ae"
            ],
            [
             0.3,
             "#f1b6da"
            ],
            [
             0.4,
             "#fde0ef"
            ],
            [
             0.5,
             "#f7f7f7"
            ],
            [
             0.6,
             "#e6f5d0"
            ],
            [
             0.7,
             "#b8e186"
            ],
            [
             0.8,
             "#7fbc41"
            ],
            [
             0.9,
             "#4d9221"
            ],
            [
             1,
             "#276419"
            ]
           ],
           "sequential": [
            [
             0,
             "#0d0887"
            ],
            [
             0.1111111111111111,
             "#46039f"
            ],
            [
             0.2222222222222222,
             "#7201a8"
            ],
            [
             0.3333333333333333,
             "#9c179e"
            ],
            [
             0.4444444444444444,
             "#bd3786"
            ],
            [
             0.5555555555555556,
             "#d8576b"
            ],
            [
             0.6666666666666666,
             "#ed7953"
            ],
            [
             0.7777777777777778,
             "#fb9f3a"
            ],
            [
             0.8888888888888888,
             "#fdca26"
            ],
            [
             1,
             "#f0f921"
            ]
           ],
           "sequentialminus": [
            [
             0,
             "#0d0887"
            ],
            [
             0.1111111111111111,
             "#46039f"
            ],
            [
             0.2222222222222222,
             "#7201a8"
            ],
            [
             0.3333333333333333,
             "#9c179e"
            ],
            [
             0.4444444444444444,
             "#bd3786"
            ],
            [
             0.5555555555555556,
             "#d8576b"
            ],
            [
             0.6666666666666666,
             "#ed7953"
            ],
            [
             0.7777777777777778,
             "#fb9f3a"
            ],
            [
             0.8888888888888888,
             "#fdca26"
            ],
            [
             1,
             "#f0f921"
            ]
           ]
          },
          "colorway": [
           "#636efa",
           "#EF553B",
           "#00cc96",
           "#ab63fa",
           "#FFA15A",
           "#19d3f3",
           "#FF6692",
           "#B6E880",
           "#FF97FF",
           "#FECB52"
          ],
          "font": {
           "color": "#2a3f5f"
          },
          "geo": {
           "bgcolor": "white",
           "lakecolor": "white",
           "landcolor": "#E5ECF6",
           "showlakes": true,
           "showland": true,
           "subunitcolor": "white"
          },
          "hoverlabel": {
           "align": "left"
          },
          "hovermode": "closest",
          "mapbox": {
           "style": "light"
          },
          "paper_bgcolor": "white",
          "plot_bgcolor": "#E5ECF6",
          "polar": {
           "angularaxis": {
            "gridcolor": "white",
            "linecolor": "white",
            "ticks": ""
           },
           "bgcolor": "#E5ECF6",
           "radialaxis": {
            "gridcolor": "white",
            "linecolor": "white",
            "ticks": ""
           }
          },
          "scene": {
           "xaxis": {
            "backgroundcolor": "#E5ECF6",
            "gridcolor": "white",
            "gridwidth": 2,
            "linecolor": "white",
            "showbackground": true,
            "ticks": "",
            "zerolinecolor": "white"
           },
           "yaxis": {
            "backgroundcolor": "#E5ECF6",
            "gridcolor": "white",
            "gridwidth": 2,
            "linecolor": "white",
            "showbackground": true,
            "ticks": "",
            "zerolinecolor": "white"
           },
           "zaxis": {
            "backgroundcolor": "#E5ECF6",
            "gridcolor": "white",
            "gridwidth": 2,
            "linecolor": "white",
            "showbackground": true,
            "ticks": "",
            "zerolinecolor": "white"
           }
          },
          "shapedefaults": {
           "line": {
            "color": "#2a3f5f"
           }
          },
          "ternary": {
           "aaxis": {
            "gridcolor": "white",
            "linecolor": "white",
            "ticks": ""
           },
           "baxis": {
            "gridcolor": "white",
            "linecolor": "white",
            "ticks": ""
           },
           "bgcolor": "#E5ECF6",
           "caxis": {
            "gridcolor": "white",
            "linecolor": "white",
            "ticks": ""
           }
          },
          "title": {
           "x": 0.05
          },
          "xaxis": {
           "automargin": true,
           "gridcolor": "white",
           "linecolor": "white",
           "ticks": "",
           "title": {
            "standoff": 15
           },
           "zerolinecolor": "white",
           "zerolinewidth": 2
          },
          "yaxis": {
           "automargin": true,
           "gridcolor": "white",
           "linecolor": "white",
           "ticks": "",
           "title": {
            "standoff": 15
           },
           "zerolinecolor": "white",
           "zerolinewidth": 2
          }
         }
        },
        "width": 500,
        "xaxis": {
         "autorange": false,
         "exponentformat": "e",
         "linecolor": "black",
         "linewidth": 1,
         "mirror": false,
         "range": [
          -0.09958584785461426,
          5.078878240585327
         ],
         "showexponent": "all",
         "showline": true,
         "side": "bottom",
         "ticks": "outside",
         "title": {
          "text": "Birth"
         },
         "type": "linear",
         "zeroline": true
        },
        "yaxis": {
         "autorange": false,
         "exponentformat": "e",
         "linecolor": "black",
         "linewidth": 1,
         "mirror": false,
         "range": [
          -0.09958584785461426,
          5.078878240585327
         ],
         "scaleanchor": "x",
         "scaleratio": 1,
         "showexponent": "all",
         "showline": true,
         "side": "left",
         "ticks": "outside",
         "title": {
          "text": "Death"
         },
         "type": "linear",
         "zeroline": true
        }
       }
      },
      "text/html": [
       "<div>                            <div id=\"cd0258f1-7a4f-42b2-bb10-093bb1e1f1ec\" class=\"plotly-graph-div\" style=\"height:500px; width:500px;\"></div>            <script type=\"text/javascript\">                require([\"plotly\"], function(Plotly) {                    window.PLOTLYENV=window.PLOTLYENV || {};                                    if (document.getElementById(\"cd0258f1-7a4f-42b2-bb10-093bb1e1f1ec\")) {                    Plotly.newPlot(                        \"cd0258f1-7a4f-42b2-bb10-093bb1e1f1ec\",                        [{\"hoverinfo\":\"none\",\"line\":{\"color\":\"black\",\"dash\":\"dash\",\"width\":1},\"mode\":\"lines\",\"showlegend\":false,\"x\":[-0.09958584785461426,5.078878240585327],\"y\":[-0.09958584785461426,5.078878240585327],\"type\":\"scatter\"},{\"hoverinfo\":\"text\",\"hovertext\":[\"(0.0, 0.30760353803634644)\",\"(0.0, 0.5064101815223694)\",\"(0.0, 0.7918812036514282)\",\"(0.0, 0.8621941208839417)\",\"(0.0, 0.8964433073997498)\",\"(0.0, 0.9704688191413879)\",\"(0.0, 0.982617974281311)\",\"(0.0, 1.0281835794448853)\",\"(0.0, 1.051692008972168)\",\"(0.0, 1.1055837869644165)\",\"(0.0, 1.1112854480743408)\",\"(0.0, 1.1118634939193726)\",\"(0.0, 1.1759861707687378)\",\"(0.0, 1.1808522939682007)\",\"(0.0, 1.201285481452942)\",\"(0.0, 1.2592768669128418)\",\"(0.0, 1.2796980142593384)\",\"(0.0, 1.3276643753051758)\",\"(0.0, 1.3689517974853516)\",\"(0.0, 1.37509286403656)\",\"(0.0, 1.3784987926483154)\",\"(0.0, 1.3853652477264404)\",\"(0.0, 1.3976291418075562)\",\"(0.0, 1.3998863697052002)\",\"(0.0, 1.5507303476333618)\",\"(0.0, 1.6289899349212646)\",\"(0.0, 1.633103609085083)\",\"(0.0, 1.6470746994018555)\",\"(0.0, 1.6666122674942017)\",\"(0.0, 1.6688494682312012)\",\"(0.0, 1.672558307647705)\",\"(0.0, 1.7725694179534912)\",\"(0.0, 1.8012735843658447)\",\"(0.0, 1.8145424127578735)\",\"(0.0, 1.8219842910766602)\",\"(0.0, 1.8378013372421265)\",\"(0.0, 1.848803997039795)\",\"(0.0, 1.8523973226547241)\",\"(0.0, 1.88454270362854)\",\"(0.0, 1.8847849369049072)\",\"(0.0, 1.8996036052703857)\",\"(0.0, 1.9068729877471924)\",\"(0.0, 1.920496940612793)\",\"(0.0, 1.9357870817184448)\",\"(0.0, 1.942502498626709)\",\"(0.0, 1.9452552795410156)\",\"(0.0, 1.9870163202285767)\",\"(0.0, 1.9885367155075073)\",\"(0.0, 2.001138925552368)\",\"(0.0, 2.0038983821868896)\",\"(0.0, 2.0156400203704834)\",\"(0.0, 2.022488832473755)\",\"(0.0, 2.0268893241882324)\",\"(0.0, 2.0295891761779785)\",\"(0.0, 2.0344982147216797)\",\"(0.0, 2.069561719894409)\",\"(0.0, 2.0810956954956055)\",\"(0.0, 2.081348419189453)\",\"(0.0, 2.0899658203125)\",\"(0.0, 2.0999197959899902)\",\"(0.0, 2.1101300716400146)\",\"(0.0, 2.1110188961029053)\",\"(0.0, 2.1368982791900635)\",\"(0.0, 2.137362003326416)\",\"(0.0, 2.160932779312134)\",\"(0.0, 2.1663968563079834)\",\"(0.0, 2.1682374477386475)\",\"(0.0, 2.186722993850708)\",\"(0.0, 2.204568386077881)\",\"(0.0, 2.2419633865356445)\",\"(0.0, 2.2434189319610596)\",\"(0.0, 2.2592711448669434)\",\"(0.0, 2.26712965965271)\",\"(0.0, 2.303661584854126)\",\"(0.0, 2.313772201538086)\",\"(0.0, 2.337127923965454)\",\"(0.0, 2.341702461242676)\",\"(0.0, 2.370518684387207)\",\"(0.0, 2.4069974422454834)\",\"(0.0, 2.511328935623169)\",\"(0.0, 2.579744577407837)\",\"(0.0, 2.6268205642700195)\",\"(0.0, 2.643326759338379)\",\"(0.0, 2.6873815059661865)\",\"(0.0, 2.71146559715271)\",\"(0.0, 2.7877485752105713)\",\"(0.0, 2.809140920639038)\",\"(0.0, 2.8137574195861816)\",\"(0.0, 2.860966682434082)\",\"(0.0, 2.880561590194702)\",\"(0.0, 2.909884214401245)\",\"(0.0, 2.9127683639526367)\",\"(0.0, 3.0202765464782715)\",\"(0.0, 3.152364730834961)\",\"(0.0, 3.1945033073425293)\",\"(0.0, 3.21905517578125)\",\"(0.0, 3.226395606994629)\",\"(0.0, 3.366326332092285)\"],\"mode\":\"markers\",\"name\":\"H0\",\"x\":[0.0,0.0,0.0,0.0,0.0,0.0,0.0,0.0,0.0,0.0,0.0,0.0,0.0,0.0,0.0,0.0,0.0,0.0,0.0,0.0,0.0,0.0,0.0,0.0,0.0,0.0,0.0,0.0,0.0,0.0,0.0,0.0,0.0,0.0,0.0,0.0,0.0,0.0,0.0,0.0,0.0,0.0,0.0,0.0,0.0,0.0,0.0,0.0,0.0,0.0,0.0,0.0,0.0,0.0,0.0,0.0,0.0,0.0,0.0,0.0,0.0,0.0,0.0,0.0,0.0,0.0,0.0,0.0,0.0,0.0,0.0,0.0,0.0,0.0,0.0,0.0,0.0,0.0,0.0,0.0,0.0,0.0,0.0,0.0,0.0,0.0,0.0,0.0,0.0,0.0,0.0,0.0,0.0,0.0,0.0,0.0,0.0,0.0],\"y\":[0.30760353803634644,0.5064101815223694,0.7918812036514282,0.8621941208839417,0.8964433073997498,0.9704688191413879,0.982617974281311,1.0281835794448853,1.051692008972168,1.1055837869644165,1.1112854480743408,1.1118634939193726,1.1759861707687378,1.1808522939682007,1.201285481452942,1.2592768669128418,1.2796980142593384,1.3276643753051758,1.3689517974853516,1.37509286403656,1.3784987926483154,1.3853652477264404,1.3976291418075562,1.3998863697052002,1.5507303476333618,1.6289899349212646,1.633103609085083,1.6470746994018555,1.6666122674942017,1.6688494682312012,1.672558307647705,1.7725694179534912,1.8012735843658447,1.8145424127578735,1.8219842910766602,1.8378013372421265,1.848803997039795,1.8523973226547241,1.88454270362854,1.8847849369049072,1.8996036052703857,1.9068729877471924,1.920496940612793,1.9357870817184448,1.942502498626709,1.9452552795410156,1.9870163202285767,1.9885367155075073,2.001138925552368,2.0038983821868896,2.0156400203704834,2.022488832473755,2.0268893241882324,2.0295891761779785,2.0344982147216797,2.069561719894409,2.0810956954956055,2.081348419189453,2.0899658203125,2.0999197959899902,2.1101300716400146,2.1110188961029053,2.1368982791900635,2.137362003326416,2.160932779312134,2.1663968563079834,2.1682374477386475,2.186722993850708,2.204568386077881,2.2419633865356445,2.2434189319610596,2.2592711448669434,2.26712965965271,2.303661584854126,2.313772201538086,2.337127923965454,2.341702461242676,2.370518684387207,2.4069974422454834,2.511328935623169,2.579744577407837,2.6268205642700195,2.643326759338379,2.6873815059661865,2.71146559715271,2.7877485752105713,2.809140920639038,2.8137574195861816,2.860966682434082,2.880561590194702,2.909884214401245,2.9127683639526367,3.0202765464782715,3.152364730834961,3.1945033073425293,3.21905517578125,3.226395606994629,3.366326332092285],\"type\":\"scatter\"},{\"hoverinfo\":\"text\",\"hovertext\":[\"(4.864761829376221, 4.879148960113525)\",\"(4.712215900421143, 4.9339118003845215)\",\"(4.639449596405029, 4.702503681182861)\",\"(4.605687141418457, 4.789278030395508)\",\"(4.597039222717285, 4.879148960113525)\",\"(4.552263259887695, 4.631526947021484)\",\"(4.443512439727783, 4.70894718170166)\",\"(4.430746555328369, 4.454724311828613)\",\"(4.392058372497559, 4.402712821960449)\",\"(4.3872575759887695, 4.529255390167236)\",\"(4.374630451202393, 4.379739284515381)\",\"(4.371518135070801, 4.863755702972412)\",\"(4.357083797454834, 4.6245036125183105)\",\"(4.326182842254639, 4.376598834991455)\",\"(4.326165676116943, 4.490725994110107)\",\"(4.299139976501465, 4.458094120025635)\",\"(4.285272121429443, 4.564711093902588)\",\"(4.259733200073242, 4.406630039215088)\",\"(4.258163928985596, 4.779881000518799)\",\"(4.251573085784912, 4.526793003082275)\",\"(4.24249267578125, 4.38792085647583)\",\"(4.23703145980835, 4.241304874420166)\",\"(4.229780197143555, 4.484519958496094)\",\"(4.226404190063477, 4.519902229309082)\",\"(4.210396766662598, 4.261612892150879)\",\"(4.205014228820801, 4.628664970397949)\",\"(4.200793743133545, 4.252377033233643)\",\"(4.19327449798584, 4.572418212890625)\",\"(4.179664134979248, 4.411952972412109)\",\"(4.176661014556885, 4.409107208251953)\",\"(4.162486553192139, 4.570221900939941)\",\"(4.1515398025512695, 4.320969104766846)\",\"(4.14033842086792, 4.3040924072265625)\",\"(4.118725776672363, 4.241304874420166)\",\"(4.116757869720459, 4.151724815368652)\",\"(4.1153693199157715, 4.222830772399902)\",\"(4.111800193786621, 4.628664970397949)\",\"(4.1094794273376465, 4.553627967834473)\",\"(4.107815742492676, 4.362748146057129)\",\"(4.1074371337890625, 4.575207710266113)\",\"(4.106817245483398, 4.270164489746094)\",\"(4.1056084632873535, 4.719175815582275)\",\"(4.102926731109619, 4.425347328186035)\",\"(4.102643013000488, 4.361410617828369)\",\"(4.101989269256592, 4.123946189880371)\",\"(4.089287281036377, 4.208362102508545)\",\"(4.085268974304199, 4.3920159339904785)\",\"(4.081193447113037, 4.212869167327881)\",\"(4.080665588378906, 4.204580307006836)\",\"(4.079808712005615, 4.444896221160889)\",\"(4.066784381866455, 4.4308552742004395)\",\"(4.065024375915527, 4.223321437835693)\",\"(4.06400203704834, 4.7943830490112305)\",\"(4.063231468200684, 4.273581027984619)\",\"(4.055116176605225, 4.086115837097168)\",\"(4.0470967292785645, 4.743015766143799)\",\"(4.04057502746582, 4.0544891357421875)\",\"(4.036200523376465, 4.151724815368652)\",\"(4.034797668457031, 4.195265293121338)\",\"(4.03110408782959, 4.148965358734131)\",\"(4.02850866317749, 4.172780513763428)\",\"(4.027015209197998, 4.251646995544434)\",\"(4.024869918823242, 4.32684326171875)\",\"(4.02045202255249, 4.402712821960449)\",\"(4.020318984985352, 4.123946189880371)\",\"(4.016149044036865, 4.528037071228027)\",\"(3.996328353881836, 4.137568950653076)\",\"(3.9852733612060547, 4.413020133972168)\",\"(3.979062080383301, 4.130105495452881)\",\"(3.9660418033599854, 4.0343170166015625)\",\"(3.965764045715332, 4.768392562866211)\",\"(3.948768377304077, 4.006161212921143)\",\"(3.939113140106201, 4.141519069671631)\",\"(3.938889741897583, 3.994985342025757)\",\"(3.936220645904541, 4.76172399520874)\",\"(3.9354467391967773, 4.080564498901367)\",\"(3.9350640773773193, 4.479930400848389)\",\"(3.9317569732666016, 4.176149368286133)\",\"(3.9263041019439697, 4.133119106292725)\",\"(3.9246621131896973, 4.2428460121154785)\",\"(3.921726942062378, 4.270164489746094)\",\"(3.9149138927459717, 4.38792085647583)\",\"(3.914486885070801, 4.349729537963867)\",\"(3.9126791954040527, 4.14933443069458)\",\"(3.9109737873077393, 3.9432520866394043)\",\"(3.908424139022827, 4.338419437408447)\",\"(3.9067671298980713, 4.7091569900512695)\",\"(3.8985137939453125, 4.220607757568359)\",\"(3.895522356033325, 4.0610551834106445)\",\"(3.8919363021850586, 3.9949100017547607)\",\"(3.8784000873565674, 4.015748023986816)\",\"(3.8757693767547607, 4.409107208251953)\",\"(3.874958038330078, 4.2612786293029785)\",\"(3.871771812438965, 4.358841896057129)\",\"(3.8713881969451904, 4.3799920082092285)\",\"(3.868877649307251, 4.0227131843566895)\",\"(3.8676230907440186, 4.229130744934082)\",\"(3.866621732711792, 3.9069879055023193)\",\"(3.8665895462036133, 3.9629440307617188)\",\"(3.8599681854248047, 4.008817195892334)\",\"(3.855428457260132, 3.9161617755889893)\",\"(3.847583532333374, 4.409107208251953)\",\"(3.845707654953003, 3.931201696395874)\",\"(3.8419110774993896, 4.565506935119629)\",\"(3.8402979373931885, 4.333250522613525)\",\"(3.837237596511841, 4.789278030395508)\",\"(3.8338463306427, 4.138875961303711)\",\"(3.831817865371704, 3.8505210876464844)\",\"(3.8295412063598633, 4.130105495452881)\",\"(3.8201944828033447, 3.9601120948791504)\",\"(3.804589033126831, 3.935873508453369)\",\"(3.800063133239746, 4.463154315948486)\",\"(3.7879586219787598, 4.009936332702637)\",\"(3.7875237464904785, 4.175549507141113)\",\"(3.7864365577697754, 4.500778675079346)\",\"(3.7851362228393555, 4.077784061431885)\",\"(3.781934976577759, 3.917858600616455)\",\"(3.77660870552063, 4.288393020629883)\",\"(3.7714860439300537, 3.8637921810150146)\",\"(3.7706711292266846, 4.192771911621094)\",\"(3.7699501514434814, 4.497187614440918)\",\"(3.7671642303466797, 4.0610551834106445)\",\"(3.7621750831604004, 4.137568950653076)\",\"(3.7616565227508545, 4.030196666717529)\",\"(3.757018566131592, 4.050448894500732)\",\"(3.756060838699341, 3.855600595474243)\",\"(3.7556183338165283, 4.379242897033691)\",\"(3.7542526721954346, 4.128683090209961)\",\"(3.7471041679382324, 4.405633449554443)\",\"(3.7469065189361572, 3.7778964042663574)\",\"(3.7398359775543213, 3.9552459716796875)\",\"(3.7396352291107178, 3.829763412475586)\",\"(3.737139940261841, 4.193825721740723)\",\"(3.737121105194092, 4.172780513763428)\",\"(3.7371068000793457, 4.003358840942383)\",\"(3.732145071029663, 4.06194543838501)\",\"(3.7309696674346924, 4.052518367767334)\",\"(3.7254555225372314, 3.931201696395874)\",\"(3.7233211994171143, 3.9432520866394043)\",\"(3.7230935096740723, 4.008817195892334)\",\"(3.7205474376678467, 4.019402980804443)\",\"(3.7083609104156494, 4.208401679992676)\",\"(3.708185911178589, 3.833864212036133)\",\"(3.7059199810028076, 3.931990623474121)\",\"(3.698815107345581, 4.464456081390381)\",\"(3.6971964836120605, 4.0544891357421875)\",\"(3.696225643157959, 3.969890594482422)\",\"(3.6886279582977295, 4.176149368286133)\",\"(3.6747708320617676, 4.2612786293029785)\",\"(3.673858880996704, 3.75508975982666)\",\"(3.6723997592926025, 4.5209574699401855)\",\"(3.669095039367676, 4.022412300109863)\",\"(3.665349245071411, 4.272076606750488)\",\"(3.665180206298828, 4.13909387588501)\",\"(3.664147138595581, 4.060417652130127)\",\"(3.6636338233947754, 4.078376293182373)\",\"(3.660620927810669, 4.063297271728516)\",\"(3.66015362739563, 4.116252422332764)\",\"(3.65138840675354, 4.128042221069336)\",\"(3.65130352973938, 4.073587417602539)\",\"(3.64788818359375, 4.163400173187256)\",\"(3.6453428268432617, 3.893343210220337)\",\"(3.639859437942505, 4.115699291229248)\",\"(3.63938570022583, 4.010311603546143)\",\"(3.6355478763580322, 4.06194543838501)\",\"(3.6295979022979736, 4.006161212921143)\",\"(3.6185302734375, 4.052518367767334)\",\"(3.611130475997925, 3.955871105194092)\",\"(3.599334955215454, 4.297160625457764)\",\"(3.5987708568573, 4.227068901062012)\",\"(3.5955312252044678, 4.073043346405029)\",\"(3.5903139114379883, 4.42347526550293)\",\"(3.5889885425567627, 4.176149368286133)\",\"(3.5866281986236572, 4.134485721588135)\",\"(3.584244728088379, 4.130105495452881)\",\"(3.5816242694854736, 3.92228627204895)\",\"(3.5661821365356445, 3.98640775680542)\",\"(3.5596108436584473, 4.379739284515381)\",\"(3.5515406131744385, 4.406952857971191)\",\"(3.549189805984497, 3.6607184410095215)\",\"(3.5472145080566406, 3.9833028316497803)\",\"(3.5407156944274902, 4.259738922119141)\",\"(3.5379323959350586, 3.7778964042663574)\",\"(3.5376060009002686, 3.8358232975006104)\",\"(3.537590503692627, 3.8431243896484375)\",\"(3.5351970195770264, 3.577385663986206)\",\"(3.532370090484619, 4.193825721740723)\",\"(3.531224489212036, 4.251646995544434)\",\"(3.5278396606445312, 4.137568950653076)\",\"(3.5248754024505615, 4.2428460121154785)\",\"(3.5247538089752197, 3.618138551712036)\",\"(3.5242362022399902, 3.917858600616455)\",\"(3.5232608318328857, 4.287046432495117)\",\"(3.517829179763794, 4.133119106292725)\",\"(3.5130069255828857, 4.133326053619385)\",\"(3.502603530883789, 4.628664970397949)\",\"(3.5023884773254395, 3.9395852088928223)\",\"(3.4959378242492676, 4.127503871917725)\",\"(3.4880752563476562, 3.9180026054382324)\",\"(3.4843406677246094, 3.9096293449401855)\",\"(3.4826858043670654, 4.308334827423096)\",\"(3.48183274269104, 3.8505210876464844)\",\"(3.4733986854553223, 4.19413423538208)\",\"(3.4717366695404053, 4.525893211364746)\",\"(3.4670298099517822, 4.10207462310791)\",\"(3.462045669555664, 4.1246843338012695)\",\"(3.4570765495300293, 4.425347328186035)\",\"(3.4562020301818848, 4.052518367767334)\",\"(3.4525985717773438, 4.086115837097168)\",\"(3.451214075088501, 4.126891613006592)\",\"(3.450953245162964, 4.382063865661621)\",\"(3.4465081691741943, 4.231682300567627)\",\"(3.4461162090301514, 4.554173946380615)\",\"(3.430341958999634, 4.371488094329834)\",\"(3.42915678024292, 3.6671268939971924)\",\"(3.425290107727051, 4.479098796844482)\",\"(3.4223499298095703, 4.148965358734131)\",\"(3.4115209579467773, 4.979292392730713)\",\"(3.3987674713134766, 4.531069278717041)\",\"(3.3954408168792725, 3.9193403720855713)\",\"(3.3928611278533936, 3.7905752658843994)\",\"(3.3895440101623535, 4.757484436035156)\",\"(3.381521463394165, 4.133750915527344)\",\"(3.378147602081299, 4.308334827423096)\",\"(3.3769614696502686, 4.19608211517334)\",\"(3.371706008911133, 4.212869167327881)\",\"(3.3702969551086426, 3.6671268939971924)\",\"(3.368813991546631, 4.20188570022583)\",\"(3.3678832054138184, 4.225301742553711)\",\"(3.367445707321167, 4.0343170166015625)\",\"(3.3647749423980713, 3.4589147567749023)\",\"(3.3626043796539307, 4.523853778839111)\",\"(3.362309694290161, 4.3920159339904785)\",\"(3.3470213413238525, 4.117968559265137)\",\"(3.3455684185028076, 4.372650146484375)\",\"(3.333587884902954, 4.122465133666992)\",\"(3.3240506649017334, 3.7944655418395996)\",\"(3.3238749504089355, 3.840280055999756)\",\"(3.3228766918182373, 3.4734466075897217)\",\"(3.3228423595428467, 3.790834426879883)\",\"(3.3215575218200684, 3.6654276847839355)\",\"(3.318693161010742, 4.172780513763428)\",\"(3.317039728164673, 3.5358633995056152)\",\"(3.3166699409484863, 4.324412822723389)\",\"(3.3030261993408203, 3.4589147567749023)\",\"(3.3022825717926025, 3.577385663986206)\",\"(3.284677267074585, 3.931516170501709)\",\"(3.283555507659912, 3.945547103881836)\",\"(3.283193588256836, 3.840280055999756)\",\"(3.2784128189086914, 4.252377033233643)\",\"(3.2766919136047363, 3.4589147567749023)\",\"(3.2752881050109863, 3.893343210220337)\",\"(3.2752878665924072, 4.229130744934082)\",\"(3.2729063034057617, 3.5639731884002686)\",\"(3.2726328372955322, 3.6799917221069336)\",\"(3.2654566764831543, 3.8841118812561035)\",\"(3.2462940216064453, 4.4989519119262695)\",\"(3.2389612197875977, 4.207278728485107)\",\"(3.2352113723754883, 4.347242832183838)\",\"(3.2351810932159424, 3.4048116207122803)\",\"(3.2351431846618652, 4.318222999572754)\",\"(3.230504274368286, 4.505892276763916)\",\"(3.22823166847229, 3.7248148918151855)\",\"(3.225433826446533, 4.829329490661621)\",\"(3.218986749649048, 3.98640775680542)\",\"(3.2178304195404053, 3.945547103881836)\",\"(3.2136929035186768, 4.166217803955078)\",\"(3.1925954818725586, 3.8637921810150146)\",\"(3.191145896911621, 3.9481236934661865)\",\"(3.189784049987793, 4.166217803955078)\",\"(3.186354398727417, 3.7076587677001953)\",\"(3.1844584941864014, 3.931516170501709)\",\"(3.1802797317504883, 3.6133806705474854)\",\"(3.171187400817871, 4.354682445526123)\",\"(3.16298508644104, 4.266968727111816)\",\"(3.1558666229248047, 3.9841318130493164)\",\"(3.1541404724121094, 3.3000569343566895)\",\"(3.1410531997680664, 4.004950523376465)\",\"(3.1325881481170654, 4.231682300567627)\",\"(3.1312127113342285, 4.325644493103027)\",\"(3.1283812522888184, 4.167112350463867)\",\"(3.1260223388671875, 4.264352321624756)\",\"(3.1234090328216553, 4.2428460121154785)\",\"(3.116776466369629, 3.833306312561035)\",\"(3.1150567531585693, 3.8626391887664795)\",\"(3.1033661365509033, 3.774933099746704)\",\"(3.087146759033203, 3.9126439094543457)\",\"(3.0845947265625, 4.066219806671143)\",\"(3.084592819213867, 3.7905752658843994)\",\"(3.0837671756744385, 4.2088446617126465)\",\"(3.0832817554473877, 3.774933099746704)\",\"(3.0781362056732178, 3.9534857273101807)\",\"(3.067965030670166, 3.790834426879883)\",\"(3.066998243331909, 3.9432520866394043)\",\"(3.0598092079162598, 4.066219806671143)\",\"(3.052558183670044, 4.220607757568359)\",\"(3.051607608795166, 3.9136104583740234)\",\"(3.0497629642486572, 4.162868976593018)\",\"(3.049099922180176, 3.9841318130493164)\",\"(3.0457091331481934, 4.1246843338012695)\",\"(3.037511110305786, 4.176149368286133)\",\"(3.0372612476348877, 4.265600204467773)\",\"(3.0356314182281494, 3.55682635307312)\",\"(3.035060167312622, 4.12388801574707)\",\"(3.0239882469177246, 4.149137496948242)\",\"(3.0224480628967285, 4.066219806671143)\",\"(3.0210158824920654, 3.7494924068450928)\",\"(3.0173776149749756, 4.06682014465332)\",\"(3.004924774169922, 3.7507200241088867)\",\"(3.0023858547210693, 3.3000569343566895)\",\"(3.001426935195923, 3.9322030544281006)\",\"(2.9984371662139893, 4.14860725402832)\",\"(2.9980287551879883, 4.237412452697754)\",\"(2.995666742324829, 4.379242897033691)\",\"(2.98943829536438, 4.267480850219727)\",\"(2.9815030097961426, 3.786353826522827)\",\"(2.9802863597869873, 3.75508975982666)\",\"(2.974599838256836, 3.259760618209839)\",\"(2.9646801948547363, 4.360656261444092)\",\"(2.9368362426757812, 3.746048927307129)\",\"(2.935817003250122, 4.624059677124023)\",\"(2.9321248531341553, 3.55682635307312)\",\"(2.925295829772949, 3.969890594482422)\",\"(2.9249062538146973, 4.228257656097412)\",\"(2.9177987575531006, 4.162868976593018)\",\"(2.9138503074645996, 4.202559947967529)\",\"(2.8995871543884277, 3.9180026054382324)\",\"(2.8950886726379395, 3.258345603942871)\",\"(2.8941731452941895, 4.266968727111816)\",\"(2.8937325477600098, 4.06682014465332)\",\"(2.8867616653442383, 4.067684650421143)\",\"(2.8859786987304688, 4.122833728790283)\",\"(2.8819997310638428, 4.128042221069336)\",\"(2.871267795562744, 3.92228627204895)\",\"(2.8562979698181152, 4.07267427444458)\",\"(2.8523874282836914, 3.818638324737549)\",\"(2.847038984298706, 4.181906700134277)\",\"(2.838060140609741, 4.466240406036377)\",\"(2.8371543884277344, 4.013965129852295)\",\"(2.834859609603882, 3.9136104583740234)\",\"(2.8338260650634766, 3.4589147567749023)\",\"(2.833493947982788, 4.508941650390625)\",\"(2.8241541385650635, 4.243077278137207)\",\"(2.796931028366089, 3.75508975982666)\",\"(2.7921154499053955, 4.2532877922058105)\",\"(2.789780616760254, 4.250876426696777)\",\"(2.786696672439575, 4.128042221069336)\",\"(2.7862539291381836, 4.013965129852295)\",\"(2.7850465774536133, 4.3040924072265625)\",\"(2.7836389541625977, 4.231682300567627)\",\"(2.7674479484558105, 4.1246843338012695)\",\"(2.750861644744873, 4.302728652954102)\",\"(2.7419259548187256, 4.331275463104248)\",\"(2.7413103580474854, 4.010311603546143)\",\"(2.735905170440674, 4.1074934005737305)\",\"(2.712169885635376, 4.3920159339904785)\",\"(2.7049503326416016, 4.115699291229248)\",\"(2.6911802291870117, 4.050448894500732)\",\"(2.6637349128723145, 4.1246843338012695)\",\"(2.6427836418151855, 4.1246843338012695)\",\"(2.6296446323394775, 4.162868976593018)\",\"(2.620175838470459, 4.523853778839111)\",\"(2.591334104537964, 3.5889413356781006)\",\"(2.5864171981811523, 4.811660289764404)\",\"(2.5803351402282715, 4.10385274887085)\",\"(2.5653302669525146, 4.0114336013793945)\",\"(2.5408573150634766, 4.576107501983643)\",\"(2.537977695465088, 4.14860725402832)\",\"(2.533906936645508, 4.181906700134277)\",\"(2.493419885635376, 3.746048927307129)\",\"(2.465972661972046, 4.2786383628845215)\",\"(2.464501142501831, 4.013965129852295)\",\"(2.4419314861297607, 4.050448894500732)\",\"(2.441579818725586, 4.229130744934082)\",\"(2.436333179473877, 4.164865016937256)\",\"(2.429187536239624, 4.179760456085205)\",\"(2.4290926456451416, 4.122833728790283)\",\"(2.4230003356933594, 4.06194543838501)\",\"(2.4110069274902344, 4.128042221069336)\",\"(2.4070076942443848, 4.360656261444092)\",\"(2.4063003063201904, 4.259738922119141)\",\"(2.4050514698028564, 4.183903217315674)\",\"(2.4034605026245117, 4.015748023986816)\",\"(2.3994767665863037, 4.207278728485107)\",\"(2.3984146118164062, 4.184750080108643)\",\"(2.393185615539551, 4.231682300567627)\",\"(2.3411035537719727, 4.25365686416626)\",\"(2.309814691543579, 3.9719057083129883)\",\"(2.2846150398254395, 4.128042221069336)\",\"(2.280315637588501, 3.931201696395874)\",\"(2.2494118213653564, 4.1074934005737305)\",\"(2.2334470748901367, 3.7507200241088867)\",\"(2.225105047225952, 4.19577169418335)\",\"(2.142388105392456, 4.13909387588501)\",\"(2.1181676387786865, 4.271877288818359)\",\"(2.113309383392334, 4.19608211517334)\",\"(2.1056387424468994, 4.141724109649658)\",\"(1.8351200819015503, 4.253722190856934)\",\"(1.7760955095291138, 4.299095630645752)\",\"(1.4502427577972412, 4.243077278137207)\"],\"mode\":\"markers\",\"name\":\"H1\",\"x\":[4.864761829376221,4.712215900421143,4.639449596405029,4.605687141418457,4.597039222717285,4.552263259887695,4.443512439727783,4.430746555328369,4.392058372497559,4.3872575759887695,4.374630451202393,4.371518135070801,4.357083797454834,4.326182842254639,4.326165676116943,4.299139976501465,4.285272121429443,4.259733200073242,4.258163928985596,4.251573085784912,4.24249267578125,4.23703145980835,4.229780197143555,4.226404190063477,4.210396766662598,4.205014228820801,4.200793743133545,4.19327449798584,4.179664134979248,4.176661014556885,4.162486553192139,4.1515398025512695,4.14033842086792,4.118725776672363,4.116757869720459,4.1153693199157715,4.111800193786621,4.1094794273376465,4.107815742492676,4.1074371337890625,4.106817245483398,4.1056084632873535,4.102926731109619,4.102643013000488,4.101989269256592,4.089287281036377,4.085268974304199,4.081193447113037,4.080665588378906,4.079808712005615,4.066784381866455,4.065024375915527,4.06400203704834,4.063231468200684,4.055116176605225,4.0470967292785645,4.04057502746582,4.036200523376465,4.034797668457031,4.03110408782959,4.02850866317749,4.027015209197998,4.024869918823242,4.02045202255249,4.020318984985352,4.016149044036865,3.996328353881836,3.9852733612060547,3.979062080383301,3.9660418033599854,3.965764045715332,3.948768377304077,3.939113140106201,3.938889741897583,3.936220645904541,3.9354467391967773,3.9350640773773193,3.9317569732666016,3.9263041019439697,3.9246621131896973,3.921726942062378,3.9149138927459717,3.914486885070801,3.9126791954040527,3.9109737873077393,3.908424139022827,3.9067671298980713,3.8985137939453125,3.895522356033325,3.8919363021850586,3.8784000873565674,3.8757693767547607,3.874958038330078,3.871771812438965,3.8713881969451904,3.868877649307251,3.8676230907440186,3.866621732711792,3.8665895462036133,3.8599681854248047,3.855428457260132,3.847583532333374,3.845707654953003,3.8419110774993896,3.8402979373931885,3.837237596511841,3.8338463306427,3.831817865371704,3.8295412063598633,3.8201944828033447,3.804589033126831,3.800063133239746,3.7879586219787598,3.7875237464904785,3.7864365577697754,3.7851362228393555,3.781934976577759,3.77660870552063,3.7714860439300537,3.7706711292266846,3.7699501514434814,3.7671642303466797,3.7621750831604004,3.7616565227508545,3.757018566131592,3.756060838699341,3.7556183338165283,3.7542526721954346,3.7471041679382324,3.7469065189361572,3.7398359775543213,3.7396352291107178,3.737139940261841,3.737121105194092,3.7371068000793457,3.732145071029663,3.7309696674346924,3.7254555225372314,3.7233211994171143,3.7230935096740723,3.7205474376678467,3.7083609104156494,3.708185911178589,3.7059199810028076,3.698815107345581,3.6971964836120605,3.696225643157959,3.6886279582977295,3.6747708320617676,3.673858880996704,3.6723997592926025,3.669095039367676,3.665349245071411,3.665180206298828,3.664147138595581,3.6636338233947754,3.660620927810669,3.66015362739563,3.65138840675354,3.65130352973938,3.64788818359375,3.6453428268432617,3.639859437942505,3.63938570022583,3.6355478763580322,3.6295979022979736,3.6185302734375,3.611130475997925,3.599334955215454,3.5987708568573,3.5955312252044678,3.5903139114379883,3.5889885425567627,3.5866281986236572,3.584244728088379,3.5816242694854736,3.5661821365356445,3.5596108436584473,3.5515406131744385,3.549189805984497,3.5472145080566406,3.5407156944274902,3.5379323959350586,3.5376060009002686,3.537590503692627,3.5351970195770264,3.532370090484619,3.531224489212036,3.5278396606445312,3.5248754024505615,3.5247538089752197,3.5242362022399902,3.5232608318328857,3.517829179763794,3.5130069255828857,3.502603530883789,3.5023884773254395,3.4959378242492676,3.4880752563476562,3.4843406677246094,3.4826858043670654,3.48183274269104,3.4733986854553223,3.4717366695404053,3.4670298099517822,3.462045669555664,3.4570765495300293,3.4562020301818848,3.4525985717773438,3.451214075088501,3.450953245162964,3.4465081691741943,3.4461162090301514,3.430341958999634,3.42915678024292,3.425290107727051,3.4223499298095703,3.4115209579467773,3.3987674713134766,3.3954408168792725,3.3928611278533936,3.3895440101623535,3.381521463394165,3.378147602081299,3.3769614696502686,3.371706008911133,3.3702969551086426,3.368813991546631,3.3678832054138184,3.367445707321167,3.3647749423980713,3.3626043796539307,3.362309694290161,3.3470213413238525,3.3455684185028076,3.333587884902954,3.3240506649017334,3.3238749504089355,3.3228766918182373,3.3228423595428467,3.3215575218200684,3.318693161010742,3.317039728164673,3.3166699409484863,3.3030261993408203,3.3022825717926025,3.284677267074585,3.283555507659912,3.283193588256836,3.2784128189086914,3.2766919136047363,3.2752881050109863,3.2752878665924072,3.2729063034057617,3.2726328372955322,3.2654566764831543,3.2462940216064453,3.2389612197875977,3.2352113723754883,3.2351810932159424,3.2351431846618652,3.230504274368286,3.22823166847229,3.225433826446533,3.218986749649048,3.2178304195404053,3.2136929035186768,3.1925954818725586,3.191145896911621,3.189784049987793,3.186354398727417,3.1844584941864014,3.1802797317504883,3.171187400817871,3.16298508644104,3.1558666229248047,3.1541404724121094,3.1410531997680664,3.1325881481170654,3.1312127113342285,3.1283812522888184,3.1260223388671875,3.1234090328216553,3.116776466369629,3.1150567531585693,3.1033661365509033,3.087146759033203,3.0845947265625,3.084592819213867,3.0837671756744385,3.0832817554473877,3.0781362056732178,3.067965030670166,3.066998243331909,3.0598092079162598,3.052558183670044,3.051607608795166,3.0497629642486572,3.049099922180176,3.0457091331481934,3.037511110305786,3.0372612476348877,3.0356314182281494,3.035060167312622,3.0239882469177246,3.0224480628967285,3.0210158824920654,3.0173776149749756,3.004924774169922,3.0023858547210693,3.001426935195923,2.9984371662139893,2.9980287551879883,2.995666742324829,2.98943829536438,2.9815030097961426,2.9802863597869873,2.974599838256836,2.9646801948547363,2.9368362426757812,2.935817003250122,2.9321248531341553,2.925295829772949,2.9249062538146973,2.9177987575531006,2.9138503074645996,2.8995871543884277,2.8950886726379395,2.8941731452941895,2.8937325477600098,2.8867616653442383,2.8859786987304688,2.8819997310638428,2.871267795562744,2.8562979698181152,2.8523874282836914,2.847038984298706,2.838060140609741,2.8371543884277344,2.834859609603882,2.8338260650634766,2.833493947982788,2.8241541385650635,2.796931028366089,2.7921154499053955,2.789780616760254,2.786696672439575,2.7862539291381836,2.7850465774536133,2.7836389541625977,2.7674479484558105,2.750861644744873,2.7419259548187256,2.7413103580474854,2.735905170440674,2.712169885635376,2.7049503326416016,2.6911802291870117,2.6637349128723145,2.6427836418151855,2.6296446323394775,2.620175838470459,2.591334104537964,2.5864171981811523,2.5803351402282715,2.5653302669525146,2.5408573150634766,2.537977695465088,2.533906936645508,2.493419885635376,2.465972661972046,2.464501142501831,2.4419314861297607,2.441579818725586,2.436333179473877,2.429187536239624,2.4290926456451416,2.4230003356933594,2.4110069274902344,2.4070076942443848,2.4063003063201904,2.4050514698028564,2.4034605026245117,2.3994767665863037,2.3984146118164062,2.393185615539551,2.3411035537719727,2.309814691543579,2.2846150398254395,2.280315637588501,2.2494118213653564,2.2334470748901367,2.225105047225952,2.142388105392456,2.1181676387786865,2.113309383392334,2.1056387424468994,1.8351200819015503,1.7760955095291138,1.4502427577972412],\"y\":[4.879148960113525,4.9339118003845215,4.702503681182861,4.789278030395508,4.879148960113525,4.631526947021484,4.70894718170166,4.454724311828613,4.402712821960449,4.529255390167236,4.379739284515381,4.863755702972412,4.6245036125183105,4.376598834991455,4.490725994110107,4.458094120025635,4.564711093902588,4.406630039215088,4.779881000518799,4.526793003082275,4.38792085647583,4.241304874420166,4.484519958496094,4.519902229309082,4.261612892150879,4.628664970397949,4.252377033233643,4.572418212890625,4.411952972412109,4.409107208251953,4.570221900939941,4.320969104766846,4.3040924072265625,4.241304874420166,4.151724815368652,4.222830772399902,4.628664970397949,4.553627967834473,4.362748146057129,4.575207710266113,4.270164489746094,4.719175815582275,4.425347328186035,4.361410617828369,4.123946189880371,4.208362102508545,4.3920159339904785,4.212869167327881,4.204580307006836,4.444896221160889,4.4308552742004395,4.223321437835693,4.7943830490112305,4.273581027984619,4.086115837097168,4.743015766143799,4.0544891357421875,4.151724815368652,4.195265293121338,4.148965358734131,4.172780513763428,4.251646995544434,4.32684326171875,4.402712821960449,4.123946189880371,4.528037071228027,4.137568950653076,4.413020133972168,4.130105495452881,4.0343170166015625,4.768392562866211,4.006161212921143,4.141519069671631,3.994985342025757,4.76172399520874,4.080564498901367,4.479930400848389,4.176149368286133,4.133119106292725,4.2428460121154785,4.270164489746094,4.38792085647583,4.349729537963867,4.14933443069458,3.9432520866394043,4.338419437408447,4.7091569900512695,4.220607757568359,4.0610551834106445,3.9949100017547607,4.015748023986816,4.409107208251953,4.2612786293029785,4.358841896057129,4.3799920082092285,4.0227131843566895,4.229130744934082,3.9069879055023193,3.9629440307617188,4.008817195892334,3.9161617755889893,4.409107208251953,3.931201696395874,4.565506935119629,4.333250522613525,4.789278030395508,4.138875961303711,3.8505210876464844,4.130105495452881,3.9601120948791504,3.935873508453369,4.463154315948486,4.009936332702637,4.175549507141113,4.500778675079346,4.077784061431885,3.917858600616455,4.288393020629883,3.8637921810150146,4.192771911621094,4.497187614440918,4.0610551834106445,4.137568950653076,4.030196666717529,4.050448894500732,3.855600595474243,4.379242897033691,4.128683090209961,4.405633449554443,3.7778964042663574,3.9552459716796875,3.829763412475586,4.193825721740723,4.172780513763428,4.003358840942383,4.06194543838501,4.052518367767334,3.931201696395874,3.9432520866394043,4.008817195892334,4.019402980804443,4.208401679992676,3.833864212036133,3.931990623474121,4.464456081390381,4.0544891357421875,3.969890594482422,4.176149368286133,4.2612786293029785,3.75508975982666,4.5209574699401855,4.022412300109863,4.272076606750488,4.13909387588501,4.060417652130127,4.078376293182373,4.063297271728516,4.116252422332764,4.128042221069336,4.073587417602539,4.163400173187256,3.893343210220337,4.115699291229248,4.010311603546143,4.06194543838501,4.006161212921143,4.052518367767334,3.955871105194092,4.297160625457764,4.227068901062012,4.073043346405029,4.42347526550293,4.176149368286133,4.134485721588135,4.130105495452881,3.92228627204895,3.98640775680542,4.379739284515381,4.406952857971191,3.6607184410095215,3.9833028316497803,4.259738922119141,3.7778964042663574,3.8358232975006104,3.8431243896484375,3.577385663986206,4.193825721740723,4.251646995544434,4.137568950653076,4.2428460121154785,3.618138551712036,3.917858600616455,4.287046432495117,4.133119106292725,4.133326053619385,4.628664970397949,3.9395852088928223,4.127503871917725,3.9180026054382324,3.9096293449401855,4.308334827423096,3.8505210876464844,4.19413423538208,4.525893211364746,4.10207462310791,4.1246843338012695,4.425347328186035,4.052518367767334,4.086115837097168,4.126891613006592,4.382063865661621,4.231682300567627,4.554173946380615,4.371488094329834,3.6671268939971924,4.479098796844482,4.148965358734131,4.979292392730713,4.531069278717041,3.9193403720855713,3.7905752658843994,4.757484436035156,4.133750915527344,4.308334827423096,4.19608211517334,4.212869167327881,3.6671268939971924,4.20188570022583,4.225301742553711,4.0343170166015625,3.4589147567749023,4.523853778839111,4.3920159339904785,4.117968559265137,4.372650146484375,4.122465133666992,3.7944655418395996,3.840280055999756,3.4734466075897217,3.790834426879883,3.6654276847839355,4.172780513763428,3.5358633995056152,4.324412822723389,3.4589147567749023,3.577385663986206,3.931516170501709,3.945547103881836,3.840280055999756,4.252377033233643,3.4589147567749023,3.893343210220337,4.229130744934082,3.5639731884002686,3.6799917221069336,3.8841118812561035,4.4989519119262695,4.207278728485107,4.347242832183838,3.4048116207122803,4.318222999572754,4.505892276763916,3.7248148918151855,4.829329490661621,3.98640775680542,3.945547103881836,4.166217803955078,3.8637921810150146,3.9481236934661865,4.166217803955078,3.7076587677001953,3.931516170501709,3.6133806705474854,4.354682445526123,4.266968727111816,3.9841318130493164,3.3000569343566895,4.004950523376465,4.231682300567627,4.325644493103027,4.167112350463867,4.264352321624756,4.2428460121154785,3.833306312561035,3.8626391887664795,3.774933099746704,3.9126439094543457,4.066219806671143,3.7905752658843994,4.2088446617126465,3.774933099746704,3.9534857273101807,3.790834426879883,3.9432520866394043,4.066219806671143,4.220607757568359,3.9136104583740234,4.162868976593018,3.9841318130493164,4.1246843338012695,4.176149368286133,4.265600204467773,3.55682635307312,4.12388801574707,4.149137496948242,4.066219806671143,3.7494924068450928,4.06682014465332,3.7507200241088867,3.3000569343566895,3.9322030544281006,4.14860725402832,4.237412452697754,4.379242897033691,4.267480850219727,3.786353826522827,3.75508975982666,3.259760618209839,4.360656261444092,3.746048927307129,4.624059677124023,3.55682635307312,3.969890594482422,4.228257656097412,4.162868976593018,4.202559947967529,3.9180026054382324,3.258345603942871,4.266968727111816,4.06682014465332,4.067684650421143,4.122833728790283,4.128042221069336,3.92228627204895,4.07267427444458,3.818638324737549,4.181906700134277,4.466240406036377,4.013965129852295,3.9136104583740234,3.4589147567749023,4.508941650390625,4.243077278137207,3.75508975982666,4.2532877922058105,4.250876426696777,4.128042221069336,4.013965129852295,4.3040924072265625,4.231682300567627,4.1246843338012695,4.302728652954102,4.331275463104248,4.010311603546143,4.1074934005737305,4.3920159339904785,4.115699291229248,4.050448894500732,4.1246843338012695,4.1246843338012695,4.162868976593018,4.523853778839111,3.5889413356781006,4.811660289764404,4.10385274887085,4.0114336013793945,4.576107501983643,4.14860725402832,4.181906700134277,3.746048927307129,4.2786383628845215,4.013965129852295,4.050448894500732,4.229130744934082,4.164865016937256,4.179760456085205,4.122833728790283,4.06194543838501,4.128042221069336,4.360656261444092,4.259738922119141,4.183903217315674,4.015748023986816,4.207278728485107,4.184750080108643,4.231682300567627,4.25365686416626,3.9719057083129883,4.128042221069336,3.931201696395874,4.1074934005737305,3.7507200241088867,4.19577169418335,4.13909387588501,4.271877288818359,4.19608211517334,4.141724109649658,4.253722190856934,4.299095630645752,4.243077278137207],\"type\":\"scatter\"}],                        {\"template\":{\"data\":{\"histogram2dcontour\":[{\"type\":\"histogram2dcontour\",\"colorbar\":{\"outlinewidth\":0,\"ticks\":\"\"},\"colorscale\":[[0.0,\"#0d0887\"],[0.1111111111111111,\"#46039f\"],[0.2222222222222222,\"#7201a8\"],[0.3333333333333333,\"#9c179e\"],[0.4444444444444444,\"#bd3786\"],[0.5555555555555556,\"#d8576b\"],[0.6666666666666666,\"#ed7953\"],[0.7777777777777778,\"#fb9f3a\"],[0.8888888888888888,\"#fdca26\"],[1.0,\"#f0f921\"]]}],\"choropleth\":[{\"type\":\"choropleth\",\"colorbar\":{\"outlinewidth\":0,\"ticks\":\"\"}}],\"histogram2d\":[{\"type\":\"histogram2d\",\"colorbar\":{\"outlinewidth\":0,\"ticks\":\"\"},\"colorscale\":[[0.0,\"#0d0887\"],[0.1111111111111111,\"#46039f\"],[0.2222222222222222,\"#7201a8\"],[0.3333333333333333,\"#9c179e\"],[0.4444444444444444,\"#bd3786\"],[0.5555555555555556,\"#d8576b\"],[0.6666666666666666,\"#ed7953\"],[0.7777777777777778,\"#fb9f3a\"],[0.8888888888888888,\"#fdca26\"],[1.0,\"#f0f921\"]]}],\"heatmap\":[{\"type\":\"heatmap\",\"colorbar\":{\"outlinewidth\":0,\"ticks\":\"\"},\"colorscale\":[[0.0,\"#0d0887\"],[0.1111111111111111,\"#46039f\"],[0.2222222222222222,\"#7201a8\"],[0.3333333333333333,\"#9c179e\"],[0.4444444444444444,\"#bd3786\"],[0.5555555555555556,\"#d8576b\"],[0.6666666666666666,\"#ed7953\"],[0.7777777777777778,\"#fb9f3a\"],[0.8888888888888888,\"#fdca26\"],[1.0,\"#f0f921\"]]}],\"heatmapgl\":[{\"type\":\"heatmapgl\",\"colorbar\":{\"outlinewidth\":0,\"ticks\":\"\"},\"colorscale\":[[0.0,\"#0d0887\"],[0.1111111111111111,\"#46039f\"],[0.2222222222222222,\"#7201a8\"],[0.3333333333333333,\"#9c179e\"],[0.4444444444444444,\"#bd3786\"],[0.5555555555555556,\"#d8576b\"],[0.6666666666666666,\"#ed7953\"],[0.7777777777777778,\"#fb9f3a\"],[0.8888888888888888,\"#fdca26\"],[1.0,\"#f0f921\"]]}],\"contourcarpet\":[{\"type\":\"contourcarpet\",\"colorbar\":{\"outlinewidth\":0,\"ticks\":\"\"}}],\"contour\":[{\"type\":\"contour\",\"colorbar\":{\"outlinewidth\":0,\"ticks\":\"\"},\"colorscale\":[[0.0,\"#0d0887\"],[0.1111111111111111,\"#46039f\"],[0.2222222222222222,\"#7201a8\"],[0.3333333333333333,\"#9c179e\"],[0.4444444444444444,\"#bd3786\"],[0.5555555555555556,\"#d8576b\"],[0.6666666666666666,\"#ed7953\"],[0.7777777777777778,\"#fb9f3a\"],[0.8888888888888888,\"#fdca26\"],[1.0,\"#f0f921\"]]}],\"surface\":[{\"type\":\"surface\",\"colorbar\":{\"outlinewidth\":0,\"ticks\":\"\"},\"colorscale\":[[0.0,\"#0d0887\"],[0.1111111111111111,\"#46039f\"],[0.2222222222222222,\"#7201a8\"],[0.3333333333333333,\"#9c179e\"],[0.4444444444444444,\"#bd3786\"],[0.5555555555555556,\"#d8576b\"],[0.6666666666666666,\"#ed7953\"],[0.7777777777777778,\"#fb9f3a\"],[0.8888888888888888,\"#fdca26\"],[1.0,\"#f0f921\"]]}],\"mesh3d\":[{\"type\":\"mesh3d\",\"colorbar\":{\"outlinewidth\":0,\"ticks\":\"\"}}],\"scatter\":[{\"fillpattern\":{\"fillmode\":\"overlay\",\"size\":10,\"solidity\":0.2},\"type\":\"scatter\"}],\"parcoords\":[{\"type\":\"parcoords\",\"line\":{\"colorbar\":{\"outlinewidth\":0,\"ticks\":\"\"}}}],\"scatterpolargl\":[{\"type\":\"scatterpolargl\",\"marker\":{\"colorbar\":{\"outlinewidth\":0,\"ticks\":\"\"}}}],\"bar\":[{\"error_x\":{\"color\":\"#2a3f5f\"},\"error_y\":{\"color\":\"#2a3f5f\"},\"marker\":{\"line\":{\"color\":\"#E5ECF6\",\"width\":0.5},\"pattern\":{\"fillmode\":\"overlay\",\"size\":10,\"solidity\":0.2}},\"type\":\"bar\"}],\"scattergeo\":[{\"type\":\"scattergeo\",\"marker\":{\"colorbar\":{\"outlinewidth\":0,\"ticks\":\"\"}}}],\"scatterpolar\":[{\"type\":\"scatterpolar\",\"marker\":{\"colorbar\":{\"outlinewidth\":0,\"ticks\":\"\"}}}],\"histogram\":[{\"marker\":{\"pattern\":{\"fillmode\":\"overlay\",\"size\":10,\"solidity\":0.2}},\"type\":\"histogram\"}],\"scattergl\":[{\"type\":\"scattergl\",\"marker\":{\"colorbar\":{\"outlinewidth\":0,\"ticks\":\"\"}}}],\"scatter3d\":[{\"type\":\"scatter3d\",\"line\":{\"colorbar\":{\"outlinewidth\":0,\"ticks\":\"\"}},\"marker\":{\"colorbar\":{\"outlinewidth\":0,\"ticks\":\"\"}}}],\"scattermapbox\":[{\"type\":\"scattermapbox\",\"marker\":{\"colorbar\":{\"outlinewidth\":0,\"ticks\":\"\"}}}],\"scatterternary\":[{\"type\":\"scatterternary\",\"marker\":{\"colorbar\":{\"outlinewidth\":0,\"ticks\":\"\"}}}],\"scattercarpet\":[{\"type\":\"scattercarpet\",\"marker\":{\"colorbar\":{\"outlinewidth\":0,\"ticks\":\"\"}}}],\"carpet\":[{\"aaxis\":{\"endlinecolor\":\"#2a3f5f\",\"gridcolor\":\"white\",\"linecolor\":\"white\",\"minorgridcolor\":\"white\",\"startlinecolor\":\"#2a3f5f\"},\"baxis\":{\"endlinecolor\":\"#2a3f5f\",\"gridcolor\":\"white\",\"linecolor\":\"white\",\"minorgridcolor\":\"white\",\"startlinecolor\":\"#2a3f5f\"},\"type\":\"carpet\"}],\"table\":[{\"cells\":{\"fill\":{\"color\":\"#EBF0F8\"},\"line\":{\"color\":\"white\"}},\"header\":{\"fill\":{\"color\":\"#C8D4E3\"},\"line\":{\"color\":\"white\"}},\"type\":\"table\"}],\"barpolar\":[{\"marker\":{\"line\":{\"color\":\"#E5ECF6\",\"width\":0.5},\"pattern\":{\"fillmode\":\"overlay\",\"size\":10,\"solidity\":0.2}},\"type\":\"barpolar\"}],\"pie\":[{\"automargin\":true,\"type\":\"pie\"}]},\"layout\":{\"autotypenumbers\":\"strict\",\"colorway\":[\"#636efa\",\"#EF553B\",\"#00cc96\",\"#ab63fa\",\"#FFA15A\",\"#19d3f3\",\"#FF6692\",\"#B6E880\",\"#FF97FF\",\"#FECB52\"],\"font\":{\"color\":\"#2a3f5f\"},\"hovermode\":\"closest\",\"hoverlabel\":{\"align\":\"left\"},\"paper_bgcolor\":\"white\",\"plot_bgcolor\":\"#E5ECF6\",\"polar\":{\"bgcolor\":\"#E5ECF6\",\"angularaxis\":{\"gridcolor\":\"white\",\"linecolor\":\"white\",\"ticks\":\"\"},\"radialaxis\":{\"gridcolor\":\"white\",\"linecolor\":\"white\",\"ticks\":\"\"}},\"ternary\":{\"bgcolor\":\"#E5ECF6\",\"aaxis\":{\"gridcolor\":\"white\",\"linecolor\":\"white\",\"ticks\":\"\"},\"baxis\":{\"gridcolor\":\"white\",\"linecolor\":\"white\",\"ticks\":\"\"},\"caxis\":{\"gridcolor\":\"white\",\"linecolor\":\"white\",\"ticks\":\"\"}},\"coloraxis\":{\"colorbar\":{\"outlinewidth\":0,\"ticks\":\"\"}},\"colorscale\":{\"sequential\":[[0.0,\"#0d0887\"],[0.1111111111111111,\"#46039f\"],[0.2222222222222222,\"#7201a8\"],[0.3333333333333333,\"#9c179e\"],[0.4444444444444444,\"#bd3786\"],[0.5555555555555556,\"#d8576b\"],[0.6666666666666666,\"#ed7953\"],[0.7777777777777778,\"#fb9f3a\"],[0.8888888888888888,\"#fdca26\"],[1.0,\"#f0f921\"]],\"sequentialminus\":[[0.0,\"#0d0887\"],[0.1111111111111111,\"#46039f\"],[0.2222222222222222,\"#7201a8\"],[0.3333333333333333,\"#9c179e\"],[0.4444444444444444,\"#bd3786\"],[0.5555555555555556,\"#d8576b\"],[0.6666666666666666,\"#ed7953\"],[0.7777777777777778,\"#fb9f3a\"],[0.8888888888888888,\"#fdca26\"],[1.0,\"#f0f921\"]],\"diverging\":[[0,\"#8e0152\"],[0.1,\"#c51b7d\"],[0.2,\"#de77ae\"],[0.3,\"#f1b6da\"],[0.4,\"#fde0ef\"],[0.5,\"#f7f7f7\"],[0.6,\"#e6f5d0\"],[0.7,\"#b8e186\"],[0.8,\"#7fbc41\"],[0.9,\"#4d9221\"],[1,\"#276419\"]]},\"xaxis\":{\"gridcolor\":\"white\",\"linecolor\":\"white\",\"ticks\":\"\",\"title\":{\"standoff\":15},\"zerolinecolor\":\"white\",\"automargin\":true,\"zerolinewidth\":2},\"yaxis\":{\"gridcolor\":\"white\",\"linecolor\":\"white\",\"ticks\":\"\",\"title\":{\"standoff\":15},\"zerolinecolor\":\"white\",\"automargin\":true,\"zerolinewidth\":2},\"scene\":{\"xaxis\":{\"backgroundcolor\":\"#E5ECF6\",\"gridcolor\":\"white\",\"linecolor\":\"white\",\"showbackground\":true,\"ticks\":\"\",\"zerolinecolor\":\"white\",\"gridwidth\":2},\"yaxis\":{\"backgroundcolor\":\"#E5ECF6\",\"gridcolor\":\"white\",\"linecolor\":\"white\",\"showbackground\":true,\"ticks\":\"\",\"zerolinecolor\":\"white\",\"gridwidth\":2},\"zaxis\":{\"backgroundcolor\":\"#E5ECF6\",\"gridcolor\":\"white\",\"linecolor\":\"white\",\"showbackground\":true,\"ticks\":\"\",\"zerolinecolor\":\"white\",\"gridwidth\":2}},\"shapedefaults\":{\"line\":{\"color\":\"#2a3f5f\"}},\"annotationdefaults\":{\"arrowcolor\":\"#2a3f5f\",\"arrowhead\":0,\"arrowwidth\":1},\"geo\":{\"bgcolor\":\"white\",\"landcolor\":\"#E5ECF6\",\"subunitcolor\":\"white\",\"showland\":true,\"showlakes\":true,\"lakecolor\":\"white\"},\"title\":{\"x\":0.05},\"mapbox\":{\"style\":\"light\"}}},\"xaxis\":{\"title\":{\"text\":\"Birth\"},\"side\":\"bottom\",\"type\":\"linear\",\"range\":[-0.09958584785461426,5.078878240585327],\"autorange\":false,\"ticks\":\"outside\",\"showline\":true,\"zeroline\":true,\"linewidth\":1,\"linecolor\":\"black\",\"mirror\":false,\"showexponent\":\"all\",\"exponentformat\":\"e\"},\"yaxis\":{\"title\":{\"text\":\"Death\"},\"side\":\"left\",\"type\":\"linear\",\"range\":[-0.09958584785461426,5.078878240585327],\"autorange\":false,\"scaleanchor\":\"x\",\"scaleratio\":1,\"ticks\":\"outside\",\"showline\":true,\"zeroline\":true,\"linewidth\":1,\"linecolor\":\"black\",\"mirror\":false,\"showexponent\":\"all\",\"exponentformat\":\"e\"},\"width\":500,\"height\":500,\"plot_bgcolor\":\"white\"},                        {\"responsive\": true}                    ).then(function(){\n",
       "                            \n",
       "var gd = document.getElementById('cd0258f1-7a4f-42b2-bb10-093bb1e1f1ec');\n",
       "var x = new MutationObserver(function (mutations, observer) {{\n",
       "        var display = window.getComputedStyle(gd).display;\n",
       "        if (!display || display === 'none') {{\n",
       "            console.log([gd, 'removed!']);\n",
       "            Plotly.purge(gd);\n",
       "            observer.disconnect();\n",
       "        }}\n",
       "}});\n",
       "\n",
       "// Listen for the removal of the full notebook cells\n",
       "var notebookContainer = gd.closest('#notebook-container');\n",
       "if (notebookContainer) {{\n",
       "    x.observe(notebookContainer, {childList: true});\n",
       "}}\n",
       "\n",
       "// Listen for the clearing of the current output cell\n",
       "var outputEl = gd.closest('.output');\n",
       "if (outputEl) {{\n",
       "    x.observe(outputEl, {childList: true});\n",
       "}}\n",
       "\n",
       "                        })                };                });            </script>        </div>"
      ]
     },
     "metadata": {},
     "output_type": "display_data"
    }
   ],
   "source": [
    "# clique oriented DT\n",
    "dgm_clique_or_DT=rev_directed(L_DT)\n",
    "plot_diagram(dgm_clique_or_DT[0])"
   ]
  },
  {
   "cell_type": "code",
   "execution_count": 74,
   "id": "6fc2fddd",
   "metadata": {},
   "outputs": [
    {
     "name": "stdout",
     "output_type": "stream",
     "text": [
      "0.3822572665429808\n"
     ]
    },
    {
     "data": {
      "text/plain": [
       "<AxesSubplot:title={'center':'Persistence diagram'}, xlabel='Birth', ylabel='Death'>"
      ]
     },
     "execution_count": 74,
     "metadata": {},
     "output_type": "execute_result"
    },
    {
     "data": {
      "image/png": "[encoded data removed]",
      "text/plain": [
       "<Figure size 432x288 with 1 Axes>"
      ]
     },
     "metadata": {
      "needs_background": "light"
     },
     "output_type": "display_data"
    }
   ],
   "source": [
    "# high order, violating triangles DT\n",
    "indifference_value=0.05\n",
    "print(hyper_coherence(ts_DT,indifference_value))\n",
    "dgm_high_DT=create_diagram_directly_2(ts_DT,indifference_value)\n",
    "gudhi.plot_persistence_diagram(dgm_high_DT)"
   ]
  }
 ],
 "metadata": {
  "kernelspec": {
   "display_name": "Python 3",
   "language": "python",
   "name": "python3"
  },
  "language_info": {
   "codemirror_mode": {
    "name": "ipython",
    "version": 3
   },
   "file_extension": ".py",
   "mimetype": "text/x-python",
   "name": "python",
   "nbconvert_exporter": "python",
   "pygments_lexer": "ipython3",
   "version": "3.8.8"
  }
 },
 "nbformat": 4,
 "nbformat_minor": 5
}
