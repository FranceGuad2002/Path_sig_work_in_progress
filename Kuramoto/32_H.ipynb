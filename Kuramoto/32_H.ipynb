{
 "cells": [
  {
   "cell_type": "code",
   "execution_count": 84,
   "id": "d0dda702",
   "metadata": {},
   "outputs": [],
   "source": [
    "import numpy as np\n",
    "import pandas as pd\n",
    "import matplotlib.pyplot as plt\n",
    "from gtda.time_series import TakensEmbedding\n",
    "from gtda.homology import SparseRipsPersistence as SV\n",
    "from gtda.plotting import plot_diagram\n",
    "from gtda.diagrams import PersistenceEntropy\n",
    "from gtda.diagrams import Amplitude\n",
    "import iisignature as iis\n",
    "import xgi\n",
    "from sklearn.ensemble import RandomForestClassifier\n",
    "from sklearn.model_selection import train_test_split\n",
    "from sklearn.metrics import accuracy_score\n",
    "from sklearn.metrics import precision_score\n",
    "from sklearn.metrics import recall_score\n",
    "from sklearn.neighbors import KNeighborsClassifier\n",
    "from sklearn.naive_bayes import GaussianNB\n",
    "from sklearn.preprocessing import StandardScaler"
   ]
  },
  {
   "cell_type": "code",
   "execution_count": 2,
   "id": "4ab04e5c",
   "metadata": {},
   "outputs": [],
   "source": [
    "# PATH SIGNATURE\n",
    "\n",
    "\n",
    "k1_values=[]\n",
    "R_values=[]\n",
    "labels=[]\n",
    "Feature_vectors=list()\n",
    "for j in range(1,11):\n",
    "    for i in range(50):\n",
    "        data=np.load(f\"random_hypergraph_N_25_ps_[0.1, 0.01]_k1_{(j/32):.2f}_k2_0.00_ic_random_rep_{i}.npz\")\n",
    "        thetas=data[\"thetas\"]\n",
    "        thetas2=thetas[:,1000::10]\n",
    "        time_series=thetas2.transpose()\n",
    "        s=iis.prepare(25,2)\n",
    "        feature_vector=iis.logsig(time_series,s)\n",
    "        Feature_vectors.append(feature_vector)\n",
    "        labels.append(f\"{j/32}\")\n",
    "        l=len(thetas)\n",
    "        order=1\n",
    "        R_matrix=np.abs(np.sum(np.exp(1j * order * thetas), axis=0) /l)\n",
    "        R=np.mean(R_matrix[1000:])\n",
    "        #print(R)\n",
    "        R_values.append(R)\n",
    "        k1_values.append(j/32)\n",
    "        \n",
    "        \n",
    "Feat=np.array(Feature_vectors)"
   ]
  },
  {
   "cell_type": "code",
   "execution_count": 3,
   "id": "9f9ae604",
   "metadata": {},
   "outputs": [
    {
     "data": {
      "image/png": "[encoded data removed]",
      "text/plain": [
       "<Figure size 432x288 with 1 Axes>"
      ]
     },
     "metadata": {
      "needs_background": "light"
     },
     "output_type": "display_data"
    }
   ],
   "source": [
    "# PLOTTING R VALUES\n",
    "\n",
    "\n",
    "plt.plot(k1_values,R_values,'o')\n",
    "plt.ylabel(\"R\")\n",
    "plt.xlabel(\"k1\")\n",
    "plt.savefig(\"Test_32.png\")"
   ]
  },
  {
   "cell_type": "code",
   "execution_count": 4,
   "id": "08e00f50",
   "metadata": {},
   "outputs": [
    {
     "name": "stdout",
     "output_type": "stream",
     "text": [
      "Metrics of Random Forest\n",
      "Accuracy:\n",
      "1.0\n",
      "            \n",
      "Precision\n",
      "1.0\n",
      "        \n",
      "Recall\n",
      "1.0\n",
      "         \n",
      "                                 \n",
      "                                 \n",
      "Metrics of KNN\n",
      "Accuracy:\n",
      "0.4121212121212121\n",
      "         \n",
      "Precision:\n",
      "0.5793033229396866\n",
      "         \n",
      "Recall:\n",
      "0.4381854256854257\n",
      "       \n",
      "                                 \n",
      "                                 \n",
      "Metrics of Naive Bayes\n",
      "Accuracy:\n",
      "0.9939393939393939\n",
      "         \n",
      "Precision:\n",
      "0.9942583732057416\n",
      "         \n",
      "Recall:\n",
      "0.99375\n",
      "       \n"
     ]
    }
   ],
   "source": [
    "# TESTING PATH SGIANTREU WITH DIFFERENT METHODS AND DIFFERENT METRICS\n",
    "\n",
    "\n",
    "#Separate data into train and test\n",
    "X_train, X_test, y_train, y_test=train_test_split(Feat,labels,test_size=0.33)\n",
    "\n",
    "\n",
    "#Random Forest\n",
    "X_train_rf=X_train\n",
    "X_test_rf=X_test\n",
    "y_train_rf=y_train\n",
    "y_test_rf=y_test\n",
    "clf_rf=RandomForestClassifier().fit(X_train_rf,y_train_rf)\n",
    "y_predicted_rf=clf_rf.predict(X_test_rf)\n",
    "\n",
    "#Random Forest tests\n",
    "print(\"Metrics of Random Forest\")\n",
    "\n",
    "print(\"Accuracy:\")\n",
    "acc_rf=accuracy_score(y_test_rf,y_predicted_rf)\n",
    "print(acc_rf)\n",
    "print(\"            \")\n",
    "\n",
    "print(\"Precision\")\n",
    "pr_rf=precision_score(y_test_rf,y_predicted_rf, average=\"weighted\")\n",
    "print(pr_rf)\n",
    "print(\"        \")\n",
    "\n",
    "print(\"Recall\")\n",
    "rc_rf=recall_score(y_test_rf,y_predicted_rf, average=\"macro\")\n",
    "print(rc_rf)\n",
    "print(\"         \")\n",
    "\n",
    "\n",
    "\n",
    "#KNN\n",
    "X_train_knn=X_train\n",
    "X_test_knn=X_test\n",
    "y_train_knn=y_train\n",
    "y_test_knn=y_test\n",
    "\n",
    "#scaling\n",
    "#scaler = StandardScaler()\n",
    "#scaler.fit(X_train_knn)\n",
    "#X_train_knn = scaler.transform(X_train_knn)\n",
    "#X_test_knn = scaler.transform(X_test_knn)\n",
    "\n",
    "\n",
    "clf_knn = KNeighborsClassifier(n_neighbors=5).fit(X_train_knn,y_train_knn)\n",
    "y_predicted_knn = clf_knn.predict(X_test_knn)\n",
    "\n",
    "print(\"                                 \")\n",
    "print(\"                                 \")\n",
    "#Accuracy KNN\n",
    "print(\"Metrics of KNN\")\n",
    "\n",
    "print(\"Accuracy:\")\n",
    "acc_knn=accuracy_score(y_test_knn,y_predicted_knn)\n",
    "print(acc_knn)\n",
    "print(\"         \")\n",
    "\n",
    "print(\"Precision:\")\n",
    "pr_knn=precision_score(y_test_knn,y_predicted_knn, average=\"weighted\")\n",
    "print(pr_knn)\n",
    "print(\"         \")\n",
    "\n",
    "print(\"Recall:\")\n",
    "rc_knn=recall_score(y_test_knn,y_predicted_knn, average=\"macro\")\n",
    "print(rc_knn)\n",
    "print(\"       \")\n",
    "\n",
    "\n",
    "#Naive Bayes\n",
    "X_train_nb=X_train\n",
    "X_test_nb=X_test\n",
    "y_train_nb=y_train\n",
    "y_test_nb=y_test\n",
    "\n",
    "clf_nb=GaussianNB().fit(X_train_nb,y_train_nb)\n",
    "y_predicted_nb=clf_nb.predict(X_test_nb)\n",
    "\n",
    "print(\"                                 \")\n",
    "print(\"                                 \")\n",
    "#Accuracy KNN\n",
    "print(\"Metrics of Naive Bayes\")\n",
    "\n",
    "print(\"Accuracy:\")\n",
    "acc_nb=accuracy_score(y_test_nb,y_predicted_nb)\n",
    "print(acc_nb)\n",
    "print(\"         \")\n",
    "\n",
    "print(\"Precision:\")\n",
    "pr_nb=precision_score(y_test_nb,y_predicted_nb, average=\"weighted\")\n",
    "print(pr_nb)\n",
    "print(\"         \")\n",
    "\n",
    "print(\"Recall:\")\n",
    "rc_nb=recall_score(y_test_nb,y_predicted_nb, average=\"macro\")\n",
    "print(rc_nb)\n",
    "print(\"       \")\n",
    "\n",
    "\n"
   ]
  },
  {
   "cell_type": "code",
   "execution_count": 48,
   "id": "26a58705",
   "metadata": {},
   "outputs": [],
   "source": [
    "# PLOT OF THE ACCURACY VALUES WITH PATH SIGNATURE AND KNN, CHANGING K\n",
    "\n",
    "\n",
    "\n",
    "accuracy_knn=np.zeros((19,100))\n",
    "for k in range(1,20):\n",
    "    acc_values_knn=[]\n",
    "    for i in range(100):\n",
    "        X_train, X_test, y_train, y_test=train_test_split(Feat,labels,test_size=0.33)\n",
    "        clf_knn= KNeighborsClassifier(n_neighbors=k).fit(X_train,y_train)\n",
    "        y_predicted= clf_knn.predict(X_test)\n",
    "        acc=accuracy_score(y_test,y_predicted)\n",
    "        acc_values_knn.append(acc)\n",
    "    accuracy_knn[k-1,:]=acc_values_knn"
   ]
  },
  {
   "cell_type": "code",
   "execution_count": 97,
   "id": "c293b604",
   "metadata": {},
   "outputs": [
    {
     "data": {
      "image/png": "[encoded data removed]",
      "text/plain": [
       "<Figure size 720x504 with 1 Axes>"
      ]
     },
     "metadata": {
      "needs_background": "light"
     },
     "output_type": "display_data"
    }
   ],
   "source": [
    "accuracy_knn_def=accuracy_knn.tolist()\n",
    "fig = plt.figure(figsize =(10, 7))\n",
    "plt.ylabel(\"Accuracy\")\n",
    "plt.xlabel(\"K\")\n",
    "plt.boxplot(accuracy_knn_def)\n",
    "plt.savefig(\"KNN_PS_32_H.png\")\n",
    "plt.show()"
   ]
  },
  {
   "cell_type": "code",
   "execution_count": 6,
   "id": "0cd6eb4a",
   "metadata": {},
   "outputs": [
    {
     "data": {
      "image/png": "[encoded data removed]",
      "text/plain": [
       "<Figure size 720x504 with 1 Axes>"
      ]
     },
     "metadata": {
      "needs_background": "light"
     },
     "output_type": "display_data"
    }
   ],
   "source": [
    "#PLOT OF RANDOM FOREST ACCURACY PATH SIGNATURE\n",
    "acc_values_rf=[]\n",
    "for i in range(200):\n",
    "    X_train, X_test, y_train, y_test=train_test_split(Feat,labels,test_size=0.33)\n",
    "    clf_rf=RandomForestClassifier().fit(X_train,y_train)\n",
    "    y_predicted=clf_rf.predict(X_test)\n",
    "    acc=accuracy_score(y_test,y_predicted)\n",
    "    acc_values_rf.append(acc)\n",
    "\n",
    "    \n",
    "    \n",
    "    \n",
    "fig = plt.figure(figsize =(10, 7))\n",
    " \n",
    "plt.boxplot(acc_values_rf)\n",
    " \n",
    "plt.show()"
   ]
  },
  {
   "cell_type": "code",
   "execution_count": 7,
   "id": "24206c01",
   "metadata": {},
   "outputs": [
    {
     "data": {
      "image/png": "[encoded data removed]",
      "text/plain": [
       "<Figure size 720x504 with 1 Axes>"
      ]
     },
     "metadata": {
      "needs_background": "light"
     },
     "output_type": "display_data"
    }
   ],
   "source": [
    "#PLOT OF NAIVE BAYES ACCURACY PATH SIGNATURE\n",
    "\n",
    "acc_values_nb=[]\n",
    "for i in range(200):\n",
    "    X_train, X_test, y_train, y_test=train_test_split(Feat,labels,test_size=0.33)\n",
    "    clf_nb=GaussianNB().fit(X_train,y_train)\n",
    "    y_predicted=clf_nb.predict(X_test)\n",
    "    acc=accuracy_score(y_test,y_predicted)\n",
    "    acc_values_nb.append(acc)\n",
    "\n",
    "    \n",
    "    \n",
    "    \n",
    "fig = plt.figure(figsize =(10, 7))\n",
    " \n",
    "plt.boxplot(acc_values_nb)\n",
    " \n",
    "plt.show()\n"
   ]
  },
  {
   "cell_type": "code",
   "execution_count": 27,
   "id": "a30a1c9e",
   "metadata": {},
   "outputs": [],
   "source": [
    "# STABILITY OF PATH SIGNATURE (RANDOM FOREST)\n",
    "accuracy_stability=np.zeros((6,150))\n",
    "for h in [5,6,7,8,9,10]:\n",
    "    labels=[]\n",
    "    Feature_vectors_stab=list()\n",
    "    for j in range(1,11):\n",
    "        for i in range(50):\n",
    "            data=np.load(f\"random_hypergraph_N_25_ps_[0.1, 0.01]_k1_{(j/32):.2f}_k2_0.00_ic_random_rep_{i}.npz\")\n",
    "            thetas=data[\"thetas\"]\n",
    "            thetas2=thetas[:,1000::h]\n",
    "            time_series=thetas2.transpose()\n",
    "            s=iis.prepare(25,2)\n",
    "            feature_vector=iis.logsig(time_series,s)\n",
    "            Feature_vectors_stab.append(feature_vector)\n",
    "            labels.append(f\"{j}\")\n",
    "    Feat_stab=np.array(Feature_vectors_stab)\n",
    "    acc_values=[]    \n",
    "    for k in range(150):\n",
    "            X_train, X_test, y_train, y_test=train_test_split(Feat_stab,labels,test_size=0.33)\n",
    "            clf_rf=RandomForestClassifier().fit(X_train,y_train)\n",
    "            y_predicted=clf_rf.predict(X_test)\n",
    "            acc=accuracy_score(y_test,y_predicted)\n",
    "            acc_values.append(acc)\n",
    "    accuracy_stability[h-5,:]=acc_values\n",
    "    \n",
    "   "
   ]
  },
  {
   "cell_type": "code",
   "execution_count": 29,
   "id": "0d42221e",
   "metadata": {},
   "outputs": [
    {
     "data": {
      "image/png": "[encoded data removed]",
      "text/plain": [
       "<Figure size 720x504 with 1 Axes>"
      ]
     },
     "metadata": {
      "needs_background": "light"
     },
     "output_type": "display_data"
    }
   ],
   "source": [
    "accuracy_stability_def=accuracy_stability.transpose()\n",
    "fig = plt.figure(figsize =(10, 7))\n",
    "plt.boxplot(accuracy_stability_def)\n",
    "plt.savefig(\"TEST_STABILITY_PS_32_H.png\")\n",
    "plt.show()"
   ]
  },
  {
   "cell_type": "code",
   "execution_count": 9,
   "id": "7b984dcb",
   "metadata": {},
   "outputs": [],
   "source": [
    "# TAKENS EMBEDDING\n",
    "\n",
    "labels_tda=[]\n",
    "Feature_vectors_tda=list()\n",
    "for j in range(1,11):\n",
    "    for i in range(50):\n",
    "        data=np.load(f\"random_hypergraph_N_25_ps_[0.1, 0.01]_k1_{(j/32):.2f}_k2_0.00_ic_random_rep_{i}.npz\")\n",
    "        thetas=np.sin(data[\"thetas\"])\n",
    "        TE=TakensEmbedding(time_delay=40,dimension=3,stride=19)\n",
    "        point_cloud=TE.fit_transform(thetas)\n",
    "        SVd = SV(homology_dimensions=[0,1]) \n",
    "        diagrams = SVd.fit_transform(point_cloud)\n",
    "        PE = PersistenceEntropy()\n",
    "        pe_feat = PE.fit_transform(diagrams)\n",
    "        A=Amplitude()\n",
    "        ampl_feat=A.fit_transform(diagrams)\n",
    "        feat1=pe_feat.flatten()\n",
    "        feat2=ampl_feat.flatten()\n",
    "        feat=np.concatenate((feat1,feat2), axis=0)\n",
    "        Feature_vectors_tda.append(feat)\n",
    "        labels_tda.append(f\"{j/32}\")\n",
    "        \n",
    "Feat_tda=np.array(Feature_vectors_tda)"
   ]
  },
  {
   "cell_type": "code",
   "execution_count": 83,
   "id": "ccc83d85",
   "metadata": {},
   "outputs": [
    {
     "name": "stdout",
     "output_type": "stream",
     "text": [
      "Metrics of Random Forest\n",
      "Accuracy:\n",
      "1.0\n",
      "            \n",
      "Precision\n",
      "1.0\n",
      "        \n",
      "Recall\n",
      "1.0\n",
      "         \n",
      "                                 \n",
      "                                 \n",
      "Metrics of KNN\n",
      "Accuracy:\n",
      "1.0\n",
      "         \n",
      "Precision:\n",
      "1.0\n",
      "         \n",
      "Recall:\n",
      "1.0\n",
      "       \n",
      "                                 \n",
      "                                 \n",
      "Metrics of Naive Bayes\n",
      "Accuracy:\n",
      "0.98\n",
      "         \n",
      "Precision:\n",
      "0.9816783216783217\n",
      "         \n",
      "Recall:\n",
      "0.9780219780219781\n",
      "       \n"
     ]
    }
   ],
   "source": [
    "# TESTING TAKENS EMBEDDING WITH DIFFERENT METHODS AND DIFFERENT METRICS\n",
    "\n",
    "\n",
    "#Separate data into train and test\n",
    "X_train, X_test, y_train, y_test=train_test_split(Feat_tda,labels_tda,test_size=0.2)\n",
    "\n",
    "\n",
    "#Random Forest\n",
    "X_train_rf=X_train\n",
    "X_test_rf=X_test\n",
    "y_train_rf=y_train\n",
    "y_test_rf=y_test\n",
    "clf_rf=RandomForestClassifier().fit(X_train_rf,y_train_rf)\n",
    "y_predicted_rf=clf_rf.predict(X_test_rf)\n",
    "\n",
    "#Random Forest tests\n",
    "print(\"Metrics of Random Forest\")\n",
    "\n",
    "print(\"Accuracy:\")\n",
    "acc_rf=accuracy_score(y_test_rf,y_predicted_rf)\n",
    "print(acc_rf)\n",
    "print(\"            \")\n",
    "\n",
    "print(\"Precision\")\n",
    "pr_rf=precision_score(y_test_rf,y_predicted_rf, average=\"weighted\")\n",
    "print(pr_rf)\n",
    "print(\"        \")\n",
    "\n",
    "print(\"Recall\")\n",
    "rc_rf=recall_score(y_test_rf,y_predicted_rf, average=\"macro\")\n",
    "print(rc_rf)\n",
    "print(\"         \")\n",
    "\n",
    "\n",
    "\n",
    "#KNN\n",
    "X_train_knn=X_train\n",
    "X_test_knn=X_test\n",
    "y_train_knn=y_train\n",
    "y_test_knn=y_test\n",
    "\n",
    "#scaling\n",
    "#scaler = StandardScaler()\n",
    "#scaler.fit(X_train_knn)\n",
    "#X_train_knn = scaler.transform(X_train_knn)\n",
    "#X_test_knn = scaler.transform(X_test_knn)\n",
    "\n",
    "\n",
    "clf_knn = KNeighborsClassifier(n_neighbors=5).fit(X_train_knn,y_train_knn)\n",
    "y_predicted_knn = clf_knn.predict(X_test_knn)\n",
    "\n",
    "print(\"                                 \")\n",
    "print(\"                                 \")\n",
    "#Accuracy KNN\n",
    "print(\"Metrics of KNN\")\n",
    "\n",
    "print(\"Accuracy:\")\n",
    "acc_knn=accuracy_score(y_test_knn,y_predicted_knn)\n",
    "print(acc_knn)\n",
    "print(\"         \")\n",
    "\n",
    "print(\"Precision:\")\n",
    "pr_knn=precision_score(y_test_knn,y_predicted_knn, average=\"weighted\")\n",
    "print(pr_knn)\n",
    "print(\"         \")\n",
    "\n",
    "print(\"Recall:\")\n",
    "rc_knn=recall_score(y_test_knn,y_predicted_knn, average=\"macro\")\n",
    "print(rc_knn)\n",
    "print(\"       \")\n",
    "\n",
    "\n",
    "#Naive Bayes\n",
    "X_train_nb=X_train\n",
    "X_test_nb=X_test\n",
    "y_train_nb=y_train\n",
    "y_test_nb=y_test\n",
    "\n",
    "clf_nb=GaussianNB().fit(X_train_nb,y_train_nb)\n",
    "y_predicted_nb=clf_nb.predict(X_test_nb)\n",
    "\n",
    "print(\"                                 \")\n",
    "print(\"                                 \")\n",
    "#Accuracy KNN\n",
    "print(\"Metrics of Naive Bayes\")\n",
    "\n",
    "print(\"Accuracy:\")\n",
    "acc_nb=accuracy_score(y_test_nb,y_predicted_nb)\n",
    "print(acc_nb)\n",
    "print(\"         \")\n",
    "\n",
    "print(\"Precision:\")\n",
    "pr_nb=precision_score(y_test_nb,y_predicted_nb, average=\"weighted\")\n",
    "print(pr_nb)\n",
    "print(\"         \")\n",
    "\n",
    "print(\"Recall:\")\n",
    "rc_nb=recall_score(y_test_nb,y_predicted_nb, average=\"macro\")\n",
    "print(rc_nb)\n",
    "print(\"       \")\n",
    "\n",
    "\n"
   ]
  },
  {
   "cell_type": "code",
   "execution_count": 52,
   "id": "1a805c67",
   "metadata": {},
   "outputs": [],
   "source": [
    "# PLOT OF THE ACCURACY VALUES WITH TAKENS EMBEDDING AND KNN, CHANGING K\n",
    "\n",
    "\n",
    "\n",
    "accuracy_knn_te=np.zeros((19,100))\n",
    "for k in range(1,20):\n",
    "    acc_values_knn=[]\n",
    "    for i in range(100):\n",
    "        X_train, X_test, y_train, y_test=train_test_split(Feat_tda,labels_tda,test_size=0.33)\n",
    "        clf_knn= KNeighborsClassifier(n_neighbors=k).fit(X_train,y_train)\n",
    "        y_predicted= clf_knn.predict(X_test)\n",
    "        acc=accuracy_score(y_test,y_predicted)\n",
    "        acc_values_knn.append(acc)\n",
    "    accuracy_knn_te[k-1,:]=acc_values_knn\n",
    "\n",
    "\n"
   ]
  },
  {
   "cell_type": "code",
   "execution_count": 96,
   "id": "21041eb3",
   "metadata": {},
   "outputs": [
    {
     "data": {
      "image/png": "[encoded data removed]",
      "text/plain": [
       "<Figure size 720x504 with 1 Axes>"
      ]
     },
     "metadata": {
      "needs_background": "light"
     },
     "output_type": "display_data"
    }
   ],
   "source": [
    "accuracy_knn_te_def=accuracy_knn_te.tolist()\n",
    "fig = plt.figure(figsize =(10, 7))\n",
    "plt.ylabel(\"Accuracy\")\n",
    "plt.xlabel(\"K\")\n",
    "plt.boxplot(accuracy_knn_te_def)\n",
    "plt.savefig(\"KNN_TE_32_H.png\")\n",
    "plt.show()"
   ]
  },
  {
   "cell_type": "code",
   "execution_count": 12,
   "id": "52e792d3",
   "metadata": {},
   "outputs": [
    {
     "data": {
      "image/png": "[encoded data removed]",
      "text/plain": [
       "<Figure size 720x504 with 1 Axes>"
      ]
     },
     "metadata": {
      "needs_background": "light"
     },
     "output_type": "display_data"
    }
   ],
   "source": [
    "#PLOT OF RANDOM FOREST ACCURACY TAKENS EMBEDDING\n",
    "acc_values_rf=[]\n",
    "for i in range(200):\n",
    "    X_train, X_test, y_train, y_test=train_test_split(Feat_tda,labels_tda,test_size=0.33)\n",
    "    clf_rf=RandomForestClassifier().fit(X_train,y_train)\n",
    "    y_predicted=clf_rf.predict(X_test)\n",
    "    acc=accuracy_score(y_test,y_predicted)\n",
    "    acc_values_rf.append(acc)\n",
    "\n",
    "    \n",
    "    \n",
    "    \n",
    "fig = plt.figure(figsize =(10, 7))\n",
    " \n",
    "plt.boxplot(acc_values_rf)\n",
    " \n",
    "plt.show()"
   ]
  },
  {
   "cell_type": "code",
   "execution_count": 13,
   "id": "4c1d594f",
   "metadata": {},
   "outputs": [
    {
     "data": {
      "image/png": "[encoded data removed]",
      "text/plain": [
       "<Figure size 720x504 with 1 Axes>"
      ]
     },
     "metadata": {
      "needs_background": "light"
     },
     "output_type": "display_data"
    }
   ],
   "source": [
    "#PLOT OF NAIVE BAYES ACCURACY TAKENS EMBEDDING\n",
    "\n",
    "acc_values_nb=[]\n",
    "for i in range(200):\n",
    "    X_train, X_test, y_train, y_test=train_test_split(Feat_tda,labels_tda,test_size=0.33)\n",
    "    clf_nb=GaussianNB().fit(X_train,y_train)\n",
    "    y_predicted=clf_nb.predict(X_test)\n",
    "    acc=accuracy_score(y_test,y_predicted)\n",
    "    acc_values_nb.append(acc)\n",
    "\n",
    "    \n",
    "    \n",
    "    \n",
    "fig = plt.figure(figsize =(10, 7))\n",
    " \n",
    "plt.boxplot(acc_values_nb)\n",
    " \n",
    "plt.show()\n"
   ]
  },
  {
   "cell_type": "code",
   "execution_count": 85,
   "id": "e4e03e9b",
   "metadata": {},
   "outputs": [],
   "source": [
    "#COMPARING DIMENSION IN TAKENS EMBEDDING (NAIVE BAYES)\n",
    "\n",
    "\n",
    "accuracy_compared=np.zeros((4,100))\n",
    "\n",
    "for k in [2,3,4,5]:\n",
    "    labels_tda=[]\n",
    "    Feature_vectors_tda_dim=list()\n",
    "    for j in range(1,11):\n",
    "            for i in range(50):\n",
    "                data=np.load(f\"random_hypergraph_N_25_ps_[0.1, 0.01]_k1_{(j/32):.2f}_k2_0.00_ic_random_rep_{i}.npz\")\n",
    "                thetas=np.sin(data[\"thetas\"])\n",
    "                TE=TakensEmbedding(time_delay=40,dimension=k,stride=19)\n",
    "                point_cloud=TE.fit_transform(thetas)\n",
    "                SVd = SV(homology_dimensions=[0,1]) \n",
    "                diagrams = SVd.fit_transform(point_cloud)\n",
    "                PE = PersistenceEntropy()\n",
    "                pe_feat = PE.fit_transform(diagrams)\n",
    "                A=Amplitude()\n",
    "                ampl_feat=A.fit_transform(diagrams)\n",
    "                feat1=pe_feat.flatten()\n",
    "                feat2=ampl_feat.flatten()\n",
    "                feat=np.concatenate((feat1,feat2), axis=0)\n",
    "                Feature_vectors_tda_dim.append(feat)\n",
    "                labels_tda.append(f\"{j/32}\")\n",
    "    Feat_tda_dim=np.array(Feature_vectors_tda_dim)\n",
    "    acc_val_nb=[]\n",
    "    for l in range(100):\n",
    "        X_train, X_test, y_train, y_test=train_test_split(Feat_tda_dim,labels_tda,test_size=0.33)\n",
    "        clf_nb=GaussianNB().fit(X_train,y_train)\n",
    "        y_predicted=clf_nb.predict(X_test)\n",
    "        acc=accuracy_score(y_test,y_predicted)\n",
    "        acc_val_nb.append(acc)\n",
    "    accuracy_compared[k-2,:]=acc_val_nb\n",
    "        \n",
    "\n",
    "        "
   ]
  },
  {
   "cell_type": "code",
   "execution_count": 92,
   "id": "e86c1588",
   "metadata": {},
   "outputs": [
    {
     "data": {
      "image/png": "[encoded data removed]",
      "text/plain": [
       "<Figure size 720x504 with 1 Axes>"
      ]
     },
     "metadata": {
      "needs_background": "light"
     },
     "output_type": "display_data"
    }
   ],
   "source": [
    "#accuracy_compared_def=accuracy_compared.transpose()\n",
    "accuracy_compared_def=accuracy_compared.tolist()\n",
    "fig = plt.figure(figsize =(10, 7))\n",
    "plt.ylabel(\"Accuracy\")\n",
    "plt.xlabel(\"Dimension - 1\")\n",
    "plt.boxplot(accuracy_compared_def)\n",
    "plt.savefig(\"TEST_DIMENSION_TAKENS_32_H.png\")\n",
    "plt.show()\n",
    "        "
   ]
  },
  {
   "cell_type": "code",
   "execution_count": 15,
   "id": "3e6b0686",
   "metadata": {},
   "outputs": [],
   "source": [
    "# TESTING DIFFERENT TIME DELAYS AND STRIDES OF TIME DELAY EMBEDDING (DIMENSION=3)\n",
    "\n",
    "accuracy_compared_td=np.zeros((8,100))\n",
    "\n",
    "for k in [3,4,5,6,7,8,9,10]:\n",
    "    labels_tda=[]\n",
    "    Feature_vectors_tda_td=list()\n",
    "    for j in range(1,11):\n",
    "            for i in range(50):\n",
    "                data=np.load(f\"random_hypergraph_N_25_ps_[0.1, 0.01]_k1_{(j/32):.2f}_k2_0.00_ic_random_rep_{i}.npz\")\n",
    "                thetas=np.sin(data[\"thetas\"])\n",
    "                TE=TakensEmbedding(time_delay=10*k,dimension=3,stride=5*k-1)\n",
    "                point_cloud=TE.fit_transform(thetas)\n",
    "                SVd = SV(homology_dimensions=[0,1]) \n",
    "                diagrams = SVd.fit_transform(point_cloud)\n",
    "                PE = PersistenceEntropy()\n",
    "                pe_feat = PE.fit_transform(diagrams)\n",
    "                A=Amplitude()\n",
    "                ampl_feat=A.fit_transform(diagrams)\n",
    "                feat1=pe_feat.flatten()\n",
    "                feat2=ampl_feat.flatten()\n",
    "                feat=np.concatenate((feat1,feat2), axis=0)\n",
    "                Feature_vectors_tda_td.append(feat)\n",
    "                labels_tda.append(f\"{j/32}\")\n",
    "    Feat_tda_td=np.array(Feature_vectors_tda_td)\n",
    "    acc_val_nb=[]\n",
    "    for l in range(100):\n",
    "        X_train, X_test, y_train, y_test=train_test_split(Feat_tda_td,labels_tda,test_size=0.33)\n",
    "        clf_nb=GaussianNB().fit(X_train,y_train)\n",
    "        y_predicted=clf_nb.predict(X_test)\n",
    "        acc=accuracy_score(y_test,y_predicted)\n",
    "        acc_val_nb.append(acc)\n",
    "    accuracy_compared_td[k-3,:]=acc_val_nb\n",
    "\n",
    "        \n",
    "\n",
    "        \n"
   ]
  },
  {
   "cell_type": "code",
   "execution_count": 93,
   "id": "8f492669",
   "metadata": {},
   "outputs": [
    {
     "data": {
      "image/png": "[encoded data removed]",
      "text/plain": [
       "<Figure size 720x504 with 1 Axes>"
      ]
     },
     "metadata": {
      "needs_background": "light"
     },
     "output_type": "display_data"
    }
   ],
   "source": [
    "accuracy_compared_td_def=accuracy_compared_td.tolist()\n",
    "fig = plt.figure(figsize =(10, 7))\n",
    "plt.ylabel(\"Accuacy\")\n",
    "plt.xlabel(\"(Time delay/10)-2\")\n",
    "plt.boxplot(accuracy_compared_td_def)\n",
    "plt.savefig(\"TEST_TIME_DELAY_TAKENS_32_H.png\")\n",
    "plt.show()"
   ]
  }
 ],
 "metadata": {
  "kernelspec": {
   "display_name": "Python 3",
   "language": "python",
   "name": "python3"
  },
  "language_info": {
   "codemirror_mode": {
    "name": "ipython",
    "version": 3
   },
   "file_extension": ".py",
   "mimetype": "text/x-python",
   "name": "python",
   "nbconvert_exporter": "python",
   "pygments_lexer": "ipython3",
   "version": "3.8.8"
  }
 },
 "nbformat": 4,
 "nbformat_minor": 5
}
